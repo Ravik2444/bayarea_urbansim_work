{
 "cells": [
  {
   "cell_type": "markdown",
   "metadata": {
    "collapsed": true
   },
   "source": [
    "## Rental hedonics estimation\n",
    "\n",
    "Sam Maurer, August 2015"
   ]
  },
  {
   "cell_type": "code",
   "execution_count": 1,
   "metadata": {
    "collapsed": false
   },
   "outputs": [],
   "source": [
    "%load_ext autoreload\n",
    "%autoreload 2\n",
    "if 'sim' not in globals():\n",
    "    import os; os.chdir('..');os.chdir('..')\n",
    "import models\n",
    "import orca\n",
    "import pandas as pd\n",
    "pd.set_option('display.max_columns', 500)"
   ]
  },
  {
   "cell_type": "markdown",
   "metadata": {},
   "source": [
    "### 1. Look at the Craigslist data"
   ]
  },
  {
   "cell_type": "code",
   "execution_count": 2,
   "metadata": {
    "collapsed": false
   },
   "outputs": [
    {
     "name": "stdout",
     "output_type": "stream",
     "text": [
      "Filling column _node_id with value 91839.0 (4 values)\n",
      "Filling column shape_area with value 604.336158108 (0 values)\n",
      "Filling column zone_id with value 1178 (0 values)\n"
     ]
    },
    {
     "data": {
      "text/html": [
       "<div>\n",
       "<table border=\"1\" class=\"dataframe\">\n",
       "  <thead>\n",
       "    <tr style=\"text-align: right;\">\n",
       "      <th></th>\n",
       "      <th>neighborhood</th>\n",
       "      <th>price</th>\n",
       "      <th>bedrooms</th>\n",
       "      <th>date</th>\n",
       "      <th>sqft_per_unit</th>\n",
       "      <th>longitude</th>\n",
       "      <th>latitude</th>\n",
       "      <th>price_sqft</th>\n",
       "      <th>node_id</th>\n",
       "      <th>zone_id</th>\n",
       "    </tr>\n",
       "  </thead>\n",
       "  <tbody>\n",
       "    <tr>\n",
       "      <th>1</th>\n",
       "      <td>sunnyvale</td>\n",
       "      <td>2650</td>\n",
       "      <td>2</td>\n",
       "      <td>2014-05-11</td>\n",
       "      <td>1040</td>\n",
       "      <td>-122.008131</td>\n",
       "      <td>37.353699</td>\n",
       "      <td>2.548077</td>\n",
       "      <td>143129</td>\n",
       "      <td>960</td>\n",
       "    </tr>\n",
       "    <tr>\n",
       "      <th>2</th>\n",
       "      <td>glen park</td>\n",
       "      <td>3100</td>\n",
       "      <td>2</td>\n",
       "      <td>2014-05-11</td>\n",
       "      <td>1000</td>\n",
       "      <td>-122.439743</td>\n",
       "      <td>37.731584</td>\n",
       "      <td>3.100000</td>\n",
       "      <td>125905</td>\n",
       "      <td>1031</td>\n",
       "    </tr>\n",
       "    <tr>\n",
       "      <th>3</th>\n",
       "      <td>redwood city</td>\n",
       "      <td>1850</td>\n",
       "      <td>1</td>\n",
       "      <td>2014-05-11</td>\n",
       "      <td>792</td>\n",
       "      <td>-122.234294</td>\n",
       "      <td>37.491715</td>\n",
       "      <td>2.335859</td>\n",
       "      <td>143879</td>\n",
       "      <td>963</td>\n",
       "    </tr>\n",
       "    <tr>\n",
       "      <th>4</th>\n",
       "      <td>walnut creek</td>\n",
       "      <td>1325</td>\n",
       "      <td>1</td>\n",
       "      <td>2014-05-11</td>\n",
       "      <td>642</td>\n",
       "      <td>-122.087751</td>\n",
       "      <td>37.923448</td>\n",
       "      <td>2.063863</td>\n",
       "      <td>70923</td>\n",
       "      <td>888</td>\n",
       "    </tr>\n",
       "  </tbody>\n",
       "</table>\n",
       "</div>"
      ],
      "text/plain": [
       "   neighborhood  price  bedrooms        date  sqft_per_unit   longitude  \\\n",
       "1     sunnyvale   2650         2  2014-05-11           1040 -122.008131   \n",
       "2     glen park   3100         2  2014-05-11           1000 -122.439743   \n",
       "3  redwood city   1850         1  2014-05-11            792 -122.234294   \n",
       "4  walnut creek   1325         1  2014-05-11            642 -122.087751   \n",
       "\n",
       "    latitude  price_sqft  node_id  zone_id  \n",
       "1  37.353699    2.548077   143129      960  \n",
       "2  37.731584    3.100000   125905     1031  \n",
       "3  37.491715    2.335859   143879      963  \n",
       "4  37.923448    2.063863    70923      888  "
      ]
     },
     "execution_count": 2,
     "metadata": {},
     "output_type": "execute_result"
    }
   ],
   "source": [
    "cl = orca.get_table('craigslist').to_frame()\n",
    "cl[1:5]"
   ]
  },
  {
   "cell_type": "code",
   "execution_count": 3,
   "metadata": {
    "collapsed": false
   },
   "outputs": [
    {
     "data": {
      "text/html": [
       "<div>\n",
       "<table border=\"1\" class=\"dataframe\">\n",
       "  <thead>\n",
       "    <tr style=\"text-align: right;\">\n",
       "      <th></th>\n",
       "      <th>price</th>\n",
       "      <th>bedrooms</th>\n",
       "      <th>sqft_per_unit</th>\n",
       "      <th>longitude</th>\n",
       "      <th>latitude</th>\n",
       "      <th>price_sqft</th>\n",
       "      <th>node_id</th>\n",
       "      <th>zone_id</th>\n",
       "    </tr>\n",
       "  </thead>\n",
       "  <tbody>\n",
       "    <tr>\n",
       "      <th>count</th>\n",
       "      <td>73644.000000</td>\n",
       "      <td>73644.000000</td>\n",
       "      <td>73644.00000</td>\n",
       "      <td>73644.000000</td>\n",
       "      <td>73644.000000</td>\n",
       "      <td>73644.000000</td>\n",
       "      <td>73644.000000</td>\n",
       "      <td>73603.000000</td>\n",
       "    </tr>\n",
       "    <tr>\n",
       "      <th>mean</th>\n",
       "      <td>3806.642944</td>\n",
       "      <td>1.858305</td>\n",
       "      <td>1196.62111</td>\n",
       "      <td>-122.108903</td>\n",
       "      <td>37.639416</td>\n",
       "      <td>4.697802</td>\n",
       "      <td>156857.443906</td>\n",
       "      <td>890.963031</td>\n",
       "    </tr>\n",
       "    <tr>\n",
       "      <th>std</th>\n",
       "      <td>146802.055710</td>\n",
       "      <td>0.932134</td>\n",
       "      <td>31192.63512</td>\n",
       "      <td>1.359750</td>\n",
       "      <td>0.863417</td>\n",
       "      <td>183.768413</td>\n",
       "      <td>100783.186320</td>\n",
       "      <td>82.436500</td>\n",
       "    </tr>\n",
       "    <tr>\n",
       "      <th>min</th>\n",
       "      <td>1.000000</td>\n",
       "      <td>1.000000</td>\n",
       "      <td>1.00000</td>\n",
       "      <td>-159.609375</td>\n",
       "      <td>-85.561269</td>\n",
       "      <td>0.000154</td>\n",
       "      <td>62.000000</td>\n",
       "      <td>747.000000</td>\n",
       "    </tr>\n",
       "    <tr>\n",
       "      <th>25%</th>\n",
       "      <td>1831.000000</td>\n",
       "      <td>1.000000</td>\n",
       "      <td>720.00000</td>\n",
       "      <td>-122.286807</td>\n",
       "      <td>37.383128</td>\n",
       "      <td>2.055256</td>\n",
       "      <td>80038.000000</td>\n",
       "      <td>831.000000</td>\n",
       "    </tr>\n",
       "    <tr>\n",
       "      <th>50%</th>\n",
       "      <td>2330.500000</td>\n",
       "      <td>2.000000</td>\n",
       "      <td>904.00000</td>\n",
       "      <td>-122.050473</td>\n",
       "      <td>37.601374</td>\n",
       "      <td>2.587519</td>\n",
       "      <td>149462.000000</td>\n",
       "      <td>879.000000</td>\n",
       "    </tr>\n",
       "    <tr>\n",
       "      <th>75%</th>\n",
       "      <td>2986.000000</td>\n",
       "      <td>2.000000</td>\n",
       "      <td>1160.00000</td>\n",
       "      <td>-121.952270</td>\n",
       "      <td>37.844037</td>\n",
       "      <td>3.135714</td>\n",
       "      <td>190924.000000</td>\n",
       "      <td>956.000000</td>\n",
       "    </tr>\n",
       "    <tr>\n",
       "      <th>max</th>\n",
       "      <td>26722744.000000</td>\n",
       "      <td>8.000000</td>\n",
       "      <td>8388607.00000</td>\n",
       "      <td>146.425781</td>\n",
       "      <td>79.858833</td>\n",
       "      <td>31145.389277</td>\n",
       "      <td>354659.000000</td>\n",
       "      <td>1157.000000</td>\n",
       "    </tr>\n",
       "  </tbody>\n",
       "</table>\n",
       "</div>"
      ],
      "text/plain": [
       "                 price      bedrooms  sqft_per_unit     longitude  \\\n",
       "count     73644.000000  73644.000000    73644.00000  73644.000000   \n",
       "mean       3806.642944      1.858305     1196.62111   -122.108903   \n",
       "std      146802.055710      0.932134    31192.63512      1.359750   \n",
       "min           1.000000      1.000000        1.00000   -159.609375   \n",
       "25%        1831.000000      1.000000      720.00000   -122.286807   \n",
       "50%        2330.500000      2.000000      904.00000   -122.050473   \n",
       "75%        2986.000000      2.000000     1160.00000   -121.952270   \n",
       "max    26722744.000000      8.000000  8388607.00000    146.425781   \n",
       "\n",
       "           latitude    price_sqft        node_id       zone_id  \n",
       "count  73644.000000  73644.000000   73644.000000  73603.000000  \n",
       "mean      37.639416      4.697802  156857.443906    890.963031  \n",
       "std        0.863417    183.768413  100783.186320     82.436500  \n",
       "min      -85.561269      0.000154      62.000000    747.000000  \n",
       "25%       37.383128      2.055256   80038.000000    831.000000  \n",
       "50%       37.601374      2.587519  149462.000000    879.000000  \n",
       "75%       37.844037      3.135714  190924.000000    956.000000  \n",
       "max       79.858833  31145.389277  354659.000000   1157.000000  "
      ]
     },
     "execution_count": 3,
     "metadata": {},
     "output_type": "execute_result"
    }
   ],
   "source": [
    "cl.describe()"
   ]
  },
  {
   "cell_type": "markdown",
   "metadata": {},
   "source": [
    "### 2. Set up the network vars"
   ]
  },
  {
   "cell_type": "code",
   "execution_count": 6,
   "metadata": {
    "collapsed": false
   },
   "outputs": [],
   "source": [
    "%%capture\n",
    "orca.run([\"neighborhood_vars\"])"
   ]
  },
  {
   "cell_type": "markdown",
   "metadata": {},
   "source": [
    "### 3. Estimate a rental listings hedonic"
   ]
  },
  {
   "cell_type": "code",
   "execution_count": 6,
   "metadata": {
    "collapsed": true
   },
   "outputs": [],
   "source": [
    "# The model expression is in rrh.yaml; price_per_sqft is the asking monthly rent per square \n",
    "# foot from the Craigslist listings. Price, sqft, and bedrooms are specific to the unit, \n",
    "# while all the other variables are aggregations at the node or zone level. Note that we \n",
    "# can't use bedrooms in the simulation stage because it's not in the unit data."
   ]
  },
  {
   "cell_type": "code",
   "execution_count": 7,
   "metadata": {
    "collapsed": false
   },
   "outputs": [
    {
     "name": "stdout",
     "output_type": "stream",
     "text": [
      "Running step 'rrh_estimate'\n",
      "                            OLS Regression Results                            \n",
      "==============================================================================\n",
      "Dep. Variable:     np.log(price_sqft)   R-squared:                       0.508\n",
      "Model:                            OLS   Adj. R-squared:                  0.508\n",
      "Method:                 Least Squares   F-statistic:                     6303.\n",
      "Date:                Sun, 28 Feb 2016   Prob (F-statistic):               0.00\n",
      "Time:                        15:19:49   Log-Likelihood:                -4426.4\n",
      "No. Observations:               73168   AIC:                             8879.\n",
      "Df Residuals:                   73155   BIC:                             8998.\n",
      "Df Model:                          12                                         \n",
      "Covariance Type:            nonrobust                                         \n",
      "===========================================================================================\n",
      "                              coef    std err          t      P>|t|      [95.0% Conf. Int.]\n",
      "-------------------------------------------------------------------------------------------\n",
      "Intercept                   7.7614      0.083     93.808      0.000         7.599     7.924\n",
      "np.log1p(sqft_per_unit)    -0.3421      0.002   -147.824      0.000        -0.347    -0.338\n",
      "ave_lot_size_per_unit      -0.0525      0.001    -42.469      0.000        -0.055    -0.050\n",
      "ave_income                  0.0583      0.002     37.705      0.000         0.055     0.061\n",
      "pct_black                  -0.0062    9.6e-05    -64.618      0.000        -0.006    -0.006\n",
      "pct_hisp                   -0.0059      0.000    -50.370      0.000        -0.006    -0.006\n",
      "pct_asian                   0.0067      0.000     65.710      0.000         0.007     0.007\n",
      "pct_renters                -0.0036      0.000    -23.923      0.000        -0.004    -0.003\n",
      "population                  0.0465      0.002     24.412      0.000         0.043     0.050\n",
      "autoPeakTotal              -0.5089      0.015    -34.787      0.000        -0.538    -0.480\n",
      "transitPeakTotal            0.0207      0.001     36.088      0.000         0.020     0.022\n",
      "autoOffPeakRetail           0.1029      0.016      6.551      0.000         0.072     0.134\n",
      "jobs                        0.0652      0.001     97.150      0.000         0.064     0.067\n",
      "==============================================================================\n",
      "Omnibus:                     3663.033   Durbin-Watson:                   0.610\n",
      "Prob(Omnibus):                  0.000   Jarque-Bera (JB):            13620.144\n",
      "Skew:                           0.080   Prob(JB):                         0.00\n",
      "Kurtosis:                       5.108   Cond. No.                     1.20e+04\n",
      "==============================================================================\n",
      "\n",
      "Warnings:\n",
      "[1] Standard Errors assume that the covariance matrix of the errors is correctly specified.\n",
      "[2] The condition number is large, 1.2e+04. This might indicate that there are\n",
      "strong multicollinearity or other numerical problems.\n",
      "Time to execute step 'rrh_estimate': 0.41 s\n",
      "Total time to execute iteration 1 with iteration value None: 0.41 s\n"
     ]
    }
   ],
   "source": [
    "orca.run([\"rrh_estimate\"])"
   ]
  },
  {
   "cell_type": "markdown",
   "metadata": {},
   "source": [
    "### 4.Create a new model"
   ]
  },
  {
   "cell_type": "code",
   "execution_count": 8,
   "metadata": {
    "collapsed": false
   },
   "outputs": [
    {
     "name": "stdout",
     "output_type": "stream",
     "text": [
      "Running step 'rrh_estimate_new_new'\n",
      "                            OLS Regression Results                            \n",
      "==============================================================================\n",
      "Dep. Variable:     np.log(price_sqft)   R-squared:                       0.445\n",
      "Model:                            OLS   Adj. R-squared:                  0.445\n",
      "Method:                 Least Squares   F-statistic:                     5863.\n",
      "Date:                Sun, 28 Feb 2016   Prob (F-statistic):               0.00\n",
      "Time:                        15:20:03   Log-Likelihood:                -8866.1\n",
      "No. Observations:               73168   AIC:                         1.775e+04\n",
      "Df Residuals:                   73157   BIC:                         1.786e+04\n",
      "Df Model:                          10                                         \n",
      "Covariance Type:            nonrobust                                         \n",
      "===========================================================================================\n",
      "                              coef    std err          t      P>|t|      [95.0% Conf. Int.]\n",
      "-------------------------------------------------------------------------------------------\n",
      "Intercept                   8.6919      0.087     99.544      0.000         8.521     8.863\n",
      "np.log1p(sqft_per_unit)    -0.3667      0.002   -150.122      0.000        -0.371    -0.362\n",
      "ave_lot_size_per_unit      -0.0403      0.001    -30.913      0.000        -0.043    -0.038\n",
      "ave_income                  0.0254      0.002     15.855      0.000         0.022     0.029\n",
      "pct_black                  -0.0067      0.000    -66.255      0.000        -0.007    -0.007\n",
      "pct_hisp                   -0.0059      0.000    -46.862      0.000        -0.006    -0.006\n",
      "pct_asian                   0.0073      0.000     67.669      0.000         0.007     0.008\n",
      "pct_renters                -0.0055      0.000    -34.160      0.000        -0.006    -0.005\n",
      "population                  0.1168      0.002     62.321      0.000         0.113     0.120\n",
      "autoPeakTotal              -0.4684      0.007    -65.520      0.000        -0.482    -0.454\n",
      "transitPeakTotal            0.0231      0.001     38.037      0.000         0.022     0.024\n",
      "==============================================================================\n",
      "Omnibus:                     2857.998   Durbin-Watson:                   0.554\n",
      "Prob(Omnibus):                  0.000   Jarque-Bera (JB):             8599.659\n",
      "Skew:                           0.098   Prob(JB):                         0.00\n",
      "Kurtosis:                       4.668   Cond. No.                     1.19e+04\n",
      "==============================================================================\n",
      "\n",
      "Warnings:\n",
      "[1] Standard Errors assume that the covariance matrix of the errors is correctly specified.\n",
      "[2] The condition number is large, 1.19e+04. This might indicate that there are\n",
      "strong multicollinearity or other numerical problems.\n",
      "Time to execute step 'rrh_estimate_new_new': 0.36 s\n",
      "Total time to execute iteration 1 with iteration value None: 0.36 s\n"
     ]
    }
   ],
   "source": [
    "# to save variations, create a new yaml file and run this to register it\n",
    "from urbansim.utils import misc\n",
    "from urbansim import accounts\n",
    "from urbansim.developer import sqftproforma\n",
    "from urbansim_defaults import models\n",
    "from urbansim_defaults import utils\n",
    "\n",
    "\n",
    "@orca.step('rrh_estimate_new_new')\n",
    "def rh_cl_estimate_NEW(craigslist, aggregations):\n",
    "    return utils.hedonic_estimate(\"rrh_new.yaml\", craigslist, aggregations)\n",
    "\n",
    "orca.run([\"rrh_estimate_new_new\"])"
   ]
  },
  {
   "cell_type": "markdown",
   "metadata": {},
   "source": [
    "### 5. Compare to sales hedonic"
   ]
  },
  {
   "cell_type": "code",
   "execution_count": 9,
   "metadata": {
    "collapsed": false
   },
   "outputs": [
    {
     "name": "stdout",
     "output_type": "stream",
     "text": [
      "Running step 'rsh_estimate'\n",
      "                              OLS Regression Results                              \n",
      "==================================================================================\n",
      "Dep. Variable:     np.log(price_per_sqft)   R-squared:                       0.426\n",
      "Model:                                OLS   Adj. R-squared:                  0.426\n",
      "Method:                     Least Squares   F-statistic:                     5237.\n",
      "Date:                    Sun, 28 Feb 2016   Prob (F-statistic):               0.00\n",
      "Time:                            15:20:13   Log-Likelihood:                -30157.\n",
      "No. Observations:                  105997   AIC:                         6.035e+04\n",
      "Df Residuals:                      105981   BIC:                         6.050e+04\n",
      "Df Model:                              15                                         \n",
      "Covariance Type:                nonrobust                                         \n",
      "================================================================================================\n",
      "                                   coef    std err          t      P>|t|      [95.0% Conf. Int.]\n",
      "------------------------------------------------------------------------------------------------\n",
      "Intercept                        3.5160      0.082     42.889      0.000         3.355     3.677\n",
      "I(year_built < 1940)[T.True]     0.1086      0.004     30.699      0.000         0.102     0.116\n",
      "I(year_built > 2000)[T.True]     0.0468      0.003     15.627      0.000         0.041     0.053\n",
      "np.log1p(sqft_per_unit)         -0.4574      0.003   -161.858      0.000        -0.463    -0.452\n",
      "ave_lot_size_per_unit            0.0419      0.002     17.666      0.000         0.037     0.047\n",
      "ave_income                       0.3343      0.006     54.846      0.000         0.322     0.346\n",
      "pct_black                       -0.0040   9.46e-05    -41.968      0.000        -0.004    -0.004\n",
      "pct_hisp                        -0.0035      0.000    -23.448      0.000        -0.004    -0.003\n",
      "pct_asian                       -0.0018      0.000    -13.584      0.000        -0.002    -0.002\n",
      "pct_renters                      0.0060      0.000     30.900      0.000         0.006     0.006\n",
      "poverty_rate                     0.0088      0.024      0.370      0.712        -0.038     0.056\n",
      "population                      -0.0042      0.003     -1.631      0.103        -0.009     0.001\n",
      "autoPeakTotal                    0.3796      0.006     63.453      0.000         0.368     0.391\n",
      "transitPeakTotal                 0.0122      0.001     19.627      0.000         0.011     0.013\n",
      "autoOffPeakRetail               -0.2695      0.007    -40.583      0.000        -0.283    -0.257\n",
      "jobs                             0.0072      0.001      9.394      0.000         0.006     0.009\n",
      "==============================================================================\n",
      "Omnibus:                    19908.372   Durbin-Watson:                   1.518\n",
      "Prob(Omnibus):                  0.000   Jarque-Bera (JB):           116139.391\n",
      "Skew:                          -0.781   Prob(JB):                         0.00\n",
      "Kurtosis:                       7.884   Cond. No.                     1.15e+04\n",
      "==============================================================================\n",
      "\n",
      "Warnings:\n",
      "[1] Standard Errors assume that the covariance matrix of the errors is correctly specified.\n",
      "[2] The condition number is large, 1.15e+04. This might indicate that there are\n",
      "strong multicollinearity or other numerical problems.\n",
      "Time to execute step 'rsh_estimate': 4.83 s\n",
      "Total time to execute iteration 1 with iteration value None: 4.83 s\n"
     ]
    }
   ],
   "source": [
    "orca.run([\"rsh_estimate\"])"
   ]
  },
  {
   "cell_type": "markdown",
   "metadata": {},
   "source": [
    "### 6.change directly in utils.hedonic_estimate model, not just calling with name, but get the exact form!"
   ]
  },
  {
   "cell_type": "code",
   "execution_count": 10,
   "metadata": {
    "collapsed": false
   },
   "outputs": [],
   "source": [
    "utils.hedonic_estimate??"
   ]
  },
  {
   "cell_type": "code",
   "execution_count": 25,
   "metadata": {
    "collapsed": false
   },
   "outputs": [
    {
     "name": "stdout",
     "output_type": "stream",
     "text": [
      "                            OLS Regression Results                            \n",
      "==============================================================================\n",
      "Dep. Variable:     np.log(price_sqft)   R-squared:                       0.445\n",
      "Model:                            OLS   Adj. R-squared:                  0.445\n",
      "Method:                 Least Squares   F-statistic:                     5863.\n",
      "Date:                Tue, 23 Feb 2016   Prob (F-statistic):               0.00\n",
      "Time:                        17:21:33   Log-Likelihood:                -8866.1\n",
      "No. Observations:               73168   AIC:                         1.775e+04\n",
      "Df Residuals:                   73157   BIC:                         1.786e+04\n",
      "Df Model:                          10                                         \n",
      "Covariance Type:            nonrobust                                         \n",
      "===========================================================================================\n",
      "                              coef    std err          t      P>|t|      [95.0% Conf. Int.]\n",
      "-------------------------------------------------------------------------------------------\n",
      "Intercept                   8.6919      0.087     99.544      0.000         8.521     8.863\n",
      "np.log1p(sqft_per_unit)    -0.3667      0.002   -150.122      0.000        -0.371    -0.362\n",
      "ave_lot_size_per_unit      -0.0403      0.001    -30.913      0.000        -0.043    -0.038\n",
      "ave_income                  0.0254      0.002     15.855      0.000         0.022     0.029\n",
      "pct_black                  -0.0067      0.000    -66.255      0.000        -0.007    -0.007\n",
      "pct_hisp                   -0.0059      0.000    -46.862      0.000        -0.006    -0.006\n",
      "pct_asian                   0.0073      0.000     67.669      0.000         0.007     0.008\n",
      "pct_renters                -0.0055      0.000    -34.160      0.000        -0.006    -0.005\n",
      "population                  0.1168      0.002     62.321      0.000         0.113     0.120\n",
      "autoPeakTotal              -0.4684      0.007    -65.520      0.000        -0.482    -0.454\n",
      "transitPeakTotal            0.0231      0.001     38.037      0.000         0.022     0.024\n",
      "==============================================================================\n",
      "Omnibus:                     2857.998   Durbin-Watson:                   0.554\n",
      "Prob(Omnibus):                  0.000   Jarque-Bera (JB):             8599.659\n",
      "Skew:                           0.098   Prob(JB):                         0.00\n",
      "Kurtosis:                       4.668   Cond. No.                     1.19e+04\n",
      "==============================================================================\n",
      "\n",
      "Warnings:\n",
      "[1] Standard Errors assume that the covariance matrix of the errors is correctly specified.\n",
      "[2] The condition number is large, 1.19e+04. This might indicate that there are\n",
      "strong multicollinearity or other numerical problems.\n"
     ]
    },
    {
     "data": {
      "text/plain": [
       "<urbansim.models.regression.RegressionModel at 0x10e631650>"
      ]
     },
     "execution_count": 25,
     "metadata": {},
     "output_type": "execute_result"
    }
   ],
   "source": [
    "utils.hedonic_estimate(\"rrh_new.yaml\", orca.get_table('craigslist'), orca.get_injectable('aggregations'))"
   ]
  },
  {
   "cell_type": "code",
   "execution_count": 18,
   "metadata": {
    "collapsed": false
   },
   "outputs": [
    {
     "ename": "NameError",
     "evalue": "name 'craigslist' is not defined",
     "output_type": "error",
     "traceback": [
      "\u001b[0;31m---------------------------------------------------------------------------\u001b[0m",
      "\u001b[0;31mNameError\u001b[0m                                 Traceback (most recent call last)",
      "\u001b[0;32m<ipython-input-18-f5d2ce101a2c>\u001b[0m in \u001b[0;36m<module>\u001b[0;34m()\u001b[0m\n\u001b[0;32m----> 1\u001b[0;31m \u001b[0mcraigslist\u001b[0m\u001b[0;34m\u001b[0m\u001b[0m\n\u001b[0m",
      "\u001b[0;31mNameError\u001b[0m: name 'craigslist' is not defined"
     ]
    }
   ],
   "source": [
    "craigslist"
   ]
  },
  {
   "cell_type": "code",
   "execution_count": 27,
   "metadata": {
    "collapsed": false
   },
   "outputs": [
    {
     "data": {
      "text/html": [
       "<div>\n",
       "<table border=\"1\" class=\"dataframe\">\n",
       "  <thead>\n",
       "    <tr style=\"text-align: right;\">\n",
       "      <th></th>\n",
       "      <th>autoPeakRetail</th>\n",
       "      <th>autoPeakTotal</th>\n",
       "      <th>autoOffPeakRetail</th>\n",
       "      <th>autoOffPeakTotal</th>\n",
       "      <th>transitPeakRetail</th>\n",
       "      <th>transitPeakTotal</th>\n",
       "      <th>transitOffPeakRetail</th>\n",
       "      <th>transitOffPeakTotal</th>\n",
       "      <th>nonMotorizedRetail</th>\n",
       "      <th>nonMotorizedTotal</th>\n",
       "    </tr>\n",
       "    <tr>\n",
       "      <th>taz</th>\n",
       "      <th></th>\n",
       "      <th></th>\n",
       "      <th></th>\n",
       "      <th></th>\n",
       "      <th></th>\n",
       "      <th></th>\n",
       "      <th></th>\n",
       "      <th></th>\n",
       "      <th></th>\n",
       "      <th></th>\n",
       "    </tr>\n",
       "  </thead>\n",
       "  <tbody>\n",
       "    <tr>\n",
       "      <th>1</th>\n",
       "      <td>10.5416</td>\n",
       "      <td>13.0616</td>\n",
       "      <td>10.5312</td>\n",
       "      <td>13.0511</td>\n",
       "      <td>8.3954</td>\n",
       "      <td>11.1182</td>\n",
       "      <td>8.3003</td>\n",
       "      <td>11.0119</td>\n",
       "      <td>8.6157</td>\n",
       "      <td>11.3610</td>\n",
       "    </tr>\n",
       "    <tr>\n",
       "      <th>2</th>\n",
       "      <td>10.5336</td>\n",
       "      <td>13.0557</td>\n",
       "      <td>10.5185</td>\n",
       "      <td>13.0410</td>\n",
       "      <td>8.0848</td>\n",
       "      <td>10.8372</td>\n",
       "      <td>7.9369</td>\n",
       "      <td>10.6877</td>\n",
       "      <td>8.6104</td>\n",
       "      <td>11.3717</td>\n",
       "    </tr>\n",
       "    <tr>\n",
       "      <th>3</th>\n",
       "      <td>10.5082</td>\n",
       "      <td>13.0308</td>\n",
       "      <td>10.4998</td>\n",
       "      <td>13.0225</td>\n",
       "      <td>8.0456</td>\n",
       "      <td>10.7516</td>\n",
       "      <td>7.8563</td>\n",
       "      <td>10.5597</td>\n",
       "      <td>8.4067</td>\n",
       "      <td>11.1668</td>\n",
       "    </tr>\n",
       "    <tr>\n",
       "      <th>4</th>\n",
       "      <td>10.5609</td>\n",
       "      <td>13.0801</td>\n",
       "      <td>10.5458</td>\n",
       "      <td>13.0651</td>\n",
       "      <td>8.4306</td>\n",
       "      <td>11.1391</td>\n",
       "      <td>8.3426</td>\n",
       "      <td>11.0507</td>\n",
       "      <td>8.7110</td>\n",
       "      <td>11.4524</td>\n",
       "    </tr>\n",
       "    <tr>\n",
       "      <th>5</th>\n",
       "      <td>10.5458</td>\n",
       "      <td>13.0613</td>\n",
       "      <td>10.5325</td>\n",
       "      <td>13.0484</td>\n",
       "      <td>8.3395</td>\n",
       "      <td>11.0483</td>\n",
       "      <td>8.2755</td>\n",
       "      <td>10.9790</td>\n",
       "      <td>8.4145</td>\n",
       "      <td>11.1588</td>\n",
       "    </tr>\n",
       "  </tbody>\n",
       "</table>\n",
       "</div>"
      ],
      "text/plain": [
       "     autoPeakRetail  autoPeakTotal  autoOffPeakRetail  autoOffPeakTotal  \\\n",
       "taz                                                                       \n",
       "1           10.5416        13.0616            10.5312           13.0511   \n",
       "2           10.5336        13.0557            10.5185           13.0410   \n",
       "3           10.5082        13.0308            10.4998           13.0225   \n",
       "4           10.5609        13.0801            10.5458           13.0651   \n",
       "5           10.5458        13.0613            10.5325           13.0484   \n",
       "\n",
       "     transitPeakRetail  transitPeakTotal  transitOffPeakRetail  \\\n",
       "taz                                                              \n",
       "1               8.3954           11.1182                8.3003   \n",
       "2               8.0848           10.8372                7.9369   \n",
       "3               8.0456           10.7516                7.8563   \n",
       "4               8.4306           11.1391                8.3426   \n",
       "5               8.3395           11.0483                8.2755   \n",
       "\n",
       "     transitOffPeakTotal  nonMotorizedRetail  nonMotorizedTotal  \n",
       "taz                                                              \n",
       "1                11.0119              8.6157            11.3610  \n",
       "2                10.6877              8.6104            11.3717  \n",
       "3                10.5597              8.4067            11.1668  \n",
       "4                11.0507              8.7110            11.4524  \n",
       "5                10.9790              8.4145            11.1588  "
      ]
     },
     "execution_count": 27,
     "metadata": {},
     "output_type": "execute_result"
    }
   ],
   "source": [
    "orca.get_injectable('aggregations')[1].to_frame().head()"
   ]
  },
  {
   "cell_type": "code",
   "execution_count": 28,
   "metadata": {
    "collapsed": false
   },
   "outputs": [
    {
     "data": {
      "text/html": [
       "<div>\n",
       "<table border=\"1\" class=\"dataframe\">\n",
       "  <thead>\n",
       "    <tr style=\"text-align: right;\">\n",
       "      <th></th>\n",
       "      <th>sum_residential_units</th>\n",
       "      <th>sum_nonresidential_units</th>\n",
       "      <th>ave_sqft_per_unit</th>\n",
       "      <th>ave_lot_size_per_unit</th>\n",
       "      <th>population</th>\n",
       "      <th>poor</th>\n",
       "      <th>blacks</th>\n",
       "      <th>whites</th>\n",
       "      <th>nonwhites</th>\n",
       "      <th>hispanics</th>\n",
       "      <th>asians</th>\n",
       "      <th>renters</th>\n",
       "      <th>singles</th>\n",
       "      <th>two_persons</th>\n",
       "      <th>three_plus</th>\n",
       "      <th>sfdu</th>\n",
       "      <th>ave_hhsize</th>\n",
       "      <th>jobs</th>\n",
       "      <th>jobs3k</th>\n",
       "      <th>ave_income</th>\n",
       "      <th>pct_nonwhite</th>\n",
       "      <th>pct_renters</th>\n",
       "      <th>pct_hisp</th>\n",
       "      <th>pct_three_plus</th>\n",
       "      <th>poverty_rate</th>\n",
       "      <th>pct_singles</th>\n",
       "      <th>pct_white</th>\n",
       "      <th>pct_black</th>\n",
       "      <th>pct_asian</th>\n",
       "      <th>pct_two_persons</th>\n",
       "    </tr>\n",
       "  </thead>\n",
       "  <tbody>\n",
       "    <tr>\n",
       "      <th>8</th>\n",
       "      <td>4.098927</td>\n",
       "      <td>7.179239</td>\n",
       "      <td>7.467289</td>\n",
       "      <td>9.760910</td>\n",
       "      <td>5.143949</td>\n",
       "      <td>4.105754</td>\n",
       "      <td>2.044237</td>\n",
       "      <td>4.749975</td>\n",
       "      <td>4.039710</td>\n",
       "      <td>4.113796</td>\n",
       "      <td>2.745158</td>\n",
       "      <td>2.440746</td>\n",
       "      <td>2.462539</td>\n",
       "      <td>2.956371</td>\n",
       "      <td>3.343739</td>\n",
       "      <td>1.534239</td>\n",
       "      <td>1.388186</td>\n",
       "      <td>7.051473</td>\n",
       "      <td>7.616929</td>\n",
       "      <td>10.962228</td>\n",
       "      <td>78.533241</td>\n",
       "      <td>47.448875</td>\n",
       "      <td>79.973503</td>\n",
       "      <td>65.003349</td>\n",
       "      <td>0.798172</td>\n",
       "      <td>47.872547</td>\n",
       "      <td>92.341011</td>\n",
       "      <td>39.740620</td>\n",
       "      <td>53.366737</td>\n",
       "      <td>57.472782</td>\n",
       "    </tr>\n",
       "    <tr>\n",
       "      <th>9</th>\n",
       "      <td>3.380845</td>\n",
       "      <td>7.305961</td>\n",
       "      <td>7.457674</td>\n",
       "      <td>9.667663</td>\n",
       "      <td>4.421817</td>\n",
       "      <td>3.331052</td>\n",
       "      <td>1.298611</td>\n",
       "      <td>4.052716</td>\n",
       "      <td>3.284432</td>\n",
       "      <td>3.470514</td>\n",
       "      <td>1.912862</td>\n",
       "      <td>1.726067</td>\n",
       "      <td>1.830193</td>\n",
       "      <td>2.268978</td>\n",
       "      <td>2.651044</td>\n",
       "      <td>1.270033</td>\n",
       "      <td>1.384454</td>\n",
       "      <td>7.129230</td>\n",
       "      <td>7.718721</td>\n",
       "      <td>10.947813</td>\n",
       "      <td>74.277878</td>\n",
       "      <td>39.035255</td>\n",
       "      <td>78.486153</td>\n",
       "      <td>59.953720</td>\n",
       "      <td>0.753322</td>\n",
       "      <td>41.390057</td>\n",
       "      <td>91.652740</td>\n",
       "      <td>29.368269</td>\n",
       "      <td>43.259628</td>\n",
       "      <td>51.313251</td>\n",
       "    </tr>\n",
       "    <tr>\n",
       "      <th>10</th>\n",
       "      <td>2.168365</td>\n",
       "      <td>7.382687</td>\n",
       "      <td>7.572812</td>\n",
       "      <td>9.939272</td>\n",
       "      <td>3.153618</td>\n",
       "      <td>1.948358</td>\n",
       "      <td>0.000000</td>\n",
       "      <td>2.864048</td>\n",
       "      <td>1.929821</td>\n",
       "      <td>2.530970</td>\n",
       "      <td>0.000000</td>\n",
       "      <td>0.492377</td>\n",
       "      <td>0.935621</td>\n",
       "      <td>1.158451</td>\n",
       "      <td>1.538386</td>\n",
       "      <td>1.065371</td>\n",
       "      <td>1.399366</td>\n",
       "      <td>7.164987</td>\n",
       "      <td>7.807612</td>\n",
       "      <td>10.901420</td>\n",
       "      <td>61.193882</td>\n",
       "      <td>15.613094</td>\n",
       "      <td>80.256088</td>\n",
       "      <td>48.781616</td>\n",
       "      <td>0.617817</td>\n",
       "      <td>29.668177</td>\n",
       "      <td>90.817871</td>\n",
       "      <td>0.000000</td>\n",
       "      <td>0.000000</td>\n",
       "      <td>36.734043</td>\n",
       "    </tr>\n",
       "    <tr>\n",
       "      <th>11</th>\n",
       "      <td>2.094202</td>\n",
       "      <td>7.354760</td>\n",
       "      <td>7.724983</td>\n",
       "      <td>9.697163</td>\n",
       "      <td>3.073977</td>\n",
       "      <td>2.337076</td>\n",
       "      <td>0.441124</td>\n",
       "      <td>2.722166</td>\n",
       "      <td>2.003438</td>\n",
       "      <td>2.555888</td>\n",
       "      <td>0.441124</td>\n",
       "      <td>0.296291</td>\n",
       "      <td>0.814238</td>\n",
       "      <td>1.008297</td>\n",
       "      <td>1.530781</td>\n",
       "      <td>1.013869</td>\n",
       "      <td>1.481605</td>\n",
       "      <td>7.112618</td>\n",
       "      <td>7.866594</td>\n",
       "      <td>10.905808</td>\n",
       "      <td>65.174141</td>\n",
       "      <td>9.638684</td>\n",
       "      <td>83.145981</td>\n",
       "      <td>49.798054</td>\n",
       "      <td>0.760278</td>\n",
       "      <td>26.488108</td>\n",
       "      <td>88.555183</td>\n",
       "      <td>14.350271</td>\n",
       "      <td>14.350271</td>\n",
       "      <td>32.801071</td>\n",
       "    </tr>\n",
       "    <tr>\n",
       "      <th>12</th>\n",
       "      <td>2.089788</td>\n",
       "      <td>7.352323</td>\n",
       "      <td>7.704502</td>\n",
       "      <td>9.671385</td>\n",
       "      <td>3.069928</td>\n",
       "      <td>2.365849</td>\n",
       "      <td>0.469360</td>\n",
       "      <td>2.711132</td>\n",
       "      <td>2.014112</td>\n",
       "      <td>2.561186</td>\n",
       "      <td>0.469360</td>\n",
       "      <td>0.279602</td>\n",
       "      <td>0.804329</td>\n",
       "      <td>0.996041</td>\n",
       "      <td>1.532674</td>\n",
       "      <td>1.009823</td>\n",
       "      <td>1.486836</td>\n",
       "      <td>7.108247</td>\n",
       "      <td>7.872163</td>\n",
       "      <td>10.884773</td>\n",
       "      <td>65.607765</td>\n",
       "      <td>9.107755</td>\n",
       "      <td>83.428207</td>\n",
       "      <td>49.925415</td>\n",
       "      <td>0.770653</td>\n",
       "      <td>26.200258</td>\n",
       "      <td>88.312546</td>\n",
       "      <td>15.288960</td>\n",
       "      <td>15.288960</td>\n",
       "      <td>32.445099</td>\n",
       "    </tr>\n",
       "  </tbody>\n",
       "</table>\n",
       "</div>"
      ],
      "text/plain": [
       "    sum_residential_units  sum_nonresidential_units  ave_sqft_per_unit  \\\n",
       "8                4.098927                  7.179239           7.467289   \n",
       "9                3.380845                  7.305961           7.457674   \n",
       "10               2.168365                  7.382687           7.572812   \n",
       "11               2.094202                  7.354760           7.724983   \n",
       "12               2.089788                  7.352323           7.704502   \n",
       "\n",
       "    ave_lot_size_per_unit  population      poor    blacks    whites  \\\n",
       "8                9.760910    5.143949  4.105754  2.044237  4.749975   \n",
       "9                9.667663    4.421817  3.331052  1.298611  4.052716   \n",
       "10               9.939272    3.153618  1.948358  0.000000  2.864048   \n",
       "11               9.697163    3.073977  2.337076  0.441124  2.722166   \n",
       "12               9.671385    3.069928  2.365849  0.469360  2.711132   \n",
       "\n",
       "    nonwhites  hispanics    asians   renters   singles  two_persons  \\\n",
       "8    4.039710   4.113796  2.745158  2.440746  2.462539     2.956371   \n",
       "9    3.284432   3.470514  1.912862  1.726067  1.830193     2.268978   \n",
       "10   1.929821   2.530970  0.000000  0.492377  0.935621     1.158451   \n",
       "11   2.003438   2.555888  0.441124  0.296291  0.814238     1.008297   \n",
       "12   2.014112   2.561186  0.469360  0.279602  0.804329     0.996041   \n",
       "\n",
       "    three_plus      sfdu  ave_hhsize      jobs    jobs3k  ave_income  \\\n",
       "8     3.343739  1.534239    1.388186  7.051473  7.616929   10.962228   \n",
       "9     2.651044  1.270033    1.384454  7.129230  7.718721   10.947813   \n",
       "10    1.538386  1.065371    1.399366  7.164987  7.807612   10.901420   \n",
       "11    1.530781  1.013869    1.481605  7.112618  7.866594   10.905808   \n",
       "12    1.532674  1.009823    1.486836  7.108247  7.872163   10.884773   \n",
       "\n",
       "    pct_nonwhite  pct_renters   pct_hisp  pct_three_plus  poverty_rate  \\\n",
       "8      78.533241    47.448875  79.973503       65.003349      0.798172   \n",
       "9      74.277878    39.035255  78.486153       59.953720      0.753322   \n",
       "10     61.193882    15.613094  80.256088       48.781616      0.617817   \n",
       "11     65.174141     9.638684  83.145981       49.798054      0.760278   \n",
       "12     65.607765     9.107755  83.428207       49.925415      0.770653   \n",
       "\n",
       "    pct_singles  pct_white  pct_black  pct_asian  pct_two_persons  \n",
       "8     47.872547  92.341011  39.740620  53.366737        57.472782  \n",
       "9     41.390057  91.652740  29.368269  43.259628        51.313251  \n",
       "10    29.668177  90.817871   0.000000   0.000000        36.734043  \n",
       "11    26.488108  88.555183  14.350271  14.350271        32.801071  \n",
       "12    26.200258  88.312546  15.288960  15.288960        32.445099  "
      ]
     },
     "execution_count": 28,
     "metadata": {},
     "output_type": "execute_result"
    }
   ],
   "source": [
    "orca.get_injectable('aggregations')[0].to_frame().head()"
   ]
  },
  {
   "cell_type": "code",
   "execution_count": 30,
   "metadata": {
    "collapsed": true
   },
   "outputs": [],
   "source": [
    "utils.simple_relocation??"
   ]
  },
  {
   "cell_type": "code",
   "execution_count": 31,
   "metadata": {
    "collapsed": false
   },
   "outputs": [
    {
     "name": "stderr",
     "output_type": "stream",
     "text": [
      "datasources.py:251: FutureWarning: sort(columns=....) is deprecated, use sort_values(by=.....)\n",
      "  }).sort(columns=[\"building_id\", \"unit_num\"]).reset_index(drop=True)\n",
      "datasources.py:263: FutureWarning: sort(columns=....) is deprecated, use sort_values(by=.....)\n",
      "  households = households.sort(columns=[\"building_id\"], ascending=True)\n"
     ]
    },
    {
     "name": "stdout",
     "output_type": "stream",
     "text": [
      "Running step 'travel_model_output'\n",
      "Initial unit tenure assignment: 56% owner occupied, 4% unfilled\n"
     ]
    },
    {
     "ename": "KeyError",
     "evalue": "'unit_id'",
     "output_type": "error",
     "traceback": [
      "\u001b[0;31m---------------------------------------------------------------------------\u001b[0m",
      "\u001b[0;31mKeyError\u001b[0m                                  Traceback (most recent call last)",
      "\u001b[0;32m<ipython-input-31-c67c9288221c>\u001b[0m in \u001b[0;36m<module>\u001b[0;34m()\u001b[0m\n\u001b[0;32m----> 1\u001b[0;31m \u001b[0morca\u001b[0m\u001b[0;34m.\u001b[0m\u001b[0mrun\u001b[0m\u001b[0;34m(\u001b[0m\u001b[0;34m[\u001b[0m\u001b[0;34m\"travel_model_output\"\u001b[0m\u001b[0;34m]\u001b[0m\u001b[0;34m)\u001b[0m\u001b[0;34m\u001b[0m\u001b[0m\n\u001b[0m",
      "\u001b[0;32m/Users/danqing0703/anaconda/lib/python2.7/site-packages/orca-1.3.0-py2.7.egg/orca/orca.pyc\u001b[0m in \u001b[0;36mrun\u001b[0;34m(steps, iter_vars, data_out, out_interval)\u001b[0m\n\u001b[1;32m   1874\u001b[0m                 \u001b[0mstep\u001b[0m \u001b[0;34m=\u001b[0m \u001b[0mget_step\u001b[0m\u001b[0;34m(\u001b[0m\u001b[0mstep_name\u001b[0m\u001b[0;34m)\u001b[0m\u001b[0;34m\u001b[0m\u001b[0m\n\u001b[1;32m   1875\u001b[0m                 \u001b[0mt2\u001b[0m \u001b[0;34m=\u001b[0m \u001b[0mtime\u001b[0m\u001b[0;34m.\u001b[0m\u001b[0mtime\u001b[0m\u001b[0;34m(\u001b[0m\u001b[0;34m)\u001b[0m\u001b[0;34m\u001b[0m\u001b[0m\n\u001b[0;32m-> 1876\u001b[0;31m                 \u001b[0mstep\u001b[0m\u001b[0;34m(\u001b[0m\u001b[0;34m)\u001b[0m\u001b[0;34m\u001b[0m\u001b[0m\n\u001b[0m\u001b[1;32m   1877\u001b[0m                 print(\"Time to execute step '{}': {:.2f} s\".format(\n\u001b[1;32m   1878\u001b[0m                       step_name, time.time() - t2))\n",
      "\u001b[0;32m/Users/danqing0703/anaconda/lib/python2.7/site-packages/orca-1.3.0-py2.7.egg/orca/orca.pyc\u001b[0m in \u001b[0;36m__call__\u001b[0;34m(self)\u001b[0m\n\u001b[1;32m    778\u001b[0m             kwargs = _collect_variables(names=self._argspec.args,\n\u001b[1;32m    779\u001b[0m                                         expressions=self._argspec.defaults)\n\u001b[0;32m--> 780\u001b[0;31m             \u001b[0;32mreturn\u001b[0m \u001b[0mself\u001b[0m\u001b[0;34m.\u001b[0m\u001b[0m_func\u001b[0m\u001b[0;34m(\u001b[0m\u001b[0;34m**\u001b[0m\u001b[0mkwargs\u001b[0m\u001b[0;34m)\u001b[0m\u001b[0;34m\u001b[0m\u001b[0m\n\u001b[0m\u001b[1;32m    781\u001b[0m \u001b[0;34m\u001b[0m\u001b[0m\n\u001b[1;32m    782\u001b[0m     \u001b[0;32mdef\u001b[0m \u001b[0m_tables_used\u001b[0m\u001b[0;34m(\u001b[0m\u001b[0mself\u001b[0m\u001b[0;34m)\u001b[0m\u001b[0;34m:\u001b[0m\u001b[0;34m\u001b[0m\u001b[0m\n",
      "\u001b[0;32m/Users/danqing0703/Google_Drive/Berkeley/research/2015Fall/bayarea_urbansim/models.pyc\u001b[0m in \u001b[0;36mtravel_model_output\u001b[0;34m(parcels, households, jobs, buildings, zones, homesales, year, summary, coffer, run_number)\u001b[0m\n\u001b[1;32m    586\u001b[0m def travel_model_output(parcels, households, jobs, buildings,\n\u001b[1;32m    587\u001b[0m                         zones, homesales, year, summary, coffer, run_number):\n\u001b[0;32m--> 588\u001b[0;31m     \u001b[0mhouseholds\u001b[0m \u001b[0;34m=\u001b[0m \u001b[0mhouseholds\u001b[0m\u001b[0;34m.\u001b[0m\u001b[0mto_frame\u001b[0m\u001b[0;34m(\u001b[0m\u001b[0;34m)\u001b[0m\u001b[0;34m\u001b[0m\u001b[0m\n\u001b[0m\u001b[1;32m    589\u001b[0m     \u001b[0mjobs\u001b[0m \u001b[0;34m=\u001b[0m \u001b[0mjobs\u001b[0m\u001b[0;34m.\u001b[0m\u001b[0mto_frame\u001b[0m\u001b[0;34m(\u001b[0m\u001b[0;34m)\u001b[0m\u001b[0;34m\u001b[0m\u001b[0m\n\u001b[1;32m    590\u001b[0m     \u001b[0mbuildings\u001b[0m \u001b[0;34m=\u001b[0m \u001b[0mbuildings\u001b[0m\u001b[0;34m.\u001b[0m\u001b[0mto_frame\u001b[0m\u001b[0;34m(\u001b[0m\u001b[0;34m)\u001b[0m\u001b[0;34m\u001b[0m\u001b[0m\n",
      "\u001b[0;32m/Users/danqing0703/anaconda/lib/python2.7/site-packages/orca-1.3.0-py2.7.egg/orca/orca.pyc\u001b[0m in \u001b[0;36mto_frame\u001b[0;34m(self, columns)\u001b[0m\n\u001b[1;32m    227\u001b[0m                             name, self.name),\n\u001b[1;32m    228\u001b[0m                         logger):\n\u001b[0;32m--> 229\u001b[0;31m                     \u001b[0mdf\u001b[0m\u001b[0;34m[\u001b[0m\u001b[0mname\u001b[0m\u001b[0;34m]\u001b[0m \u001b[0;34m=\u001b[0m \u001b[0mcol\u001b[0m\u001b[0;34m(\u001b[0m\u001b[0;34m)\u001b[0m\u001b[0;34m\u001b[0m\u001b[0m\n\u001b[0m\u001b[1;32m    230\u001b[0m \u001b[0;34m\u001b[0m\u001b[0m\n\u001b[1;32m    231\u001b[0m         \u001b[0;32mreturn\u001b[0m \u001b[0mdf\u001b[0m\u001b[0;34m\u001b[0m\u001b[0m\n",
      "\u001b[0;32m/Users/danqing0703/anaconda/lib/python2.7/site-packages/orca-1.3.0-py2.7.egg/orca/orca.pyc\u001b[0m in \u001b[0;36m__call__\u001b[0;34m(self)\u001b[0m\n\u001b[1;32m    620\u001b[0m             kwargs = _collect_variables(names=self._argspec.args,\n\u001b[1;32m    621\u001b[0m                                         expressions=self._argspec.defaults)\n\u001b[0;32m--> 622\u001b[0;31m             \u001b[0mcol\u001b[0m \u001b[0;34m=\u001b[0m \u001b[0mself\u001b[0m\u001b[0;34m.\u001b[0m\u001b[0m_func\u001b[0m\u001b[0;34m(\u001b[0m\u001b[0;34m**\u001b[0m\u001b[0mkwargs\u001b[0m\u001b[0;34m)\u001b[0m\u001b[0;34m\u001b[0m\u001b[0m\n\u001b[0m\u001b[1;32m    623\u001b[0m \u001b[0;34m\u001b[0m\u001b[0m\n\u001b[1;32m    624\u001b[0m         \u001b[0;32mif\u001b[0m \u001b[0mself\u001b[0m\u001b[0;34m.\u001b[0m\u001b[0mcache\u001b[0m\u001b[0;34m:\u001b[0m\u001b[0;34m\u001b[0m\u001b[0m\n",
      "\u001b[0;32m/Users/danqing0703/Google_Drive/Berkeley/research/2015Fall/bayarea_urbansim/variables.pyc\u001b[0m in \u001b[0;36mrent_burden\u001b[0;34m(households)\u001b[0m\n\u001b[1;32m    112\u001b[0m \u001b[0;34m@\u001b[0m\u001b[0morca\u001b[0m\u001b[0;34m.\u001b[0m\u001b[0mcolumn\u001b[0m\u001b[0;34m(\u001b[0m\u001b[0;34m'households'\u001b[0m\u001b[0;34m,\u001b[0m \u001b[0;34m'rent_burden'\u001b[0m\u001b[0;34m)\u001b[0m\u001b[0;34m\u001b[0m\u001b[0m\n\u001b[1;32m    113\u001b[0m \u001b[0;32mdef\u001b[0m \u001b[0mrent_burden\u001b[0m\u001b[0;34m(\u001b[0m\u001b[0mhouseholds\u001b[0m\u001b[0;34m)\u001b[0m\u001b[0;34m:\u001b[0m\u001b[0;34m\u001b[0m\u001b[0m\n\u001b[0;32m--> 114\u001b[0;31m     \u001b[0mrb\u001b[0m \u001b[0;34m=\u001b[0m \u001b[0mhouseholds\u001b[0m\u001b[0;34m.\u001b[0m\u001b[0mhh_monthly_rent\u001b[0m\u001b[0;34m.\u001b[0m\u001b[0mmultiply\u001b[0m\u001b[0;34m(\u001b[0m\u001b[0;36m12\u001b[0m\u001b[0;34m)\u001b[0m\u001b[0;34m.\u001b[0m\u001b[0mdivide\u001b[0m\u001b[0;34m(\u001b[0m\u001b[0mhouseholds\u001b[0m\u001b[0;34m.\u001b[0m\u001b[0mpositive_income\u001b[0m\u001b[0;34m)\u001b[0m\u001b[0;34m\u001b[0m\u001b[0m\n\u001b[0m\u001b[1;32m    115\u001b[0m     \u001b[0;32mreturn\u001b[0m \u001b[0mrb\u001b[0m\u001b[0;34m.\u001b[0m\u001b[0mreplace\u001b[0m\u001b[0;34m(\u001b[0m\u001b[0;34m[\u001b[0m\u001b[0mnp\u001b[0m\u001b[0;34m.\u001b[0m\u001b[0minf\u001b[0m\u001b[0;34m,\u001b[0m \u001b[0;34m-\u001b[0m\u001b[0mnp\u001b[0m\u001b[0;34m.\u001b[0m\u001b[0minf\u001b[0m\u001b[0;34m]\u001b[0m\u001b[0;34m,\u001b[0m \u001b[0mnp\u001b[0m\u001b[0;34m.\u001b[0m\u001b[0mnan\u001b[0m\u001b[0;34m)\u001b[0m\u001b[0;34m.\u001b[0m\u001b[0mfillna\u001b[0m\u001b[0;34m(\u001b[0m\u001b[0;36m0\u001b[0m\u001b[0;34m)\u001b[0m\u001b[0;34m\u001b[0m\u001b[0m\n\u001b[1;32m    116\u001b[0m \u001b[0;34m\u001b[0m\u001b[0m\n",
      "\u001b[0;32m/Users/danqing0703/anaconda/lib/python2.7/site-packages/orca-1.3.0-py2.7.egg/orca/orca.pyc\u001b[0m in \u001b[0;36m__getattr__\u001b[0;34m(self, key)\u001b[0m\n\u001b[1;32m    285\u001b[0m \u001b[0;34m\u001b[0m\u001b[0m\n\u001b[1;32m    286\u001b[0m     \u001b[0;32mdef\u001b[0m \u001b[0m__getattr__\u001b[0m\u001b[0;34m(\u001b[0m\u001b[0mself\u001b[0m\u001b[0;34m,\u001b[0m \u001b[0mkey\u001b[0m\u001b[0;34m)\u001b[0m\u001b[0;34m:\u001b[0m\u001b[0;34m\u001b[0m\u001b[0m\n\u001b[0;32m--> 287\u001b[0;31m         \u001b[0;32mreturn\u001b[0m \u001b[0mself\u001b[0m\u001b[0;34m.\u001b[0m\u001b[0mget_column\u001b[0m\u001b[0;34m(\u001b[0m\u001b[0mkey\u001b[0m\u001b[0;34m)\u001b[0m\u001b[0;34m\u001b[0m\u001b[0m\n\u001b[0m\u001b[1;32m    288\u001b[0m \u001b[0;34m\u001b[0m\u001b[0m\n\u001b[1;32m    289\u001b[0m     \u001b[0;32mdef\u001b[0m \u001b[0mcolumn_type\u001b[0m\u001b[0;34m(\u001b[0m\u001b[0mself\u001b[0m\u001b[0;34m,\u001b[0m \u001b[0mcolumn_name\u001b[0m\u001b[0;34m)\u001b[0m\u001b[0;34m:\u001b[0m\u001b[0;34m\u001b[0m\u001b[0m\n",
      "\u001b[0;32m/Users/danqing0703/anaconda/lib/python2.7/site-packages/orca-1.3.0-py2.7.egg/orca/orca.pyc\u001b[0m in \u001b[0;36mget_column\u001b[0;34m(self, column_name)\u001b[0m\n\u001b[1;32m    273\u001b[0m                             column_name, self.name),\n\u001b[1;32m    274\u001b[0m                         logger):\n\u001b[0;32m--> 275\u001b[0;31m                     \u001b[0mcolumn\u001b[0m \u001b[0;34m=\u001b[0m \u001b[0mextra_cols\u001b[0m\u001b[0;34m[\u001b[0m\u001b[0mcolumn_name\u001b[0m\u001b[0;34m]\u001b[0m\u001b[0;34m(\u001b[0m\u001b[0;34m)\u001b[0m\u001b[0;34m\u001b[0m\u001b[0m\n\u001b[0m\u001b[1;32m    276\u001b[0m             \u001b[0;32melse\u001b[0m\u001b[0;34m:\u001b[0m\u001b[0;34m\u001b[0m\u001b[0m\n\u001b[1;32m    277\u001b[0m                 \u001b[0mcolumn\u001b[0m \u001b[0;34m=\u001b[0m \u001b[0mself\u001b[0m\u001b[0;34m.\u001b[0m\u001b[0mlocal\u001b[0m\u001b[0;34m[\u001b[0m\u001b[0mcolumn_name\u001b[0m\u001b[0;34m]\u001b[0m\u001b[0;34m\u001b[0m\u001b[0m\n",
      "\u001b[0;32m/Users/danqing0703/anaconda/lib/python2.7/site-packages/orca-1.3.0-py2.7.egg/orca/orca.pyc\u001b[0m in \u001b[0;36m__call__\u001b[0;34m(self)\u001b[0m\n\u001b[1;32m    620\u001b[0m             kwargs = _collect_variables(names=self._argspec.args,\n\u001b[1;32m    621\u001b[0m                                         expressions=self._argspec.defaults)\n\u001b[0;32m--> 622\u001b[0;31m             \u001b[0mcol\u001b[0m \u001b[0;34m=\u001b[0m \u001b[0mself\u001b[0m\u001b[0;34m.\u001b[0m\u001b[0m_func\u001b[0m\u001b[0;34m(\u001b[0m\u001b[0;34m**\u001b[0m\u001b[0mkwargs\u001b[0m\u001b[0;34m)\u001b[0m\u001b[0;34m\u001b[0m\u001b[0m\n\u001b[0m\u001b[1;32m    623\u001b[0m \u001b[0;34m\u001b[0m\u001b[0m\n\u001b[1;32m    624\u001b[0m         \u001b[0;32mif\u001b[0m \u001b[0mself\u001b[0m\u001b[0;34m.\u001b[0m\u001b[0mcache\u001b[0m\u001b[0;34m:\u001b[0m\u001b[0;34m\u001b[0m\u001b[0m\n",
      "\u001b[0;32m/Users/danqing0703/Google_Drive/Berkeley/research/2015Fall/bayarea_urbansim/variables.pyc\u001b[0m in \u001b[0;36mhh_monthly_rent\u001b[0;34m(households, buildings, residential_units)\u001b[0m\n\u001b[1;32m    106\u001b[0m \u001b[0;34m@\u001b[0m\u001b[0morca\u001b[0m\u001b[0;34m.\u001b[0m\u001b[0mcolumn\u001b[0m\u001b[0;34m(\u001b[0m\u001b[0;34m'households'\u001b[0m\u001b[0;34m,\u001b[0m \u001b[0;34m'hh_monthly_rent'\u001b[0m\u001b[0;34m)\u001b[0m\u001b[0;34m\u001b[0m\u001b[0m\n\u001b[1;32m    107\u001b[0m \u001b[0;32mdef\u001b[0m \u001b[0mhh_monthly_rent\u001b[0m\u001b[0;34m(\u001b[0m\u001b[0mhouseholds\u001b[0m\u001b[0;34m,\u001b[0m \u001b[0mbuildings\u001b[0m\u001b[0;34m,\u001b[0m \u001b[0mresidential_units\u001b[0m\u001b[0;34m)\u001b[0m\u001b[0;34m:\u001b[0m\u001b[0;34m\u001b[0m\u001b[0m\n\u001b[0;32m--> 108\u001b[0;31m     \u001b[0mrent\u001b[0m \u001b[0;34m=\u001b[0m \u001b[0mmisc\u001b[0m\u001b[0;34m.\u001b[0m\u001b[0mreindex\u001b[0m\u001b[0;34m(\u001b[0m\u001b[0mresidential_units\u001b[0m\u001b[0;34m.\u001b[0m\u001b[0munit_residential_rent\u001b[0m\u001b[0;34m,\u001b[0m \u001b[0mhouseholds\u001b[0m\u001b[0;34m.\u001b[0m\u001b[0munit_id\u001b[0m\u001b[0;34m)\u001b[0m\u001b[0;34m\u001b[0m\u001b[0m\n\u001b[0m\u001b[1;32m    109\u001b[0m     \u001b[0msqft\u001b[0m \u001b[0;34m=\u001b[0m \u001b[0mmisc\u001b[0m\u001b[0;34m.\u001b[0m\u001b[0mreindex\u001b[0m\u001b[0;34m(\u001b[0m\u001b[0mbuildings\u001b[0m\u001b[0;34m.\u001b[0m\u001b[0msqft_per_unit\u001b[0m\u001b[0;34m,\u001b[0m \u001b[0mhouseholds\u001b[0m\u001b[0;34m.\u001b[0m\u001b[0munit_id\u001b[0m\u001b[0;34m)\u001b[0m\u001b[0;34m\u001b[0m\u001b[0m\n\u001b[1;32m    110\u001b[0m     \u001b[0;32mreturn\u001b[0m \u001b[0mrent\u001b[0m\u001b[0;34m.\u001b[0m\u001b[0mmultiply\u001b[0m\u001b[0;34m(\u001b[0m\u001b[0msqft\u001b[0m\u001b[0;34m)\u001b[0m\u001b[0;34m.\u001b[0m\u001b[0mfillna\u001b[0m\u001b[0;34m(\u001b[0m\u001b[0;36m0\u001b[0m\u001b[0;34m)\u001b[0m\u001b[0;34m\u001b[0m\u001b[0m\n",
      "\u001b[0;32m/Users/danqing0703/anaconda/lib/python2.7/site-packages/orca-1.3.0-py2.7.egg/orca/orca.pyc\u001b[0m in \u001b[0;36m__getattr__\u001b[0;34m(self, key)\u001b[0m\n\u001b[1;32m    285\u001b[0m \u001b[0;34m\u001b[0m\u001b[0m\n\u001b[1;32m    286\u001b[0m     \u001b[0;32mdef\u001b[0m \u001b[0m__getattr__\u001b[0m\u001b[0;34m(\u001b[0m\u001b[0mself\u001b[0m\u001b[0;34m,\u001b[0m \u001b[0mkey\u001b[0m\u001b[0;34m)\u001b[0m\u001b[0;34m:\u001b[0m\u001b[0;34m\u001b[0m\u001b[0m\n\u001b[0;32m--> 287\u001b[0;31m         \u001b[0;32mreturn\u001b[0m \u001b[0mself\u001b[0m\u001b[0;34m.\u001b[0m\u001b[0mget_column\u001b[0m\u001b[0;34m(\u001b[0m\u001b[0mkey\u001b[0m\u001b[0;34m)\u001b[0m\u001b[0;34m\u001b[0m\u001b[0m\n\u001b[0m\u001b[1;32m    288\u001b[0m \u001b[0;34m\u001b[0m\u001b[0m\n\u001b[1;32m    289\u001b[0m     \u001b[0;32mdef\u001b[0m \u001b[0mcolumn_type\u001b[0m\u001b[0;34m(\u001b[0m\u001b[0mself\u001b[0m\u001b[0;34m,\u001b[0m \u001b[0mcolumn_name\u001b[0m\u001b[0;34m)\u001b[0m\u001b[0;34m:\u001b[0m\u001b[0;34m\u001b[0m\u001b[0m\n",
      "\u001b[0;32m/Users/danqing0703/anaconda/lib/python2.7/site-packages/orca-1.3.0-py2.7.egg/orca/orca.pyc\u001b[0m in \u001b[0;36mget_column\u001b[0;34m(self, column_name)\u001b[0m\n\u001b[1;32m    275\u001b[0m                     \u001b[0mcolumn\u001b[0m \u001b[0;34m=\u001b[0m \u001b[0mextra_cols\u001b[0m\u001b[0;34m[\u001b[0m\u001b[0mcolumn_name\u001b[0m\u001b[0;34m]\u001b[0m\u001b[0;34m(\u001b[0m\u001b[0;34m)\u001b[0m\u001b[0;34m\u001b[0m\u001b[0m\n\u001b[1;32m    276\u001b[0m             \u001b[0;32melse\u001b[0m\u001b[0;34m:\u001b[0m\u001b[0;34m\u001b[0m\u001b[0m\n\u001b[0;32m--> 277\u001b[0;31m                 \u001b[0mcolumn\u001b[0m \u001b[0;34m=\u001b[0m \u001b[0mself\u001b[0m\u001b[0;34m.\u001b[0m\u001b[0mlocal\u001b[0m\u001b[0;34m[\u001b[0m\u001b[0mcolumn_name\u001b[0m\u001b[0;34m]\u001b[0m\u001b[0;34m\u001b[0m\u001b[0m\n\u001b[0m\u001b[1;32m    278\u001b[0m             \u001b[0;32mif\u001b[0m \u001b[0mself\u001b[0m\u001b[0;34m.\u001b[0m\u001b[0mcopy_col\u001b[0m\u001b[0;34m:\u001b[0m\u001b[0;34m\u001b[0m\u001b[0m\n\u001b[1;32m    279\u001b[0m                 \u001b[0;32mreturn\u001b[0m \u001b[0mcolumn\u001b[0m\u001b[0;34m.\u001b[0m\u001b[0mcopy\u001b[0m\u001b[0;34m(\u001b[0m\u001b[0;34m)\u001b[0m\u001b[0;34m\u001b[0m\u001b[0m\n",
      "\u001b[0;32m/Users/danqing0703/anaconda/lib/python2.7/site-packages/pandas/core/frame.pyc\u001b[0m in \u001b[0;36m__getitem__\u001b[0;34m(self, key)\u001b[0m\n\u001b[1;32m   1967\u001b[0m             \u001b[0;32mreturn\u001b[0m \u001b[0mself\u001b[0m\u001b[0;34m.\u001b[0m\u001b[0m_getitem_multilevel\u001b[0m\u001b[0;34m(\u001b[0m\u001b[0mkey\u001b[0m\u001b[0;34m)\u001b[0m\u001b[0;34m\u001b[0m\u001b[0m\n\u001b[1;32m   1968\u001b[0m         \u001b[0;32melse\u001b[0m\u001b[0;34m:\u001b[0m\u001b[0;34m\u001b[0m\u001b[0m\n\u001b[0;32m-> 1969\u001b[0;31m             \u001b[0;32mreturn\u001b[0m \u001b[0mself\u001b[0m\u001b[0;34m.\u001b[0m\u001b[0m_getitem_column\u001b[0m\u001b[0;34m(\u001b[0m\u001b[0mkey\u001b[0m\u001b[0;34m)\u001b[0m\u001b[0;34m\u001b[0m\u001b[0m\n\u001b[0m\u001b[1;32m   1970\u001b[0m \u001b[0;34m\u001b[0m\u001b[0m\n\u001b[1;32m   1971\u001b[0m     \u001b[0;32mdef\u001b[0m \u001b[0m_getitem_column\u001b[0m\u001b[0;34m(\u001b[0m\u001b[0mself\u001b[0m\u001b[0;34m,\u001b[0m \u001b[0mkey\u001b[0m\u001b[0;34m)\u001b[0m\u001b[0;34m:\u001b[0m\u001b[0;34m\u001b[0m\u001b[0m\n",
      "\u001b[0;32m/Users/danqing0703/anaconda/lib/python2.7/site-packages/pandas/core/frame.pyc\u001b[0m in \u001b[0;36m_getitem_column\u001b[0;34m(self, key)\u001b[0m\n\u001b[1;32m   1974\u001b[0m         \u001b[0;31m# get column\u001b[0m\u001b[0;34m\u001b[0m\u001b[0;34m\u001b[0m\u001b[0m\n\u001b[1;32m   1975\u001b[0m         \u001b[0;32mif\u001b[0m \u001b[0mself\u001b[0m\u001b[0;34m.\u001b[0m\u001b[0mcolumns\u001b[0m\u001b[0;34m.\u001b[0m\u001b[0mis_unique\u001b[0m\u001b[0;34m:\u001b[0m\u001b[0;34m\u001b[0m\u001b[0m\n\u001b[0;32m-> 1976\u001b[0;31m             \u001b[0;32mreturn\u001b[0m \u001b[0mself\u001b[0m\u001b[0;34m.\u001b[0m\u001b[0m_get_item_cache\u001b[0m\u001b[0;34m(\u001b[0m\u001b[0mkey\u001b[0m\u001b[0;34m)\u001b[0m\u001b[0;34m\u001b[0m\u001b[0m\n\u001b[0m\u001b[1;32m   1977\u001b[0m \u001b[0;34m\u001b[0m\u001b[0m\n\u001b[1;32m   1978\u001b[0m         \u001b[0;31m# duplicate columns & possible reduce dimensionality\u001b[0m\u001b[0;34m\u001b[0m\u001b[0;34m\u001b[0m\u001b[0m\n",
      "\u001b[0;32m/Users/danqing0703/anaconda/lib/python2.7/site-packages/pandas/core/generic.pyc\u001b[0m in \u001b[0;36m_get_item_cache\u001b[0;34m(self, item)\u001b[0m\n\u001b[1;32m   1089\u001b[0m         \u001b[0mres\u001b[0m \u001b[0;34m=\u001b[0m \u001b[0mcache\u001b[0m\u001b[0;34m.\u001b[0m\u001b[0mget\u001b[0m\u001b[0;34m(\u001b[0m\u001b[0mitem\u001b[0m\u001b[0;34m)\u001b[0m\u001b[0;34m\u001b[0m\u001b[0m\n\u001b[1;32m   1090\u001b[0m         \u001b[0;32mif\u001b[0m \u001b[0mres\u001b[0m \u001b[0;32mis\u001b[0m \u001b[0mNone\u001b[0m\u001b[0;34m:\u001b[0m\u001b[0;34m\u001b[0m\u001b[0m\n\u001b[0;32m-> 1091\u001b[0;31m             \u001b[0mvalues\u001b[0m \u001b[0;34m=\u001b[0m \u001b[0mself\u001b[0m\u001b[0;34m.\u001b[0m\u001b[0m_data\u001b[0m\u001b[0;34m.\u001b[0m\u001b[0mget\u001b[0m\u001b[0;34m(\u001b[0m\u001b[0mitem\u001b[0m\u001b[0;34m)\u001b[0m\u001b[0;34m\u001b[0m\u001b[0m\n\u001b[0m\u001b[1;32m   1092\u001b[0m             \u001b[0mres\u001b[0m \u001b[0;34m=\u001b[0m \u001b[0mself\u001b[0m\u001b[0;34m.\u001b[0m\u001b[0m_box_item_values\u001b[0m\u001b[0;34m(\u001b[0m\u001b[0mitem\u001b[0m\u001b[0;34m,\u001b[0m \u001b[0mvalues\u001b[0m\u001b[0;34m)\u001b[0m\u001b[0;34m\u001b[0m\u001b[0m\n\u001b[1;32m   1093\u001b[0m             \u001b[0mcache\u001b[0m\u001b[0;34m[\u001b[0m\u001b[0mitem\u001b[0m\u001b[0;34m]\u001b[0m \u001b[0;34m=\u001b[0m \u001b[0mres\u001b[0m\u001b[0;34m\u001b[0m\u001b[0m\n",
      "\u001b[0;32m/Users/danqing0703/anaconda/lib/python2.7/site-packages/pandas/core/internals.pyc\u001b[0m in \u001b[0;36mget\u001b[0;34m(self, item, fastpath)\u001b[0m\n\u001b[1;32m   3209\u001b[0m \u001b[0;34m\u001b[0m\u001b[0m\n\u001b[1;32m   3210\u001b[0m             \u001b[0;32mif\u001b[0m \u001b[0;32mnot\u001b[0m \u001b[0misnull\u001b[0m\u001b[0;34m(\u001b[0m\u001b[0mitem\u001b[0m\u001b[0;34m)\u001b[0m\u001b[0;34m:\u001b[0m\u001b[0;34m\u001b[0m\u001b[0m\n\u001b[0;32m-> 3211\u001b[0;31m                 \u001b[0mloc\u001b[0m \u001b[0;34m=\u001b[0m \u001b[0mself\u001b[0m\u001b[0;34m.\u001b[0m\u001b[0mitems\u001b[0m\u001b[0;34m.\u001b[0m\u001b[0mget_loc\u001b[0m\u001b[0;34m(\u001b[0m\u001b[0mitem\u001b[0m\u001b[0;34m)\u001b[0m\u001b[0;34m\u001b[0m\u001b[0m\n\u001b[0m\u001b[1;32m   3212\u001b[0m             \u001b[0;32melse\u001b[0m\u001b[0;34m:\u001b[0m\u001b[0;34m\u001b[0m\u001b[0m\n\u001b[1;32m   3213\u001b[0m                 \u001b[0mindexer\u001b[0m \u001b[0;34m=\u001b[0m \u001b[0mnp\u001b[0m\u001b[0;34m.\u001b[0m\u001b[0marange\u001b[0m\u001b[0;34m(\u001b[0m\u001b[0mlen\u001b[0m\u001b[0;34m(\u001b[0m\u001b[0mself\u001b[0m\u001b[0;34m.\u001b[0m\u001b[0mitems\u001b[0m\u001b[0;34m)\u001b[0m\u001b[0;34m)\u001b[0m\u001b[0;34m[\u001b[0m\u001b[0misnull\u001b[0m\u001b[0;34m(\u001b[0m\u001b[0mself\u001b[0m\u001b[0;34m.\u001b[0m\u001b[0mitems\u001b[0m\u001b[0;34m)\u001b[0m\u001b[0;34m]\u001b[0m\u001b[0;34m\u001b[0m\u001b[0m\n",
      "\u001b[0;32m/Users/danqing0703/anaconda/lib/python2.7/site-packages/pandas/core/index.pyc\u001b[0m in \u001b[0;36mget_loc\u001b[0;34m(self, key, method, tolerance)\u001b[0m\n\u001b[1;32m   1757\u001b[0m                                  'backfill or nearest lookups')\n\u001b[1;32m   1758\u001b[0m             \u001b[0mkey\u001b[0m \u001b[0;34m=\u001b[0m \u001b[0m_values_from_object\u001b[0m\u001b[0;34m(\u001b[0m\u001b[0mkey\u001b[0m\u001b[0;34m)\u001b[0m\u001b[0;34m\u001b[0m\u001b[0m\n\u001b[0;32m-> 1759\u001b[0;31m             \u001b[0;32mreturn\u001b[0m \u001b[0mself\u001b[0m\u001b[0;34m.\u001b[0m\u001b[0m_engine\u001b[0m\u001b[0;34m.\u001b[0m\u001b[0mget_loc\u001b[0m\u001b[0;34m(\u001b[0m\u001b[0mkey\u001b[0m\u001b[0;34m)\u001b[0m\u001b[0;34m\u001b[0m\u001b[0m\n\u001b[0m\u001b[1;32m   1760\u001b[0m \u001b[0;34m\u001b[0m\u001b[0m\n\u001b[1;32m   1761\u001b[0m         indexer = self.get_indexer([key], method=method,\n",
      "\u001b[0;32mpandas/index.pyx\u001b[0m in \u001b[0;36mpandas.index.IndexEngine.get_loc (pandas/index.c:3979)\u001b[0;34m()\u001b[0m\n",
      "\u001b[0;32mpandas/index.pyx\u001b[0m in \u001b[0;36mpandas.index.IndexEngine.get_loc (pandas/index.c:3843)\u001b[0;34m()\u001b[0m\n",
      "\u001b[0;32mpandas/hashtable.pyx\u001b[0m in \u001b[0;36mpandas.hashtable.PyObjectHashTable.get_item (pandas/hashtable.c:12265)\u001b[0;34m()\u001b[0m\n",
      "\u001b[0;32mpandas/hashtable.pyx\u001b[0m in \u001b[0;36mpandas.hashtable.PyObjectHashTable.get_item (pandas/hashtable.c:12216)\u001b[0;34m()\u001b[0m\n",
      "\u001b[0;31mKeyError\u001b[0m: 'unit_id'"
     ]
    }
   ],
   "source": [
    "orca.run([\"travel_model_output\"])"
   ]
  },
  {
   "cell_type": "code",
   "execution_count": 34,
   "metadata": {
    "collapsed": false
   },
   "outputs": [
    {
     "data": {
      "text/plain": [
       "['parcel_id',\n",
       " 'residential_units',\n",
       " 'residential_sqft',\n",
       " 'non_residential_sqft',\n",
       " 'building_sqft',\n",
       " 'stories',\n",
       " 'year_built',\n",
       " 'redfin_sale_year',\n",
       " 'building_type_id',\n",
       " 'residential_price',\n",
       " 'non_residential_price']"
      ]
     },
     "execution_count": 34,
     "metadata": {},
     "output_type": "execute_result"
    }
   ],
   "source": [
    "orca.get_table('buildings').local_columns"
   ]
  },
  {
   "cell_type": "code",
   "execution_count": 36,
   "metadata": {
    "collapsed": false
   },
   "outputs": [
    {
     "data": {
      "text/html": [
       "<div>\n",
       "<table border=\"1\" class=\"dataframe\">\n",
       "  <thead>\n",
       "    <tr style=\"text-align: right;\">\n",
       "      <th></th>\n",
       "      <th>parcel_id</th>\n",
       "      <th>residential_units</th>\n",
       "      <th>residential_sqft</th>\n",
       "      <th>non_residential_sqft</th>\n",
       "      <th>building_sqft</th>\n",
       "      <th>stories</th>\n",
       "      <th>year_built</th>\n",
       "      <th>redfin_sale_year</th>\n",
       "      <th>building_type_id</th>\n",
       "      <th>residential_price</th>\n",
       "      <th>non_residential_price</th>\n",
       "      <th>zone_id</th>\n",
       "      <th>general_type</th>\n",
       "      <th>residential_rent</th>\n",
       "      <th>sqft_per_job</th>\n",
       "      <th>lot_size_per_unit</th>\n",
       "      <th>vacant_job_spaces</th>\n",
       "      <th>vacant_residential_units</th>\n",
       "      <th>node_id</th>\n",
       "      <th>base_price_per_sqft</th>\n",
       "      <th>job_spaces</th>\n",
       "      <th>sqft_per_unit</th>\n",
       "    </tr>\n",
       "    <tr>\n",
       "      <th>building_id</th>\n",
       "      <th></th>\n",
       "      <th></th>\n",
       "      <th></th>\n",
       "      <th></th>\n",
       "      <th></th>\n",
       "      <th></th>\n",
       "      <th></th>\n",
       "      <th></th>\n",
       "      <th></th>\n",
       "      <th></th>\n",
       "      <th></th>\n",
       "      <th></th>\n",
       "      <th></th>\n",
       "      <th></th>\n",
       "      <th></th>\n",
       "      <th></th>\n",
       "      <th></th>\n",
       "      <th></th>\n",
       "      <th></th>\n",
       "      <th></th>\n",
       "      <th></th>\n",
       "      <th></th>\n",
       "    </tr>\n",
       "  </thead>\n",
       "  <tbody>\n",
       "    <tr>\n",
       "      <th>1</th>\n",
       "      <td>69516</td>\n",
       "      <td>1</td>\n",
       "      <td>794</td>\n",
       "      <td>0</td>\n",
       "      <td>794</td>\n",
       "      <td>1</td>\n",
       "      <td>1939</td>\n",
       "      <td>2012</td>\n",
       "      <td>1</td>\n",
       "      <td>0</td>\n",
       "      <td>0</td>\n",
       "      <td>893</td>\n",
       "      <td>Residential</td>\n",
       "      <td>0</td>\n",
       "      <td>400</td>\n",
       "      <td>5200.062320</td>\n",
       "      <td>0</td>\n",
       "      <td>0</td>\n",
       "      <td>11584</td>\n",
       "      <td>113.297994</td>\n",
       "      <td>0</td>\n",
       "      <td>794</td>\n",
       "    </tr>\n",
       "    <tr>\n",
       "      <th>2</th>\n",
       "      <td>69517</td>\n",
       "      <td>1</td>\n",
       "      <td>1600</td>\n",
       "      <td>0</td>\n",
       "      <td>1600</td>\n",
       "      <td>1</td>\n",
       "      <td>1939</td>\n",
       "      <td>2012</td>\n",
       "      <td>1</td>\n",
       "      <td>0</td>\n",
       "      <td>0</td>\n",
       "      <td>893</td>\n",
       "      <td>Residential</td>\n",
       "      <td>0</td>\n",
       "      <td>400</td>\n",
       "      <td>5200.063760</td>\n",
       "      <td>0</td>\n",
       "      <td>0</td>\n",
       "      <td>11584</td>\n",
       "      <td>113.297994</td>\n",
       "      <td>0</td>\n",
       "      <td>1600</td>\n",
       "    </tr>\n",
       "    <tr>\n",
       "      <th>3</th>\n",
       "      <td>69518</td>\n",
       "      <td>1</td>\n",
       "      <td>1334</td>\n",
       "      <td>0</td>\n",
       "      <td>1334</td>\n",
       "      <td>1</td>\n",
       "      <td>1939</td>\n",
       "      <td>2012</td>\n",
       "      <td>1</td>\n",
       "      <td>0</td>\n",
       "      <td>0</td>\n",
       "      <td>893</td>\n",
       "      <td>Residential</td>\n",
       "      <td>0</td>\n",
       "      <td>400</td>\n",
       "      <td>5200.029703</td>\n",
       "      <td>0</td>\n",
       "      <td>0</td>\n",
       "      <td>11585</td>\n",
       "      <td>113.297994</td>\n",
       "      <td>0</td>\n",
       "      <td>1334</td>\n",
       "    </tr>\n",
       "    <tr>\n",
       "      <th>4</th>\n",
       "      <td>69519</td>\n",
       "      <td>1</td>\n",
       "      <td>1220</td>\n",
       "      <td>0</td>\n",
       "      <td>1220</td>\n",
       "      <td>1</td>\n",
       "      <td>1939</td>\n",
       "      <td>2012</td>\n",
       "      <td>1</td>\n",
       "      <td>0</td>\n",
       "      <td>0</td>\n",
       "      <td>893</td>\n",
       "      <td>Residential</td>\n",
       "      <td>0</td>\n",
       "      <td>400</td>\n",
       "      <td>5200.144623</td>\n",
       "      <td>0</td>\n",
       "      <td>1</td>\n",
       "      <td>11585</td>\n",
       "      <td>113.297994</td>\n",
       "      <td>0</td>\n",
       "      <td>1220</td>\n",
       "    </tr>\n",
       "    <tr>\n",
       "      <th>5</th>\n",
       "      <td>69520</td>\n",
       "      <td>1</td>\n",
       "      <td>892</td>\n",
       "      <td>0</td>\n",
       "      <td>892</td>\n",
       "      <td>1</td>\n",
       "      <td>1943</td>\n",
       "      <td>2012</td>\n",
       "      <td>1</td>\n",
       "      <td>0</td>\n",
       "      <td>0</td>\n",
       "      <td>893</td>\n",
       "      <td>Residential</td>\n",
       "      <td>0</td>\n",
       "      <td>400</td>\n",
       "      <td>5200.027559</td>\n",
       "      <td>0</td>\n",
       "      <td>0</td>\n",
       "      <td>11585</td>\n",
       "      <td>113.297994</td>\n",
       "      <td>0</td>\n",
       "      <td>892</td>\n",
       "    </tr>\n",
       "  </tbody>\n",
       "</table>\n",
       "</div>"
      ],
      "text/plain": [
       "             parcel_id  residential_units  residential_sqft  \\\n",
       "building_id                                                   \n",
       "1                69516                  1               794   \n",
       "2                69517                  1              1600   \n",
       "3                69518                  1              1334   \n",
       "4                69519                  1              1220   \n",
       "5                69520                  1               892   \n",
       "\n",
       "             non_residential_sqft  building_sqft  stories  year_built  \\\n",
       "building_id                                                             \n",
       "1                               0            794        1        1939   \n",
       "2                               0           1600        1        1939   \n",
       "3                               0           1334        1        1939   \n",
       "4                               0           1220        1        1939   \n",
       "5                               0            892        1        1943   \n",
       "\n",
       "             redfin_sale_year  building_type_id  residential_price  \\\n",
       "building_id                                                          \n",
       "1                        2012                 1                  0   \n",
       "2                        2012                 1                  0   \n",
       "3                        2012                 1                  0   \n",
       "4                        2012                 1                  0   \n",
       "5                        2012                 1                  0   \n",
       "\n",
       "             non_residential_price  zone_id general_type  residential_rent  \\\n",
       "building_id                                                                  \n",
       "1                                0      893  Residential                 0   \n",
       "2                                0      893  Residential                 0   \n",
       "3                                0      893  Residential                 0   \n",
       "4                                0      893  Residential                 0   \n",
       "5                                0      893  Residential                 0   \n",
       "\n",
       "             sqft_per_job  lot_size_per_unit  vacant_job_spaces  \\\n",
       "building_id                                                       \n",
       "1                     400        5200.062320                  0   \n",
       "2                     400        5200.063760                  0   \n",
       "3                     400        5200.029703                  0   \n",
       "4                     400        5200.144623                  0   \n",
       "5                     400        5200.027559                  0   \n",
       "\n",
       "             vacant_residential_units  node_id  base_price_per_sqft  \\\n",
       "building_id                                                           \n",
       "1                                   0    11584           113.297994   \n",
       "2                                   0    11584           113.297994   \n",
       "3                                   0    11585           113.297994   \n",
       "4                                   1    11585           113.297994   \n",
       "5                                   0    11585           113.297994   \n",
       "\n",
       "             job_spaces  sqft_per_unit  \n",
       "building_id                             \n",
       "1                     0            794  \n",
       "2                     0           1600  \n",
       "3                     0           1334  \n",
       "4                     0           1220  \n",
       "5                     0            892  "
      ]
     },
     "execution_count": 36,
     "metadata": {},
     "output_type": "execute_result"
    }
   ],
   "source": [
    "orca.get_table('buildings').to_frame().head()"
   ]
  },
  {
   "cell_type": "code",
   "execution_count": 37,
   "metadata": {
    "collapsed": false
   },
   "outputs": [
    {
     "data": {
      "text/plain": [
       "Index([u'parcel_id', u'residential_units', u'residential_sqft',\n",
       "       u'non_residential_sqft', u'building_sqft', u'stories', u'year_built',\n",
       "       u'redfin_sale_year', u'building_type_id', u'residential_price',\n",
       "       u'non_residential_price', u'zone_id', u'general_type',\n",
       "       u'residential_rent', u'sqft_per_job', u'lot_size_per_unit',\n",
       "       u'vacant_job_spaces', u'vacant_residential_units', u'node_id',\n",
       "       u'base_price_per_sqft', u'job_spaces', u'sqft_per_unit'],\n",
       "      dtype='object')"
      ]
     },
     "execution_count": 37,
     "metadata": {},
     "output_type": "execute_result"
    }
   ],
   "source": [
    "orca.get_table('buildings').to_frame().columns"
   ]
  },
  {
   "cell_type": "code",
   "execution_count": 38,
   "metadata": {
    "collapsed": false
   },
   "outputs": [
    {
     "data": {
      "text/plain": [
       "['zones',\n",
       " 'buildings',\n",
       " 'residential_units',\n",
       " 'jobs',\n",
       " 'zoning_np',\n",
       " 'household_controls',\n",
       " 'craigslist',\n",
       " 'parcels_geography',\n",
       " 'development_projects',\n",
       " 'households',\n",
       " 'costar',\n",
       " 'household_extras',\n",
       " 'homesales',\n",
       " 'zoning_lookup',\n",
       " 'employment_controls',\n",
       " 'logsums',\n",
       " 'nodes',\n",
       " 'zoning_baseline',\n",
       " 'parcels']"
      ]
     },
     "execution_count": 38,
     "metadata": {},
     "output_type": "execute_result"
    }
   ],
   "source": [
    "orca.list_tables()"
   ]
  },
  {
   "cell_type": "code",
   "execution_count": 7,
   "metadata": {
    "collapsed": false
   },
   "outputs": [
    {
     "data": {
      "text/plain": [
       "Index([u'sum_residential_units', u'sum_nonresidential_units',\n",
       "       u'ave_sqft_per_unit', u'ave_lot_size_per_unit', u'population', u'poor',\n",
       "       u'blacks', u'whites', u'nonwhites', u'hispanics', u'asians', u'renters',\n",
       "       u'singles', u'two_persons', u'three_plus', u'sfdu', u'ave_hhsize',\n",
       "       u'jobs', u'jobs3k', u'ave_income', u'pct_nonwhite', u'pct_renters',\n",
       "       u'pct_hisp', u'pct_three_plus', u'poverty_rate', u'pct_singles',\n",
       "       u'pct_white', u'pct_black', u'pct_asian', u'pct_two_persons',\n",
       "       u'residential_price', u'residential_rent', u'retail', u'office',\n",
       "       u'industrial'],\n",
       "      dtype='object')"
      ]
     },
     "execution_count": 7,
     "metadata": {},
     "output_type": "execute_result"
    }
   ],
   "source": [
    "orca.get_table('nodes').to_frame().columns"
   ]
  },
  {
   "cell_type": "code",
   "execution_count": 41,
   "metadata": {
    "collapsed": false
   },
   "outputs": [],
   "source": [
    "from urbansim.maps import dframe_explorer\n",
    "d = {tbl: orca.get_table(tbl).to_frame() for tbl in ['buildings', 'jobs', 'households']}"
   ]
  },
  {
   "cell_type": "code",
   "execution_count": 42,
   "metadata": {
    "collapsed": false
   },
   "outputs": [
    {
     "ename": "Exception",
     "evalue": "Join name must be present on all dataframes - 'zone_id' not present on 'zones'",
     "output_type": "error",
     "traceback": [
      "\u001b[0;31m---------------------------------------------------------------------------\u001b[0m",
      "\u001b[0;31mException\u001b[0m                                 Traceback (most recent call last)",
      "\u001b[0;32m<ipython-input-42-c0bfaa733c89>\u001b[0m in \u001b[0;36m<module>\u001b[0;34m()\u001b[0m\n\u001b[1;32m      5\u001b[0m         \u001b[0mgeom_name\u001b[0m\u001b[0;34m=\u001b[0m\u001b[0;34m'ZONE_ID'\u001b[0m\u001b[0;34m,\u001b[0m \u001b[0;31m# from JSON file\u001b[0m\u001b[0;34m\u001b[0m\u001b[0m\n\u001b[1;32m      6\u001b[0m         \u001b[0mjoin_name\u001b[0m\u001b[0;34m=\u001b[0m\u001b[0;34m'zone_id'\u001b[0m\u001b[0;34m,\u001b[0m \u001b[0;31m# from data frames\u001b[0m\u001b[0;34m\u001b[0m\u001b[0m\n\u001b[0;32m----> 7\u001b[0;31m         precision=2)\n\u001b[0m",
      "\u001b[0;32m/Users/danqing0703/anaconda/lib/python2.7/site-packages/urbansim-3.1.dev0-py2.7.egg/urbansim/maps/dframe_explorer.pyc\u001b[0m in \u001b[0;36mstart\u001b[0;34m(views, center, zoom, shape_json, geom_name, join_name, precision, port, host, testing)\u001b[0m\n\u001b[1;32m    130\u001b[0m         \u001b[0;32mif\u001b[0m \u001b[0mjoin_name\u001b[0m \u001b[0;32mnot\u001b[0m \u001b[0;32min\u001b[0m \u001b[0mviews\u001b[0m\u001b[0;34m[\u001b[0m\u001b[0mk\u001b[0m\u001b[0;34m]\u001b[0m\u001b[0;34m.\u001b[0m\u001b[0mcolumns\u001b[0m\u001b[0;34m:\u001b[0m\u001b[0;34m\u001b[0m\u001b[0m\n\u001b[1;32m    131\u001b[0m             raise Exception(\"Join name must be present on all dataframes - \"\n\u001b[0;32m--> 132\u001b[0;31m                             \"'%s' not present on '%s'\" % (join_name, k))\n\u001b[0m\u001b[1;32m    133\u001b[0m \u001b[0;34m\u001b[0m\u001b[0m\n\u001b[1;32m    134\u001b[0m     \u001b[0mconfig\u001b[0m\u001b[0;34m[\u001b[0m\u001b[0;34m'schema'\u001b[0m\u001b[0;34m]\u001b[0m \u001b[0;34m=\u001b[0m \u001b[0msimplejson\u001b[0m\u001b[0;34m.\u001b[0m\u001b[0mdumps\u001b[0m\u001b[0;34m(\u001b[0m\u001b[0mget_schema\u001b[0m\u001b[0;34m(\u001b[0m\u001b[0;34m)\u001b[0m\u001b[0;34m)\u001b[0m\u001b[0;34m\u001b[0m\u001b[0m\n",
      "\u001b[0;31mException\u001b[0m: Join name must be present on all dataframes - 'zone_id' not present on 'zones'"
     ]
    }
   ],
   "source": [
    "dframe_explorer.start(d, \n",
    "        center=[37.7792, -122.2191],\n",
    "        zoom=11,\n",
    "        shape_json='data/zones.json',\n",
    "        geom_name='ZONE_ID', # from JSON file\n",
    "        join_name='zone_id', # from data frames\n",
    "        precision=2)\n"
   ]
  },
  {
   "cell_type": "code",
   "execution_count": 8,
   "metadata": {
    "collapsed": true
   },
   "outputs": [],
   "source": [
    "utils.hedonic_estimate??"
   ]
  },
  {
   "cell_type": "code",
   "execution_count": null,
   "metadata": {
    "collapsed": true
   },
   "outputs": [],
   "source": []
  }
 ],
 "metadata": {
  "kernelspec": {
   "display_name": "Python 2",
   "language": "python",
   "name": "python2"
  },
  "language_info": {
   "codemirror_mode": {
    "name": "ipython",
    "version": 2
   },
   "file_extension": ".py",
   "mimetype": "text/x-python",
   "name": "python",
   "nbconvert_exporter": "python",
   "pygments_lexer": "ipython2",
   "version": "2.7.11"
  }
 },
 "nbformat": 4,
 "nbformat_minor": 0
}
