{
 "cells": [
  {
   "cell_type": "code",
   "execution_count": 3,
   "metadata": {
    "collapsed": false
   },
   "outputs": [],
   "source": [
    "%load_ext autoreload\n",
    "%autoreload 2\n",
    "import os; os.chdir('..');os.chdir('..')\n",
    "import models\n",
    "import orca"
   ]
  },
  {
   "cell_type": "code",
   "execution_count": 4,
   "metadata": {
    "collapsed": true
   },
   "outputs": [],
   "source": [
    "%%capture\n",
    "orca.run([\"neighborhood_vars\"])"
   ]
  },
  {
   "cell_type": "code",
   "execution_count": 5,
   "metadata": {
    "collapsed": true
   },
   "outputs": [],
   "source": [
    "%%capture\n",
    "orca.run([\"rsh_simulate\", \"rrh_simulate\", \"nrh_simulate\"])"
   ]
  },
  {
   "cell_type": "markdown",
   "metadata": {},
   "source": [
    "# 1.run current urbansim hlcm_owner_estimate model"
   ]
  },
  {
   "cell_type": "code",
   "execution_count": 6,
   "metadata": {
    "collapsed": false
   },
   "outputs": [
    {
     "name": "stdout",
     "output_type": "stream",
     "text": [
      "Running step 'hlcm_owner_estimate'\n",
      "LCM RESULTS FOR SEGMENT 1\n",
      "\n",
      "Null Log-liklihood: -68174.939\n",
      "Log-liklihood at convergence: -65808.860\n",
      "Log-liklihood Ratio: 0.035\n",
      "\n",
      "+---------------------------------+-------------+------------+---------+\n",
      "| Component                       | Coefficient | Std. Error | T-Score |\n",
      "+---------------------------------+-------------+------------+---------+\n",
      "| np.log1p(residential_price)     |    2.251    |   0.095    |  23.756 |\n",
      "| np.log1p(sqft_per_unit)         |    1.031    |   0.047    |  21.906 |\n",
      "| np.log1p(ave_lot_size_per_unit) |    -0.121   |   0.149    |  -0.807 |\n",
      "| ave_income                      |    -1.530   |   0.053    | -28.594 |\n",
      "| np.log1p(persons * ave_hhsize)  |    3.000    |   0.022    | 135.820 |\n",
      "| np.log1p(white * pct_white)     |    3.000    |   0.009    | 337.856 |\n",
      "| np.log1p(black * pct_black)     |    3.000    |   0.011    | 263.740 |\n",
      "| np.log1p(hisp * pct_hisp)       |    3.000    |   0.007    | 412.965 |\n",
      "| np.log1p(asian * pct_asian)     |    3.000    |   0.010    | 288.871 |\n",
      "| jobs                            |    -0.041   |   0.006    |  -6.817 |\n",
      "| autoPeakTotal                   |    -1.204   |   0.066    | -18.230 |\n",
      "| transitPeakTotal                |    -0.041   |   0.005    |  -7.709 |\n",
      "| autoOffPeakRetail               |    1.104    |   0.066    |  16.730 |\n",
      "+---------------------------------+-------------+------------+---------+\n",
      "LCM RESULTS FOR SEGMENT 2\n",
      "\n",
      "Null Log-liklihood: -68262.438\n",
      "Log-liklihood at convergence: -65876.018\n",
      "Log-liklihood Ratio: 0.035\n",
      "\n",
      "+---------------------------------+-------------+------------+---------+\n",
      "| Component                       | Coefficient | Std. Error | T-Score |\n",
      "+---------------------------------+-------------+------------+---------+\n",
      "| np.log1p(residential_price)     |    1.673    |   0.090    |  18.556 |\n",
      "| np.log1p(sqft_per_unit)         |    0.741    |   0.045    |  16.390 |\n",
      "| np.log1p(ave_lot_size_per_unit) |    -0.697   |   0.146    |  -4.765 |\n",
      "| ave_income                      |    -1.085   |   0.050    | -21.633 |\n",
      "| np.log1p(persons * ave_hhsize)  |    3.000    |   0.021    | 144.011 |\n",
      "| np.log1p(white * pct_white)     |    3.000    |   0.009    | 350.975 |\n",
      "| np.log1p(black * pct_black)     |    3.000    |   0.011    | 265.008 |\n",
      "| np.log1p(hisp * pct_hisp)       |    3.000    |   0.007    | 429.850 |\n",
      "| np.log1p(asian * pct_asian)     |    3.000    |   0.010    | 300.960 |\n",
      "| jobs                            |    -0.050   |   0.006    |  -8.431 |\n",
      "| autoPeakTotal                   |    -1.191   |   0.063    | -18.844 |\n",
      "| transitPeakTotal                |    -0.044   |   0.005    |  -8.460 |\n",
      "| autoOffPeakRetail               |    1.065    |   0.063    |  16.792 |\n",
      "+---------------------------------+-------------+------------+---------+\n",
      "LCM RESULTS FOR SEGMENT 3\n",
      "\n",
      "Null Log-liklihood: -68239.412\n",
      "Log-liklihood at convergence: -65862.351\n",
      "Log-liklihood Ratio: 0.035\n",
      "\n",
      "+---------------------------------+-------------+------------+---------+\n",
      "| Component                       | Coefficient | Std. Error | T-Score |\n",
      "+---------------------------------+-------------+------------+---------+\n",
      "| np.log1p(residential_price)     |    0.407    |   0.094    |  4.327  |\n",
      "| np.log1p(sqft_per_unit)         |    0.202    |   0.047    |  4.251  |\n",
      "| np.log1p(ave_lot_size_per_unit) |    -0.493   |   0.151    |  -3.272 |\n",
      "| ave_income                      |    0.091    |   0.054    |  1.673  |\n",
      "| np.log1p(persons * ave_hhsize)  |    3.000    |   0.021    | 142.405 |\n",
      "| np.log1p(white * pct_white)     |    3.000    |   0.009    | 344.754 |\n",
      "| np.log1p(black * pct_black)     |    3.000    |   0.012    | 251.137 |\n",
      "| np.log1p(hisp * pct_hisp)       |    3.000    |   0.007    | 409.208 |\n",
      "| np.log1p(asian * pct_asian)     |    3.000    |   0.010    | 301.773 |\n",
      "| jobs                            |    -0.040   |   0.006    |  -7.051 |\n",
      "| autoPeakTotal                   |    -0.647   |   0.063    | -10.229 |\n",
      "| transitPeakTotal                |    -0.043   |   0.005    |  -8.163 |\n",
      "| autoOffPeakRetail               |    0.587    |   0.064    |  9.153  |\n",
      "+---------------------------------+-------------+------------+---------+\n",
      "LCM RESULTS FOR SEGMENT 4\n",
      "\n",
      "Null Log-liklihood: -68372.962\n",
      "Log-liklihood at convergence: -64220.863\n",
      "Log-liklihood Ratio: 0.061\n",
      "\n",
      "+---------------------------------+-------------+------------+---------+\n",
      "| Component                       | Coefficient | Std. Error | T-Score |\n",
      "+---------------------------------+-------------+------------+---------+\n",
      "| np.log1p(residential_price)     |    0.701    |   0.093    |  7.535  |\n",
      "| np.log1p(sqft_per_unit)         |    0.352    |   0.047    |  7.488  |\n",
      "| np.log1p(ave_lot_size_per_unit) |    0.031    |   0.146    |  0.208  |\n",
      "| ave_income                      |    1.369    |   0.054    |  25.461 |\n",
      "| np.log1p(persons * ave_hhsize)  |    1.864    |   0.022    |  83.451 |\n",
      "| np.log1p(white * pct_white)     |    3.000    |   0.011    | 281.683 |\n",
      "| np.log1p(black * pct_black)     |    3.000    |   0.015    | 205.908 |\n",
      "| np.log1p(hisp * pct_hisp)       |    3.000    |   0.009    | 328.141 |\n",
      "| np.log1p(asian * pct_asian)     |    3.000    |   0.012    | 260.490 |\n",
      "| jobs                            |    -0.007   |   0.005    |  -1.370 |\n",
      "| autoPeakTotal                   |    -0.392   |   0.064    |  -6.152 |\n",
      "| transitPeakTotal                |    -0.038   |   0.005    |  -7.718 |\n",
      "| autoOffPeakRetail               |    0.340    |   0.065    |  5.200  |\n",
      "+---------------------------------+-------------+------------+---------+\n",
      "Time to execute step 'hlcm_owner_estimate': 60.63 s\n",
      "Total time to execute iteration 1 with iteration value None: 60.63 s\n"
     ]
    }
   ],
   "source": [
    "orca.run([\"hlcm_owner_estimate\"])"
   ]
  },
  {
   "cell_type": "code",
   "execution_count": 8,
   "metadata": {
    "collapsed": true
   },
   "outputs": [],
   "source": [
    "from urbansim.utils import misc\n",
    "from urbansim import accounts\n",
    "from urbansim.developer import sqftproforma\n",
    "from urbansim_defaults import models\n",
    "from urbansim_defaults import utils"
   ]
  },
  {
   "cell_type": "markdown",
   "metadata": {},
   "source": [
    "# 2.run current urbansim hlcm_owner_estimate model\n",
    "delete np.log1p(ave_lot_size_per_unit) and ave_income "
   ]
  },
  {
   "cell_type": "code",
   "execution_count": 10,
   "metadata": {
    "collapsed": false
   },
   "outputs": [
    {
     "name": "stdout",
     "output_type": "stream",
     "text": [
      "Running step 'hlcm_owner_estimate_NEW7'\n",
      "LCM RESULTS FOR SEGMENT 1\n",
      "\n",
      "Null Log-liklihood: -68161.124\n",
      "Log-liklihood at convergence: -66171.303\n",
      "Log-liklihood Ratio: 0.029\n",
      "\n",
      "+--------------------------------+-------------+------------+---------+\n",
      "| Component                      | Coefficient | Std. Error | T-Score |\n",
      "+--------------------------------+-------------+------------+---------+\n",
      "| np.log1p(residential_price)    |    0.183    |   0.025    |  7.354  |\n",
      "| np.log1p(sqft_per_unit)        |    0.011    |   0.014    |  0.763  |\n",
      "| np.log1p(persons * ave_hhsize) |    2.454    |   0.022    | 113.454 |\n",
      "| np.log1p(white * pct_white)    |    3.000    |   0.009    | 333.819 |\n",
      "| np.log1p(black * pct_black)    |    3.000    |   0.012    | 260.846 |\n",
      "| np.log1p(hisp * pct_hisp)      |    3.000    |   0.007    | 413.755 |\n",
      "| np.log1p(asian * pct_asian)    |    3.000    |   0.010    | 288.418 |\n",
      "| jobs                           |    -0.014   |   0.006    |  -2.424 |\n",
      "| autoPeakTotal                  |    -0.506   |   0.054    |  -9.340 |\n",
      "| transitPeakTotal               |    0.014    |   0.005    |  2.808  |\n",
      "| autoOffPeakRetail              |    0.339    |   0.057    |  5.967  |\n",
      "+--------------------------------+-------------+------------+---------+\n",
      "LCM RESULTS FOR SEGMENT 2\n",
      "\n",
      "Null Log-liklihood: -68174.939\n",
      "Log-liklihood at convergence: -66022.963\n",
      "Log-liklihood Ratio: 0.032\n",
      "\n",
      "+--------------------------------+-------------+------------+---------+\n",
      "| Component                      | Coefficient | Std. Error | T-Score |\n",
      "+--------------------------------+-------------+------------+---------+\n",
      "| np.log1p(residential_price)    |    0.224    |   0.025    |  8.830  |\n",
      "| np.log1p(sqft_per_unit)        |    0.021    |   0.014    |  1.499  |\n",
      "| np.log1p(persons * ave_hhsize) |    2.532    |   0.020    | 126.368 |\n",
      "| np.log1p(white * pct_white)    |    3.000    |   0.009    | 338.752 |\n",
      "| np.log1p(black * pct_black)    |    3.000    |   0.012    | 256.988 |\n",
      "| np.log1p(hisp * pct_hisp)      |    3.000    |   0.007    | 428.890 |\n",
      "| np.log1p(asian * pct_asian)    |    3.000    |   0.010    | 293.066 |\n",
      "| jobs                           |    -0.012   |   0.006    |  -2.016 |\n",
      "| autoPeakTotal                  |    -0.720   |   0.052    | -13.800 |\n",
      "| transitPeakTotal               |    -0.004   |   0.005    |  -0.815 |\n",
      "| autoOffPeakRetail              |    0.574    |   0.055    |  10.521 |\n",
      "+--------------------------------+-------------+------------+---------+\n",
      "LCM RESULTS FOR SEGMENT 3\n",
      "\n",
      "Null Log-liklihood: -68414.408\n",
      "Log-liklihood at convergence: -66045.322\n",
      "Log-liklihood Ratio: 0.035\n",
      "\n",
      "+--------------------------------+-------------+------------+---------+\n",
      "| Component                      | Coefficient | Std. Error | T-Score |\n",
      "+--------------------------------+-------------+------------+---------+\n",
      "| np.log1p(residential_price)    |    0.570    |   0.026    |  21.723 |\n",
      "| np.log1p(sqft_per_unit)        |    0.255    |   0.014    |  17.569 |\n",
      "| np.log1p(persons * ave_hhsize) |    3.000    |   0.020    | 147.417 |\n",
      "| np.log1p(white * pct_white)    |    3.000    |   0.009    | 351.036 |\n",
      "| np.log1p(black * pct_black)    |    3.000    |   0.012    | 256.733 |\n",
      "| np.log1p(hisp * pct_hisp)      |    3.000    |   0.007    | 417.098 |\n",
      "| np.log1p(asian * pct_asian)    |    3.000    |   0.010    | 309.657 |\n",
      "| jobs                           |    -0.030   |   0.006    |  -5.408 |\n",
      "| autoPeakTotal                  |    -0.697   |   0.052    | -13.489 |\n",
      "| transitPeakTotal               |    -0.030   |   0.005    |  -6.499 |\n",
      "| autoOffPeakRetail              |    0.603    |   0.054    |  11.137 |\n",
      "+--------------------------------+-------------+------------+---------+\n",
      "LCM RESULTS FOR SEGMENT 4\n",
      "\n",
      "Null Log-liklihood: -68225.596\n",
      "Log-liklihood at convergence: -64471.611\n",
      "Log-liklihood Ratio: 0.055\n",
      "\n",
      "+--------------------------------+-------------+------------+---------+\n",
      "| Component                      | Coefficient | Std. Error | T-Score |\n",
      "+--------------------------------+-------------+------------+---------+\n",
      "| np.log1p(residential_price)    |    2.491    |   0.026    |  94.536 |\n",
      "| np.log1p(sqft_per_unit)        |    1.238    |   0.015    |  84.248 |\n",
      "| np.log1p(persons * ave_hhsize) |    3.000    |   0.022    | 137.721 |\n",
      "| np.log1p(white * pct_white)    |    3.000    |   0.011    | 282.202 |\n",
      "| np.log1p(black * pct_black)    |    3.000    |   0.014    | 207.457 |\n",
      "| np.log1p(hisp * pct_hisp)      |    3.000    |   0.009    | 332.349 |\n",
      "| np.log1p(asian * pct_asian)    |    3.000    |   0.012    | 259.554 |\n",
      "| jobs                           |    -0.022   |   0.005    |  -4.318 |\n",
      "| autoPeakTotal                  |    -0.927   |   0.055    | -16.815 |\n",
      "| transitPeakTotal               |    -0.074   |   0.004    | -16.656 |\n",
      "| autoOffPeakRetail              |    0.872    |   0.059    |  14.687 |\n",
      "+--------------------------------+-------------+------------+---------+\n",
      "Time to execute step 'hlcm_owner_estimate_NEW7': 41.66 s\n",
      "Total time to execute iteration 1 with iteration value None: 41.66 s\n"
     ]
    }
   ],
   "source": [
    "@orca.step(\"hlcm_owner_estimate_NEW7\")\n",
    "def hlcm_owner_estimate_NEW(households, residential_units, unit_aggregations):\n",
    "    return utils.lcm_estimate(\"hlcm_owner_NEW7.yaml\", households, \"unit_id\",\n",
    "                              residential_units, unit_aggregations)\n",
    "\n",
    "orca.run([\"hlcm_owner_estimate_NEW7\"])"
   ]
  },
  {
   "cell_type": "markdown",
   "metadata": {},
   "source": [
    "# 3.run model with endogenous only one explanatory variable and one exdogenous explanatory variable"
   ]
  },
  {
   "cell_type": "code",
   "execution_count": 12,
   "metadata": {
    "collapsed": false
   },
   "outputs": [
    {
     "name": "stdout",
     "output_type": "stream",
     "text": [
      "Running step 'hlcm_owner_estimate_NEW1'\n",
      "LCM RESULTS FOR SEGMENT 1\n",
      "\n",
      "Null Log-liklihood: -68216.386\n",
      "Log-liklihood at convergence: -68067.137\n",
      "Log-liklihood Ratio: 0.002\n",
      "\n",
      "+-----------------------------+-------------+------------+---------+\n",
      "| Component                   | Coefficient | Std. Error | T-Score |\n",
      "+-----------------------------+-------------+------------+---------+\n",
      "| np.log1p(residential_price) |    -0.616   |   0.013    | -45.650 |\n",
      "| np.log1p(sqft_per_unit)     |    -0.255   |   0.011    | -22.856 |\n",
      "+-----------------------------+-------------+------------+---------+\n",
      "LCM RESULTS FOR SEGMENT 2\n",
      "\n",
      "Null Log-liklihood: -68225.596\n",
      "Log-liklihood at convergence: -67960.115\n",
      "Log-liklihood Ratio: 0.004\n",
      "\n",
      "+-----------------------------+-------------+------------+---------+\n",
      "| Component                   | Coefficient | Std. Error | T-Score |\n",
      "+-----------------------------+-------------+------------+---------+\n",
      "| np.log1p(residential_price) |    -0.808   |   0.013    | -60.545 |\n",
      "| np.log1p(sqft_per_unit)     |    -0.264   |   0.011    | -24.071 |\n",
      "+-----------------------------+-------------+------------+---------+\n",
      "LCM RESULTS FOR SEGMENT 3\n",
      "\n",
      "Null Log-liklihood: -68363.751\n",
      "Log-liklihood at convergence: -68139.595\n",
      "Log-liklihood Ratio: 0.003\n",
      "\n",
      "+-----------------------------+-------------+------------+---------+\n",
      "| Component                   | Coefficient | Std. Error | T-Score |\n",
      "+-----------------------------+-------------+------------+---------+\n",
      "| np.log1p(residential_price) |    -0.552   |   0.013    | -40.958 |\n",
      "| np.log1p(sqft_per_unit)     |    0.014    |   0.011    |  1.243  |\n",
      "+-----------------------------+-------------+------------+---------+\n",
      "LCM RESULTS FOR SEGMENT 4\n",
      "\n",
      "Null Log-liklihood: -68271.648\n",
      "Log-liklihood at convergence: -66915.305\n",
      "Log-liklihood Ratio: 0.020\n",
      "\n",
      "+-----------------------------+-------------+------------+---------+\n",
      "| Component                   | Coefficient | Std. Error | T-Score |\n",
      "+-----------------------------+-------------+------------+---------+\n",
      "| np.log1p(residential_price) |    1.482    |   0.013    | 113.517 |\n",
      "| np.log1p(sqft_per_unit)     |    1.087    |   0.011    | 101.829 |\n",
      "+-----------------------------+-------------+------------+---------+\n",
      "Time to execute step 'hlcm_owner_estimate_NEW1': 24.00 s\n",
      "Total time to execute iteration 1 with iteration value None: 24.00 s\n"
     ]
    }
   ],
   "source": [
    "@orca.step(\"hlcm_owner_estimate_NEW1\")\n",
    "def hlcm_owner_estimate_NEW(households, residential_units, unit_aggregations):\n",
    "    return utils.lcm_estimate(\"hlcm_owner_NEW1.yaml\", households, \"unit_id\",\n",
    "                              residential_units, unit_aggregations)\n",
    "\n",
    "orca.run([\"hlcm_owner_estimate_NEW1\"])"
   ]
  },
  {
   "cell_type": "markdown",
   "metadata": {},
   "source": [
    "## 4.run current urbansim hlcm_owner_estimate model\n",
    "delete more variables"
   ]
  },
  {
   "cell_type": "code",
   "execution_count": 25,
   "metadata": {
    "collapsed": false
   },
   "outputs": [
    {
     "name": "stdout",
     "output_type": "stream",
     "text": [
      "Running step 'hlcm_owner_estimate_NEW8'\n",
      "LCM RESULTS FOR SEGMENT 1\n",
      "\n",
      "Null Log-liklihood: -68119.677\n",
      "Log-liklihood at convergence: -66197.994\n",
      "Log-liklihood Ratio: 0.028\n",
      "\n",
      "+--------------------------------+-------------+------------+---------+\n",
      "| Component                      | Coefficient | Std. Error | T-Score |\n",
      "+--------------------------------+-------------+------------+---------+\n",
      "| np.log1p(persons * ave_hhsize) |    2.476    |   0.021    | 116.698 |\n",
      "| np.log1p(white * pct_white)    |    3.000    |   0.008    | 356.831 |\n",
      "| np.log1p(black * pct_black)    |    3.000    |   0.011    | 269.725 |\n",
      "| np.log1p(hisp * pct_hisp)      |    3.000    |   0.007    | 420.513 |\n",
      "| np.log1p(asian * pct_asian)    |    3.000    |   0.010    | 295.834 |\n",
      "| jobs                           |    -0.009   |   0.006    |  -1.574 |\n",
      "| autoPeakTotal                  |    -0.365   |   0.043    |  -8.401 |\n",
      "| transitPeakTotal               |    0.012    |   0.004    |  3.053  |\n",
      "| autoOffPeakRetail              |    0.236    |   0.053    |  4.483  |\n",
      "+--------------------------------+-------------+------------+---------+\n",
      "LCM RESULTS FOR SEGMENT 2\n",
      "\n",
      "Null Log-liklihood: -68184.150\n",
      "Log-liklihood at convergence: -66043.003\n",
      "Log-liklihood Ratio: 0.031\n",
      "\n",
      "+--------------------------------+-------------+------------+---------+\n",
      "| Component                      | Coefficient | Std. Error | T-Score |\n",
      "+--------------------------------+-------------+------------+---------+\n",
      "| np.log1p(persons * ave_hhsize) |    2.435    |   0.020    | 123.161 |\n",
      "| np.log1p(white * pct_white)    |    3.000    |   0.008    | 360.096 |\n",
      "| np.log1p(black * pct_black)    |    3.000    |   0.011    | 269.663 |\n",
      "| np.log1p(hisp * pct_hisp)      |    3.000    |   0.007    | 419.397 |\n",
      "| np.log1p(asian * pct_asian)    |    3.000    |   0.010    | 300.394 |\n",
      "| jobs                           |    -0.017   |   0.006    |  -2.908 |\n",
      "| autoPeakTotal                  |    -0.588   |   0.043    | -13.691 |\n",
      "| transitPeakTotal               |    0.004    |   0.004    |  1.180  |\n",
      "| autoOffPeakRetail              |    0.455    |   0.052    |  8.743  |\n",
      "+--------------------------------+-------------+------------+---------+\n",
      "LCM RESULTS FOR SEGMENT 3\n",
      "\n",
      "Null Log-liklihood: -68285.464\n",
      "Log-liklihood at convergence: -65944.515\n",
      "Log-liklihood Ratio: 0.034\n",
      "\n",
      "+--------------------------------+-------------+------------+---------+\n",
      "| Component                      | Coefficient | Std. Error | T-Score |\n",
      "+--------------------------------+-------------+------------+---------+\n",
      "| np.log1p(persons * ave_hhsize) |    2.816    |   0.020    | 140.587 |\n",
      "| np.log1p(white * pct_white)    |    3.000    |   0.008    | 363.616 |\n",
      "| np.log1p(black * pct_black)    |    3.000    |   0.012    | 259.511 |\n",
      "| np.log1p(hisp * pct_hisp)      |    3.000    |   0.007    | 410.555 |\n",
      "| np.log1p(asian * pct_asian)    |    3.000    |   0.010    | 309.811 |\n",
      "| jobs                           |    -0.039   |   0.006    |  -7.146 |\n",
      "| autoPeakTotal                  |    -0.418   |   0.043    |  -9.810 |\n",
      "| transitPeakTotal               |    -0.046   |   0.004    | -12.402 |\n",
      "| autoOffPeakRetail              |    0.372    |   0.052    |  7.207  |\n",
      "+--------------------------------+-------------+------------+---------+\n",
      "LCM RESULTS FOR SEGMENT 4\n",
      "\n",
      "Null Log-liklihood: -68248.622\n",
      "Log-liklihood at convergence: -65653.644\n",
      "Log-liklihood Ratio: 0.038\n",
      "\n",
      "+--------------------------------+-------------+------------+---------+\n",
      "| Component                      | Coefficient | Std. Error | T-Score |\n",
      "+--------------------------------+-------------+------------+---------+\n",
      "| np.log1p(persons * ave_hhsize) |    1.061    |   0.021    |  49.707 |\n",
      "| np.log1p(white * pct_white)    |    3.000    |   0.010    | 298.882 |\n",
      "| np.log1p(black * pct_black)    |    3.000    |   0.014    | 210.836 |\n",
      "| np.log1p(hisp * pct_hisp)      |    2.239    |   0.009    | 257.793 |\n",
      "| np.log1p(asian * pct_asian)    |    3.000    |   0.011    | 268.151 |\n",
      "| jobs                           |    -0.087   |   0.005    | -16.797 |\n",
      "| autoPeakTotal                  |    0.606    |   0.047    |  12.913 |\n",
      "| transitPeakTotal               |    -0.152   |   0.004    | -41.769 |\n",
      "| autoOffPeakRetail              |    -0.326   |   0.057    |  -5.702 |\n",
      "+--------------------------------+-------------+------------+---------+\n",
      "Time to execute step 'hlcm_owner_estimate_NEW8': 44.67 s\n",
      "Total time to execute iteration 1 with iteration value None: 44.67 s\n"
     ]
    }
   ],
   "source": [
    "@orca.step(\"hlcm_owner_estimate_NEW8\")\n",
    "def hlcm_owner_estimate_NEW(households, residential_units, unit_aggregations):\n",
    "    return utils.lcm_estimate(\"hlcm_owner_NEW8.yaml\", households, \"unit_id\",\n",
    "                              residential_units, unit_aggregations)\n",
    "\n",
    "orca.run([\"hlcm_owner_estimate_NEW8\"])"
   ]
  },
  {
   "cell_type": "markdown",
   "metadata": {},
   "source": [
    "## 5.run current urbansim hlcm_owner_estimate model\n",
    "delete more variables, but fewer variables than model 8"
   ]
  },
  {
   "cell_type": "code",
   "execution_count": 26,
   "metadata": {
    "collapsed": false
   },
   "outputs": [
    {
     "name": "stdout",
     "output_type": "stream",
     "text": [
      "Running step 'hlcm_owner_estimate_NEW9'\n",
      "LCM RESULTS FOR SEGMENT 1\n",
      "\n",
      "Null Log-liklihood: -68087.441\n",
      "Log-liklihood at convergence: -66088.979\n",
      "Log-liklihood Ratio: 0.029\n",
      "\n",
      "+--------------------------------+-------------+------------+---------+\n",
      "| Component                      | Coefficient | Std. Error | T-Score |\n",
      "+--------------------------------+-------------+------------+---------+\n",
      "| np.log1p(residential_price)    |    0.151    |   0.026    |  5.899  |\n",
      "| np.log1p(persons * ave_hhsize) |    2.534    |   0.021    | 118.467 |\n",
      "| np.log1p(white * pct_white)    |    3.000    |   0.009    | 346.713 |\n",
      "| np.log1p(black * pct_black)    |    3.000    |   0.011    | 270.559 |\n",
      "| np.log1p(hisp * pct_hisp)      |    3.000    |   0.007    | 421.128 |\n",
      "| np.log1p(asian * pct_asian)    |    3.000    |   0.010    | 291.091 |\n",
      "| jobs                           |    -0.015   |   0.006    |  -2.587 |\n",
      "| autoPeakTotal                  |    -0.502   |   0.052    |  -9.656 |\n",
      "| transitPeakTotal               |    0.007    |   0.004    |  1.547  |\n",
      "| autoOffPeakRetail              |    0.413    |   0.057    |  7.302  |\n",
      "+--------------------------------+-------------+------------+---------+\n",
      "LCM RESULTS FOR SEGMENT 2\n",
      "\n",
      "Null Log-liklihood: -68253.227\n",
      "Log-liklihood at convergence: -66116.199\n",
      "Log-liklihood Ratio: 0.031\n",
      "\n",
      "+--------------------------------+-------------+------------+---------+\n",
      "| Component                      | Coefficient | Std. Error | T-Score |\n",
      "+--------------------------------+-------------+------------+---------+\n",
      "| np.log1p(residential_price)    |    0.175    |   0.025    |  6.958  |\n",
      "| np.log1p(persons * ave_hhsize) |    2.687    |   0.020    | 136.524 |\n",
      "| np.log1p(white * pct_white)    |    3.000    |   0.008    | 353.294 |\n",
      "| np.log1p(black * pct_black)    |    3.000    |   0.011    | 263.034 |\n",
      "| np.log1p(hisp * pct_hisp)      |    3.000    |   0.007    | 422.176 |\n",
      "| np.log1p(asian * pct_asian)    |    3.000    |   0.010    | 301.208 |\n",
      "| jobs                           |    -0.017   |   0.006    |  -2.909 |\n",
      "| autoPeakTotal                  |    -0.674   |   0.050    | -13.479 |\n",
      "| transitPeakTotal               |    0.004    |   0.004    |  1.015  |\n",
      "| autoOffPeakRetail              |    0.521    |   0.054    |  9.687  |\n",
      "+--------------------------------+-------------+------------+---------+\n",
      "LCM RESULTS FOR SEGMENT 3\n",
      "\n",
      "Null Log-liklihood: -68267.043\n",
      "Log-liklihood at convergence: -65919.056\n",
      "Log-liklihood Ratio: 0.034\n",
      "\n",
      "+--------------------------------+-------------+------------+---------+\n",
      "| Component                      | Coefficient | Std. Error | T-Score |\n",
      "+--------------------------------+-------------+------------+---------+\n",
      "| np.log1p(residential_price)    |    0.172    |   0.026    |  6.546  |\n",
      "| np.log1p(persons * ave_hhsize) |    2.802    |   0.020    | 139.115 |\n",
      "| np.log1p(white * pct_white)    |    3.000    |   0.008    | 357.762 |\n",
      "| np.log1p(black * pct_black)    |    3.000    |   0.012    | 257.694 |\n",
      "| np.log1p(hisp * pct_hisp)      |    3.000    |   0.007    | 419.223 |\n",
      "| np.log1p(asian * pct_asian)    |    3.000    |   0.010    | 311.820 |\n",
      "| jobs                           |    -0.030   |   0.006    |  -5.318 |\n",
      "| autoPeakTotal                  |    -0.506   |   0.050    | -10.070 |\n",
      "| transitPeakTotal               |    -0.059   |   0.004    | -14.356 |\n",
      "| autoOffPeakRetail              |    0.479    |   0.055    |  8.765  |\n",
      "+--------------------------------+-------------+------------+---------+\n",
      "LCM RESULTS FOR SEGMENT 4\n",
      "\n",
      "Null Log-liklihood: -68234.807\n",
      "Log-liklihood at convergence: -65527.193\n",
      "Log-liklihood Ratio: 0.040\n",
      "\n",
      "+--------------------------------+-------------+------------+---------+\n",
      "| Component                      | Coefficient | Std. Error | T-Score |\n",
      "+--------------------------------+-------------+------------+---------+\n",
      "| np.log1p(residential_price)    |    0.690    |   0.026    |  26.028 |\n",
      "| np.log1p(persons * ave_hhsize) |    1.471    |   0.022    |  67.946 |\n",
      "| np.log1p(white * pct_white)    |    3.000    |   0.011    | 279.823 |\n",
      "| np.log1p(black * pct_black)    |    3.000    |   0.015    | 204.451 |\n",
      "| np.log1p(hisp * pct_hisp)      |    2.509    |   0.009    | 283.181 |\n",
      "| np.log1p(asian * pct_asian)    |    3.000    |   0.012    | 255.875 |\n",
      "| jobs                           |    -0.083   |   0.005    | -16.208 |\n",
      "| autoPeakTotal                  |    0.238    |   0.053    |  4.480  |\n",
      "| transitPeakTotal               |    -0.149   |   0.004    | -38.343 |\n",
      "| autoOffPeakRetail              |    -0.046   |   0.058    |  -0.791 |\n",
      "+--------------------------------+-------------+------------+---------+\n",
      "Time to execute step 'hlcm_owner_estimate_NEW9': 40.26 s\n",
      "Total time to execute iteration 1 with iteration value None: 40.26 s\n"
     ]
    }
   ],
   "source": [
    "@orca.step(\"hlcm_owner_estimate_NEW9\")\n",
    "def hlcm_owner_estimate_NEW(households, residential_units, unit_aggregations):\n",
    "    return utils.lcm_estimate(\"hlcm_owner_NEW9.yaml\", households, \"unit_id\",\n",
    "                              residential_units, unit_aggregations)\n",
    "\n",
    "orca.run([\"hlcm_owner_estimate_NEW9\"])"
   ]
  },
  {
   "cell_type": "markdown",
   "metadata": {},
   "source": [
    "## 6.go over income_quartile"
   ]
  },
  {
   "cell_type": "code",
   "execution_count": 24,
   "metadata": {
    "collapsed": false
   },
   "outputs": [
    {
     "name": "stdout",
     "output_type": "stream",
     "text": [
      "count    2732722.000000\n",
      "mean           2.496489\n",
      "std            1.115588\n",
      "min            1.000000\n",
      "25%            1.000000\n",
      "50%            2.000000\n",
      "75%            3.000000\n",
      "max            4.000000\n",
      "Name: income_quartile, dtype: float64\n",
      "[1 4 3 2]\n"
     ]
    },
    {
     "data": {
      "text/plain": [
       "1    683902\n",
       "2    683163\n",
       "3    690646\n",
       "4    675011\n",
       "dtype: int64"
      ]
     },
     "execution_count": 24,
     "metadata": {},
     "output_type": "execute_result"
    }
   ],
   "source": [
    "hh=orca.get_table('households').to_frame()\n",
    "print hh['income_quartile'].describe()\n",
    "print hh['income_quartile'].unique()\n",
    "import pandas as pd\n",
    "pd.value_counts(hh['income_quartile'].values, sort=False)"
   ]
  },
  {
   "cell_type": "code",
   "execution_count": null,
   "metadata": {
    "collapsed": true
   },
   "outputs": [],
   "source": []
  }
 ],
 "metadata": {
  "kernelspec": {
   "display_name": "Python 2",
   "language": "python",
   "name": "python2"
  },
  "language_info": {
   "codemirror_mode": {
    "name": "ipython",
    "version": 2
   },
   "file_extension": ".py",
   "mimetype": "text/x-python",
   "name": "python",
   "nbconvert_exporter": "python",
   "pygments_lexer": "ipython2",
   "version": "2.7.11"
  }
 },
 "nbformat": 4,
 "nbformat_minor": 0
}
