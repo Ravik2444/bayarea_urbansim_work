{
 "cells": [
  {
   "cell_type": "markdown",
   "metadata": {
    "collapsed": true
   },
   "source": [
    "## Rental hedonics estimation\n",
    "\n",
    "Sam Maurer, August 2015"
   ]
  },
  {
   "cell_type": "code",
   "execution_count": 1,
   "metadata": {
    "collapsed": false
   },
   "outputs": [],
   "source": [
    "%load_ext autoreload\n",
    "%autoreload 2\n",
    "if 'sim' not in globals():\n",
    "    import os; os.chdir('..')\n",
    "import models\n",
    "import orca\n",
    "import pandas as pd\n",
    "pd.set_option('display.max_columns', 500)"
   ]
  },
  {
   "cell_type": "markdown",
   "metadata": {},
   "source": [
    "### 1. Look at the Craigslist data"
   ]
  },
  {
   "cell_type": "code",
   "execution_count": 2,
   "metadata": {
    "collapsed": false
   },
   "outputs": [
    {
     "name": "stdout",
     "output_type": "stream",
     "text": [
      "Filling column _node_id with value 91839.0 (4 values)\n",
      "Filling column shape_area with value 604.350724409 (0 values)\n",
      "Filling column zone_id with value 1178 (0 values)\n"
     ]
    },
    {
     "data": {
      "text/html": [
       "<div>\n",
       "<table border=\"1\" class=\"dataframe\">\n",
       "  <thead>\n",
       "    <tr style=\"text-align: right;\">\n",
       "      <th></th>\n",
       "      <th>neighborhood</th>\n",
       "      <th>price</th>\n",
       "      <th>bedrooms</th>\n",
       "      <th>date</th>\n",
       "      <th>sqft_per_unit</th>\n",
       "      <th>longitude</th>\n",
       "      <th>latitude</th>\n",
       "      <th>price_sqft</th>\n",
       "      <th>node_id</th>\n",
       "      <th>zone_id</th>\n",
       "    </tr>\n",
       "  </thead>\n",
       "  <tbody>\n",
       "    <tr>\n",
       "      <th>1</th>\n",
       "      <td>sunnyvale</td>\n",
       "      <td>2650</td>\n",
       "      <td>2</td>\n",
       "      <td>2014-05-11</td>\n",
       "      <td>1040</td>\n",
       "      <td>-122.008131</td>\n",
       "      <td>37.353699</td>\n",
       "      <td>2.548077</td>\n",
       "      <td>143129</td>\n",
       "      <td>960</td>\n",
       "    </tr>\n",
       "    <tr>\n",
       "      <th>2</th>\n",
       "      <td>glen park</td>\n",
       "      <td>3100</td>\n",
       "      <td>2</td>\n",
       "      <td>2014-05-11</td>\n",
       "      <td>1000</td>\n",
       "      <td>-122.439743</td>\n",
       "      <td>37.731584</td>\n",
       "      <td>3.100000</td>\n",
       "      <td>125905</td>\n",
       "      <td>1031</td>\n",
       "    </tr>\n",
       "    <tr>\n",
       "      <th>3</th>\n",
       "      <td>redwood city</td>\n",
       "      <td>1850</td>\n",
       "      <td>1</td>\n",
       "      <td>2014-05-11</td>\n",
       "      <td>792</td>\n",
       "      <td>-122.234294</td>\n",
       "      <td>37.491715</td>\n",
       "      <td>2.335859</td>\n",
       "      <td>143879</td>\n",
       "      <td>963</td>\n",
       "    </tr>\n",
       "    <tr>\n",
       "      <th>4</th>\n",
       "      <td>walnut creek</td>\n",
       "      <td>1325</td>\n",
       "      <td>1</td>\n",
       "      <td>2014-05-11</td>\n",
       "      <td>642</td>\n",
       "      <td>-122.087751</td>\n",
       "      <td>37.923448</td>\n",
       "      <td>2.063863</td>\n",
       "      <td>70923</td>\n",
       "      <td>888</td>\n",
       "    </tr>\n",
       "  </tbody>\n",
       "</table>\n",
       "</div>"
      ],
      "text/plain": [
       "   neighborhood  price  bedrooms        date  sqft_per_unit   longitude  \\\n",
       "1     sunnyvale   2650         2  2014-05-11           1040 -122.008131   \n",
       "2     glen park   3100         2  2014-05-11           1000 -122.439743   \n",
       "3  redwood city   1850         1  2014-05-11            792 -122.234294   \n",
       "4  walnut creek   1325         1  2014-05-11            642 -122.087751   \n",
       "\n",
       "    latitude  price_sqft  node_id  zone_id  \n",
       "1  37.353699    2.548077   143129      960  \n",
       "2  37.731584    3.100000   125905     1031  \n",
       "3  37.491715    2.335859   143879      963  \n",
       "4  37.923448    2.063863    70923      888  "
      ]
     },
     "execution_count": 2,
     "metadata": {},
     "output_type": "execute_result"
    }
   ],
   "source": [
    "cl = orca.get_table('craigslist').to_frame()\n",
    "cl[1:5]"
   ]
  },
  {
   "cell_type": "code",
   "execution_count": 3,
   "metadata": {
    "collapsed": false
   },
   "outputs": [
    {
     "data": {
      "text/html": [
       "<div>\n",
       "<table border=\"1\" class=\"dataframe\">\n",
       "  <thead>\n",
       "    <tr style=\"text-align: right;\">\n",
       "      <th></th>\n",
       "      <th>price</th>\n",
       "      <th>bedrooms</th>\n",
       "      <th>sqft_per_unit</th>\n",
       "      <th>longitude</th>\n",
       "      <th>latitude</th>\n",
       "      <th>price_sqft</th>\n",
       "      <th>node_id</th>\n",
       "      <th>zone_id</th>\n",
       "    </tr>\n",
       "  </thead>\n",
       "  <tbody>\n",
       "    <tr>\n",
       "      <th>count</th>\n",
       "      <td>73644.000000</td>\n",
       "      <td>73644.000000</td>\n",
       "      <td>73644.00000</td>\n",
       "      <td>73644.000000</td>\n",
       "      <td>73644.000000</td>\n",
       "      <td>73644.000000</td>\n",
       "      <td>73644.000000</td>\n",
       "      <td>73569.000000</td>\n",
       "    </tr>\n",
       "    <tr>\n",
       "      <th>mean</th>\n",
       "      <td>3806.642944</td>\n",
       "      <td>1.858305</td>\n",
       "      <td>1196.62111</td>\n",
       "      <td>-122.108903</td>\n",
       "      <td>37.639416</td>\n",
       "      <td>4.697802</td>\n",
       "      <td>156857.443906</td>\n",
       "      <td>891.017412</td>\n",
       "    </tr>\n",
       "    <tr>\n",
       "      <th>std</th>\n",
       "      <td>146802.055710</td>\n",
       "      <td>0.932134</td>\n",
       "      <td>31192.63512</td>\n",
       "      <td>1.359750</td>\n",
       "      <td>0.863417</td>\n",
       "      <td>183.768413</td>\n",
       "      <td>100783.186320</td>\n",
       "      <td>82.416742</td>\n",
       "    </tr>\n",
       "    <tr>\n",
       "      <th>min</th>\n",
       "      <td>1.000000</td>\n",
       "      <td>1.000000</td>\n",
       "      <td>1.00000</td>\n",
       "      <td>-159.609375</td>\n",
       "      <td>-85.561269</td>\n",
       "      <td>0.000154</td>\n",
       "      <td>62.000000</td>\n",
       "      <td>747.000000</td>\n",
       "    </tr>\n",
       "    <tr>\n",
       "      <th>25%</th>\n",
       "      <td>1831.000000</td>\n",
       "      <td>1.000000</td>\n",
       "      <td>720.00000</td>\n",
       "      <td>-122.286807</td>\n",
       "      <td>37.383128</td>\n",
       "      <td>2.055256</td>\n",
       "      <td>80038.000000</td>\n",
       "      <td>831.000000</td>\n",
       "    </tr>\n",
       "    <tr>\n",
       "      <th>50%</th>\n",
       "      <td>2330.500000</td>\n",
       "      <td>2.000000</td>\n",
       "      <td>904.00000</td>\n",
       "      <td>-122.050473</td>\n",
       "      <td>37.601374</td>\n",
       "      <td>2.587519</td>\n",
       "      <td>149462.000000</td>\n",
       "      <td>880.000000</td>\n",
       "    </tr>\n",
       "    <tr>\n",
       "      <th>75%</th>\n",
       "      <td>2986.000000</td>\n",
       "      <td>2.000000</td>\n",
       "      <td>1160.00000</td>\n",
       "      <td>-121.952270</td>\n",
       "      <td>37.844037</td>\n",
       "      <td>3.135714</td>\n",
       "      <td>190924.000000</td>\n",
       "      <td>956.000000</td>\n",
       "    </tr>\n",
       "    <tr>\n",
       "      <th>max</th>\n",
       "      <td>26722744.000000</td>\n",
       "      <td>8.000000</td>\n",
       "      <td>8388607.00000</td>\n",
       "      <td>146.425781</td>\n",
       "      <td>79.858833</td>\n",
       "      <td>31145.389277</td>\n",
       "      <td>354659.000000</td>\n",
       "      <td>1157.000000</td>\n",
       "    </tr>\n",
       "  </tbody>\n",
       "</table>\n",
       "</div>"
      ],
      "text/plain": [
       "                 price      bedrooms  sqft_per_unit     longitude  \\\n",
       "count     73644.000000  73644.000000    73644.00000  73644.000000   \n",
       "mean       3806.642944      1.858305     1196.62111   -122.108903   \n",
       "std      146802.055710      0.932134    31192.63512      1.359750   \n",
       "min           1.000000      1.000000        1.00000   -159.609375   \n",
       "25%        1831.000000      1.000000      720.00000   -122.286807   \n",
       "50%        2330.500000      2.000000      904.00000   -122.050473   \n",
       "75%        2986.000000      2.000000     1160.00000   -121.952270   \n",
       "max    26722744.000000      8.000000  8388607.00000    146.425781   \n",
       "\n",
       "           latitude    price_sqft        node_id       zone_id  \n",
       "count  73644.000000  73644.000000   73644.000000  73569.000000  \n",
       "mean      37.639416      4.697802  156857.443906    891.017412  \n",
       "std        0.863417    183.768413  100783.186320     82.416742  \n",
       "min      -85.561269      0.000154      62.000000    747.000000  \n",
       "25%       37.383128      2.055256   80038.000000    831.000000  \n",
       "50%       37.601374      2.587519  149462.000000    880.000000  \n",
       "75%       37.844037      3.135714  190924.000000    956.000000  \n",
       "max       79.858833  31145.389277  354659.000000   1157.000000  "
      ]
     },
     "execution_count": 3,
     "metadata": {},
     "output_type": "execute_result"
    }
   ],
   "source": [
    "cl.describe()"
   ]
  },
  {
   "cell_type": "markdown",
   "metadata": {},
   "source": [
    "### 2. Set up the network vars"
   ]
  },
  {
   "cell_type": "code",
   "execution_count": 4,
   "metadata": {
    "collapsed": false
   },
   "outputs": [],
   "source": [
    "%%capture\n",
    "orca.run([\"neighborhood_vars\"])"
   ]
  },
  {
   "cell_type": "markdown",
   "metadata": {},
   "source": [
    "### 3. Estimate a rental listings hedonic"
   ]
  },
  {
   "cell_type": "code",
   "execution_count": 6,
   "metadata": {
    "collapsed": true
   },
   "outputs": [],
   "source": [
    "# The model expression is in rrh.yaml; price_per_sqft is the asking monthly rent per square \n",
    "# foot from the Craigslist listings. Price, sqft, and bedrooms are specific to the unit, \n",
    "# while all the other variables are aggregations at the node or zone level. Note that we \n",
    "# can't use bedrooms in the simulation stage because it's not in the unit data."
   ]
  },
  {
   "cell_type": "code",
   "execution_count": 7,
   "metadata": {
    "collapsed": false
   },
   "outputs": [
    {
     "name": "stdout",
     "output_type": "stream",
     "text": [
      "Running step 'rrh_estimate'\n",
      "                            OLS Regression Results                            \n",
      "==============================================================================\n",
      "Dep. Variable:     np.log(price_sqft)   R-squared:                       0.507\n",
      "Model:                            OLS   Adj. R-squared:                  0.507\n",
      "Method:                 Least Squares   F-statistic:                     6256.\n",
      "Date:                Fri, 04 Sep 2015   Prob (F-statistic):               0.00\n",
      "Time:                        19:36:21   Log-Likelihood:                -4568.5\n",
      "No. Observations:               73134   AIC:                             9163.\n",
      "Df Residuals:                   73121   BIC:                             9283.\n",
      "Df Model:                          12                                         \n",
      "Covariance Type:            nonrobust                                         \n",
      "===========================================================================================\n",
      "                              coef    std err          t      P>|t|      [95.0% Conf. Int.]\n",
      "-------------------------------------------------------------------------------------------\n",
      "Intercept                   7.6203      0.083     92.195      0.000         7.458     7.782\n",
      "np.log1p(sqft_per_unit)    -0.3370      0.002   -145.517      0.000        -0.342    -0.333\n",
      "ave_lot_size_per_unit      -0.0617      0.001    -50.676      0.000        -0.064    -0.059\n",
      "ave_income                  0.0595      0.002     38.921      0.000         0.056     0.062\n",
      "pct_black                  -0.0067   9.86e-05    -68.005      0.000        -0.007    -0.007\n",
      "pct_hisp                   -0.0037      0.000    -36.551      0.000        -0.004    -0.004\n",
      "pct_asian                   0.0065      0.000     61.288      0.000         0.006     0.007\n",
      "pct_renters                -0.0033      0.000    -20.793      0.000        -0.004    -0.003\n",
      "population                  0.0348      0.002     17.944      0.000         0.031     0.039\n",
      "autoPeakTotal              -0.4812      0.015    -32.796      0.000        -0.510    -0.452\n",
      "transitPeakTotal            0.0199      0.001     34.556      0.000         0.019     0.021\n",
      "autoOffPeakRetail           0.0814      0.016      5.166      0.000         0.051     0.112\n",
      "jobs                        0.0669      0.001    100.906      0.000         0.066     0.068\n",
      "==============================================================================\n",
      "Omnibus:                     3898.506   Durbin-Watson:                   0.617\n",
      "Prob(Omnibus):                  0.000   Jarque-Bera (JB):            14769.860\n",
      "Skew:                           0.116   Prob(JB):                         0.00\n",
      "Kurtosis:                       5.189   Cond. No.                     1.20e+04\n",
      "==============================================================================\n",
      "\n",
      "Warnings:\n",
      "[1] Standard Errors assume that the covariance matrix of the errors is correctly specified.\n",
      "[2] The condition number is large, 1.2e+04. This might indicate that there are\n",
      "strong multicollinearity or other numerical problems.\n",
      "Time to execute step 'rrh_estimate': 0.29 s\n",
      "Total time to execute iteration 1 with iteration value None: 0.29 s\n"
     ]
    }
   ],
   "source": [
    "orca.run([\"rrh_estimate\"])"
   ]
  },
  {
   "cell_type": "code",
   "execution_count": null,
   "metadata": {
    "collapsed": true
   },
   "outputs": [],
   "source": [
    "# to save variations, create a new yaml file and run this to register it\n",
    "\n",
    "@orca.step()\n",
    "def rh_cl_estimate_NEW(craigslist, aggregations):\n",
    "    return utils.hedonic_estimate(\"rrh_NEW.yaml\", craigslist, aggregations)\n",
    "\n",
    "orca.run([\"rrh_estimate_NEW\"])"
   ]
  },
  {
   "cell_type": "markdown",
   "metadata": {},
   "source": [
    "### 4. Compare to sales hedonic"
   ]
  },
  {
   "cell_type": "code",
   "execution_count": 7,
   "metadata": {
    "collapsed": false
   },
   "outputs": [
    {
     "name": "stdout",
     "output_type": "stream",
     "text": [
      "Running step 'rsh_estimate'\n",
      "                              OLS Regression Results                              \n",
      "==================================================================================\n",
      "Dep. Variable:     np.log(price_per_sqft)   R-squared:                       0.376\n",
      "Model:                                OLS   Adj. R-squared:                  0.376\n",
      "Method:                     Least Squares   F-statistic:                     7097.\n",
      "Date:                    Sun, 16 Aug 2015   Prob (F-statistic):               0.00\n",
      "Time:                            17:15:11   Log-Likelihood:                -34553.\n",
      "No. Observations:                  105997   AIC:                         6.913e+04\n",
      "Df Residuals:                      105987   BIC:                         6.922e+04\n",
      "Df Model:                               9                                         \n",
      "Covariance Type:                nonrobust                                         \n",
      "================================================================================================\n",
      "                                   coef    std err          t      P>|t|      [95.0% Conf. Int.]\n",
      "------------------------------------------------------------------------------------------------\n",
      "Intercept                        6.5558      0.042    154.816      0.000         6.473     6.639\n",
      "I(year_built < 1940)[T.True]     0.1040      0.003     29.943      0.000         0.097     0.111\n",
      "I(year_built > 2000)[T.True]     0.0085      0.003      2.721      0.007         0.002     0.015\n",
      "np.log1p(sqft_per_unit)         -0.4404      0.003   -150.562      0.000        -0.446    -0.435\n",
      "poor                            -0.2189      0.002   -102.441      0.000        -0.223    -0.215\n",
      "renters                          0.1927      0.003     66.733      0.000         0.187     0.198\n",
      "sfdu                            -0.1020      0.002    -49.003      0.000        -0.106    -0.098\n",
      "autoPeakTotal                    0.1621      0.001    113.652      0.000         0.159     0.165\n",
      "sum_residential_units            0.1414      0.004     32.426      0.000         0.133     0.150\n",
      "ave_lot_size_per_unit            0.0990      0.002     41.508      0.000         0.094     0.104\n",
      "==============================================================================\n",
      "Omnibus:                    14433.707   Durbin-Watson:                   1.399\n",
      "Prob(Omnibus):                  0.000   Jarque-Bera (JB):            44986.867\n",
      "Skew:                          -0.712   Prob(JB):                         0.00\n",
      "Kurtosis:                       5.856   Cond. No.                         832.\n",
      "==============================================================================\n",
      "\n",
      "Warnings:\n",
      "[1] Standard Errors assume that the covariance matrix of the errors is correctly specified.\n",
      "Time to execute step 'rsh_estimate': 4.41 s\n",
      "Total time to execute iteration 1 with iteration value None: 4.41 s\n"
     ]
    }
   ],
   "source": [
    "orca.run([\"rsh_estimate\"])"
   ]
  },
  {
   "cell_type": "code",
   "execution_count": null,
   "metadata": {
    "collapsed": true
   },
   "outputs": [],
   "source": []
  },
  {
   "cell_type": "code",
   "execution_count": null,
   "metadata": {
    "collapsed": true
   },
   "outputs": [],
   "source": []
  },
  {
   "cell_type": "code",
   "execution_count": null,
   "metadata": {
    "collapsed": true
   },
   "outputs": [],
   "source": []
  },
  {
   "cell_type": "code",
   "execution_count": null,
   "metadata": {
    "collapsed": true
   },
   "outputs": [],
   "source": []
  }
 ],
 "metadata": {
  "kernelspec": {
   "display_name": "Python 2",
   "language": "python",
   "name": "python2"
  },
  "language_info": {
   "codemirror_mode": {
    "name": "ipython",
    "version": 2
   },
   "file_extension": ".py",
   "mimetype": "text/x-python",
   "name": "python",
   "nbconvert_exporter": "python",
   "pygments_lexer": "ipython2",
   "version": "2.7.10"
  }
 },
 "nbformat": 4,
 "nbformat_minor": 0
}
