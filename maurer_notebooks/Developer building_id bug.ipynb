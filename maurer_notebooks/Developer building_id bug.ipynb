{
 "cells": [
  {
   "cell_type": "markdown",
   "metadata": {},
   "source": [
    "## Developer building_id bug\n",
    "\n",
    "Sam Maurer, August 2015"
   ]
  },
  {
   "cell_type": "code",
   "execution_count": 2,
   "metadata": {
    "collapsed": false
   },
   "outputs": [],
   "source": [
    "%load_ext autoreload\n",
    "%autoreload 2\n",
    "if 'sim' not in globals():\n",
    "    import os; os.chdir('..')\n",
    "import models\n",
    "import datasources\n",
    "import pandas as pd\n",
    "import numpy as np\n",
    "import urbansim.sim.simulation as sim\n",
    "import warnings \n",
    "warnings.filterwarnings(\"ignore\", category=FutureWarning)  # triggered by hh transition model"
   ]
  },
  {
   "cell_type": "markdown",
   "metadata": {},
   "source": [
    "### Execute prior models"
   ]
  },
  {
   "cell_type": "code",
   "execution_count": 3,
   "metadata": {
    "collapsed": false,
    "scrolled": true
   },
   "outputs": [
    {
     "name": "stdout",
     "output_type": "stream",
     "text": [
      "Running year 2010\n",
      "Running model 'neighborhood_vars'\n",
      "Computing accessibility variables\n",
      "Computing sum_residential_units\n",
      "Filling column building_type_id with value 1 (0 values)\n",
      "Filling column residential_units with value 0 (0 values)\n",
      "Filling column year_built with value 1966.0 (0 values)\n",
      "Filling column non_residential_sqft with value 0 (0 values)\n",
      "Filling column shape_area with value 604.336158108 (0 values)\n",
      "Filling column zone_id with value 1178 (0 values)\n",
      "Removed 4 rows because they contain missing values\n",
      "Computing sum_nonresidential_units\n",
      "Removed 4 rows because they contain missing values\n",
      "Computing ave_sqft_per_unit\n",
      "Removed 2 rows because they contain missing values\n",
      "Computing ave_lot_size_per_unit\n",
      "Removed 2 rows because they contain missing values\n",
      "Computing population\n",
      "Removed 79699 rows because they contain missing values\n",
      "Computing poor\n",
      "Removed 53966 rows because they contain missing values\n",
      "Computing renters\n",
      "Removed 4919 rows because they contain missing values\n",
      "Computing sfdu\n",
      "Removed 1 rows because they contain missing values\n",
      "Computing ave_hhsize\n",
      "Removed 79699 rows because they contain missing values\n",
      "Computing jobs\n",
      "Removed 335847 rows because they contain missing values\n",
      "Computing ave_income\n",
      "Removed 79699 rows because they contain missing values\n",
      "       sum_residential_units  sum_nonresidential_units  ave_sqft_per_unit  \\\n",
      "count          226060.000000             226060.000000      226060.000000   \n",
      "mean                5.959514                  0.356974           7.253990   \n",
      "std                 1.829774                  1.369450           1.322188   \n",
      "min                 0.000000                  0.000000           0.000000   \n",
      "25%                 5.517122                  0.000000           7.274734   \n",
      "50%                 6.443716                  0.000000           7.436141   \n",
      "75%                 7.027581                  0.000000           7.619552   \n",
      "max                10.149053                  9.289473          12.261587   \n",
      "\n",
      "       ave_lot_size_per_unit     population           poor        renters  \\\n",
      "count          226060.000000  226060.000000  226060.000000  226060.000000   \n",
      "mean                8.929325       6.825222       5.364583       4.052799   \n",
      "std                 1.933885       1.974722       1.966804       1.519042   \n",
      "min                 0.000000       0.000000       0.000000       0.000000   \n",
      "25%                 8.563902       6.400006       4.527863       3.515182   \n",
      "50%                 8.892104       7.388408       5.782053       4.429089   \n",
      "75%                 9.366335       7.991653       6.655447       5.041201   \n",
      "max                17.866968      10.553695      10.054707       7.257352   \n",
      "\n",
      "                sfdu     ave_hhsize           jobs     ave_income  \n",
      "count  226060.000000  226060.000000  226060.000000  226060.000000  \n",
      "mean        5.343503       1.248314       5.301676      10.934405  \n",
      "std         1.749075       0.255475       2.241773       1.963425  \n",
      "min         0.000000       0.000000       0.000000       0.000000  \n",
      "25%         4.958143       1.199913       4.195709      11.037583  \n",
      "50%         5.906678       1.279782       5.800459      11.259089  \n",
      "75%         6.438469       1.367688       6.826297      11.488537  \n",
      "max         8.095656       2.079442      11.713364      13.171155  \n",
      "Time to execute model 'neighborhood_vars': 70.71s\n",
      "Running model 'rsh_simulate'\n",
      "Initial unit tenure assignment: 56% owner occupied, 4% unfilled\n",
      "count    2783946.000000\n",
      "mean         490.848407\n",
      "std          953.666059\n",
      "min            4.735692\n",
      "25%          343.644105\n",
      "50%          414.596910\n",
      "75%          515.253913\n",
      "max       145819.166232\n",
      "dtype: float64\n",
      "Time to execute model 'rsh_simulate': 42.33s\n",
      "Running model 'rrh_simulate'\n",
      "count    2783946.000000\n",
      "mean           2.490079\n",
      "std            1.451327\n",
      "min            0.142537\n",
      "25%            1.837280\n",
      "50%            2.239401\n",
      "75%            2.822274\n",
      "max           39.304053\n",
      "dtype: float64\n",
      "Time to execute model 'rrh_simulate': 5.22s\n",
      "Running model 'households_relocation_filtered'\n",
      "Rate-based relocation model with filters\n",
      "Category: owner\n",
      "Relocation rate: 0.15\n",
      "Total agents: 1530771\n",
      "Total currently unplaced: 18434\n",
      "Assigning for relocation...\n",
      "Additional unplaced: 229615\n",
      "Category: renter\n",
      "Relocation rate: 0.25\n",
      "Total agents: 1201951\n",
      "Total currently unplaced: 59459\n",
      "Assigning for relocation...\n",
      "Additional unplaced: 300487\n",
      "Time to execute model 'households_relocation_filtered': 10.20s\n",
      "Running model 'households_transition'\n",
      "Total agents before transition: 2732722\n",
      "Total agents after transition: 2613055\n",
      "Time to execute model 'households_transition': 5.42s\n",
      "Running model 'hlcm_owner_simulate'\n",
      "There are 2785789 total available units\n",
      "    and 2613055 total choosers\n",
      "    but there are 0 overfull buildings\n",
      "    for a total of 816367 temporarily empty units\n",
      "    in 816367 buildings total in the region\n",
      "WARNING: 556 indexes aren't found in the locations df -\n",
      "    this is usually because of a few records that don't join \n",
      "    correctly between the locations df and the aggregations tables\n",
      "There are 643633 total movers for this LCM\n",
      "Assigned 304238 choosers to new units\n",
      "Total currently unplaced: 339395\n",
      "    and there are now 512129 empty units\n",
      "    and 0 overfull buildings\n",
      "Time to execute model 'hlcm_owner_simulate': 25.66s\n",
      "Running model 'hlcm_renter_simulate'\n",
      "There are 2785789 total available units\n",
      "    and 2613055 total choosers\n",
      "    but there are 0 overfull buildings\n",
      "    for a total of 512129 temporarily empty units\n",
      "    in 512129 buildings total in the region\n",
      "WARNING: 556 indexes aren't found in the locations df -\n",
      "    this is usually because of a few records that don't join \n",
      "    correctly between the locations df and the aggregations tables\n",
      "There are 339395 total movers for this LCM\n",
      "Assigned 339395 choosers to new units\n",
      "Total currently unplaced: 0\n",
      "    and there are now 172734 empty units\n",
      "    and 0 overfull buildings\n",
      "Time to execute model 'hlcm_renter_simulate': 27.80s\n",
      "Running model 'price_vars'\n",
      "Computing accessibility variables\n",
      "Computing residential_price\n",
      "Removed 1843 rows because they contain missing values\n",
      "Computing residential_rent\n",
      "Removed 1843 rows because they contain missing values\n",
      "Computing retail\n",
      "Computing office\n",
      "Removed 2 rows because they contain missing values\n",
      "Computing industrial\n",
      "       residential_price  residential_rent  retail  office  industrial\n",
      "count      226060.000000     226060.000000  226060  226060      226060\n",
      "mean          460.538713          2.533575       0       0           0\n",
      "std           625.040951          1.327844       0       0           0\n",
      "min             0.000000          0.000000       0       0           0\n",
      "25%           356.389023          1.889357       0       0           0\n",
      "50%           415.909058          2.302740       0       0           0\n",
      "75%           479.985909          2.814306       0       0           0\n",
      "max         26261.121094         39.304054       0       0           0\n",
      "Time to execute model 'price_vars': 52.57s\n",
      "Running model 'cap_rate_precompute'\n",
      "Time to execute model 'cap_rate_precompute': 0.05s\n",
      "Running model 'feasibility'\n",
      "Describe of the yearly rent by use\n",
      "        retail  industrial   office  residential_ownerocc  residential_rented\n",
      "count  1396450     1396450  1396450        1396450.000000      1396450.000000\n",
      "mean         0           0        0             32.494613           35.767049\n",
      "std          0           0        0             18.456882           13.608384\n",
      "min          0           0        0              0.000000            0.000000\n",
      "25%          0           0        0             27.339169           26.928735\n",
      "50%          0           0        0             31.289056           32.519138\n",
      "75%          0           0        0             35.211026           39.644669\n",
      "max          0           0        0           1985.340820          565.978381\n",
      "Computing feasibility for form mixedresidential_ownerocc\n",
      "Computing feasibility for form residential_rented\n",
      "Computing feasibility for form mixedoffice_rented\n",
      "Computing feasibility for form industrial\n",
      "Computing feasibility for form office\n",
      "Computing feasibility for form residential_ownerocc\n",
      "Computing feasibility for form mixedresidential_rented\n",
      "Computing feasibility for form mixedoffice_ownerocc\n",
      "Computing feasibility for form retail\n",
      "Time to execute model 'feasibility': 48.34s\n",
      "Running model 'residential_developer'\n",
      "Number of agents: 2,613,055\n",
      "Number of agent spaces: 2,785,789\n",
      "Current vacancy = 0.06\n",
      "Target vacancy = 0.08, target of new units = 54,488\n",
      "273,657 feasible buildings before running developer\n",
      "Sum of net units that are profitable: 276,793\n",
      "Adding 1,112 buildings with 57,385 residential_units\n",
      "272,545 feasible buildings after running developer\n",
      "Unplaced households before: 0\n",
      "Unplaced households after: 2656\n",
      "Unplaced jobs before: 334493\n",
      "Unplaced jobs after: 376063\n",
      "Adding 57,385 units to the residential_units table\n",
      "Time to execute model 'residential_developer': 15.53s\n",
      "Total time to execute year 2010: 303.82s\n"
     ]
    },
    {
     "name": "stderr",
     "output_type": "stream",
     "text": [
      "/Users/smmaurer/anaconda/lib/python2.7/site-packages/pandas/io/parsers.py:1164: DtypeWarning: Columns (2) have mixed types. Specify dtype option on import or set low_memory=False.\n",
      "  data = self._reader.read(nrows)\n"
     ]
    }
   ],
   "source": [
    "sim.run([\n",
    "    \"neighborhood_vars\",\n",
    "\n",
    "    \"rsh_simulate\",\n",
    "    \"rrh_simulate\",\n",
    "\n",
    "    \"households_relocation_filtered\",\n",
    "    \"households_transition\",\n",
    "    \n",
    "    \"hlcm_owner_simulate\",\n",
    "    \"hlcm_renter_simulate\",\n",
    "\n",
    "    \"price_vars\",\n",
    "    \"cap_rate_precompute\",\n",
    "\n",
    "    \"feasibility\",\n",
    "    \"residential_developer\",\n",
    "        \n",
    "], years=[2010])"
   ]
  },
  {
   "cell_type": "markdown",
   "metadata": {},
   "source": [
    "### Demonstration of building_id bug"
   ]
  },
  {
   "cell_type": "code",
   "execution_count": 7,
   "metadata": {
    "collapsed": false
   },
   "outputs": [],
   "source": [
    "buildings = sim.get_table(\"buildings\")\n",
    "b = buildings.to_frame()\n",
    "\n",
    "units = sim.get_table(\"residential_units\")\n",
    "u = units.to_frame()"
   ]
  },
  {
   "cell_type": "code",
   "execution_count": 12,
   "metadata": {
    "collapsed": true
   },
   "outputs": [],
   "source": [
    "# building_id is the index of the buildings table\n",
    "b = b.reset_index()"
   ]
  },
  {
   "cell_type": "code",
   "execution_count": 14,
   "metadata": {
    "collapsed": false
   },
   "outputs": [
    {
     "data": {
      "text/plain": [
       "count       3426.000000\n",
       "mean      862802.791302\n",
       "std       548494.095740\n",
       "min            0.000000\n",
       "25%       178807.500000\n",
       "50%       953746.000000\n",
       "75%      1256184.250000\n",
       "max      1841217.000000\n",
       "Name: building_id, dtype: float64"
      ]
     },
     "execution_count": 14,
     "metadata": {},
     "output_type": "execute_result"
    }
   ],
   "source": [
    "u.building_id[~u.building_id.isin(b.building_id)].describe()"
   ]
  },
  {
   "cell_type": "code",
   "execution_count": 16,
   "metadata": {
    "collapsed": true
   },
   "outputs": [],
   "source": [
    "# ??? maybe there's no bug\n",
    "# try running this before and after the developer model"
   ]
  },
  {
   "cell_type": "code",
   "execution_count": null,
   "metadata": {
    "collapsed": true
   },
   "outputs": [],
   "source": []
  },
  {
   "cell_type": "code",
   "execution_count": null,
   "metadata": {
    "collapsed": true
   },
   "outputs": [],
   "source": []
  },
  {
   "cell_type": "code",
   "execution_count": null,
   "metadata": {
    "collapsed": true
   },
   "outputs": [],
   "source": []
  },
  {
   "cell_type": "markdown",
   "metadata": {},
   "source": [
    "Here's a draft of a Github issue:\n",
    "\n",
    "Bug where utils.run_developer() creates new residential units\n",
    "\n",
    "I think I ran into a bug where `utils.run_developer()` creates new residential units. \n",
    "\n",
    "It assigns the new units a `building_id` based on the index of the `new_buildings` dataframe (see [lines 810-12](https://github.com/UDST/urbansim_defaults/blob/master/urbansim_defaults/utils.py#L810-L812)), but when those buildings are added to the `buildings` table, their index is actually shifted by the maximum previously existing `building_id` (see [line 796](https://github.com/UDST/urbansim_defaults/blob/master/urbansim_defaults/utils.py#L817), and the [Developer.merge()](https://github.com/UDST/urbansim/blob/master/urbansim/developer/developer.py#L211-L235) method).  \n",
    "\n",
    "Here's a notebook that demonstrates the resulting mis-match: <tk>\n",
    "\n",
    "I think we can fix it by just doing the same index shift when we assign `building_id` to new units, right? I'm trying this out in a fork but wanted to get your input. Thanks!"
   ]
  }
 ],
 "metadata": {
  "kernelspec": {
   "display_name": "Python 2",
   "language": "python",
   "name": "python2"
  },
  "language_info": {
   "codemirror_mode": {
    "name": "ipython",
    "version": 2
   },
   "file_extension": ".py",
   "mimetype": "text/x-python",
   "name": "python",
   "nbconvert_exporter": "python",
   "pygments_lexer": "ipython2",
   "version": "2.7.9"
  }
 },
 "nbformat": 4,
 "nbformat_minor": 0
}
