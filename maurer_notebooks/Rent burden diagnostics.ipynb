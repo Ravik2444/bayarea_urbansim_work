{
 "cells": [
  {
   "cell_type": "markdown",
   "metadata": {},
   "source": [
    "## Rent burden diagnostics\n",
    "\n",
    "Sam Maurer, August 2015"
   ]
  },
  {
   "cell_type": "code",
   "execution_count": 1,
   "metadata": {
    "collapsed": false
   },
   "outputs": [],
   "source": [
    "%load_ext autoreload\n",
    "%autoreload 2\n",
    "%matplotlib inline"
   ]
  },
  {
   "cell_type": "code",
   "execution_count": 2,
   "metadata": {
    "collapsed": false
   },
   "outputs": [
    {
     "name": "stderr",
     "output_type": "stream",
     "text": [
      "/Users/smmaurer/anaconda/lib/python2.7/site-packages/matplotlib/__init__.py:1318: UserWarning:  This call to matplotlib.use() has no effect\n",
      "because the backend has already been chosen;\n",
      "matplotlib.use() must be called *before* pylab, matplotlib.pyplot,\n",
      "or matplotlib.backends is imported for the first time.\n",
      "\n",
      "  warnings.warn(_use_error_msg)\n"
     ]
    }
   ],
   "source": [
    "import os; os.chdir('..')\n",
    "import models\n",
    "import datasources\n",
    "import variables\n",
    "import orca\n",
    "import pandas as pd\n",
    "import numpy as np"
   ]
  },
  {
   "cell_type": "markdown",
   "metadata": {},
   "source": [
    "### Execute model steps to generate fitted rents"
   ]
  },
  {
   "cell_type": "code",
   "execution_count": 3,
   "metadata": {
    "collapsed": false
   },
   "outputs": [
    {
     "name": "stdout",
     "output_type": "stream",
     "text": [
      "Filling column building_type_id with value 1 (0 values)\n",
      "Filling column residential_units with value 0 (0 values)\n",
      "Filling column year_built with value 1966.0 (0 values)\n",
      "Filling column non_residential_sqft with value 0 (0 values)\n",
      "WARNING: this has the hard-coded version which unrealistically increases non-residential square footage to house all the base year jobs\n",
      "Initial unit tenure assignment: 56% owner occupied, 4% unfilled\n"
     ]
    }
   ],
   "source": [
    "# this triggers adding the unit_id to households, maybe will help with missing values?\n",
    "_ = orca.get_table('residential_units')"
   ]
  },
  {
   "cell_type": "code",
   "execution_count": 4,
   "metadata": {
    "collapsed": false,
    "scrolled": true
   },
   "outputs": [
    {
     "name": "stdout",
     "output_type": "stream",
     "text": [
      "Running iteration 1 with iteration value 2010\n",
      "Running step 'neighborhood_vars'\n",
      "Computing accessibility variables\n",
      "Computing sum_residential_units\n",
      "Filling column _node_id with value 91839.0 (4 values)\n",
      "Filling column shape_area with value 604.336158108 (0 values)\n",
      "Filling column zone_id with value 1178 (0 values)\n",
      "Computing sum_nonresidential_units\n",
      "Computing ave_sqft_per_unit\n",
      "Computing ave_lot_size_per_unit\n",
      "Computing population\n",
      "Computing poor\n",
      "Computing blacks\n",
      "Removed 3495 rows because they contain missing values\n",
      "Computing hispanics\n",
      "Removed 5989 rows because they contain missing values\n",
      "Computing asians\n",
      "Removed 7970 rows because they contain missing values\n",
      "Computing renters\n",
      "Computing sfdu\n",
      "Computing ave_hhsize\n",
      "Computing jobs\n",
      "Computing ave_income\n",
      "       sum_residential_units  sum_nonresidential_units  ave_sqft_per_unit  \\\n",
      "count          226060.000000             226060.000000      226060.000000   \n",
      "mean                5.959528                  5.270322           7.233096   \n",
      "std                 1.829781                  2.601860           1.271255   \n",
      "min                 0.000000                  0.000000           0.000000   \n",
      "25%                 5.517122                  4.066589           7.258171   \n",
      "50%                 6.443733                  6.024277           7.414018   \n",
      "75%                 7.027597                  7.063817           7.592335   \n",
      "max                10.149053                 11.929914           8.699681   \n",
      "\n",
      "       ave_lot_size_per_unit     population           poor         blacks  \\\n",
      "count          226060.000000  226060.000000  226060.000000  226060.000000   \n",
      "mean                8.929325       6.825233       5.364610       3.762311   \n",
      "std                 1.933885       1.974727       1.966817       1.985548   \n",
      "min                 0.000000       0.000000       0.000000       0.000000   \n",
      "25%                 8.563902       6.400006       4.527863       2.571602   \n",
      "50%                 8.892104       7.388415       5.782141       3.990696   \n",
      "75%                 9.366335       7.991682       6.655470       5.062765   \n",
      "max                17.866968      10.553695      10.054707       8.750156   \n",
      "\n",
      "           hispanics         asians        renters           sfdu  \\\n",
      "count  226060.000000  226060.000000  226060.000000  226060.000000   \n",
      "mean        4.886845       4.885518       4.052804       5.343503   \n",
      "std         1.926005       2.101958       1.519045       1.749075   \n",
      "min         0.000000       0.000000       0.000000       0.000000   \n",
      "25%         3.933408       3.906737       3.515182       4.958143   \n",
      "50%         5.348966       5.286745       4.429089       5.906678   \n",
      "75%         6.210896       6.424274       5.041246       6.438469   \n",
      "max         8.948419       9.559209       7.257352       8.095656   \n",
      "\n",
      "          ave_hhsize           jobs     ave_income  \n",
      "count  226060.000000  226060.000000  226060.000000  \n",
      "mean        1.248310       5.301717      10.934395  \n",
      "std         0.255474       2.241775       1.963421  \n",
      "min         0.000000       0.000000       0.000000  \n",
      "25%         1.199903       4.195786      11.037576  \n",
      "50%         1.279776       5.800490      11.259076  \n",
      "75%         1.367688       6.826318      11.488537  \n",
      "max         2.079442      11.713364      13.171155  \n",
      "Time to execute step 'neighborhood_vars': 65.75 s\n",
      "Running step 'rsh_simulate'\n",
      "count    2785789.000000\n",
      "mean         430.000405\n",
      "std          143.799876\n",
      "min            2.071219\n",
      "25%          333.933208\n",
      "50%          405.252250\n",
      "75%          497.174875\n",
      "max         1486.007395\n",
      "dtype: float64\n",
      "Time to execute step 'rsh_simulate': 7.31 s\n",
      "Running step 'rrh_simulate'\n",
      "count    2785789.000000\n",
      "mean           2.286896\n",
      "std            0.653378\n",
      "min            0.529291\n",
      "25%            1.851349\n",
      "50%            2.154488\n",
      "75%            2.601086\n",
      "max           11.155477\n",
      "dtype: float64\n",
      "Time to execute step 'rrh_simulate': 6.60 s\n",
      "Total time to execute iteration 1 with iteration value 2010: 79.66 s\n"
     ]
    }
   ],
   "source": [
    "orca.run([\n",
    "    \"neighborhood_vars\",\n",
    "    \"rsh_simulate\",\n",
    "    \"rrh_simulate\",    \n",
    "], iter_vars=[2010])"
   ]
  },
  {
   "cell_type": "markdown",
   "metadata": {},
   "source": [
    "### Rent burden diagnostics\n",
    "\n",
    "`rent_burden` is a column that's added to the `households` table (in `variables.py`), calculated by dividing fitted yearly rent by PUMS household income. If either component is missing, rent burden is set to zero. \n",
    "\n",
    "Rent burden is computed even if a household is not renting, so when you're using it, restrict the population to rental households if necessary.\n",
    "\n",
    "Note that `unit_residential_rent` is a price per square foot, so the rent burden calculation also requires the `sqft_per_unit` column from the `buildings` table."
   ]
  },
  {
   "cell_type": "code",
   "execution_count": 5,
   "metadata": {
    "collapsed": true
   },
   "outputs": [],
   "source": [
    "u = orca.get_table(\"residential_units\")\n",
    "u = u.to_frame()"
   ]
  },
  {
   "cell_type": "code",
   "execution_count": 6,
   "metadata": {
    "collapsed": false
   },
   "outputs": [
    {
     "data": {
      "text/plain": [
       "count    2785789.000000\n",
       "mean           2.286896\n",
       "std            0.653378\n",
       "min            0.529291\n",
       "25%            1.851349\n",
       "50%            2.154488\n",
       "75%            2.601086\n",
       "max           11.155477\n",
       "Name: unit_residential_rent, dtype: float64"
      ]
     },
     "execution_count": 6,
     "metadata": {},
     "output_type": "execute_result"
    }
   ],
   "source": [
    "# Fitted rent per square foot\n",
    "u.unit_residential_rent.describe()"
   ]
  },
  {
   "cell_type": "code",
   "execution_count": 7,
   "metadata": {
    "collapsed": false
   },
   "outputs": [
    {
     "data": {
      "text/plain": [
       "<matplotlib.axes._subplots.AxesSubplot at 0x10574c850>"
      ]
     },
     "execution_count": 7,
     "metadata": {},
     "output_type": "execute_result"
    },
    {
     "data": {
      "image/png": "[encoded data removed]",
      "text/plain": [
       "<matplotlib.figure.Figure at 0x10574c9d0>"
      ]
     },
     "metadata": {},
     "output_type": "display_data"
    }
   ],
   "source": [
    "u.unit_residential_rent.hist(bins=50)"
   ]
  },
  {
   "cell_type": "code",
   "execution_count": 8,
   "metadata": {
    "collapsed": false
   },
   "outputs": [
    {
     "data": {
      "text/plain": [
       "0"
      ]
     },
     "execution_count": 8,
     "metadata": {},
     "output_type": "execute_result"
    }
   ],
   "source": [
    "u.unit_residential_rent.isnull().sum()"
   ]
  },
  {
   "cell_type": "code",
   "execution_count": 9,
   "metadata": {
    "collapsed": true
   },
   "outputs": [],
   "source": [
    "b = orca.get_table(\"buildings\")\n",
    "b = b.to_frame()"
   ]
  },
  {
   "cell_type": "code",
   "execution_count": 10,
   "metadata": {
    "collapsed": false
   },
   "outputs": [
    {
     "data": {
      "text/plain": [
       "count    1841288.000000\n",
       "mean        1825.815012\n",
       "std         1052.321849\n",
       "min          400.000000\n",
       "25%         1200.000000\n",
       "50%         1582.000000\n",
       "75%         2115.000000\n",
       "max         6000.000000\n",
       "Name: sqft_per_unit, dtype: float64"
      ]
     },
     "execution_count": 10,
     "metadata": {},
     "output_type": "execute_result"
    }
   ],
   "source": [
    "# Unit sizes\n",
    "b.sqft_per_unit.describe()"
   ]
  },
  {
   "cell_type": "code",
   "execution_count": 11,
   "metadata": {
    "collapsed": false
   },
   "outputs": [
    {
     "data": {
      "text/plain": [
       "<matplotlib.axes._subplots.AxesSubplot at 0x22f52a250>"
      ]
     },
     "execution_count": 11,
     "metadata": {},
     "output_type": "execute_result"
    },
    {
     "data": {
      "image/png": "[encoded data removed]",
      "text/plain": [
       "<matplotlib.figure.Figure at 0x12edbc990>"
      ]
     },
     "metadata": {},
     "output_type": "display_data"
    }
   ],
   "source": [
    "b.sqft_per_unit.hist(bins=50)"
   ]
  },
  {
   "cell_type": "code",
   "execution_count": 12,
   "metadata": {
    "collapsed": false
   },
   "outputs": [
    {
     "data": {
      "text/plain": [
       "0"
      ]
     },
     "execution_count": 12,
     "metadata": {},
     "output_type": "execute_result"
    }
   ],
   "source": [
    "b.sqft_per_unit.isnull().sum()"
   ]
  },
  {
   "cell_type": "code",
   "execution_count": 13,
   "metadata": {
    "collapsed": true
   },
   "outputs": [],
   "source": [
    "h = orca.get_table(\"households\")\n",
    "h = h.to_frame()"
   ]
  },
  {
   "cell_type": "code",
   "execution_count": 14,
   "metadata": {
    "collapsed": false
   },
   "outputs": [
    {
     "data": {
      "text/plain": [
       "count    2732722.000000\n",
       "mean       77670.162133\n",
       "std        81405.085003\n",
       "min       -20000.000000\n",
       "25%        26500.000000\n",
       "50%        58000.000000\n",
       "75%       100000.000000\n",
       "max      1968504.000000\n",
       "Name: income, dtype: float64"
      ]
     },
     "execution_count": 14,
     "metadata": {},
     "output_type": "execute_result"
    }
   ],
   "source": [
    "# Household income\n",
    "h.income.describe()"
   ]
  },
  {
   "cell_type": "code",
   "execution_count": 15,
   "metadata": {
    "collapsed": false
   },
   "outputs": [
    {
     "data": {
      "text/plain": [
       "<matplotlib.axes._subplots.AxesSubplot at 0x161fa9f90>"
      ]
     },
     "execution_count": 15,
     "metadata": {},
     "output_type": "execute_result"
    },
    {
     "data": {
      "image/png": "[encoded data removed]",
      "text/plain": [
       "<matplotlib.figure.Figure at 0x2318a8ed0>"
      ]
     },
     "metadata": {},
     "output_type": "display_data"
    }
   ],
   "source": [
    "h.income[h.income < 500000].hist(bins=50)\n",
    "# households with negative income are set to zero rent burden"
   ]
  },
  {
   "cell_type": "code",
   "execution_count": 16,
   "metadata": {
    "collapsed": false
   },
   "outputs": [
    {
     "data": {
      "text/plain": [
       "count    2732722.000000\n",
       "mean        2718.115226\n",
       "std         3025.888654\n",
       "min            0.000000\n",
       "25%            0.000000\n",
       "50%         2383.208172\n",
       "75%         4093.646544\n",
       "max        58337.534709\n",
       "Name: monthly_rent, dtype: float64"
      ]
     },
     "execution_count": 16,
     "metadata": {},
     "output_type": "execute_result"
    }
   ],
   "source": [
    "# Monthly rent \n",
    "h.monthly_rent.describe()"
   ]
  },
  {
   "cell_type": "code",
   "execution_count": 17,
   "metadata": {
    "collapsed": false
   },
   "outputs": [
    {
     "data": {
      "text/plain": [
       "<matplotlib.axes._subplots.AxesSubplot at 0x1683330d0>"
      ]
     },
     "execution_count": 17,
     "metadata": {},
     "output_type": "execute_result"
    },
    {
     "data": {
      "image/png": "[encoded data removed]",
      "text/plain": [
       "<matplotlib.figure.Figure at 0x163ff4e90>"
      ]
     },
     "metadata": {},
     "output_type": "display_data"
    }
   ],
   "source": [
    "h.monthly_rent[h.monthly_rent < 10000].hist(bins=50)"
   ]
  },
  {
   "cell_type": "code",
   "execution_count": 25,
   "metadata": {
    "collapsed": false
   },
   "outputs": [
    {
     "data": {
      "text/plain": [
       "980926"
      ]
     },
     "execution_count": 25,
     "metadata": {},
     "output_type": "execute_result"
    }
   ],
   "source": [
    "len(h.monthly_rent[h.monthly_rent == 0])"
   ]
  },
  {
   "cell_type": "code",
   "execution_count": 18,
   "metadata": {
    "collapsed": false
   },
   "outputs": [
    {
     "data": {
      "text/plain": [
       "count    2732722.000000\n",
       "mean           1.969861\n",
       "std           83.576140\n",
       "min            0.000000\n",
       "25%            0.000000\n",
       "50%            0.288808\n",
       "75%            0.933275\n",
       "max        49771.459249\n",
       "Name: rent_burden, dtype: float64"
      ]
     },
     "execution_count": 18,
     "metadata": {},
     "output_type": "execute_result"
    }
   ],
   "source": [
    "# Rent burden\n",
    "h.rent_burden.describe()"
   ]
  },
  {
   "cell_type": "code",
   "execution_count": 19,
   "metadata": {
    "collapsed": false
   },
   "outputs": [
    {
     "data": {
      "text/plain": [
       "<matplotlib.axes._subplots.AxesSubplot at 0x16a93e090>"
      ]
     },
     "execution_count": 19,
     "metadata": {},
     "output_type": "execute_result"
    },
    {
     "data": {
      "image/png": "[encoded data removed]",
      "text/plain": [
       "<matplotlib.figure.Figure at 0x168b79c10>"
      ]
     },
     "metadata": {},
     "output_type": "display_data"
    }
   ],
   "source": [
    "h.rent_burden[(h.rent_burden > 0) & (h.rent_burden < 2)].hist(bins=50)"
   ]
  },
  {
   "cell_type": "code",
   "execution_count": 22,
   "metadata": {
    "collapsed": false
   },
   "outputs": [
    {
     "data": {
      "text/plain": [
       "2049789.9885571667"
      ]
     },
     "execution_count": 22,
     "metadata": {},
     "output_type": "execute_result"
    }
   ],
   "source": [
    "sum(h.rent_burden[(h.rent_burden > 0) & (h.rent_burden < 10)])"
   ]
  },
  {
   "cell_type": "code",
   "execution_count": null,
   "metadata": {
    "collapsed": true
   },
   "outputs": [],
   "source": []
  },
  {
   "cell_type": "code",
   "execution_count": null,
   "metadata": {
    "collapsed": true
   },
   "outputs": [],
   "source": []
  },
  {
   "cell_type": "code",
   "execution_count": null,
   "metadata": {
    "collapsed": true
   },
   "outputs": [],
   "source": []
  }
 ],
 "metadata": {
  "kernelspec": {
   "display_name": "Python 2",
   "language": "python",
   "name": "python2"
  },
  "language_info": {
   "codemirror_mode": {
    "name": "ipython",
    "version": 2
   },
   "file_extension": ".py",
   "mimetype": "text/x-python",
   "name": "python",
   "nbconvert_exporter": "python",
   "pygments_lexer": "ipython2",
   "version": "2.7.9"
  }
 },
 "nbformat": 4,
 "nbformat_minor": 0
}
