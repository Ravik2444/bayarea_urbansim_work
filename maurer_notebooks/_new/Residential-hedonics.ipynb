{
 "cells": [
  {
   "cell_type": "markdown",
   "metadata": {
    "collapsed": true
   },
   "source": [
    "# Residential hedonic comparisons"
   ]
  },
  {
   "cell_type": "markdown",
   "metadata": {},
   "source": [
    "Sam Maurer, May 2016\n",
    "\n",
    "This notebook compares the MTC and UAL model specification and estimation results, and estimates a new rental model with specifications closer to the MTC version."
   ]
  },
  {
   "cell_type": "code",
   "execution_count": 1,
   "metadata": {
    "collapsed": false
   },
   "outputs": [],
   "source": [
    "import orca\n",
    "from baus import models\n",
    "from urbansim.utils import misc\n",
    "from urbansim.models.regression import RegressionModel"
   ]
  },
  {
   "cell_type": "code",
   "execution_count": 2,
   "metadata": {
    "collapsed": false
   },
   "outputs": [],
   "source": [
    "# To load the config files, urbansim.utils.misc expects to be running from the\n",
    "# root of an urbansim instance\n",
    "import os\n",
    "os.chdir(\"/Users/smmaurer/Dropbox/Git-rMBP/ual/bayarea_urbansim\")"
   ]
  },
  {
   "cell_type": "code",
   "execution_count": null,
   "metadata": {
    "collapsed": false,
    "scrolled": true
   },
   "outputs": [],
   "source": []
  },
  {
   "cell_type": "markdown",
   "metadata": {},
   "source": [
    "### MTC model from Mar 2016"
   ]
  },
  {
   "cell_type": "code",
   "execution_count": 12,
   "metadata": {
    "collapsed": false
   },
   "outputs": [],
   "source": [
    "fname = misc.config(\"rsh.yaml\")\n",
    "rsh = RegressionModel.from_yaml(str_or_buffer=fname)"
   ]
  },
  {
   "cell_type": "code",
   "execution_count": 32,
   "metadata": {
    "collapsed": false
   },
   "outputs": [
    {
     "name": "stdout",
     "output_type": "stream",
     "text": [
      "price_per_sqft ~ sqft_per_unit + residential_units_1500 + jobs_45 + sfdu + ave_income_1500 + is_sanfran + embarcadero + pacheights + stanford + I(transit_type == \"bart1\") + I(transit_type == \"bart2\") + I(transit_type == \"bart3a\") + I(transit_type == \"lrt1\") + modern_condo + historic + new_construction\n",
      "\n",
      "[\"general_type == 'Residential'\", 'sqft_per_unit > 100', 'sqft_per_unit < 4000', 'price_per_sqft > 100', 'price_per_sqft < 1500', 'redfin_sale_year > 2010', 'redfin_sale_year <= 2014']\n"
     ]
    }
   ],
   "source": [
    "d = rsh.to_dict()\n",
    "print d['model_expression']; print\n",
    "print d['fit_filters']"
   ]
  },
  {
   "cell_type": "code",
   "execution_count": 15,
   "metadata": {
    "collapsed": false
   },
   "outputs": [
    {
     "name": "stdout",
     "output_type": "stream",
     "text": [
      "R-Squared: 0.476\n",
      "Adj. R-Squared: 0.476\n",
      "\n",
      "+-------------------------------------+-------------+------------+----------+\n",
      "| Component                           | Coefficient | Std. Error | T-Score  |\n",
      "+-------------------------------------+-------------+------------+----------+\n",
      "| I(transit_type == \"bart1\")[T.True]  |    22.936   |   3.729    |  6.151   |\n",
      "| I(transit_type == \"bart2\")[T.True]  |    28.592   |   3.441    |  8.309   |\n",
      "| I(transit_type == \"bart3a\")[T.True] |    -0.000   |   0.000    | -124.050 |\n",
      "| I(transit_type == \"lrt1\")[T.True]   |    65.319   |   4.923    |  13.268  |\n",
      "| Intercept                           |  -3382.398  |   26.704   | -126.664 |\n",
      "| ave_income_1500                     |   387.569   |   1.774    | 218.455  |\n",
      "| embarcadero                         |    -2.114   |   0.049    | -43.322  |\n",
      "| historic                            |    84.413   |   1.297    |  65.094  |\n",
      "| is_sanfran                          |   129.789   |   2.189    |  59.291  |\n",
      "| jobs_45                             |   -25.802   |   1.021    | -25.278  |\n",
      "| modern_condo                        |    20.307   |   4.188    |  4.849   |\n",
      "| new_construction                    |   201.516   |   1.414    |  1.072   |\n",
      "| pacheights                          |    -1.151   |   0.028    | -41.459  |\n",
      "| residential_units_1500              |    82.841   |   0.954    |  86.828  |\n",
      "| sfdu                                |   -77.522   |   0.914    | -84.860  |\n",
      "| sqft_per_unit                       |    -0.076   |   0.001    | -109.718 |\n",
      "| stanford                            |    -3.231   |   0.026    | -122.704 |\n",
      "+-------------------------------------+-------------+------------+----------+\n"
     ]
    }
   ],
   "source": [
    "rsh.report_fit()"
   ]
  },
  {
   "cell_type": "code",
   "execution_count": null,
   "metadata": {
    "collapsed": true
   },
   "outputs": [],
   "source": []
  },
  {
   "cell_type": "markdown",
   "metadata": {},
   "source": [
    "### UAL model from summer 2015 (sales)"
   ]
  },
  {
   "cell_type": "code",
   "execution_count": 16,
   "metadata": {
    "collapsed": true
   },
   "outputs": [],
   "source": [
    "fname = misc.config(\"ual_rsh.yaml\")\n",
    "ual_rsh = RegressionModel.from_yaml(str_or_buffer=fname)"
   ]
  },
  {
   "cell_type": "code",
   "execution_count": 31,
   "metadata": {
    "collapsed": false
   },
   "outputs": [
    {
     "name": "stdout",
     "output_type": "stream",
     "text": [
      "np.log(price_per_sqft) ~ I(year_built < 1940) + I(year_built > 2000) + np.log1p(sqft_per_unit) + ave_lot_size_per_unit + ave_income + pct_black + pct_hisp + pct_asian + pct_renters + poverty_rate + population + autoPeakTotal + transitPeakTotal + autoOffPeakRetail + jobs\n",
      "\n",
      "['sqft_per_unit > 100', 'sqft_per_unit < 4000', 'price_per_sqft > 100', 'price_per_sqft < 1500', 'redfin_sale_year > 2003', 'redfin_sale_year <= 2005']\n"
     ]
    }
   ],
   "source": [
    "d = ual_rsh.to_dict()\n",
    "print d['model_expression']; print\n",
    "print d['fit_filters']"
   ]
  },
  {
   "cell_type": "code",
   "execution_count": 19,
   "metadata": {
    "collapsed": false
   },
   "outputs": [
    {
     "name": "stdout",
     "output_type": "stream",
     "text": [
      "R-Squared: 0.433\n",
      "Adj. R-Squared: 0.433\n",
      "\n",
      "+------------------------------+-------------+------------+----------+\n",
      "| Component                    | Coefficient | Std. Error | T-Score  |\n",
      "+------------------------------+-------------+------------+----------+\n",
      "| I(year_built < 1940)[T.True] |    0.107    |   0.004    |  30.576  |\n",
      "| I(year_built > 2000)[T.True] |    0.047    |   0.003    |  15.720  |\n",
      "| Intercept                    |    2.596    |   0.087    |  29.869  |\n",
      "| autoOffPeakRetail            |    -0.254   |   0.007    | -38.446  |\n",
      "| autoPeakTotal                |    0.358    |   0.006    |  59.942  |\n",
      "| ave_income                   |    0.417    |   0.007    |  63.276  |\n",
      "| ave_lot_size_per_unit        |    0.042    |   0.002    |  17.876  |\n",
      "| jobs                         |    0.006    |   0.001    |  8.135   |\n",
      "| np.log1p(sqft_per_unit)      |    -0.464   |   0.003    | -165.036 |\n",
      "| pct_asian                    |    -0.002   |   0.000    | -14.277  |\n",
      "| pct_black                    |    -0.004   |   0.000    | -37.444  |\n",
      "| pct_hisp                     |    -0.003   |   0.000    | -18.199  |\n",
      "| pct_renters                  |    0.006    |   0.000    |  32.995  |\n",
      "| population                   |    -0.008   |   0.003    |  -3.165  |\n",
      "| poverty_rate                 |    0.089    |   0.023    |  3.791   |\n",
      "| transitPeakTotal             |    0.014    |   0.001    |  22.841  |\n",
      "+------------------------------+-------------+------------+----------+\n"
     ]
    }
   ],
   "source": [
    "ual_rsh.report_fit()"
   ]
  },
  {
   "cell_type": "code",
   "execution_count": null,
   "metadata": {
    "collapsed": true
   },
   "outputs": [],
   "source": []
  },
  {
   "cell_type": "markdown",
   "metadata": {},
   "source": [
    "### UAL model from summer 2015 (rental listings)"
   ]
  },
  {
   "cell_type": "code",
   "execution_count": 5,
   "metadata": {
    "collapsed": true
   },
   "outputs": [],
   "source": [
    "fname = misc.config(\"ual_rrh_old.yaml\")\n",
    "ual_rrh_old = RegressionModel.from_yaml(str_or_buffer=fname)"
   ]
  },
  {
   "cell_type": "code",
   "execution_count": 6,
   "metadata": {
    "collapsed": false
   },
   "outputs": [
    {
     "name": "stdout",
     "output_type": "stream",
     "text": [
      "np.log(price_sqft) ~ np.log1p(sqft_per_unit) + ave_lot_size_per_unit + ave_income  + pct_black + pct_hisp + pct_asian + pct_renters + population + autoPeakTotal + transitPeakTotal + autoOffPeakRetail + jobs\n",
      "\n",
      "['price_sqft > 0.5', 'price_sqft < 7']\n"
     ]
    }
   ],
   "source": [
    "d = ual_rrh_old.to_dict()\n",
    "print d['model_expression']; print\n",
    "print d['fit_filters']"
   ]
  },
  {
   "cell_type": "code",
   "execution_count": 7,
   "metadata": {
    "collapsed": false
   },
   "outputs": [
    {
     "name": "stdout",
     "output_type": "stream",
     "text": [
      "R-Squared: 0.507\n",
      "Adj. R-Squared: 0.507\n",
      "\n",
      "+-------------------------+-------------+------------+----------+\n",
      "| Component               | Coefficient | Std. Error | T-Score  |\n",
      "+-------------------------+-------------+------------+----------+\n",
      "| Intercept               |    7.620    |   0.083    |  92.195  |\n",
      "| autoOffPeakRetail       |    0.081    |   0.016    |  5.166   |\n",
      "| autoPeakTotal           |    -0.481   |   0.015    | -32.796  |\n",
      "| ave_income              |    0.059    |   0.002    |  38.921  |\n",
      "| ave_lot_size_per_unit   |    -0.062   |   0.001    | -50.676  |\n",
      "| jobs                    |    0.067    |   0.001    | 100.906  |\n",
      "| np.log1p(sqft_per_unit) |    -0.337   |   0.002    | -145.517 |\n",
      "| pct_asian               |    0.006    |   0.000    |  61.288  |\n",
      "| pct_black               |    -0.007   |   0.000    | -68.005  |\n",
      "| pct_hisp                |    -0.004   |   0.000    | -36.551  |\n",
      "| pct_renters             |    -0.003   |   0.000    | -20.793  |\n",
      "| population              |    0.035    |   0.002    |  17.944  |\n",
      "| transitPeakTotal        |    0.020    |   0.001    |  34.556  |\n",
      "+-------------------------+-------------+------------+----------+\n"
     ]
    }
   ],
   "source": [
    "ual_rrh_old.report_fit()"
   ]
  },
  {
   "cell_type": "code",
   "execution_count": null,
   "metadata": {
    "collapsed": true
   },
   "outputs": [],
   "source": []
  },
  {
   "cell_type": "markdown",
   "metadata": {},
   "source": [
    "### Which network aggregations is MTC calculating?"
   ]
  },
  {
   "cell_type": "code",
   "execution_count": 34,
   "metadata": {
    "collapsed": false
   },
   "outputs": [
    {
     "name": "stdout",
     "output_type": "stream",
     "text": [
      "['retail_sqft_3000', 'sum_income_3000', 'residential_units_500', 'residential_units_1500', 'office_1500', 'retail_1500', 'industrial_1500', 'ave_sqft_per_unit', 'ave_lot_size_per_unit', 'population', 'poor', 'renters', 'sfdu', 'ave_hhsize', 'jobs_500', 'jobs_1500', 'ave_income_1500', 'ave_income_500']\n"
     ]
    }
   ],
   "source": [
    "print orca.get_table('nodes').local_columns"
   ]
  },
  {
   "cell_type": "code",
   "execution_count": 35,
   "metadata": {
    "collapsed": false
   },
   "outputs": [
    {
     "name": "stdout",
     "output_type": "stream",
     "text": [
      "['autoPeakRetail', 'autoPeakTotal', 'autoOffPeakRetail', 'autoOffPeakTotal', 'transitPeakRetail', 'transitPeakTotal', 'transitOffPeakRetail', 'transitOffPeakTotal', 'nonMotorizedRetail', 'nonMotorizedTotal']\n"
     ]
    }
   ],
   "source": [
    "print orca.get_table('logsums').local_columns"
   ]
  },
  {
   "cell_type": "code",
   "execution_count": null,
   "metadata": {
    "collapsed": true
   },
   "outputs": [],
   "source": []
  },
  {
   "cell_type": "markdown",
   "metadata": {},
   "source": [
    "### Estimating a new rental price model\n",
    "\n",
    "Presuming that MTC wants to keep their basic model specifications, here we estimate a new model for rental prices that's as similar as possible to the MTC hedonic.\n",
    "\n",
    "'ual_rrh.yaml' has been set up separately from this notebook."
   ]
  },
  {
   "cell_type": "code",
   "execution_count": 3,
   "metadata": {
    "collapsed": true
   },
   "outputs": [],
   "source": [
    "%%capture\n",
    "orca.run([\n",
    "    \"ual_load_rental_listings\",\n",
    "    \"neighborhood_vars\",\n",
    "    \"regional_vars\",\n",
    "])"
   ]
  },
  {
   "cell_type": "code",
   "execution_count": 9,
   "metadata": {
    "collapsed": true
   },
   "outputs": [],
   "source": [
    "fname = misc.config(\"ual_rrh.yaml\")\n",
    "ual_rrh = RegressionModel.from_yaml(str_or_buffer=fname)"
   ]
  },
  {
   "cell_type": "code",
   "execution_count": 10,
   "metadata": {
    "collapsed": false
   },
   "outputs": [
    {
     "name": "stdout",
     "output_type": "stream",
     "text": [
      "price_per_sqft ~ sqft_per_unit + residential_units_1500 + jobs_45 + sfdu + ave_income_1500\n",
      "\n",
      "['sqft_per_unit > 100', 'sqft_per_unit < 4000', 'price_per_sqft > 0.5', 'price_per_sqft < 7']\n"
     ]
    }
   ],
   "source": [
    "d = ual_rrh.to_dict()\n",
    "print d['model_expression']; print\n",
    "print d['fit_filters']"
   ]
  },
  {
   "cell_type": "code",
   "execution_count": 4,
   "metadata": {
    "collapsed": false
   },
   "outputs": [
    {
     "name": "stdout",
     "output_type": "stream",
     "text": [
      "Running step 'ual_rrh_estimate'\n",
      "                            OLS Regression Results                            \n",
      "==============================================================================\n",
      "Dep. Variable:         price_per_sqft   R-squared:                       0.427\n",
      "Model:                            OLS   Adj. R-squared:                  0.427\n",
      "Method:                 Least Squares   F-statistic:                 1.086e+04\n",
      "Date:                Mon, 30 May 2016   Prob (F-statistic):               0.00\n",
      "Time:                        20:33:34   Log-Likelihood:                -78802.\n",
      "No. Observations:               72820   AIC:                         1.576e+05\n",
      "Df Residuals:                   72814   BIC:                         1.577e+05\n",
      "Df Model:                           5                                         \n",
      "Covariance Type:            nonrobust                                         \n",
      "==========================================================================================\n",
      "                             coef    std err          t      P>|t|      [95.0% Conf. Int.]\n",
      "------------------------------------------------------------------------------------------\n",
      "Intercept                 -3.9386      0.069    -57.277      0.000        -4.073    -3.804\n",
      "sqft_per_unit             -0.0005   5.63e-06    -94.143      0.000        -0.001    -0.001\n",
      "residential_units_1500     0.2851      0.003    102.664      0.000         0.280     0.291\n",
      "jobs_45                    0.4342      0.005     86.698      0.000         0.424     0.444\n",
      "sfdu                      -0.2102      0.002   -101.784      0.000        -0.214    -0.206\n",
      "ave_income_1500            0.0406      0.003     13.710      0.000         0.035     0.046\n",
      "==============================================================================\n",
      "Omnibus:                    10990.641   Durbin-Watson:                   0.556\n",
      "Prob(Omnibus):                  0.000   Jarque-Bera (JB):            24349.120\n",
      "Skew:                           0.894   Prob(JB):                         0.00\n",
      "Kurtosis:                       5.197   Cond. No.                     2.95e+04\n",
      "==============================================================================\n",
      "\n",
      "Warnings:\n",
      "[1] Standard Errors assume that the covariance matrix of the errors is correctly specified.\n",
      "[2] The condition number is large, 2.95e+04. This might indicate that there are\n",
      "strong multicollinearity or other numerical problems.\n",
      "Time to execute step 'ual_rrh_estimate': 1.12 s\n",
      "Total time to execute iteration 1 with iteration value None: 1.12 s\n"
     ]
    }
   ],
   "source": [
    "orca.run([\n",
    "    \"ual_rrh_estimate\"\n",
    "])"
   ]
  },
  {
   "cell_type": "code",
   "execution_count": null,
   "metadata": {
    "collapsed": true
   },
   "outputs": [],
   "source": []
  },
  {
   "cell_type": "code",
   "execution_count": null,
   "metadata": {
    "collapsed": true
   },
   "outputs": [],
   "source": []
  },
  {
   "cell_type": "code",
   "execution_count": null,
   "metadata": {
    "collapsed": true
   },
   "outputs": [],
   "source": []
  },
  {
   "cell_type": "code",
   "execution_count": null,
   "metadata": {
    "collapsed": true
   },
   "outputs": [],
   "source": []
  }
 ],
 "metadata": {
  "kernelspec": {
   "display_name": "Python 2",
   "language": "python",
   "name": "python2"
  },
  "language_info": {
   "codemirror_mode": {
    "name": "ipython",
    "version": 2
   },
   "file_extension": ".py",
   "mimetype": "text/x-python",
   "name": "python",
   "nbconvert_exporter": "python",
   "pygments_lexer": "ipython2",
   "version": "2.7.11"
  }
 },
 "nbformat": 4,
 "nbformat_minor": 0
}
