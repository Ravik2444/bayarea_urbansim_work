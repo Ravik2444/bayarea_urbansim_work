{
 "cells": [
  {
   "cell_type": "markdown",
   "metadata": {},
   "source": [
    "# Household location choice model comparisons\n",
    "\n",
    "Sam Maurer, June 2016\n",
    "\n",
    "This notebook compares the MTC and UAL model specifications and estimation results, and estimates new tenue-sensitive choice models with specifications similar to MTC's."
   ]
  },
  {
   "cell_type": "code",
   "execution_count": 1,
   "metadata": {
    "collapsed": true
   },
   "outputs": [],
   "source": [
    "%load_ext autoreload\n",
    "%aimport baus\n",
    "%autoreload 1"
   ]
  },
  {
   "cell_type": "code",
   "execution_count": 2,
   "metadata": {
    "collapsed": true,
    "scrolled": true
   },
   "outputs": [],
   "source": [
    "import orca\n",
    "from baus import models\n",
    "from urbansim.utils import misc\n",
    "from urbansim.models.dcm import SegmentedMNLDiscreteChoiceModel"
   ]
  },
  {
   "cell_type": "code",
   "execution_count": 3,
   "metadata": {
    "collapsed": true,
    "scrolled": true
   },
   "outputs": [],
   "source": [
    "# To load the config files, urbansim.utils.misc expects to be running from the\n",
    "# root of an urbansim instance\n",
    "import os\n",
    "os.chdir(\"/Users/smmaurer/Dropbox/Git-rMBP/ual/bayarea_urbansim\")"
   ]
  },
  {
   "cell_type": "code",
   "execution_count": 4,
   "metadata": {
    "collapsed": false,
    "scrolled": true
   },
   "outputs": [],
   "source": [
    "import pprint\n",
    "pp = pprint.PrettyPrinter()"
   ]
  },
  {
   "cell_type": "code",
   "execution_count": 5,
   "metadata": {
    "collapsed": true,
    "scrolled": true
   },
   "outputs": [],
   "source": [
    "def load_slcm(filename):\n",
    "    # Load segmented LCM from yaml file\n",
    "    return SegmentedMNLDiscreteChoiceModel.from_yaml(str_or_buffer=misc.config(filename))"
   ]
  },
  {
   "cell_type": "code",
   "execution_count": 6,
   "metadata": {
    "collapsed": true,
    "scrolled": true
   },
   "outputs": [],
   "source": [
    "def report_fit(slcm):\n",
    "    # SegmentedMNLDiscreteChoiceModel() does not have its own report_fit() method\n",
    "    for name, segment in slcm._group.models.items():\n",
    "        print(\"LCM RESULTS FOR SEGMENT %s\\n\" % str(name))\n",
    "        segment.report_fit()"
   ]
  },
  {
   "cell_type": "code",
   "execution_count": null,
   "metadata": {
    "collapsed": true,
    "scrolled": true
   },
   "outputs": [],
   "source": []
  },
  {
   "cell_type": "markdown",
   "metadata": {},
   "source": [
    "### MTC model from Mar 2016"
   ]
  },
  {
   "cell_type": "code",
   "execution_count": 37,
   "metadata": {
    "collapsed": false,
    "scrolled": true
   },
   "outputs": [],
   "source": [
    "hlcm = load_slcm(\"hlcm.yaml\")"
   ]
  },
  {
   "cell_type": "code",
   "execution_count": 45,
   "metadata": {
    "collapsed": false,
    "scrolled": true
   },
   "outputs": [],
   "source": [
    "d = hlcm.to_dict()\n",
    "#pp.pprint(d)"
   ]
  },
  {
   "cell_type": "code",
   "execution_count": 38,
   "metadata": {
    "collapsed": false
   },
   "outputs": [
    {
     "name": "stdout",
     "output_type": "stream",
     "text": [
      "LCM RESULTS FOR SEGMENT 1\n",
      "\n",
      "Null Log-liklihood: -23472.138\n",
      "Log-liklihood at convergence: -22659.697\n",
      "Log-liklihood Ratio: 0.035\n",
      "\n",
      "+----------------------+-------------+------------+---------+\n",
      "| Component            | Coefficient | Std. Error | T-Score |\n",
      "+----------------------+-------------+------------+---------+\n",
      "| ave_income_1500      |    -0.133   |   0.027    |  -4.880 |\n",
      "| embarcadero          |    -0.028   |   0.001    | -28.288 |\n",
      "| jobs_45              |    -0.035   |   0.021    |  -1.642 |\n",
      "| np.log1p(unit_price) |    -0.668   |   0.023    | -29.108 |\n",
      "| pacheights           |    -0.005   |   0.001    |  -6.797 |\n",
      "| stanford             |    -0.011   |   0.001    | -18.066 |\n",
      "+----------------------+-------------+------------+---------+\n",
      "LCM RESULTS FOR SEGMENT 2\n",
      "\n",
      "Null Log-liklihood: -23472.138\n",
      "Log-liklihood at convergence: -22909.357\n",
      "Log-liklihood Ratio: 0.024\n",
      "\n",
      "+----------------------+-------------+------------+---------+\n",
      "| Component            | Coefficient | Std. Error | T-Score |\n",
      "+----------------------+-------------+------------+---------+\n",
      "| ave_income_1500      |    -0.091   |   0.032    |  -2.795 |\n",
      "| embarcadero          |    -0.015   |   0.001    | -14.502 |\n",
      "| jobs_45              |    0.041    |   0.022    |  1.853  |\n",
      "| np.log1p(unit_price) |    -0.713   |   0.025    | -28.207 |\n",
      "| pacheights           |    -0.006   |   0.001    |  -7.214 |\n",
      "| stanford             |    -0.009   |   0.001    | -14.754 |\n",
      "+----------------------+-------------+------------+---------+\n",
      "LCM RESULTS FOR SEGMENT 3\n",
      "\n",
      "Null Log-liklihood: -23472.138\n",
      "Log-liklihood at convergence: -23081.846\n",
      "Log-liklihood Ratio: 0.017\n",
      "\n",
      "+----------------------+-------------+------------+---------+\n",
      "| Component            | Coefficient | Std. Error | T-Score |\n",
      "+----------------------+-------------+------------+---------+\n",
      "| ave_income_1500      |    -0.068   |   0.040    |  -1.730 |\n",
      "| embarcadero          |    -0.017   |   0.001    | -14.932 |\n",
      "| jobs_45              |    -0.032   |   0.024    |  -1.351 |\n",
      "| np.log1p(unit_price) |    -0.560   |   0.027    | -20.540 |\n",
      "| pacheights           |    -0.005   |   0.001    |  -6.905 |\n",
      "| stanford             |    -0.007   |   0.001    | -11.332 |\n",
      "+----------------------+-------------+------------+---------+\n",
      "LCM RESULTS FOR SEGMENT 4\n",
      "\n",
      "Null Log-liklihood: -23472.138\n",
      "Log-liklihood at convergence: -23201.343\n",
      "Log-liklihood Ratio: 0.012\n",
      "\n",
      "+----------------------+-------------+------------+---------+\n",
      "| Component            | Coefficient | Std. Error | T-Score |\n",
      "+----------------------+-------------+------------+---------+\n",
      "| ave_income_1500      |    -0.053   |   0.043    |  -1.233 |\n",
      "| embarcadero          |    -0.012   |   0.001    | -10.263 |\n",
      "| jobs_45              |    0.012    |   0.025    |  0.486  |\n",
      "| np.log1p(unit_price) |    -0.499   |   0.029    | -17.462 |\n",
      "| pacheights           |    -0.005   |   0.001    |  -7.014 |\n",
      "| stanford             |    -0.007   |   0.001    | -10.421 |\n",
      "+----------------------+-------------+------------+---------+\n",
      "LCM RESULTS FOR SEGMENT 5\n",
      "\n",
      "Null Log-liklihood: -23472.138\n",
      "Log-liklihood at convergence: -23315.713\n",
      "Log-liklihood Ratio: 0.007\n",
      "\n",
      "+----------------------+-------------+------------+---------+\n",
      "| Component            | Coefficient | Std. Error | T-Score |\n",
      "+----------------------+-------------+------------+---------+\n",
      "| ave_income_1500      |    0.020    |   0.053    |  0.371  |\n",
      "| embarcadero          |    -0.008   |   0.001    |  -6.504 |\n",
      "| jobs_45              |    0.052    |   0.027    |  1.919  |\n",
      "| np.log1p(unit_price) |    -0.392   |   0.032    | -12.062 |\n",
      "| pacheights           |    -0.005   |   0.001    |  -6.802 |\n",
      "| stanford             |    -0.006   |   0.001    |  -7.713 |\n",
      "+----------------------+-------------+------------+---------+\n",
      "LCM RESULTS FOR SEGMENT 6\n",
      "\n",
      "Null Log-liklihood: -23472.138\n",
      "Log-liklihood at convergence: -23376.691\n",
      "Log-liklihood Ratio: 0.004\n",
      "\n",
      "+----------------------+-------------+------------+---------+\n",
      "| Component            | Coefficient | Std. Error | T-Score |\n",
      "+----------------------+-------------+------------+---------+\n",
      "| ave_income_1500      |    0.133    |   0.056    |  2.363  |\n",
      "| embarcadero          |    -0.004   |   0.001    |  -2.923 |\n",
      "| jobs_45              |    0.116    |   0.029    |  4.058  |\n",
      "| np.log1p(unit_price) |    -0.271   |   0.034    |  -7.991 |\n",
      "| pacheights           |    -0.004   |   0.001    |  -4.559 |\n",
      "| stanford             |    -0.005   |   0.001    |  -6.751 |\n",
      "+----------------------+-------------+------------+---------+\n",
      "LCM RESULTS FOR SEGMENT 7\n",
      "\n",
      "Null Log-liklihood: -23472.138\n",
      "Log-liklihood at convergence: -23168.927\n",
      "Log-liklihood Ratio: 0.013\n",
      "\n",
      "+----------------------+-------------+------------+---------+\n",
      "| Component            | Coefficient | Std. Error | T-Score |\n",
      "+----------------------+-------------+------------+---------+\n",
      "| ave_income_1500      |    0.824    |   0.054    |  15.265 |\n",
      "| embarcadero          |    -0.003   |   0.001    |  -2.200 |\n",
      "| jobs_45              |    0.174    |   0.027    |  6.530  |\n",
      "| np.log1p(unit_price) |    -0.079   |   0.035    |  -2.260 |\n",
      "| pacheights           |    -0.004   |   0.001    |  -5.357 |\n",
      "| stanford             |    -0.002   |   0.001    |  -2.603 |\n",
      "+----------------------+-------------+------------+---------+\n",
      "LCM RESULTS FOR SEGMENT 8\n",
      "\n",
      "Null Log-liklihood: -23472.138\n",
      "Log-liklihood at convergence: -22428.054\n",
      "Log-liklihood Ratio: 0.044\n",
      "\n",
      "+----------------------+-------------+------------+---------+\n",
      "| Component            | Coefficient | Std. Error | T-Score |\n",
      "+----------------------+-------------+------------+---------+\n",
      "| ave_income_1500      |    1.474    |   0.051    |  28.994 |\n",
      "| embarcadero          |    -0.007   |   0.001    |  -5.935 |\n",
      "| jobs_45              |    0.107    |   0.025    |  4.282  |\n",
      "| np.log1p(unit_price) |    0.025    |   0.035    |  0.705  |\n",
      "| pacheights           |    -0.007   |   0.001    | -10.517 |\n",
      "| stanford             |    -0.004   |   0.001    |  -6.689 |\n",
      "+----------------------+-------------+------------+---------+\n"
     ]
    }
   ],
   "source": [
    "report_fit(hlcm)"
   ]
  },
  {
   "cell_type": "code",
   "execution_count": null,
   "metadata": {
    "collapsed": false,
    "scrolled": true
   },
   "outputs": [],
   "source": []
  },
  {
   "cell_type": "markdown",
   "metadata": {},
   "source": [
    "### UAL model from summer 2015 (owners)"
   ]
  },
  {
   "cell_type": "code",
   "execution_count": 40,
   "metadata": {
    "collapsed": true,
    "scrolled": true
   },
   "outputs": [],
   "source": [
    "ual_hlcm_owner_old = load_slcm(\"ual_hlcm_owner_old.yaml\")"
   ]
  },
  {
   "cell_type": "code",
   "execution_count": 47,
   "metadata": {
    "collapsed": false
   },
   "outputs": [
    {
     "name": "stdout",
     "output_type": "stream",
     "text": [
      "['hownrent == 1']\n"
     ]
    }
   ],
   "source": [
    "print ual_hlcm_owner_old.to_dict()['choosers_fit_filters']"
   ]
  },
  {
   "cell_type": "code",
   "execution_count": 41,
   "metadata": {
    "collapsed": false,
    "scrolled": true
   },
   "outputs": [
    {
     "name": "stdout",
     "output_type": "stream",
     "text": [
      "LCM RESULTS FOR SEGMENT 1\n",
      "\n",
      "Null Log-liklihood: -69003.870\n",
      "Log-liklihood at convergence: -66344.640\n",
      "Log-liklihood Ratio: 0.039\n",
      "\n",
      "+---------------------------------+-------------+------------+----------+\n",
      "| Component                       | Coefficient | Std. Error | T-Score  |\n",
      "+---------------------------------+-------------+------------+----------+\n",
      "| autoOffPeakRetail               |    0.067    |   0.056    |  1.205   |\n",
      "| autoPeakTotal                   |    0.014    |   0.052    |  0.265   |\n",
      "| ave_income                      |    -0.722   |   0.031    | -23.394  |\n",
      "| jobs                            |    -0.020   |   0.006    |  -3.393  |\n",
      "| np.log1p(asian * pct_asian)     |    4.844    |   0.010    | 481.949  |\n",
      "| np.log1p(ave_lot_size_per_unit) |    1.253    |   0.112    |  11.209  |\n",
      "| np.log1p(black * pct_black)     |    6.500    |   0.011    | 593.568  |\n",
      "| np.log1p(hisp * pct_hisp)       |    4.434    |   0.007    | 635.321  |\n",
      "| np.log1p(persons * ave_hhsize)  |    3.000    |   0.021    | 140.300  |\n",
      "| np.log1p(residential_price)     |    0.016    |   0.004    |  4.148   |\n",
      "| np.log1p(sqft_per_unit)         |    -0.028   |   0.019    |  -1.499  |\n",
      "| np.log1p(white * pct_white)     |    9.247    |   0.009    | 1082.367 |\n",
      "| transitPeakTotal                |    -0.031   |   0.005    |  -6.034  |\n",
      "+---------------------------------+-------------+------------+----------+\n",
      "LCM RESULTS FOR SEGMENT 2\n",
      "\n",
      "Null Log-liklihood: -69003.870\n",
      "Log-liklihood at convergence: -66384.216\n",
      "Log-liklihood Ratio: 0.038\n",
      "\n",
      "+---------------------------------+-------------+------------+----------+\n",
      "| Component                       | Coefficient | Std. Error | T-Score  |\n",
      "+---------------------------------+-------------+------------+----------+\n",
      "| autoOffPeakRetail               |    0.385    |   0.053    |  7.293   |\n",
      "| autoPeakTotal                   |    -0.414   |   0.049    |  -8.523  |\n",
      "| ave_income                      |    -0.355   |   0.031    | -11.435  |\n",
      "| jobs                            |    -0.036   |   0.006    |  -6.337  |\n",
      "| np.log1p(asian * pct_asian)     |    5.526    |   0.010    | 556.481  |\n",
      "| np.log1p(ave_lot_size_per_unit) |    0.468    |   0.115    |  4.055   |\n",
      "| np.log1p(black * pct_black)     |    5.213    |   0.011    | 459.687  |\n",
      "| np.log1p(hisp * pct_hisp)       |    4.789    |   0.007    | 691.177  |\n",
      "| np.log1p(persons * ave_hhsize)  |    3.060    |   0.020    | 152.159  |\n",
      "| np.log1p(residential_price)     |    0.008    |   0.004    |  1.926   |\n",
      "| np.log1p(sqft_per_unit)         |    0.007    |   0.019    |  0.372   |\n",
      "| np.log1p(white * pct_white)     |    8.534    |   0.008    | 1006.003 |\n",
      "| transitPeakTotal                |    -0.014   |   0.005    |  -2.748  |\n",
      "+---------------------------------+-------------+------------+----------+\n",
      "LCM RESULTS FOR SEGMENT 3\n",
      "\n",
      "Null Log-liklihood: -69013.080\n",
      "Log-liklihood at convergence: -66290.660\n",
      "Log-liklihood Ratio: 0.039\n",
      "\n",
      "+---------------------------------+-------------+------------+----------+\n",
      "| Component                       | Coefficient | Std. Error | T-Score  |\n",
      "+---------------------------------+-------------+------------+----------+\n",
      "| autoOffPeakRetail               |    0.460    |   0.054    |  8.590   |\n",
      "| autoPeakTotal                   |    -0.477   |   0.048    |  -9.879  |\n",
      "| ave_income                      |    0.274    |   0.031    |  8.938   |\n",
      "| jobs                            |    -0.049   |   0.006    |  -8.752  |\n",
      "| np.log1p(asian * pct_asian)     |    5.066    |   0.010    | 532.651  |\n",
      "| np.log1p(ave_lot_size_per_unit) |    -0.375   |   0.116    |  -3.232  |\n",
      "| np.log1p(black * pct_black)     |    4.664    |   0.011    | 405.867  |\n",
      "| np.log1p(hisp * pct_hisp)       |    4.027    |   0.007    | 556.871  |\n",
      "| np.log1p(persons * ave_hhsize)  |    3.578    |   0.021    | 173.571  |\n",
      "| np.log1p(residential_price)     |    0.004    |   0.005    |  0.765   |\n",
      "| np.log1p(sqft_per_unit)         |    -0.008   |   0.020    |  -0.429  |\n",
      "| np.log1p(white * pct_white)     |    8.966    |   0.008    | 1070.742 |\n",
      "| transitPeakTotal                |    -0.025   |   0.005    |  -5.087  |\n",
      "+---------------------------------+-------------+------------+----------+\n",
      "LCM RESULTS FOR SEGMENT 4\n",
      "\n",
      "Null Log-liklihood: -69003.870\n",
      "Log-liklihood at convergence: -64506.660\n",
      "Log-liklihood Ratio: 0.065\n",
      "\n",
      "+---------------------------------+-------------+------------+---------+\n",
      "| Component                       | Coefficient | Std. Error | T-Score |\n",
      "+---------------------------------+-------------+------------+---------+\n",
      "| autoOffPeakRetail               |    0.162    |   0.058    |  2.805  |\n",
      "| autoPeakTotal                   |    -0.114   |   0.051    |  -2.242 |\n",
      "| ave_income                      |    1.704    |   0.030    |  57.668 |\n",
      "| jobs                            |    -0.018   |   0.005    |  -3.412 |\n",
      "| np.log1p(asian * pct_asian)     |    5.226    |   0.012    | 445.907 |\n",
      "| np.log1p(ave_lot_size_per_unit) |    0.691    |   0.112    |  6.156  |\n",
      "| np.log1p(black * pct_black)     |    3.954    |   0.015    | 259.527 |\n",
      "| np.log1p(hisp * pct_hisp)       |    3.497    |   0.009    | 397.573 |\n",
      "| np.log1p(persons * ave_hhsize)  |    2.168    |   0.022    |  97.903 |\n",
      "| np.log1p(residential_price)     |    -0.008   |   0.005    |  -1.679 |\n",
      "| np.log1p(sqft_per_unit)         |    0.052    |   0.019    |  2.673  |\n",
      "| np.log1p(white * pct_white)     |    7.566    |   0.011    | 694.144 |\n",
      "| transitPeakTotal                |    -0.022   |   0.005    |  -4.762 |\n",
      "+---------------------------------+-------------+------------+---------+\n"
     ]
    }
   ],
   "source": [
    "report_fit(ual_hlcm_owner_old)"
   ]
  },
  {
   "cell_type": "code",
   "execution_count": null,
   "metadata": {
    "collapsed": true,
    "scrolled": true
   },
   "outputs": [],
   "source": []
  },
  {
   "cell_type": "markdown",
   "metadata": {},
   "source": [
    "### UAL model from summer 2015 (renters)"
   ]
  },
  {
   "cell_type": "code",
   "execution_count": 42,
   "metadata": {
    "collapsed": true,
    "scrolled": true
   },
   "outputs": [],
   "source": [
    "ual_hlcm_renter_old = load_slcm(\"ual_hlcm_renter_old.yaml\")"
   ]
  },
  {
   "cell_type": "code",
   "execution_count": 48,
   "metadata": {
    "collapsed": false
   },
   "outputs": [
    {
     "name": "stdout",
     "output_type": "stream",
     "text": [
      "['(hownrent == 2 & income > 0)']\n"
     ]
    }
   ],
   "source": [
    "print ual_hlcm_renter_old.to_dict()['choosers_fit_filters']"
   ]
  },
  {
   "cell_type": "code",
   "execution_count": 43,
   "metadata": {
    "collapsed": false,
    "scrolled": true
   },
   "outputs": [
    {
     "name": "stdout",
     "output_type": "stream",
     "text": [
      "LCM RESULTS FOR SEGMENT 1\n",
      "\n",
      "Null Log-liklihood: -68985.449\n",
      "Log-liklihood at convergence: -63703.556\n",
      "Log-liklihood Ratio: 0.077\n",
      "\n",
      "+---------------------------------+-------------+------------+----------+\n",
      "| Component                       | Coefficient | Std. Error | T-Score  |\n",
      "+---------------------------------+-------------+------------+----------+\n",
      "| autoOffPeakRetail               |    -0.437   |   0.059    |  -7.425  |\n",
      "| autoPeakTotal                   |    0.463    |   0.054    |  8.634   |\n",
      "| ave_income                      |    -1.454   |   0.032    | -46.069  |\n",
      "| jobs                            |    0.022    |   0.008    |  2.685   |\n",
      "| np.log1p(asian * pct_asian)     |    5.374    |   0.008    | 641.331  |\n",
      "| np.log1p(ave_lot_size_per_unit) |    1.063    |   0.117    |  9.059   |\n",
      "| np.log1p(black * pct_black)     |    5.386    |   0.009    | 619.337  |\n",
      "| np.log1p(hisp * pct_hisp)       |    6.267    |   0.006    | 1001.648 |\n",
      "| np.log1p(persons * ave_hhsize)  |    0.198    |   0.020    |  9.965   |\n",
      "| np.log1p(residential_rent)      |    0.488    |   0.076    |  6.396   |\n",
      "| np.log1p(sqft_per_unit)         |    0.084    |   0.024    |  3.554   |\n",
      "| np.log1p(white * pct_white)     |    9.169    |   0.007    | 1318.078 |\n",
      "| transitPeakTotal                |    0.048    |   0.006    |  8.139   |\n",
      "+---------------------------------+-------------+------------+----------+\n",
      "LCM RESULTS FOR SEGMENT 2\n",
      "\n",
      "Null Log-liklihood: -68925.582\n",
      "Log-liklihood at convergence: -66125.000\n",
      "Log-liklihood Ratio: 0.041\n",
      "\n",
      "+---------------------------------+-------------+------------+----------+\n",
      "| Component                       | Coefficient | Std. Error | T-Score  |\n",
      "+---------------------------------+-------------+------------+----------+\n",
      "| autoOffPeakRetail               |    -0.359   |   0.059    |  -6.067  |\n",
      "| autoPeakTotal                   |    0.459    |   0.054    |  8.422   |\n",
      "| ave_income                      |    -0.839   |   0.032    | -26.212  |\n",
      "| jobs                            |    -0.000   |   0.008    |  -0.037  |\n",
      "| np.log1p(asian * pct_asian)     |    4.598    |   0.008    | 587.814  |\n",
      "| np.log1p(ave_lot_size_per_unit) |    0.202    |   0.106    |  1.908   |\n",
      "| np.log1p(black * pct_black)     |    3.924    |   0.009    | 448.839  |\n",
      "| np.log1p(hisp * pct_hisp)       |    5.820    |   0.006    | 965.782  |\n",
      "| np.log1p(persons * ave_hhsize)  |    0.474    |   0.019    |  24.471  |\n",
      "| np.log1p(residential_rent)      |    0.174    |   0.076    |  2.276   |\n",
      "| np.log1p(sqft_per_unit)         |    -0.017   |   0.024    |  -0.721  |\n",
      "| np.log1p(white * pct_white)     |    9.244    |   0.006    | 1464.798 |\n",
      "| transitPeakTotal                |    0.015    |   0.006    |  2.794   |\n",
      "+---------------------------------+-------------+------------+----------+\n",
      "LCM RESULTS FOR SEGMENT 3\n",
      "\n",
      "Null Log-liklihood: -68879.530\n",
      "Log-liklihood at convergence: -66697.220\n",
      "Log-liklihood Ratio: 0.032\n",
      "\n",
      "+---------------------------------+-------------+------------+----------+\n",
      "| Component                       | Coefficient | Std. Error | T-Score  |\n",
      "+---------------------------------+-------------+------------+----------+\n",
      "| autoOffPeakRetail               |    -0.617   |   0.063    |  -9.762  |\n",
      "| autoPeakTotal                   |    0.934    |   0.058    |  16.201  |\n",
      "| ave_income                      |    -0.155   |   0.039    |  -4.005  |\n",
      "| jobs                            |    -0.027   |   0.008    |  -3.506  |\n",
      "| np.log1p(asian * pct_asian)     |    4.854    |   0.009    | 565.542  |\n",
      "| np.log1p(ave_lot_size_per_unit) |    -0.758   |   0.111    |  -6.846  |\n",
      "| np.log1p(black * pct_black)     |    3.636    |   0.010    | 349.770  |\n",
      "| np.log1p(hisp * pct_hisp)       |    5.094    |   0.007    | 762.927  |\n",
      "| np.log1p(persons * ave_hhsize)  |    0.940    |   0.020    |  47.245  |\n",
      "| np.log1p(residential_rent)      |    0.768    |   0.082    |  9.404   |\n",
      "| np.log1p(sqft_per_unit)         |    0.130    |   0.025    |  5.222   |\n",
      "| np.log1p(white * pct_white)     |    8.908    |   0.008    | 1182.424 |\n",
      "| transitPeakTotal                |    -0.019   |   0.005    |  -3.657  |\n",
      "+---------------------------------+-------------+------------+----------+\n",
      "LCM RESULTS FOR SEGMENT 4\n",
      "\n",
      "Null Log-liklihood: -68773.612\n",
      "Log-liklihood at convergence: -64676.462\n",
      "Log-liklihood Ratio: 0.060\n",
      "\n",
      "+---------------------------------+-------------+------------+---------+\n",
      "| Component                       | Coefficient | Std. Error | T-Score |\n",
      "+---------------------------------+-------------+------------+---------+\n",
      "| autoOffPeakRetail               |    -1.268   |   0.069    | -18.390 |\n",
      "| autoPeakTotal                   |    1.622    |   0.061    |  26.596 |\n",
      "| ave_income                      |    1.197    |   0.036    |  33.641 |\n",
      "| jobs                            |    -0.028   |   0.007    |  -3.917 |\n",
      "| np.log1p(asian * pct_asian)     |    4.310    |   0.010    | 449.356 |\n",
      "| np.log1p(ave_lot_size_per_unit) |    -1.132   |   0.109    | -10.389 |\n",
      "| np.log1p(black * pct_black)     |    3.253    |   0.013    | 258.123 |\n",
      "| np.log1p(hisp * pct_hisp)       |    3.792    |   0.008    | 486.235 |\n",
      "| np.log1p(persons * ave_hhsize)  |    0.030    |   0.020    |  1.448  |\n",
      "| np.log1p(residential_rent)      |    1.011    |   0.075    |  13.517 |\n",
      "| np.log1p(sqft_per_unit)         |    0.175    |   0.024    |  7.451  |\n",
      "| np.log1p(white * pct_white)     |    8.032    |   0.009    | 928.342 |\n",
      "| transitPeakTotal                |    -0.008   |   0.005    |  -1.673 |\n",
      "+---------------------------------+-------------+------------+---------+\n"
     ]
    }
   ],
   "source": [
    "report_fit(ual_hlcm_renter_old)"
   ]
  },
  {
   "cell_type": "code",
   "execution_count": null,
   "metadata": {
    "collapsed": true,
    "scrolled": true
   },
   "outputs": [],
   "source": []
  },
  {
   "cell_type": "markdown",
   "metadata": {},
   "source": [
    "### Estimating new models for owners vs renters\n",
    "\n",
    "Presuming that MTC wants to keep their basic model specifications, here we estimate new models with the minimal alterations necessary to differentiate tenure.\n",
    "\n",
    "Separately from this notebook, I made two copies of MTC's hlcm.yaml file with:\n",
    "- chooser_fit_filters for tenure\n",
    "- chooser_predict_filters for tenure (for simulation)\n",
    "- alts_predict_filters for tenure (for simulation)\n",
    "- residential price or rent in model expression\n",
    "\n",
    "The estimation model step definitions use units rather than buildings, so that the price and rent fields will both be there."
   ]
  },
  {
   "cell_type": "code",
   "execution_count": 7,
   "metadata": {
    "collapsed": false,
    "scrolled": true
   },
   "outputs": [],
   "source": [
    "%%capture\n",
    "orca.run([\n",
    "    \"ual_initialize_residential_units\",\n",
    "    \"ual_match_households_to_units\",\n",
    "    \"neighborhood_vars\",\n",
    "    \"regional_vars\",\n",
    "    \"ual_rsh_simulate\",\n",
    "    \"ual_rrh_simulate\"\n",
    "])"
   ]
  },
  {
   "cell_type": "code",
   "execution_count": 7,
   "metadata": {
    "collapsed": false
   },
   "outputs": [
    {
     "name": "stdout",
     "output_type": "stream",
     "text": [
      "Running step 'ual_hlcm_owner_estimate'\n",
      "LCM RESULTS FOR SEGMENT 1\n",
      "\n",
      "Null Log-liklihood: -23448.666\n",
      "Log-liklihood at convergence: -23272.553\n",
      "Log-liklihood Ratio: 0.008\n",
      "\n",
      "+----------------------------------+-------------+------------+---------+\n",
      "| Component                        | Coefficient | Std. Error | T-Score |\n",
      "+----------------------------------+-------------+------------+---------+\n",
      "| jobs_45                          |    0.069    |   0.024    |  2.840  |\n",
      "| ave_income_1500                  |    -0.190   |   0.040    |  -4.730 |\n",
      "| np.log1p(unit_residential_price) |    -0.456   |   0.047    |  -9.796 |\n",
      "| embarcadero                      |    0.007    |   0.001    |  5.732  |\n",
      "| pacheights                       |    -0.003   |   0.001    |  -3.265 |\n",
      "| stanford                         |    -0.002   |   0.001    |  -2.605 |\n",
      "+----------------------------------+-------------+------------+---------+\n",
      "LCM RESULTS FOR SEGMENT 2\n",
      "\n",
      "Null Log-liklihood: -23444.754\n",
      "Log-liklihood at convergence: -23177.262\n",
      "Log-liklihood Ratio: 0.011\n",
      "\n",
      "+----------------------------------+-------------+------------+---------+\n",
      "| Component                        | Coefficient | Std. Error | T-Score |\n",
      "+----------------------------------+-------------+------------+---------+\n",
      "| jobs_45                          |    0.098    |   0.025    |  3.951  |\n",
      "| ave_income_1500                  |    -0.151   |   0.042    |  -3.625 |\n",
      "| np.log1p(unit_residential_price) |    -0.631   |   0.048    | -13.147 |\n",
      "| embarcadero                      |    0.008    |   0.001    |  6.576  |\n",
      "| pacheights                       |    -0.003   |   0.001    |  -3.437 |\n",
      "| stanford                         |    -0.002   |   0.001    |  -3.025 |\n",
      "+----------------------------------+-------------+------------+---------+\n",
      "LCM RESULTS FOR SEGMENT 3\n",
      "\n",
      "Null Log-liklihood: -23456.490\n",
      "Log-liklihood at convergence: -23277.018\n",
      "Log-liklihood Ratio: 0.008\n",
      "\n",
      "+----------------------------------+-------------+------------+---------+\n",
      "| Component                        | Coefficient | Std. Error | T-Score |\n",
      "+----------------------------------+-------------+------------+---------+\n",
      "| jobs_45                          |    -0.030   |   0.025    |  -1.177 |\n",
      "| ave_income_1500                  |    0.070    |   0.044    |  1.595  |\n",
      "| np.log1p(unit_residential_price) |    -0.549   |   0.048    | -11.436 |\n",
      "| embarcadero                      |    0.002    |   0.001    |  1.306  |\n",
      "| pacheights                       |    -0.001   |   0.001    |  -1.296 |\n",
      "| stanford                         |    0.000    |   0.001    |  0.134  |\n",
      "+----------------------------------+-------------+------------+---------+\n",
      "LCM RESULTS FOR SEGMENT 4\n",
      "\n",
      "Null Log-liklihood: -23452.578\n",
      "Log-liklihood at convergence: -23243.759\n",
      "Log-liklihood Ratio: 0.009\n",
      "\n",
      "+----------------------------------+-------------+------------+---------+\n",
      "| Component                        | Coefficient | Std. Error | T-Score |\n",
      "+----------------------------------+-------------+------------+---------+\n",
      "| jobs_45                          |    0.003    |   0.026    |  0.101  |\n",
      "| ave_income_1500                  |    0.135    |   0.044    |  3.093  |\n",
      "| np.log1p(unit_residential_price) |    -0.562   |   0.049    | -11.506 |\n",
      "| embarcadero                      |    0.004    |   0.001    |  3.415  |\n",
      "| pacheights                       |    0.001    |   0.001    |  1.450  |\n",
      "| stanford                         |    0.000    |   0.001    |  0.043  |\n",
      "+----------------------------------+-------------+------------+---------+\n",
      "LCM RESULTS FOR SEGMENT 5\n",
      "\n",
      "Null Log-liklihood: -23436.930\n",
      "Log-liklihood at convergence: -23195.653\n",
      "Log-liklihood Ratio: 0.010\n",
      "\n",
      "+----------------------------------+-------------+------------+---------+\n",
      "| Component                        | Coefficient | Std. Error | T-Score |\n",
      "+----------------------------------+-------------+------------+---------+\n",
      "| jobs_45                          |    0.050    |   0.027    |  1.811  |\n",
      "| ave_income_1500                  |    0.699    |   0.046    |  15.165 |\n",
      "| np.log1p(unit_residential_price) |    -0.487   |   0.050    |  -9.804 |\n",
      "| embarcadero                      |    0.007    |   0.001    |  5.247  |\n",
      "| pacheights                       |    0.002    |   0.001    |  2.407  |\n",
      "| stanford                         |    0.004    |   0.001    |  5.209  |\n",
      "+----------------------------------+-------------+------------+---------+\n",
      "LCM RESULTS FOR SEGMENT 6\n",
      "\n",
      "Null Log-liklihood: -23456.490\n",
      "Log-liklihood at convergence: -23135.171\n",
      "Log-liklihood Ratio: 0.014\n",
      "\n",
      "+----------------------------------+-------------+------------+---------+\n",
      "| Component                        | Coefficient | Std. Error | T-Score |\n",
      "+----------------------------------+-------------+------------+---------+\n",
      "| jobs_45                          |    0.140    |   0.028    |  5.071  |\n",
      "| ave_income_1500                  |    0.874    |   0.046    |  19.062 |\n",
      "| np.log1p(unit_residential_price) |    -0.532   |   0.051    | -10.351 |\n",
      "| embarcadero                      |    0.011    |   0.001    |  8.194  |\n",
      "| pacheights                       |    0.003    |   0.001    |  3.562  |\n",
      "| stanford                         |    0.004    |   0.001    |  4.974  |\n",
      "+----------------------------------+-------------+------------+---------+\n",
      "LCM RESULTS FOR SEGMENT 7\n",
      "\n",
      "Null Log-liklihood: -23433.018\n",
      "Log-liklihood at convergence: -22635.199\n",
      "Log-liklihood Ratio: 0.034\n",
      "\n",
      "+----------------------------------+-------------+------------+---------+\n",
      "| Component                        | Coefficient | Std. Error | T-Score |\n",
      "+----------------------------------+-------------+------------+---------+\n",
      "| jobs_45                          |    0.133    |   0.027    |  4.908  |\n",
      "| ave_income_1500                  |    1.752    |   0.044    |  40.001 |\n",
      "| np.log1p(unit_residential_price) |    -0.469   |   0.051    |  -9.148 |\n",
      "| embarcadero                      |    0.008    |   0.001    |  6.608  |\n",
      "| pacheights                       |    0.003    |   0.001    |  3.003  |\n",
      "| stanford                         |    0.004    |   0.001    |  5.243  |\n",
      "+----------------------------------+-------------+------------+---------+\n",
      "LCM RESULTS FOR SEGMENT 8\n",
      "\n",
      "Null Log-liklihood: -23444.754\n",
      "Log-liklihood at convergence: -21805.023\n",
      "Log-liklihood Ratio: 0.070\n",
      "\n",
      "+----------------------------------+-------------+------------+---------+\n",
      "| Component                        | Coefficient | Std. Error | T-Score |\n",
      "+----------------------------------+-------------+------------+---------+\n",
      "| jobs_45                          |    0.105    |   0.026    |  4.088  |\n",
      "| ave_income_1500                  |    2.345    |   0.041    |  57.622 |\n",
      "| np.log1p(unit_residential_price) |    -0.248   |   0.051    |  -4.832 |\n",
      "| embarcadero                      |    0.005    |   0.001    |  4.198  |\n",
      "| pacheights                       |    -0.002   |   0.001    |  -2.779 |\n",
      "| stanford                         |    0.001    |   0.001    |  1.267  |\n",
      "+----------------------------------+-------------+------------+---------+\n",
      "Time to execute step 'ual_hlcm_owner_estimate': 21.62 s\n",
      "Total time to execute iteration 1 with iteration value None: 21.63 s\n"
     ]
    }
   ],
   "source": [
    "orca.run([\n",
    "    \"ual_hlcm_owner_estimate\"\n",
    "])"
   ]
  },
  {
   "cell_type": "code",
   "execution_count": 8,
   "metadata": {
    "collapsed": false
   },
   "outputs": [
    {
     "name": "stdout",
     "output_type": "stream",
     "text": [
      "Running step 'ual_hlcm_renter_estimate'\n",
      "LCM RESULTS FOR SEGMENT 1\n",
      "\n",
      "Null Log-liklihood: -23429.106\n",
      "Log-liklihood at convergence: -22349.782\n",
      "Log-liklihood Ratio: 0.046\n",
      "\n",
      "+---------------------------------+-------------+------------+---------+\n",
      "| Component                       | Coefficient | Std. Error | T-Score |\n",
      "+---------------------------------+-------------+------------+---------+\n",
      "| jobs_45                         |    -0.123   |   0.019    |  -6.618 |\n",
      "| ave_income_1500                 |    -1.483   |   0.020    | -75.502 |\n",
      "| np.log1p(unit_residential_rent) |    0.974    |   0.078    |  12.552 |\n",
      "| embarcadero                     |    -0.009   |   0.001    |  -9.700 |\n",
      "| pacheights                      |    -0.004   |   0.001    |  -6.347 |\n",
      "| stanford                        |    -0.005   |   0.001    |  -7.298 |\n",
      "+---------------------------------+-------------+------------+---------+\n",
      "LCM RESULTS FOR SEGMENT 2\n",
      "\n",
      "Null Log-liklihood: -23413.458\n",
      "Log-liklihood at convergence: -22741.786\n",
      "Log-liklihood Ratio: 0.029\n",
      "\n",
      "+---------------------------------+-------------+------------+---------+\n",
      "| Component                       | Coefficient | Std. Error | T-Score |\n",
      "+---------------------------------+-------------+------------+---------+\n",
      "| jobs_45                         |    -0.071   |   0.018    |  -3.932 |\n",
      "| ave_income_1500                 |    -1.254   |   0.019    | -64.681 |\n",
      "| np.log1p(unit_residential_rent) |    0.834    |   0.077    |  10.885 |\n",
      "| embarcadero                     |    -0.001   |   0.001    |  -1.040 |\n",
      "| pacheights                      |    -0.002   |   0.001    |  -2.350 |\n",
      "| stanford                        |    -0.002   |   0.001    |  -3.776 |\n",
      "+---------------------------------+-------------+------------+---------+\n",
      "LCM RESULTS FOR SEGMENT 3\n",
      "\n",
      "Null Log-liklihood: -23425.194\n",
      "Log-liklihood at convergence: -23001.475\n",
      "Log-liklihood Ratio: 0.018\n",
      "\n",
      "+---------------------------------+-------------+------------+---------+\n",
      "| Component                       | Coefficient | Std. Error | T-Score |\n",
      "+---------------------------------+-------------+------------+---------+\n",
      "| jobs_45                         |    -0.081   |   0.021    |  -3.928 |\n",
      "| ave_income_1500                 |    -0.816   |   0.022    | -36.985 |\n",
      "| np.log1p(unit_residential_rent) |    0.753    |   0.078    |  9.702  |\n",
      "| embarcadero                     |    -0.005   |   0.001    |  -5.741 |\n",
      "| pacheights                      |    -0.003   |   0.001    |  -3.749 |\n",
      "| stanford                        |    -0.003   |   0.001    |  -4.658 |\n",
      "+---------------------------------+-------------+------------+---------+\n",
      "LCM RESULTS FOR SEGMENT 4\n",
      "\n",
      "Null Log-liklihood: -23425.194\n",
      "Log-liklihood at convergence: -23116.047\n",
      "Log-liklihood Ratio: 0.013\n",
      "\n",
      "+---------------------------------+-------------+------------+---------+\n",
      "| Component                       | Coefficient | Std. Error | T-Score |\n",
      "+---------------------------------+-------------+------------+---------+\n",
      "| jobs_45                         |    -0.012   |   0.020    |  -0.592 |\n",
      "| ave_income_1500                 |    -0.455   |   0.021    | -21.178 |\n",
      "| np.log1p(unit_residential_rent) |    0.909    |   0.078    |  11.584 |\n",
      "| embarcadero                     |    -0.002   |   0.001    |  -2.246 |\n",
      "| pacheights                      |    -0.003   |   0.001    |  -4.390 |\n",
      "| stanford                        |    -0.003   |   0.001    |  -5.520 |\n",
      "+---------------------------------+-------------+------------+---------+\n",
      "LCM RESULTS FOR SEGMENT 5\n",
      "\n",
      "Null Log-liklihood: -23409.546\n",
      "Log-liklihood at convergence: -23178.483\n",
      "Log-liklihood Ratio: 0.010\n",
      "\n",
      "+---------------------------------+-------------+------------+---------+\n",
      "| Component                       | Coefficient | Std. Error | T-Score |\n",
      "+---------------------------------+-------------+------------+---------+\n",
      "| jobs_45                         |    -0.060   |   0.033    |  -1.849 |\n",
      "| ave_income_1500                 |    -0.197   |   0.037    |  -5.259 |\n",
      "| np.log1p(unit_residential_rent) |    0.741    |   0.079    |  9.419  |\n",
      "| embarcadero                     |    -0.007   |   0.001    |  -5.381 |\n",
      "| pacheights                      |    -0.006   |   0.001    |  -8.490 |\n",
      "| stanford                        |    -0.007   |   0.001    |  -9.962 |\n",
      "+---------------------------------+-------------+------------+---------+\n",
      "LCM RESULTS FOR SEGMENT 6\n",
      "\n",
      "Null Log-liklihood: -23409.546\n",
      "Log-liklihood at convergence: -23109.415\n",
      "Log-liklihood Ratio: 0.013\n",
      "\n",
      "+---------------------------------+-------------+------------+---------+\n",
      "| Component                       | Coefficient | Std. Error | T-Score |\n",
      "+---------------------------------+-------------+------------+---------+\n",
      "| jobs_45                         |    0.030    |   0.033    |  0.915  |\n",
      "| ave_income_1500                 |    0.037    |   0.038    |  0.960  |\n",
      "| np.log1p(unit_residential_rent) |    0.583    |   0.077    |  7.538  |\n",
      "| embarcadero                     |    -0.006   |   0.001    |  -4.789 |\n",
      "| pacheights                      |    -0.007   |   0.001    | -11.132 |\n",
      "| stanford                        |    -0.010   |   0.001    | -14.470 |\n",
      "+---------------------------------+-------------+------------+---------+\n",
      "LCM RESULTS FOR SEGMENT 7\n",
      "\n",
      "Null Log-liklihood: -23382.162\n",
      "Log-liklihood at convergence: -22551.085\n",
      "Log-liklihood Ratio: 0.036\n",
      "\n",
      "+---------------------------------+-------------+------------+---------+\n",
      "| Component                       | Coefficient | Std. Error | T-Score |\n",
      "+---------------------------------+-------------+------------+---------+\n",
      "| jobs_45                         |    0.143    |   0.035    |  4.093  |\n",
      "| ave_income_1500                 |    0.974    |   0.039    |  24.971 |\n",
      "| np.log1p(unit_residential_rent) |    0.798    |   0.075    |  10.587 |\n",
      "| embarcadero                     |    -0.010   |   0.001    |  -7.772 |\n",
      "| pacheights                      |    -0.008   |   0.001    | -12.681 |\n",
      "| stanford                        |    -0.009   |   0.001    | -13.666 |\n",
      "+---------------------------------+-------------+------------+---------+\n",
      "LCM RESULTS FOR SEGMENT 8\n",
      "\n",
      "Null Log-liklihood: -23374.337\n",
      "Log-liklihood at convergence: -21724.165\n",
      "Log-liklihood Ratio: 0.071\n",
      "\n",
      "+---------------------------------+-------------+------------+---------+\n",
      "| Component                       | Coefficient | Std. Error | T-Score |\n",
      "+---------------------------------+-------------+------------+---------+\n",
      "| jobs_45                         |    -0.171   |   0.035    |  -4.852 |\n",
      "| ave_income_1500                 |    1.267    |   0.039    |  32.345 |\n",
      "| np.log1p(unit_residential_rent) |    1.179    |   0.074    |  15.890 |\n",
      "| embarcadero                     |    -0.025   |   0.001    | -20.203 |\n",
      "| pacheights                      |    -0.011   |   0.001    | -19.911 |\n",
      "| stanford                        |    -0.016   |   0.001    | -23.509 |\n",
      "+---------------------------------+-------------+------------+---------+\n",
      "Time to execute step 'ual_hlcm_renter_estimate': 22.89 s\n",
      "Total time to execute iteration 1 with iteration value None: 22.89 s\n"
     ]
    }
   ],
   "source": [
    "orca.run([\n",
    "    \"ual_hlcm_renter_estimate\"\n",
    "])"
   ]
  },
  {
   "cell_type": "code",
   "execution_count": null,
   "metadata": {
    "collapsed": true
   },
   "outputs": [],
   "source": []
  },
  {
   "cell_type": "code",
   "execution_count": null,
   "metadata": {
    "collapsed": true
   },
   "outputs": [],
   "source": []
  },
  {
   "cell_type": "code",
   "execution_count": null,
   "metadata": {
    "collapsed": true
   },
   "outputs": [],
   "source": []
  }
 ],
 "metadata": {
  "kernelspec": {
   "display_name": "Python 2",
   "language": "python",
   "name": "python2"
  },
  "language_info": {
   "codemirror_mode": {
    "name": "ipython",
    "version": 2
   },
   "file_extension": ".py",
   "mimetype": "text/x-python",
   "name": "python",
   "nbconvert_exporter": "python",
   "pygments_lexer": "ipython2",
   "version": "2.7.11"
  }
 },
 "nbformat": 4,
 "nbformat_minor": 0
}
