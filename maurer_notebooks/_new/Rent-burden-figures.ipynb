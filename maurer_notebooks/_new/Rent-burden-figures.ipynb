{
 "cells": [
  {
   "cell_type": "markdown",
   "metadata": {},
   "source": [
    "## Rent burden figures for ARB report\n",
    "\n",
    "Sam Maurer, updated October 2016 (based on \"Rent burden diagnostics\" in the parent directory)"
   ]
  },
  {
   "cell_type": "code",
   "execution_count": 1,
   "metadata": {
    "collapsed": false
   },
   "outputs": [],
   "source": [
    "%load_ext autoreload\n",
    "%aimport baus\n",
    "%autoreload 1\n",
    "%matplotlib inline"
   ]
  },
  {
   "cell_type": "code",
   "execution_count": 21,
   "metadata": {
    "collapsed": false
   },
   "outputs": [],
   "source": [
    "from baus import models\n",
    "from baus import ual\n",
    "import orca\n",
    "\n",
    "from matplotlib import pyplot as plt\n",
    "import numpy as np\n",
    "import pandas as pd"
   ]
  },
  {
   "cell_type": "code",
   "execution_count": 3,
   "metadata": {
    "collapsed": true
   },
   "outputs": [],
   "source": [
    "# To load the config files, urbansim.utils.misc expects to be running from the\n",
    "# root of an urbansim instance\n",
    "import os\n",
    "os.chdir(\"/Users/smmaurer/Dropbox/Git-rMBP/ual/bayarea_urbansim\")"
   ]
  },
  {
   "cell_type": "markdown",
   "metadata": {},
   "source": [
    "### Execute model steps to generate fitted rents"
   ]
  },
  {
   "cell_type": "code",
   "execution_count": 4,
   "metadata": {
    "collapsed": false,
    "scrolled": true
   },
   "outputs": [
    {
     "name": "stdout",
     "output_type": "stream",
     "text": [
      "Running step 'ual_initialize_residential_units'\n",
      "Filling column shape_area with value 602.839834979 (0 values)\n",
      "Filling column zone_id with value 1178 (0 values)\n",
      "Filling column building_type_id with value 1 (0 values)\n",
      "Filling column residential_units with value 0 (0 values)\n",
      "Filling column year_built with value 1967.0 (0 values)\n",
      "Filling column non_residential_sqft with value 0 (0 values)\n",
      "Total deed restricted units after random selection: 116407\n",
      "Total deed restricted units after truncating to res units: 113116\n",
      "Time to execute step 'ual_initialize_residential_units': 50.10 s\n",
      "Running step 'ual_match_households_to_units'\n",
      "Time to execute step 'ual_match_households_to_units': 85.57 s\n",
      "Running step 'ual_assign_tenure_to_units'\n",
      "Initial unit tenure assignment: 58% owner occupied, 6% unfilled\n",
      "Time to execute step 'ual_assign_tenure_to_units': 24.32 s\n",
      "Running step 'neighborhood_vars'\n",
      "Computing accessibility variables\n",
      "Computing retail_sqft_3000\n",
      "Computing sum_income_3000\n",
      "Removed 4409 rows because they contain missing values\n",
      "Computing residential_units_500\n",
      "Computing residential_units_1500\n",
      "Computing office_1500\n",
      "Computing retail_1500\n",
      "Computing industrial_1500\n",
      "Computing ave_sqft_per_unit\n",
      "Computing ave_lot_size_per_unit\n",
      "Computing population\n",
      "Computing poor\n",
      "Computing renters\n",
      "Computing sfdu\n",
      "Computing ave_hhsize\n",
      "Computing jobs_500\n",
      "Computing jobs_1500\n",
      "Computing ave_income_1500\n",
      "Computing ave_income_500\n",
      "       retail_sqft_3000  sum_income_3000  residential_units_500  \\\n",
      "count      2.260600e+05     2.260600e+05          226060.000000   \n",
      "mean       5.192649e+05     7.351806e+08               3.967628   \n",
      "std        8.148116e+05     9.472440e+08               1.689954   \n",
      "min        0.000000e+00     0.000000e+00               0.000000   \n",
      "25%        5.824947e+04     2.430790e+08               3.391803   \n",
      "50%        2.782084e+05     5.348411e+08               4.418590   \n",
      "75%        6.564669e+05     8.936937e+08               5.047662   \n",
      "max        9.902205e+06     9.260525e+09               8.623758   \n",
      "\n",
      "       residential_units_1500    office_1500    retail_1500  industrial_1500  \\\n",
      "count           226060.000000  226060.000000  226060.000000    226060.000000   \n",
      "mean                 5.958881       4.521855       3.747982         2.289049   \n",
      "std                  1.831334       2.476563       2.608197         2.589977   \n",
      "min                  0.000000       0.000000       0.000000         0.000000   \n",
      "25%                  5.516387       3.082115       0.390096         0.000000   \n",
      "50%                  6.444357       4.929439       4.513490         0.889120   \n",
      "75%                  7.027264       6.264249       5.859562         4.570215   \n",
      "max                 10.149472      11.784324       9.394248         8.924781   \n",
      "\n",
      "       ave_sqft_per_unit  ave_lot_size_per_unit     population           poor  \\\n",
      "count      226060.000000          226060.000000  226060.000000  226060.000000   \n",
      "mean            7.249298               8.926522       6.825074       5.324646   \n",
      "std             1.274311               1.932348       1.977952       1.974356   \n",
      "min             0.000000               0.000000       0.000000       0.000000   \n",
      "25%             7.279528               8.575155       6.402653       4.470420   \n",
      "50%             7.437082               8.864663       7.390789       5.743055   \n",
      "75%             7.608820               9.346504       7.992936       6.627428   \n",
      "max             8.699681              17.866968      10.524388       9.980847   \n",
      "\n",
      "             renters           sfdu     ave_hhsize       jobs_500  \\\n",
      "count  226060.000000  226060.000000  226060.000000  226060.000000   \n",
      "mean        4.066829       5.344162       1.260551       2.739055   \n",
      "std         1.517325       1.748989       0.255746       2.393263   \n",
      "min         0.000000       0.000000       0.000000       0.000000   \n",
      "25%         3.532047       4.961513       1.212801       0.000000   \n",
      "50%         4.439603       5.906911       1.291382       2.788451   \n",
      "75%         5.054503       6.438689       1.376037       4.788870   \n",
      "max         7.266850       8.095656       2.079442      10.423620   \n",
      "\n",
      "           jobs_1500  ave_income_1500  ave_income_500  \n",
      "count  226060.000000    226060.000000   226060.000000  \n",
      "mean        5.431088        11.195674       10.233214  \n",
      "std         2.243552         2.009126        2.988467  \n",
      "min         0.000000         0.000000        0.000000  \n",
      "25%         4.467522        11.314487       10.778977  \n",
      "50%         5.921146        11.513935       11.066654  \n",
      "75%         6.912155        11.737676       11.297266  \n",
      "max        11.715234        13.265079       13.438343  \n",
      "Time to execute step 'neighborhood_vars': 126.47 s\n",
      "Running step 'regional_vars'\n",
      "Computing accessibility variables\n",
      "Computing residential_units_45\n",
      "Computing jobs_15\n",
      "Computing jobs_45\n",
      "Computing sum_income_40\n",
      "Removed 4409 rows because they contain missing values\n",
      "       residential_units_45       jobs_15       jobs_45  sum_income_40  \\\n",
      "count          12016.000000  12016.000000  12016.000000   1.201600e+04   \n",
      "mean              13.161509     11.420562     13.418699   1.005272e+11   \n",
      "std                0.764591      1.298934      0.849373   3.968859e+10   \n",
      "min                0.000000      0.000000      5.272400   0.000000e+00   \n",
      "25%               13.119405     10.923395     13.350699   8.384193e+10   \n",
      "50%               13.417335     11.642433     13.740530   1.086236e+11   \n",
      "75%               13.590098     12.297377     13.904070   1.290579e+11   \n",
      "max               13.822374     13.079940     14.112826   1.694122e+11   \n",
      "\n",
      "        embarcadero    pacheights      stanford  \n",
      "count  12016.000000  12016.000000  12016.000000  \n",
      "mean      34.742410     69.130263     56.614012  \n",
      "std       18.559806     16.907736     25.413248  \n",
      "min        0.000000      0.000000      0.000000  \n",
      "25%       18.397501     75.000000     25.857000  \n",
      "50%       34.338501     75.000000     75.000000  \n",
      "75%       49.097249     75.000000     75.000000  \n",
      "max       75.000000     75.000000     75.000000  \n",
      "Time to execute step 'regional_vars': 190.83 s\n",
      "Running step 'ual_rsh_simulate'\n",
      "count    2.785868e+06\n",
      "mean     4.302539e+02\n",
      "std      2.056964e+02\n",
      "min     -4.326401e+03\n",
      "25%      2.834442e+02\n",
      "50%      3.971862e+02\n",
      "75%      5.385059e+02\n",
      "max      1.343483e+03\n",
      "dtype: float64\n",
      "Clipping produces\n",
      "count    2.785868e+06\n",
      "mean     4.353047e+02\n",
      "std      1.959401e+02\n",
      "min      2.000000e+02\n",
      "25%      2.834442e+02\n",
      "50%      3.971862e+02\n",
      "75%      5.385059e+02\n",
      "max      1.343483e+03\n",
      "Name: unit_residential_price, dtype: float64\n",
      "Time to execute step 'ual_rsh_simulate': 16.52 s\n",
      "Running step 'ual_rrh_simulate'\n",
      "count    2.785868e+06\n",
      "mean     2.218902e+00\n",
      "std      7.805216e-01\n",
      "min     -3.480095e+00\n",
      "25%      1.761685e+00\n",
      "50%      2.268455e+00\n",
      "75%      2.714222e+00\n",
      "max      4.543146e+00\n",
      "dtype: float64\n",
      "Clipping produces\n",
      "count    2.785868e+06\n",
      "mean     2.242878e+00\n",
      "std      7.218066e-01\n",
      "min      8.333333e-01\n",
      "25%      1.761685e+00\n",
      "50%      2.268455e+00\n",
      "75%      2.714222e+00\n",
      "max      4.543146e+00\n",
      "Name: unit_residential_rent, dtype: float64\n",
      "Time to execute step 'ual_rrh_simulate': 4.78 s\n",
      "Total time to execute iteration 1 with iteration value None: 498.60 s\n"
     ]
    },
    {
     "name": "stderr",
     "output_type": "stream",
     "text": [
      "/Users/smmaurer/anaconda/lib/python2.7/site-packages/pandas/computation/expressions.py:181: UserWarning: evaluating in Python space because the '*' operator is not supported by numexpr for the bool dtype, use '&' instead\n",
      "  unsupported[op_str]))\n"
     ]
    }
   ],
   "source": [
    "orca.run([\n",
    "    # initialization\n",
    "    \"ual_initialize_residential_units\",\n",
    "    \"ual_match_households_to_units\",\n",
    "    \"ual_assign_tenure_to_units\",\n",
    "    \"ual_load_rental_listings\",\n",
    "    # simulation\n",
    "    \"neighborhood_vars\",\n",
    "    \"regional_vars\",\n",
    "    \"ual_rsh_simulate\",\n",
    "    \"ual_rrh_simulate\",    \n",
    "])"
   ]
  },
  {
   "cell_type": "markdown",
   "metadata": {},
   "source": [
    "### Rent burden diagnostics\n",
    "\n",
    "`rent_burden` is a column that's added to the `households` table (in `variables.py`), calculated by dividing fitted yearly rent by PUMS household income. If either component is missing, rent burden is set to zero. \n",
    "\n",
    "Rent burden is computed even if a household is not renting, so when you're using it, restrict the population to rental households if necessary.\n",
    "\n",
    "Note that `unit_residential_rent` is a price per square foot, so the rent burden calculation also requires the `sqft_per_unit` column from the `buildings` table."
   ]
  },
  {
   "cell_type": "markdown",
   "metadata": {},
   "source": [
    "### Fitted rent per square foot\n",
    "\n",
    "(This looks different from the earlier version because it's derived from the MTC regression specifications instead of the UAL specifications. Can be changed as needed.)"
   ]
  },
  {
   "cell_type": "code",
   "execution_count": 5,
   "metadata": {
    "collapsed": true
   },
   "outputs": [],
   "source": [
    "u = orca.get_table(\"residential_units\")\n",
    "u = u.to_frame()"
   ]
  },
  {
   "cell_type": "code",
   "execution_count": 6,
   "metadata": {
    "collapsed": false
   },
   "outputs": [
    {
     "data": {
      "text/plain": [
       "count    2.785868e+06\n",
       "mean     2.242878e+00\n",
       "std      7.218066e-01\n",
       "min      8.333333e-01\n",
       "25%      1.761685e+00\n",
       "50%      2.268455e+00\n",
       "75%      2.714222e+00\n",
       "max      4.543146e+00\n",
       "Name: unit_residential_rent, dtype: float64"
      ]
     },
     "execution_count": 6,
     "metadata": {},
     "output_type": "execute_result"
    }
   ],
   "source": [
    "u.unit_residential_rent.describe()"
   ]
  },
  {
   "cell_type": "code",
   "execution_count": 75,
   "metadata": {
    "collapsed": false
   },
   "outputs": [
    {
     "data": {
      "text/plain": [
       "<matplotlib.text.Text at 0x125275490>"
      ]
     },
     "execution_count": 75,
     "metadata": {},
     "output_type": "execute_result"
    },
    {
     "data": {
      "image/png": "[encoded data removed]",
      "text/plain": [
       "<matplotlib.figure.Figure at 0x124b39190>"
      ]
     },
     "metadata": {},
     "output_type": "display_data"
    }
   ],
   "source": [
    "fig = plt.figure()\n",
    "plt.hist(u.unit_residential_rent, bins=50, alpha=0.75)\n",
    "plt.xlabel('Estimated monthly rent in dollars per square foot')\n",
    "plt.ylabel('Number of households')\n",
    "# fig.savefig('test.pdf')"
   ]
  },
  {
   "cell_type": "code",
   "execution_count": 8,
   "metadata": {
    "collapsed": false
   },
   "outputs": [
    {
     "data": {
      "text/plain": [
       "0"
      ]
     },
     "execution_count": 8,
     "metadata": {},
     "output_type": "execute_result"
    }
   ],
   "source": [
    "u.unit_residential_rent.isnull().sum()"
   ]
  },
  {
   "cell_type": "code",
   "execution_count": null,
   "metadata": {
    "collapsed": true
   },
   "outputs": [],
   "source": []
  },
  {
   "cell_type": "markdown",
   "metadata": {},
   "source": [
    "### Rent per square foot, from Craigslist data"
   ]
  },
  {
   "cell_type": "code",
   "execution_count": 44,
   "metadata": {
    "collapsed": false
   },
   "outputs": [],
   "source": [
    "c = orca.get_table(\"craigslist\")\n",
    "c = c.to_frame()"
   ]
  },
  {
   "cell_type": "code",
   "execution_count": 65,
   "metadata": {
    "collapsed": false
   },
   "outputs": [
    {
     "data": {
      "text/plain": [
       "count    73644.000000\n",
       "mean         4.697802\n",
       "std        183.768413\n",
       "min          0.000154\n",
       "25%          2.055256\n",
       "50%          2.587519\n",
       "75%          3.135714\n",
       "max      31145.389277\n",
       "Name: price_per_sqft, dtype: float64"
      ]
     },
     "execution_count": 65,
     "metadata": {},
     "output_type": "execute_result"
    }
   ],
   "source": [
    "c.price_per_sqft.describe()"
   ]
  },
  {
   "cell_type": "code",
   "execution_count": 90,
   "metadata": {
    "collapsed": false
   },
   "outputs": [
    {
     "data": {
      "image/png": "[encoded data removed]",
      "text/plain": [
       "<matplotlib.figure.Figure at 0x1241a9710>"
      ]
     },
     "metadata": {},
     "output_type": "display_data"
    }
   ],
   "source": [
    "fig = plt.figure()\n",
    "plt.hist(c.price_per_sqft[c.price_per_sqft<8], bins=50, alpha=0.75)\n",
    "plt.xlabel('Monthly market rent in dollars per square foot')\n",
    "plt.ylabel('Number of dwelling units')\n",
    "fig.savefig('Fig 3-5 rent per square foot.pdf')"
   ]
  },
  {
   "cell_type": "code",
   "execution_count": null,
   "metadata": {
    "collapsed": true
   },
   "outputs": [],
   "source": []
  },
  {
   "cell_type": "markdown",
   "metadata": {},
   "source": [
    "### Size of dwelling units, from the MTC building data"
   ]
  },
  {
   "cell_type": "code",
   "execution_count": 9,
   "metadata": {
    "collapsed": true
   },
   "outputs": [],
   "source": [
    "b = orca.get_table(\"buildings\")\n",
    "b = b.to_frame()"
   ]
  },
  {
   "cell_type": "code",
   "execution_count": 36,
   "metadata": {
    "collapsed": false
   },
   "outputs": [
    {
     "data": {
      "text/plain": [
       "count    1.843351e+06\n",
       "mean     1.857760e+03\n",
       "std      1.080698e+03\n",
       "min      4.000000e+02\n",
       "25%      1.200000e+03\n",
       "50%      1.636000e+03\n",
       "75%      2.124000e+03\n",
       "max      6.000000e+03\n",
       "Name: sqft_per_unit, dtype: float64"
      ]
     },
     "execution_count": 36,
     "metadata": {},
     "output_type": "execute_result"
    }
   ],
   "source": [
    "b.sqft_per_unit.describe()"
   ]
  },
  {
   "cell_type": "code",
   "execution_count": 77,
   "metadata": {
    "collapsed": false
   },
   "outputs": [
    {
     "data": {
      "image/png": "[encoded data removed]",
      "text/plain": [
       "<matplotlib.figure.Figure at 0x125481150>"
      ]
     },
     "metadata": {},
     "output_type": "display_data"
    }
   ],
   "source": [
    "fig = plt.figure()\n",
    "plt.hist(b.sqft_per_unit.values, bins=50, alpha=0.75)\n",
    "plt.xlabel('Size of dwelling unit in square feet')\n",
    "plt.ylabel('Number of dwelling units')\n",
    "# fig.savefig('test.pdf')"
   ]
  },
  {
   "cell_type": "code",
   "execution_count": 26,
   "metadata": {
    "collapsed": false
   },
   "outputs": [
    {
     "data": {
      "text/plain": [
       "0"
      ]
     },
     "execution_count": 26,
     "metadata": {},
     "output_type": "execute_result"
    }
   ],
   "source": [
    "b.sqft_per_unit.isnull().sum()"
   ]
  },
  {
   "cell_type": "code",
   "execution_count": null,
   "metadata": {
    "collapsed": true
   },
   "outputs": [],
   "source": []
  },
  {
   "cell_type": "markdown",
   "metadata": {},
   "source": [
    "### Size of dwelling units, from the Craiglist data"
   ]
  },
  {
   "cell_type": "code",
   "execution_count": 47,
   "metadata": {
    "collapsed": false
   },
   "outputs": [
    {
     "data": {
      "text/plain": [
       "count    7.364400e+04\n",
       "mean     1.196621e+03\n",
       "std      3.119264e+04\n",
       "min      1.000000e+00\n",
       "25%      7.200000e+02\n",
       "50%      9.040000e+02\n",
       "75%      1.160000e+03\n",
       "max      8.388607e+06\n",
       "Name: sqft_per_unit, dtype: float64"
      ]
     },
     "execution_count": 47,
     "metadata": {},
     "output_type": "execute_result"
    }
   ],
   "source": [
    "c.sqft_per_unit.describe()"
   ]
  },
  {
   "cell_type": "code",
   "execution_count": 78,
   "metadata": {
    "collapsed": false
   },
   "outputs": [
    {
     "data": {
      "image/png": "[encoded data removed]",
      "text/plain": [
       "<matplotlib.figure.Figure at 0x1255fd290>"
      ]
     },
     "metadata": {},
     "output_type": "display_data"
    }
   ],
   "source": [
    "fig = plt.figure()\n",
    "plt.hist(c.sqft_per_unit[c.sqft_per_unit < 4000].values, bins=50, alpha=0.75)\n",
    "plt.xlabel('Size of dwelling unit in square feet')\n",
    "plt.ylabel('Number of dwelling units')\n",
    "fig.savefig('Fig 3-6 size of dwelling units.pdf')"
   ]
  },
  {
   "cell_type": "code",
   "execution_count": null,
   "metadata": {
    "collapsed": true
   },
   "outputs": [],
   "source": []
  },
  {
   "cell_type": "markdown",
   "metadata": {},
   "source": [
    "### Household income, from PUMS-based synthetic population"
   ]
  },
  {
   "cell_type": "code",
   "execution_count": 14,
   "metadata": {
    "collapsed": true
   },
   "outputs": [],
   "source": [
    "h = orca.get_table(\"households\")\n",
    "h = h.to_frame()"
   ]
  },
  {
   "cell_type": "code",
   "execution_count": 15,
   "metadata": {
    "collapsed": false
   },
   "outputs": [
    {
     "data": {
      "text/plain": [
       "count    2.608019e+06\n",
       "mean     8.138398e+04\n",
       "std      8.149481e+04\n",
       "min     -2.000000e+04\n",
       "25%      3.020000e+04\n",
       "50%      6.090000e+04\n",
       "75%      1.020000e+05\n",
       "max      1.968504e+06\n",
       "Name: income, dtype: float64"
      ]
     },
     "execution_count": 15,
     "metadata": {},
     "output_type": "execute_result"
    }
   ],
   "source": [
    "# Household income\n",
    "h.income.describe()"
   ]
  },
  {
   "cell_type": "code",
   "execution_count": 16,
   "metadata": {
    "collapsed": false
   },
   "outputs": [
    {
     "data": {
      "text/plain": [
       "<matplotlib.axes._subplots.AxesSubplot at 0x1acc79510>"
      ]
     },
     "execution_count": 16,
     "metadata": {},
     "output_type": "execute_result"
    },
    {
     "data": {
      "image/png": "[encoded data removed]",
      "text/plain": [
       "<matplotlib.figure.Figure at 0x155f9c2d0>"
      ]
     },
     "metadata": {},
     "output_type": "display_data"
    }
   ],
   "source": [
    "h.income[h.income < 500000].hist(bins=50)\n",
    "# households with negative income are set to zero rent burden"
   ]
  },
  {
   "cell_type": "code",
   "execution_count": null,
   "metadata": {
    "collapsed": true
   },
   "outputs": [],
   "source": []
  },
  {
   "cell_type": "markdown",
   "metadata": {},
   "source": [
    "### Rent burden, from fitted rents and PUMS-based synthetic incomes"
   ]
  },
  {
   "cell_type": "code",
   "execution_count": 83,
   "metadata": {
    "collapsed": true
   },
   "outputs": [],
   "source": [
    "# Not currently defined in the households table, so bringing back earlier defs\n",
    "\n",
    "from urbansim.utils import misc\n",
    "\n",
    "@orca.column('households', 'positive_income')\n",
    "def positive_income(households):\n",
    "    inc = households.income\n",
    "    inc[inc < 1] = 1\n",
    "    return inc.fillna(1)\n",
    "\n",
    "@orca.column('households', 'hh_monthly_rent')\n",
    "def hh_monthly_rent(households, buildings, residential_units):\n",
    "    rent = misc.reindex(residential_units.unit_residential_rent, households.unit_id)\n",
    "    sqft = misc.reindex(buildings.sqft_per_unit, households.unit_id)\n",
    "    return rent.multiply(sqft).fillna(0)\n",
    "\n",
    "@orca.column('households', 'rent_burden')\n",
    "def rent_burden(households):\n",
    "    rb = households.hh_monthly_rent.multiply(12).divide(households.positive_income)\n",
    "    return rb.replace([np.inf, -np.inf], np.nan).fillna(0)"
   ]
  },
  {
   "cell_type": "code",
   "execution_count": 84,
   "metadata": {
    "collapsed": false
   },
   "outputs": [],
   "source": [
    "h = orca.get_table(\"households\")\n",
    "h = h.to_frame()"
   ]
  },
  {
   "cell_type": "code",
   "execution_count": 85,
   "metadata": {
    "collapsed": false
   },
   "outputs": [
    {
     "data": {
      "text/plain": [
       "count    2.608019e+06\n",
       "mean     5.154600e+02\n",
       "std      6.411310e+03\n",
       "min      0.000000e+00\n",
       "25%      0.000000e+00\n",
       "50%      3.381574e-01\n",
       "75%      1.041760e+00\n",
       "max      3.268160e+05\n",
       "Name: rent_burden, dtype: float64"
      ]
     },
     "execution_count": 85,
     "metadata": {},
     "output_type": "execute_result"
    }
   ],
   "source": [
    "# Rent burden\n",
    "h.rent_burden.describe()"
   ]
  },
  {
   "cell_type": "code",
   "execution_count": 91,
   "metadata": {
    "collapsed": false
   },
   "outputs": [
    {
     "data": {
      "image/png": "[encoded data removed]",
      "text/plain": [
       "<matplotlib.figure.Figure at 0x28ac83550>"
      ]
     },
     "metadata": {},
     "output_type": "display_data"
    }
   ],
   "source": [
    "trimmed_burden = h.rent_burden[(h.hownrent == 2) & (h.rent_burden > 0) & (h.rent_burden < 2)]\n",
    "\n",
    "fig = plt.figure()\n",
    "plt.hist(trimmed_burden.values, bins=50, alpha=0.75)\n",
    "plt.xlabel('Simulated ratio of market rent to household income')\n",
    "plt.ylabel('Number of households')\n",
    "fig.savefig('Fig 3-7 rent burden.pdf')"
   ]
  },
  {
   "cell_type": "code",
   "execution_count": null,
   "metadata": {
    "collapsed": true
   },
   "outputs": [],
   "source": []
  },
  {
   "cell_type": "code",
   "execution_count": null,
   "metadata": {
    "collapsed": true
   },
   "outputs": [],
   "source": []
  },
  {
   "cell_type": "code",
   "execution_count": null,
   "metadata": {
    "collapsed": true
   },
   "outputs": [],
   "source": []
  },
  {
   "cell_type": "code",
   "execution_count": null,
   "metadata": {
    "collapsed": true
   },
   "outputs": [],
   "source": []
  }
 ],
 "metadata": {
  "kernelspec": {
   "display_name": "Python 2",
   "language": "python",
   "name": "python2"
  },
  "language_info": {
   "codemirror_mode": {
    "name": "ipython",
    "version": 2
   },
   "file_extension": ".py",
   "mimetype": "text/x-python",
   "name": "python",
   "nbconvert_exporter": "python",
   "pygments_lexer": "ipython2",
   "version": "2.7.11"
  }
 },
 "nbformat": 4,
 "nbformat_minor": 0
}
