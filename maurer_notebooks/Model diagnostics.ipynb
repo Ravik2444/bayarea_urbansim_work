{
 "cells": [
  {
   "cell_type": "markdown",
   "metadata": {},
   "source": [
    "## Model diagnostics\n",
    "\n",
    "Sam Maurer, August 2015"
   ]
  },
  {
   "cell_type": "code",
   "execution_count": 11,
   "metadata": {
    "collapsed": false
   },
   "outputs": [
    {
     "name": "stdout",
     "output_type": "stream",
     "text": [
      "The autoreload extension is already loaded. To reload it, use:\n",
      "  %reload_ext autoreload\n"
     ]
    }
   ],
   "source": [
    "%load_ext autoreload\n",
    "%autoreload 2\n",
    "if 'sim' not in globals():\n",
    "    import os; os.chdir('..')\n",
    "import models\n",
    "import datasources\n",
    "import pandas as pd\n",
    "import numpy as np\n",
    "import urbansim.sim.simulation as sim\n",
    "import warnings \n",
    "warnings.filterwarnings(\"ignore\", category=FutureWarning)  # triggered by hh transition model"
   ]
  },
  {
   "cell_type": "markdown",
   "metadata": {},
   "source": [
    "## Step through models for testing"
   ]
  },
  {
   "cell_type": "code",
   "execution_count": 2,
   "metadata": {
    "collapsed": false
   },
   "outputs": [
    {
     "name": "stdout",
     "output_type": "stream",
     "text": [
      "Running model 'neighborhood_vars'\n",
      "Computing accessibility variables\n",
      "Computing sum_residential_units\n",
      "Filling column building_type_id with value 1 (0 values)\n",
      "Filling column residential_units with value 0 (0 values)\n",
      "Filling column year_built with value 1966.0 (0 values)\n",
      "Filling column non_residential_sqft with value 0 (0 values)\n",
      "Filling column shape_area with value 604.336158108 (0 values)\n",
      "Filling column zone_id with value 1178 (0 values)\n",
      "Removed 4 rows because they contain missing values\n",
      "Computing sum_nonresidential_units\n",
      "Removed 4 rows because they contain missing values\n",
      "Computing ave_sqft_per_unit\n",
      "Removed 2 rows because they contain missing values\n",
      "Computing ave_lot_size_per_unit\n",
      "Removed 2 rows because they contain missing values\n",
      "Computing population\n",
      "Removed 79699 rows because they contain missing values\n",
      "Computing poor\n",
      "Removed 53966 rows because they contain missing values\n",
      "Computing renters\n",
      "Removed 4919 rows because they contain missing values\n",
      "Computing sfdu\n",
      "Removed 1 rows because they contain missing values\n",
      "Computing ave_hhsize\n",
      "Removed 79699 rows because they contain missing values\n",
      "Computing jobs\n",
      "Removed 335847 rows because they contain missing values\n",
      "Computing ave_income\n",
      "Removed 79699 rows because they contain missing values\n",
      "       sum_residential_units  sum_nonresidential_units  ave_sqft_per_unit  \\\n",
      "count          226060.000000             226060.000000      226060.000000   \n",
      "mean                5.959514                  0.356974           7.253990   \n",
      "std                 1.829774                  1.369450           1.322188   \n",
      "min                 0.000000                  0.000000           0.000000   \n",
      "25%                 5.517122                  0.000000           7.274734   \n",
      "50%                 6.443716                  0.000000           7.436141   \n",
      "75%                 7.027581                  0.000000           7.619552   \n",
      "max                10.149053                  9.289473          12.261587   \n",
      "\n",
      "       ave_lot_size_per_unit     population           poor        renters  \\\n",
      "count          226060.000000  226060.000000  226060.000000  226060.000000   \n",
      "mean                8.929325       6.825222       5.364583       4.052799   \n",
      "std                 1.933885       1.974722       1.966804       1.519042   \n",
      "min                 0.000000       0.000000       0.000000       0.000000   \n",
      "25%                 8.563902       6.400006       4.527863       3.515182   \n",
      "50%                 8.892104       7.388408       5.782053       4.429089   \n",
      "75%                 9.366335       7.991653       6.655447       5.041201   \n",
      "max                17.866968      10.553695      10.054707       7.257352   \n",
      "\n",
      "                sfdu     ave_hhsize           jobs     ave_income  \n",
      "count  226060.000000  226060.000000  226060.000000  226060.000000  \n",
      "mean        5.343503       1.248314       5.301676      10.934405  \n",
      "std         1.749075       0.255475       2.241773       1.963425  \n",
      "min         0.000000       0.000000       0.000000       0.000000  \n",
      "25%         4.958143       1.199913       4.195709      11.037583  \n",
      "50%         5.906678       1.279782       5.800459      11.259089  \n",
      "75%         6.438469       1.367688       6.826297      11.488537  \n",
      "max         8.095656       2.079442      11.713364      13.171155  \n",
      "Time to execute model 'neighborhood_vars': 68.80s\n",
      "Total time to execute: 68.80s\n"
     ]
    }
   ],
   "source": [
    "sim.run(['neighborhood_vars'])"
   ]
  },
  {
   "cell_type": "code",
   "execution_count": 3,
   "metadata": {
    "collapsed": false
   },
   "outputs": [
    {
     "name": "stdout",
     "output_type": "stream",
     "text": [
      "Running model 'rsh_simulate'\n",
      "Initial unit tenure assignment: 56% owner occupied, 4% unfilled\n",
      "count    2783946.000000\n",
      "mean         490.848407\n",
      "std          953.666059\n",
      "min            4.735692\n",
      "25%          343.644105\n",
      "50%          414.596910\n",
      "75%          515.253913\n",
      "max       145819.166232\n",
      "dtype: float64\n",
      "Time to execute model 'rsh_simulate': 39.51s\n",
      "Running model 'rrh_simulate'\n",
      "count    2783946.000000\n",
      "mean           2.490079\n",
      "std            1.451327\n",
      "min            0.142537\n",
      "25%            1.837280\n",
      "50%            2.239401\n",
      "75%            2.822274\n",
      "max           39.304053\n",
      "dtype: float64\n",
      "Time to execute model 'rrh_simulate': 4.71s\n",
      "Total time to execute: 44.23s\n"
     ]
    }
   ],
   "source": [
    "sim.run(['rsh_simulate', 'rrh_simulate'])"
   ]
  },
  {
   "cell_type": "code",
   "execution_count": 4,
   "metadata": {
    "collapsed": false
   },
   "outputs": [
    {
     "name": "stdout",
     "output_type": "stream",
     "text": [
      "Running model 'households_relocation_filtered'\n",
      "Rate-based relocation model with filters\n",
      "Category: owner\n",
      "Relocation rate: 0.15\n",
      "Total agents: 1530771\n",
      "Total currently unplaced: 18434\n",
      "Assigning for relocation...\n",
      "Additional unplaced: 229615\n",
      "Category: renter\n",
      "Relocation rate: 0.25\n",
      "Total agents: 1201951\n",
      "Total currently unplaced: 59459\n",
      "Assigning for relocation...\n",
      "Additional unplaced: 300487\n",
      "Time to execute model 'households_relocation_filtered': 10.69s\n",
      "Total time to execute: 10.69s\n"
     ]
    }
   ],
   "source": [
    "sim.run(['households_relocation_filtered'])"
   ]
  },
  {
   "cell_type": "code",
   "execution_count": 5,
   "metadata": {
    "collapsed": false
   },
   "outputs": [
    {
     "name": "stdout",
     "output_type": "stream",
     "text": [
      "Running year 2010\n",
      "Running model 'households_transition'\n",
      "Total agents before transition: 2732722\n",
      "Total agents after transition: 2613055\n",
      "Time to execute model 'households_transition': 5.88s\n",
      "Total time to execute year 2010: 5.88s\n",
      "Running year 2011\n",
      "Running model 'households_transition'\n",
      "Total agents before transition: 2613055\n",
      "Total agents after transition: 2626030\n",
      "Time to execute model 'households_transition': 4.48s\n",
      "Total time to execute year 2011: 4.48s\n"
     ]
    }
   ],
   "source": [
    "sim.run(['households_transition'], years=[2010])"
   ]
  },
  {
   "cell_type": "code",
   "execution_count": 6,
   "metadata": {
    "collapsed": false
   },
   "outputs": [
    {
     "name": "stdout",
     "output_type": "stream",
     "text": [
      "Running model 'hlcm_owner_simulate'\n",
      "There are 2785789 total available units\n",
      "    and 2626030 total choosers\n",
      "    but there are 0 overfull buildings\n",
      "    for a total of 883929 temporarily empty units\n",
      "    in 883929 buildings total in the region\n",
      "WARNING: 587 indexes aren't found in the locations df -\n",
      "    this is usually because of a few records that don't join \n",
      "    correctly between the locations df and the aggregations tables\n",
      "There are 724170 total movers for this LCM\n",
      "Assigned 356602 choosers to new units\n",
      "Total currently unplaced: 367568\n",
      "    and there are now 527327 empty units\n",
      "    and 0 overfull buildings\n",
      "Time to execute model 'hlcm_owner_simulate': 25.10s\n",
      "Running model 'hlcm_renter_simulate'\n",
      "There are 2785789 total available units\n",
      "    and 2626030 total choosers\n",
      "    but there are 0 overfull buildings\n",
      "    for a total of 527327 temporarily empty units\n",
      "    in 527327 buildings total in the region\n",
      "WARNING: 587 indexes aren't found in the locations df -\n",
      "    this is usually because of a few records that don't join \n",
      "    correctly between the locations df and the aggregations tables\n",
      "There are 367568 total movers for this LCM\n",
      "Assigned 367568 choosers to new units\n",
      "Total currently unplaced: 0\n",
      "    and there are now 159759 empty units\n",
      "    and 0 overfull buildings\n",
      "Time to execute model 'hlcm_renter_simulate': 26.94s\n",
      "Total time to execute: 52.04s\n"
     ]
    }
   ],
   "source": [
    "sim.run(['hlcm_owner_simulate', 'hlcm_renter_simulate'])"
   ]
  },
  {
   "cell_type": "markdown",
   "metadata": {},
   "source": [
    "## Developer portion"
   ]
  },
  {
   "cell_type": "code",
   "execution_count": 7,
   "metadata": {
    "collapsed": false
   },
   "outputs": [
    {
     "name": "stdout",
     "output_type": "stream",
     "text": [
      "Running model 'price_vars'\n",
      "Computing accessibility variables\n",
      "Computing residential_price\n",
      "Removed 1843 rows because they contain missing values\n",
      "Computing residential_rent\n",
      "Removed 1843 rows because they contain missing values\n",
      "Computing retail\n",
      "Computing office\n",
      "Removed 2 rows because they contain missing values\n",
      "Computing industrial\n",
      "       residential_price  residential_rent  retail  office  industrial\n",
      "count      226060.000000     226060.000000  226060  226060      226060\n",
      "mean          460.538713          2.533575       0       0           0\n",
      "std           625.040951          1.327844       0       0           0\n",
      "min             0.000000          0.000000       0       0           0\n",
      "25%           356.389023          1.889357       0       0           0\n",
      "50%           415.909058          2.302740       0       0           0\n",
      "75%           479.985909          2.814306       0       0           0\n",
      "max         26261.121094         39.304054       0       0           0\n",
      "Time to execute model 'price_vars': 59.77s\n",
      "Total time to execute: 59.77s\n"
     ]
    }
   ],
   "source": [
    "sim.run(['price_vars'])"
   ]
  },
  {
   "cell_type": "code",
   "execution_count": 8,
   "metadata": {
    "collapsed": false
   },
   "outputs": [
    {
     "name": "stdout",
     "output_type": "stream",
     "text": [
      "Running model 'cap_rate_precompute'\n",
      "Time to execute model 'cap_rate_precompute': 0.04s\n",
      "Total time to execute: 0.04s\n"
     ]
    }
   ],
   "source": [
    "sim.run(['cap_rate_precompute'])"
   ]
  },
  {
   "cell_type": "code",
   "execution_count": 9,
   "metadata": {
    "collapsed": false
   },
   "outputs": [
    {
     "name": "stdout",
     "output_type": "stream",
     "text": [
      "Running model 'feasibility'\n",
      "Describe of the yearly rent by use\n",
      "        retail  industrial   office  residential_ownerocc  residential_rented\n",
      "count  1396450     1396450  1396450        1396450.000000      1396450.000000\n",
      "mean         0           0        0             32.494613           35.767049\n",
      "std          0           0        0             18.456882           13.608384\n",
      "min          0           0        0              0.000000            0.000000\n",
      "25%          0           0        0             27.339169           26.928735\n",
      "50%          0           0        0             31.289056           32.519138\n",
      "75%          0           0        0             35.211026           39.644669\n",
      "max          0           0        0           1985.340820          565.978381\n",
      "Computing feasibility for form mixedresidential_ownerocc\n",
      "Computing feasibility for form residential_rented\n",
      "Computing feasibility for form mixedoffice_rented\n",
      "Computing feasibility for form industrial\n",
      "Computing feasibility for form office\n",
      "Computing feasibility for form residential_ownerocc\n",
      "Computing feasibility for form mixedresidential_rented\n",
      "Computing feasibility for form mixedoffice_ownerocc\n",
      "Computing feasibility for form retail\n",
      "Time to execute model 'feasibility': 45.91s\n",
      "Total time to execute: 45.91s\n"
     ]
    },
    {
     "name": "stderr",
     "output_type": "stream",
     "text": [
      "/Users/smmaurer/anaconda/lib/python2.7/site-packages/pandas/io/parsers.py:1164: DtypeWarning: Columns (2) have mixed types. Specify dtype option on import or set low_memory=False.\n",
      "  data = self._reader.read(nrows)\n"
     ]
    }
   ],
   "source": [
    "sim.run(['feasibility'])"
   ]
  },
  {
   "cell_type": "code",
   "execution_count": 10,
   "metadata": {
    "collapsed": false
   },
   "outputs": [
    {
     "name": "stdout",
     "output_type": "stream",
     "text": [
      "Running year 2010\n",
      "Running model 'residential_developer'\n",
      "Number of agents: 2,626,030\n",
      "Number of agent spaces: 2,785,789\n",
      "Current vacancy = 0.06\n",
      "Target vacancy = 0.08, target of new units = 68,591\n",
      "273,657 feasible buildings before running developer\n",
      "Sum of net units that are profitable: 276,793\n",
      "Adding 1,720 buildings with 72,875 residential_units\n",
      "271,937 feasible buildings after running developer\n",
      "Unplaced households before: 0\n",
      "Unplaced households after: 4041\n",
      "Unplaced jobs before: 334493\n",
      "Unplaced jobs after: 383535\n",
      "Adding 72,875 units to the residential_units table\n",
      "Time to execute model 'residential_developer': 13.63s\n",
      "Total time to execute year 2010: 13.63s\n"
     ]
    }
   ],
   "source": [
    "sim.run(['residential_developer'], years=[2010])"
   ]
  },
  {
   "cell_type": "code",
   "execution_count": 20,
   "metadata": {
    "collapsed": false
   },
   "outputs": [
    {
     "name": "stdout",
     "output_type": "stream",
     "text": [
      "         building_id  deed_restricted  num_units  unit_num  \\\n",
      "unit_id                                                      \n",
      "0                  1                0          1         0   \n",
      "1                  2                0          1         0   \n",
      "2                  3                0          1         0   \n",
      "3                  4                0          1         0   \n",
      "4                  5                0          1         0   \n",
      "\n",
      "         unit_residential_price  unit_residential_rent  unit_tenure  \n",
      "unit_id                                                              \n",
      "0                    379.796674               2.245173            1  \n",
      "1                    276.307293               1.759218            0  \n",
      "2                    298.721028               1.846726            0  \n",
      "3                    311.087232               1.905063            1  \n",
      "4                    322.880588               2.124458            0  \n",
      "count    1720.000000\n",
      "mean      859.500000\n",
      "std       496.665548\n",
      "min         0.000000\n",
      "25%       429.750000\n",
      "50%       859.500000\n",
      "75%      1289.250000\n",
      "max      1719.000000\n",
      "dtype: float64\n",
      "count    1841285.000000\n",
      "mean      921306.826530\n",
      "std       532049.316604\n",
      "min            1.000000\n",
      "25%       460578.000000\n",
      "50%       921032.000000\n",
      "75%      1381998.000000\n",
      "max      1843008.000000\n",
      "dtype: float64\n",
      "         building_id                form\n",
      "unit_id                                 \n",
      "0                  1  residential_rented\n",
      "2786246            1  residential_rented\n",
      "2786247            1  residential_rented\n",
      "2786248            1  residential_rented\n",
      "2786249            1  residential_rented\n",
      "Assigned ownership tenure to 0 units\n",
      "Assigned rental tenure to 0 units\n",
      "Assigned random tenure to 0 units\n"
     ]
    },
    {
     "data": {
      "text/plain": [
       "<urbansim.sim.simulation.DataFrameWrapper at 0x15fcaa0d0>"
      ]
     },
     "execution_count": 20,
     "metadata": {},
     "output_type": "execute_result"
    }
   ],
   "source": [
    "# assign tenure status to new units --\n",
    "# will need to do the same thing in the other developer model too, for \n",
    "# residential portion of mixed-use buildings\n",
    "\n",
    "new_buildings = sim.get_table(\"new_buildings\").to_frame()\n",
    "buildings = sim.get_table(\"buildings\")\n",
    "b = buildings.to_frame(buildings.local_columns)\n",
    "\n",
    "units = sim.get_table(\"residential_units\")\n",
    "u = units.to_frame(units.local_columns)\n",
    "\n",
    "print u.head()\n",
    "print pd.Series(new_buildings.index.values).describe()\n",
    "print pd.Series(b.index.values).describe()\n",
    "\n",
    "f = u[['building_id']].merge(new_buildings[['form']], \\\n",
    "                             left_on='building_id', right_index=True)\n",
    "\n",
    "print f.head()\n",
    "\n",
    "o_forms = ['residential_ownerocc']  # owner-occupied building form names\n",
    "r_forms = ['residential_rented']  # rented building form names\n",
    "\n",
    "ownerocc = u[u.unit_tenure.isnull() & f.form.isin(o_forms)].index\n",
    "u.loc[ownerocc, 'unit_tenure'] = 0\n",
    "print \"Assigned ownership tenure to %d units\" % len(ownerocc)\n",
    "\n",
    "rented = u[u.unit_tenure.isnull() & f.form.isin(r_forms)].index\n",
    "u.loc[rented, 'unit_tenure'] = 1\n",
    "print \"Assigned rental tenure to %d units\" % len(rented)\n",
    "\n",
    "unassigned = u[u.unit_tenure.isnull()].index\n",
    "u.loc[unassigned, 'unit_tenure'] = np.random.randint(0, 2, len(unassigned))\n",
    "print \"Assigned random tenure to %d units\" % len(unassigned)\n",
    "\n",
    "sim.add_table(\"residential_units\", u)\n"
   ]
  },
  {
   "cell_type": "code",
   "execution_count": null,
   "metadata": {
    "collapsed": true
   },
   "outputs": [],
   "source": []
  },
  {
   "cell_type": "code",
   "execution_count": null,
   "metadata": {
    "collapsed": true
   },
   "outputs": [],
   "source": []
  },
  {
   "cell_type": "code",
   "execution_count": null,
   "metadata": {
    "collapsed": true
   },
   "outputs": [],
   "source": []
  },
  {
   "cell_type": "code",
   "execution_count": null,
   "metadata": {
    "collapsed": true
   },
   "outputs": [],
   "source": []
  },
  {
   "cell_type": "code",
   "execution_count": null,
   "metadata": {
    "collapsed": true
   },
   "outputs": [],
   "source": []
  },
  {
   "cell_type": "code",
   "execution_count": null,
   "metadata": {
    "collapsed": true
   },
   "outputs": [],
   "source": []
  },
  {
   "cell_type": "code",
   "execution_count": null,
   "metadata": {
    "collapsed": true
   },
   "outputs": [],
   "source": []
  },
  {
   "cell_type": "code",
   "execution_count": null,
   "metadata": {
    "collapsed": true
   },
   "outputs": [],
   "source": []
  },
  {
   "cell_type": "code",
   "execution_count": 14,
   "metadata": {
    "collapsed": false
   },
   "outputs": [
    {
     "name": "stdout",
     "output_type": "stream",
     "text": [
      "['development_type_id', 'land_value', 'acres', 'county_id', 'zone_id', 'zoning_id', 'proportion_undevelopable', 'tax_exempt_status', 'apn', 'parcel_id_local', 'geom_id', 'imputation_flag', 'x', 'y', 'shape_area', '_node_id', 'ave_sqft_per_unit', 'cost_shifters', 'building_purchase_price', 'max_height', 'total_job_spaces', 'residential_sales_price_sqft', 'parcel_acres', 'node_id', 'residential_purchase_price_sqft', 'total_residential_units', 'land_cost', 'total_sqft', 'county', 'lot_size_per_unit', 'max_far', 'parcel_size', 'building_purchase_price_sqft', 'zoned_du', 'max_dua', 'ave_unit_size', 'oldest_building', 'zoned_du_underbuild']\n"
     ]
    }
   ],
   "source": [
    "print sim.get_table('parcels').columns"
   ]
  },
  {
   "cell_type": "code",
   "execution_count": 12,
   "metadata": {
    "collapsed": true
   },
   "outputs": [],
   "source": [
    "df = sim.get_table('parcels').to_frame()"
   ]
  },
  {
   "cell_type": "code",
   "execution_count": 19,
   "metadata": {
    "collapsed": false
   },
   "outputs": [
    {
     "name": "stdout",
     "output_type": "stream",
     "text": [
      "[dtype('int64'), dtype('float64'), dtype('float64'), dtype('int64'), dtype('int64'), dtype('int64'), dtype('float64'), dtype('int64'), dtype('O'), dtype('O'), dtype('int64'), dtype('O'), dtype('float64'), dtype('float64'), dtype('float64'), dtype('float64'), dtype('float64'), dtype('float64'), dtype('float64'), dtype('O'), dtype('float64'), dtype('float64'), dtype('float64'), dtype('float64'), dtype('int64'), dtype('float32'), dtype('float64'), dtype('float64'), dtype('float64'), dtype('float64'), dtype('float32'), dtype('float64'), dtype('float64'), dtype('float64'), dtype('float64'), dtype('float64'), dtype('float64'), dtype('float64')]\n"
     ]
    }
   ],
   "source": [
    "print [df[c].dtype for c in df.columns]"
   ]
  },
  {
   "cell_type": "code",
   "execution_count": null,
   "metadata": {
    "collapsed": true
   },
   "outputs": [],
   "source": []
  },
  {
   "cell_type": "code",
   "execution_count": 8,
   "metadata": {
    "collapsed": false
   },
   "outputs": [
    {
     "name": "stdout",
     "output_type": "stream",
     "text": [
      "['parcel_id', 'residential_units', 'residential_sqft', 'non_residential_sqft', 'building_sqft', 'stories', 'year_built', 'redfin_sale_year', 'building_type_id', 'residential_price', 'non_residential_price']\n"
     ]
    }
   ],
   "source": [
    "print sim.get_table('buildings').local_columns"
   ]
  },
  {
   "cell_type": "code",
   "execution_count": 9,
   "metadata": {
    "collapsed": false
   },
   "outputs": [
    {
     "name": "stdout",
     "output_type": "stream",
     "text": [
      "['sqft_per_unit', 'node_id', 'residential_price', 'vacant_residential_units', 'residential_rent', 'general_type', 'vacant_job_spaces', 'sqft_per_job', 'lot_size_per_unit', 'job_spaces', 'zone_id']\n"
     ]
    }
   ],
   "source": [
    "print [p[1] for p in sim.list_columns() if p[0]=='buildings']"
   ]
  },
  {
   "cell_type": "code",
   "execution_count": 10,
   "metadata": {
    "collapsed": false
   },
   "outputs": [
    {
     "name": "stdout",
     "output_type": "stream",
     "text": [
      "['building_id', 'deed_restricted', 'num_units', 'unit_num', 'unit_residential_price', 'unit_residential_rent', 'unit_tenure']\n"
     ]
    }
   ],
   "source": [
    "print sim.get_table('residential_units').local_columns"
   ]
  },
  {
   "cell_type": "code",
   "execution_count": 11,
   "metadata": {
    "collapsed": false
   },
   "outputs": [
    {
     "name": "stdout",
     "output_type": "stream",
     "text": [
      "['zone_id', 'submarket_id', 'vacant_units', 'node_id']\n"
     ]
    }
   ],
   "source": [
    "print [p[1] for p in sim.list_columns() if p[0]=='residential_units']"
   ]
  },
  {
   "cell_type": "code",
   "execution_count": null,
   "metadata": {
    "collapsed": true
   },
   "outputs": [],
   "source": []
  },
  {
   "cell_type": "code",
   "execution_count": 26,
   "metadata": {
    "collapsed": false
   },
   "outputs": [],
   "source": [
    "df = pd.DataFrame.from_dict({'a': [1,2,3], 'b': [4,5,6]})"
   ]
  },
  {
   "cell_type": "code",
   "execution_count": 31,
   "metadata": {
    "collapsed": false
   },
   "outputs": [
    {
     "data": {
      "text/plain": [
       "pandas.core.frame.DataFrame"
      ]
     },
     "execution_count": 31,
     "metadata": {},
     "output_type": "execute_result"
    }
   ],
   "source": [
    "type(df[['a']])"
   ]
  },
  {
   "cell_type": "code",
   "execution_count": 35,
   "metadata": {
    "collapsed": false
   },
   "outputs": [
    {
     "name": "stdout",
     "output_type": "stream",
     "text": [
      "Index([u'a', u'b'], dtype='object')\n"
     ]
    }
   ],
   "source": [
    "print df.columns"
   ]
  },
  {
   "cell_type": "code",
   "execution_count": null,
   "metadata": {
    "collapsed": true
   },
   "outputs": [],
   "source": []
  },
  {
   "cell_type": "code",
   "execution_count": null,
   "metadata": {
    "collapsed": true
   },
   "outputs": [],
   "source": []
  },
  {
   "cell_type": "code",
   "execution_count": 10,
   "metadata": {
    "collapsed": false
   },
   "outputs": [
    {
     "name": "stdout",
     "output_type": "stream",
     "text": [
      "[('mixedresidential_ownerocc', 'building_cost'), ('mixedresidential_ownerocc', 'building_revenue'), ('mixedresidential_ownerocc', 'building_sqft'), ('mixedresidential_ownerocc', 'max_profit'), ('mixedresidential_ownerocc', 'max_profit_far'), ('mixedresidential_ownerocc', 'total_cost'), ('mixedresidential_ownerocc', 'oldest_building'), ('mixedresidential_ownerocc', 'total_sqft'), ('mixedresidential_ownerocc', 'max_far'), ('mixedresidential_ownerocc', 'max_dua'), ('mixedresidential_ownerocc', 'land_cost'), ('mixedresidential_ownerocc', 'min_max_fars'), ('mixedresidential_ownerocc', 'max_far_from_dua'), ('mixedresidential_ownerocc', 'max_height'), ('mixedresidential_ownerocc', 'max_far_from_heights'), ('mixedresidential_ownerocc', 'building_purchase_price'), ('mixedresidential_ownerocc', 'building_purchase_price_sqft'), ('mixedresidential_ownerocc', 'residential_sqft'), ('mixedresidential_ownerocc', 'non_residential_sqft'), ('mixedresidential_ownerocc', 'stories'), ('office', 'building_cost'), ('office', 'building_revenue'), ('office', 'building_sqft'), ('office', 'max_profit'), ('office', 'max_profit_far'), ('office', 'total_cost'), ('office', 'oldest_building'), ('office', 'total_sqft'), ('office', 'max_far'), ('office', 'max_dua'), ('office', 'land_cost'), ('office', 'min_max_fars'), ('office', 'max_far_from_dua'), ('office', 'max_height'), ('office', 'max_far_from_heights'), ('office', 'building_purchase_price'), ('office', 'building_purchase_price_sqft'), ('office', 'residential_sqft'), ('office', 'non_residential_sqft'), ('office', 'stories'), ('mixedresidential_rented', 'building_cost'), ('mixedresidential_rented', 'building_revenue'), ('mixedresidential_rented', 'building_sqft'), ('mixedresidential_rented', 'max_profit'), ('mixedresidential_rented', 'max_profit_far'), ('mixedresidential_rented', 'total_cost'), ('mixedresidential_rented', 'oldest_building'), ('mixedresidential_rented', 'total_sqft'), ('mixedresidential_rented', 'max_far'), ('mixedresidential_rented', 'max_dua'), ('mixedresidential_rented', 'land_cost'), ('mixedresidential_rented', 'min_max_fars'), ('mixedresidential_rented', 'max_far_from_dua'), ('mixedresidential_rented', 'max_height'), ('mixedresidential_rented', 'max_far_from_heights'), ('mixedresidential_rented', 'building_purchase_price'), ('mixedresidential_rented', 'building_purchase_price_sqft'), ('mixedresidential_rented', 'residential_sqft'), ('mixedresidential_rented', 'non_residential_sqft'), ('mixedresidential_rented', 'stories'), ('mixedoffice_rented', 'building_cost'), ('mixedoffice_rented', 'building_revenue'), ('mixedoffice_rented', 'building_sqft'), ('mixedoffice_rented', 'max_profit'), ('mixedoffice_rented', 'max_profit_far'), ('mixedoffice_rented', 'total_cost'), ('mixedoffice_rented', 'oldest_building'), ('mixedoffice_rented', 'total_sqft'), ('mixedoffice_rented', 'max_far'), ('mixedoffice_rented', 'max_dua'), ('mixedoffice_rented', 'land_cost'), ('mixedoffice_rented', 'min_max_fars'), ('mixedoffice_rented', 'max_far_from_dua'), ('mixedoffice_rented', 'max_height'), ('mixedoffice_rented', 'max_far_from_heights'), ('mixedoffice_rented', 'building_purchase_price'), ('mixedoffice_rented', 'building_purchase_price_sqft'), ('mixedoffice_rented', 'residential_sqft'), ('mixedoffice_rented', 'non_residential_sqft'), ('mixedoffice_rented', 'stories'), ('residential_rented', 'building_cost'), ('residential_rented', 'building_revenue'), ('residential_rented', 'building_sqft'), ('residential_rented', 'max_profit'), ('residential_rented', 'max_profit_far'), ('residential_rented', 'total_cost'), ('residential_rented', 'oldest_building'), ('residential_rented', 'total_sqft'), ('residential_rented', 'max_far'), ('residential_rented', 'max_dua'), ('residential_rented', 'land_cost'), ('residential_rented', 'min_max_fars'), ('residential_rented', 'max_far_from_dua'), ('residential_rented', 'max_height'), ('residential_rented', 'max_far_from_heights'), ('residential_rented', 'building_purchase_price'), ('residential_rented', 'building_purchase_price_sqft'), ('residential_rented', 'residential_sqft'), ('residential_rented', 'non_residential_sqft'), ('residential_rented', 'stories'), ('industrial', 'building_cost'), ('industrial', 'building_revenue'), ('industrial', 'building_sqft'), ('industrial', 'max_profit'), ('industrial', 'max_profit_far'), ('industrial', 'total_cost'), ('industrial', 'oldest_building'), ('industrial', 'total_sqft'), ('industrial', 'max_far'), ('industrial', 'max_dua'), ('industrial', 'land_cost'), ('industrial', 'min_max_fars'), ('industrial', 'max_far_from_dua'), ('industrial', 'max_height'), ('industrial', 'max_far_from_heights'), ('industrial', 'building_purchase_price'), ('industrial', 'building_purchase_price_sqft'), ('industrial', 'residential_sqft'), ('industrial', 'non_residential_sqft'), ('industrial', 'stories'), ('residential_ownerocc', 'building_cost'), ('residential_ownerocc', 'building_revenue'), ('residential_ownerocc', 'building_sqft'), ('residential_ownerocc', 'max_profit'), ('residential_ownerocc', 'max_profit_far'), ('residential_ownerocc', 'total_cost'), ('residential_ownerocc', 'oldest_building'), ('residential_ownerocc', 'total_sqft'), ('residential_ownerocc', 'max_far'), ('residential_ownerocc', 'max_dua'), ('residential_ownerocc', 'land_cost'), ('residential_ownerocc', 'min_max_fars'), ('residential_ownerocc', 'max_far_from_dua'), ('residential_ownerocc', 'max_height'), ('residential_ownerocc', 'max_far_from_heights'), ('residential_ownerocc', 'building_purchase_price'), ('residential_ownerocc', 'building_purchase_price_sqft'), ('residential_ownerocc', 'residential_sqft'), ('residential_ownerocc', 'non_residential_sqft'), ('residential_ownerocc', 'stories'), ('mixedoffice_ownerocc', 'building_cost'), ('mixedoffice_ownerocc', 'building_revenue'), ('mixedoffice_ownerocc', 'building_sqft'), ('mixedoffice_ownerocc', 'max_profit'), ('mixedoffice_ownerocc', 'max_profit_far'), ('mixedoffice_ownerocc', 'total_cost'), ('mixedoffice_ownerocc', 'oldest_building'), ('mixedoffice_ownerocc', 'total_sqft'), ('mixedoffice_ownerocc', 'max_far'), ('mixedoffice_ownerocc', 'max_dua'), ('mixedoffice_ownerocc', 'land_cost'), ('mixedoffice_ownerocc', 'min_max_fars'), ('mixedoffice_ownerocc', 'max_far_from_dua'), ('mixedoffice_ownerocc', 'max_height'), ('mixedoffice_ownerocc', 'max_far_from_heights'), ('mixedoffice_ownerocc', 'building_purchase_price'), ('mixedoffice_ownerocc', 'building_purchase_price_sqft'), ('mixedoffice_ownerocc', 'residential_sqft'), ('mixedoffice_ownerocc', 'non_residential_sqft'), ('mixedoffice_ownerocc', 'stories'), ('retail', 'building_cost'), ('retail', 'building_revenue'), ('retail', 'building_sqft'), ('retail', 'max_profit'), ('retail', 'max_profit_far'), ('retail', 'total_cost'), ('retail', 'oldest_building'), ('retail', 'total_sqft'), ('retail', 'max_far'), ('retail', 'max_dua'), ('retail', 'land_cost'), ('retail', 'min_max_fars'), ('retail', 'max_far_from_dua'), ('retail', 'max_height'), ('retail', 'max_far_from_heights'), ('retail', 'building_purchase_price'), ('retail', 'building_purchase_price_sqft'), ('retail', 'residential_sqft'), ('retail', 'non_residential_sqft'), ('retail', 'stories')]\n"
     ]
    }
   ],
   "source": [
    "print sim.get_table('feasibility').local_columns"
   ]
  },
  {
   "cell_type": "code",
   "execution_count": null,
   "metadata": {
    "collapsed": true
   },
   "outputs": [],
   "source": []
  },
  {
   "cell_type": "code",
   "execution_count": null,
   "metadata": {
    "collapsed": true
   },
   "outputs": [],
   "source": []
  }
 ],
 "metadata": {
  "kernelspec": {
   "display_name": "Python 2",
   "language": "python",
   "name": "python2"
  },
  "language_info": {
   "codemirror_mode": {
    "name": "ipython",
    "version": 2
   },
   "file_extension": ".py",
   "mimetype": "text/x-python",
   "name": "python",
   "nbconvert_exporter": "python",
   "pygments_lexer": "ipython2",
   "version": "2.7.9"
  }
 },
 "nbformat": 4,
 "nbformat_minor": 0
}
