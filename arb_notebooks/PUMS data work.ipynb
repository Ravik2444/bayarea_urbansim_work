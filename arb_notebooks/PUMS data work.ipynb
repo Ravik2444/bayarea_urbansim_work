{
 "cells": [
  {
   "cell_type": "markdown",
   "metadata": {},
   "source": [
    "### This notebook generates the household_extras table that's used for splicing additional PUMS series into the MTC synthetic population\n",
    "\n",
    "Sam Maurer, July 2015"
   ]
  },
  {
   "cell_type": "code",
   "execution_count": 4,
   "metadata": {
    "collapsed": true
   },
   "outputs": [],
   "source": [
    "import numpy as np\n",
    "import pandas as pd\n",
    "import zipfile\n",
    "pd.set_option('display.max_columns', 500)"
   ]
  },
  {
   "cell_type": "markdown",
   "metadata": {},
   "source": [
    "### 2013 PUMS (wrong version to match MTC synthetic population; see next section)"
   ]
  },
  {
   "cell_type": "code",
   "execution_count": 18,
   "metadata": {
    "collapsed": false
   },
   "outputs": [],
   "source": [
    "# list of bay area county FIPS codes\n",
    "bay_area_cfips = [1,13,41,55,75,81,85,95,97]"
   ]
  },
  {
   "cell_type": "code",
   "execution_count": 20,
   "metadata": {
    "collapsed": false
   },
   "outputs": [
    {
     "name": "stdout",
     "output_type": "stream",
     "text": [
      "748954\n"
     ]
    }
   ],
   "source": [
    "# load household records\n",
    "z = zipfile.ZipFile('../data/csv_hca_2013_5yr.zip')\n",
    "df1 = pd.read_csv(z.open('ss13hca.csv'))\n",
    "print len(df1)"
   ]
  },
  {
   "cell_type": "code",
   "execution_count": 37,
   "metadata": {
    "collapsed": false
   },
   "outputs": [
    {
     "name": "stdout",
     "output_type": "stream",
     "text": [
      "51567\n"
     ]
    }
   ],
   "source": [
    "# limit to bay area counties\n",
    "cfips = np.floor(df1.PUMA00/100) # county fips\n",
    "df_h = df1[cfips.isin(bay_area_cfips)]\n",
    "print len(df_h)"
   ]
  },
  {
   "cell_type": "code",
   "execution_count": 22,
   "metadata": {
    "collapsed": false
   },
   "outputs": [
    {
     "name": "stdout",
     "output_type": "stream",
     "text": [
      "1821970\n"
     ]
    },
    {
     "name": "stderr",
     "output_type": "stream",
     "text": [
      "/Users/smmaurer/anaconda/lib/python2.7/site-packages/pandas/io/parsers.py:1164: DtypeWarning: Columns (107,108,109) have mixed types. Specify dtype option on import or set low_memory=False.\n",
      "  data = self._reader.read(nrows)\n"
     ]
    }
   ],
   "source": [
    "# load person records\n",
    "z = zipfile.ZipFile('../data/csv_pca_2013_5yr.zip')\n",
    "df2 = pd.read_csv(z.open('ss13pca.csv'))\n",
    "print len(df2)"
   ]
  },
  {
   "cell_type": "code",
   "execution_count": 38,
   "metadata": {
    "collapsed": false
   },
   "outputs": [
    {
     "name": "stdout",
     "output_type": "stream",
     "text": [
      "43849\n"
     ]
    }
   ],
   "source": [
    "# limit to bay area and heads of household\n",
    "cfips = np.floor(df2.PUMA00/100) # county fips\n",
    "df_p = df2[cfips.isin(bay_area_cfips) & (df2.RELP == 0)]\n",
    "print len(df_p)"
   ]
  },
  {
   "cell_type": "code",
   "execution_count": null,
   "metadata": {
    "collapsed": true
   },
   "outputs": [],
   "source": [
    "# HOUSEHOLD RECORDS\n",
    "# TEN is tenure: 1 and 2 = owned, 3 = rented\n",
    "\n",
    "# PERSON RECORDS\n",
    "# RAC1P is race code: 1 = white, 2 = black, 6 = asian\n",
    "# HISP is hispanic code: >1 = hispanic"
   ]
  },
  {
   "cell_type": "code",
   "execution_count": 43,
   "metadata": {
    "collapsed": false
   },
   "outputs": [
    {
     "name": "stdout",
     "output_type": "stream",
     "text": [
      "43849\n"
     ]
    }
   ],
   "source": [
    "# merge and discard unneeded columns\n",
    "df = df_h[['SERIALNO','TEN']].merge(df_p[['SERIALNO','RAC1P','HISP']], on='SERIALNO')\n",
    "print len(df_p)"
   ]
  },
  {
   "cell_type": "code",
   "execution_count": 44,
   "metadata": {
    "collapsed": true
   },
   "outputs": [],
   "source": [
    "# rename to lowercase for consistency with urbansim\n",
    "df.columns = [s.lower() for s in df.columns.values]"
   ]
  },
  {
   "cell_type": "code",
   "execution_count": 45,
   "metadata": {
    "collapsed": false
   },
   "outputs": [
    {
     "name": "stdout",
     "output_type": "stream",
     "text": [
      "               ten  rac1p  hisp\n",
      "serialno                       \n",
      "2009000000029    1      1     1\n",
      "2009000000216    1      1     1\n",
      "2009000000382    1      6     1\n",
      "2009000000397    3      1     1\n",
      "2009000000430    2      1     1\n"
     ]
    }
   ],
   "source": [
    "# set index and fix data types\n",
    "df = df.set_index('serialno')\n",
    "df['ten'] = df.ten.astype(int)\n",
    "print df.head()"
   ]
  },
  {
   "cell_type": "code",
   "execution_count": 71,
   "metadata": {
    "collapsed": true
   },
   "outputs": [],
   "source": [
    "# save to data folder\n",
    "df.to_csv('../data/household_extras.csv')"
   ]
  },
  {
   "cell_type": "markdown",
   "metadata": {
    "collapsed": true
   },
   "source": [
    "## 2000 PUMS, archaic file format\n",
    "\n",
    "- Download the data file if needed:  \n",
    "http://www2.census.gov/census_2000/datasets/PUMS/FivePercent/California/all_California.zip\n",
    "- Rename to 'PUMS_2000_5yr_CA.zip' for clarity"
   ]
  },
  {
   "cell_type": "code",
   "execution_count": 28,
   "metadata": {
    "collapsed": true
   },
   "outputs": [],
   "source": [
    "# List of year-2000 SuperPUMAs in the Bay Area, from here:\n",
    "#   https://usa.ipums.org/usa/resources/volii/maps/ca_puma5.pdf\n",
    "\n",
    "ba_puma1 = [\n",
    "    40,  # Sonoma, Marin\n",
    "    50,  # Napa, Solano\n",
    "    121, # Contra Costa \n",
    "    122,\n",
    "    130, # San Francisco\n",
    "    140, # San Mateo\n",
    "    151, # Alameda\n",
    "    152, \n",
    "    153,\n",
    "    161, # Santa Clara\n",
    "    162,\n",
    "    163]"
   ]
  },
  {
   "cell_type": "code",
   "execution_count": 29,
   "metadata": {
    "collapsed": false
   },
   "outputs": [
    {
     "name": "stdout",
     "output_type": "stream",
     "text": [
      "651698 households\n",
      "651698\n",
      "575143 persons\n",
      "575143\n",
      "575143\n",
      "575143\n",
      "575143\n"
     ]
    }
   ],
   "source": [
    "# Read raw PUMS text file\n",
    "\n",
    "# Helpful links for layouts and series definitions: \n",
    "#   http://www.census.gov/prod/cen2000/doc/pums.pdf\n",
    "#   http://www.census.gov/population/cen2000/pumsrec5p.xls\n",
    "#   http://www.census.gov/support/pums.html\n",
    "\n",
    "# Variables to save from household and person records\n",
    "h_serialno = []\n",
    "h_puma1 = []    # latter three digits of SuperPUMA (first two refer to state) \n",
    "p_serialno = []\n",
    "p_white = []    # 1 = white, alone or in combination with other races (vs 0)\n",
    "p_black = []    # 1 = black, alone or in combination with other races (vs 0)\n",
    "p_asian = []    # 1 = asian, alone or in combination with other races (vs 0)\n",
    "p_hisp = []     # 1 = hispanic or latino origin (vs 0)\n",
    "\n",
    "# Hispanic origin is recoded here from the HISPAN field, which doesn't match the format\n",
    "# of the others and has been renamed in newer PUMS records anyway. \n",
    "#   HISPAN=1 => P_HISP=0\n",
    "#   HISPAN>1 => P_HISP=1\n",
    "\n",
    "with zipfile.ZipFile('../data/PUMS_2000_5yr_CA.zip') as z:\n",
    "    with z.open('PUMS5_06.TXT') as f:\n",
    "        for line in f:\n",
    "            record_type = line[0]  # 'H' or 'P'\n",
    "            if (record_type == 'H'):\n",
    "                h_serialno.append(int(line[1:8]))\n",
    "                h_puma1.append(int(line[20:23]))\n",
    "            if (record_type == 'P'):\n",
    "                relationship = line[16:18]  # head of household (01), etc\n",
    "                if (relationship == '01'):\n",
    "                    p_serialno.append(int(line[1:8]))\n",
    "                    p_white.append(int(line[31]))\n",
    "                    p_black.append(int(line[32]))\n",
    "                    p_asian.append(int(line[34]))\n",
    "                    hispan = int(line[27:29])\n",
    "                    p_hisp.append(1 if (hispan > 1) else 0)\n",
    "\n",
    "print \"%d households\" % len(h_serialno)\n",
    "print len(h_puma1)\n",
    "print \"%d persons\" % len(p_serialno)\n",
    "print len(p_white)\n",
    "print len(p_black)\n",
    "print len(p_asian)\n",
    "print len(p_hisp)"
   ]
  },
  {
   "cell_type": "code",
   "execution_count": 30,
   "metadata": {
    "collapsed": false
   },
   "outputs": [],
   "source": [
    "df_h = pd.DataFrame.from_dict({\n",
    "        'serialno': h_serialno, \n",
    "        'puma1': h_puma1 })\n",
    "\n",
    "df_p = pd.DataFrame.from_dict({\n",
    "        'serialno': p_serialno,\n",
    "        'white': p_white,\n",
    "        'black': p_black,\n",
    "        'asian': p_asian,\n",
    "        'hisp': p_hisp })\n",
    "\n",
    "# print df_h.describe()\n",
    "# print df_p.describe()"
   ]
  },
  {
   "cell_type": "code",
   "execution_count": 33,
   "metadata": {
    "collapsed": false
   },
   "outputs": [
    {
     "name": "stdout",
     "output_type": "stream",
     "text": [
      "               puma1        serialno          asian          black  \\\n",
      "count  121112.000000   121112.000000  121112.000000  121112.000000   \n",
      "mean      125.943003  4996708.701929       0.169636       0.076764   \n",
      "std        41.645193  2883522.665723       0.375315       0.266217   \n",
      "min        40.000000       20.000000       0.000000       0.000000   \n",
      "25%       121.000000  2496821.500000       0.000000       0.000000   \n",
      "50%       140.000000  5001724.000000       0.000000       0.000000   \n",
      "75%       153.000000  7483723.500000       0.000000       0.000000   \n",
      "max       163.000000  9999899.000000       1.000000       1.000000   \n",
      "\n",
      "                hisp          white  \n",
      "count  121112.000000  121112.000000  \n",
      "mean        0.126973       0.695315  \n",
      "std         0.332945       0.460276  \n",
      "min         0.000000       0.000000  \n",
      "25%         0.000000       0.000000  \n",
      "50%         0.000000       1.000000  \n",
      "75%         0.000000       1.000000  \n",
      "max         1.000000       1.000000  \n"
     ]
    }
   ],
   "source": [
    "# Merge dataframes and discard if outside the bay area\n",
    "\n",
    "df = df_h.merge(df_p, on='serialno')\n",
    "df = df[df.puma1.isin(ba_puma1)]\n",
    "print df.describe()"
   ]
  },
  {
   "cell_type": "code",
   "execution_count": 34,
   "metadata": {
    "collapsed": false
   },
   "outputs": [
    {
     "name": "stdout",
     "output_type": "stream",
     "text": [
      "          puma1  asian  black  hisp  white\n",
      "serialno                                  \n",
      "10822        40      0      0     0      1\n",
      "13555        40      0      0     0      1\n",
      "14212        40      0      0     0      1\n",
      "14779        40      0      0     0      1\n",
      "16723        40      0      0     0      1\n"
     ]
    }
   ],
   "source": [
    "# Set index\n",
    "\n",
    "df = df.set_index('serialno')\n",
    "print df.head()"
   ]
  },
  {
   "cell_type": "code",
   "execution_count": 35,
   "metadata": {
    "collapsed": false
   },
   "outputs": [],
   "source": [
    "# Save to data folder\n",
    "\n",
    "df.to_csv('../data/household_extras.csv')"
   ]
  },
  {
   "cell_type": "code",
   "execution_count": null,
   "metadata": {
    "collapsed": true
   },
   "outputs": [],
   "source": []
  },
  {
   "cell_type": "code",
   "execution_count": null,
   "metadata": {
    "collapsed": true
   },
   "outputs": [],
   "source": []
  },
  {
   "cell_type": "code",
   "execution_count": null,
   "metadata": {
    "collapsed": true
   },
   "outputs": [],
   "source": []
  },
  {
   "cell_type": "code",
   "execution_count": null,
   "metadata": {
    "collapsed": true
   },
   "outputs": [],
   "source": []
  },
  {
   "cell_type": "code",
   "execution_count": 36,
   "metadata": {
    "collapsed": false
   },
   "outputs": [
    {
     "data": {
      "text/plain": [
       "dtype('int64')"
      ]
     },
     "execution_count": 36,
     "metadata": {},
     "output_type": "execute_result"
    }
   ],
   "source": [
    "df.puma1.dtype"
   ]
  }
 ],
 "metadata": {
  "kernelspec": {
   "display_name": "Python 2",
   "language": "python",
   "name": "python2"
  },
  "language_info": {
   "codemirror_mode": {
    "name": "ipython",
    "version": 2
   },
   "file_extension": ".py",
   "mimetype": "text/x-python",
   "name": "python",
   "nbconvert_exporter": "python",
   "pygments_lexer": "ipython2",
   "version": "2.7.9"
  }
 },
 "nbformat": 4,
 "nbformat_minor": 0
}
