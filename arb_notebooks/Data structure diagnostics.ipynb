{
 "cells": [
  {
   "cell_type": "markdown",
   "metadata": {},
   "source": [
    "## Data structure diagnostics\n",
    "\n",
    "Sam Maurer, August 2015"
   ]
  },
  {
   "cell_type": "code",
   "execution_count": 1,
   "metadata": {
    "collapsed": true
   },
   "outputs": [],
   "source": [
    "%matplotlib inline\n",
    "%load_ext autoreload\n",
    "%autoreload 2"
   ]
  },
  {
   "cell_type": "code",
   "execution_count": 2,
   "metadata": {
    "collapsed": false
   },
   "outputs": [
    {
     "name": "stderr",
     "output_type": "stream",
     "text": [
      "/Users/smmaurer/anaconda/lib/python2.7/site-packages/matplotlib/__init__.py:1318: UserWarning:  This call to matplotlib.use() has no effect\n",
      "because the backend has already been chosen;\n",
      "matplotlib.use() must be called *before* pylab, matplotlib.pyplot,\n",
      "or matplotlib.backends is imported for the first time.\n",
      "\n",
      "  warnings.warn(_use_error_msg)\n"
     ]
    }
   ],
   "source": [
    "import os; os.chdir('..')\n",
    "import models\n",
    "import datasources\n",
    "import orca"
   ]
  },
  {
   "cell_type": "code",
   "execution_count": null,
   "metadata": {
    "collapsed": true
   },
   "outputs": [],
   "source": [
    "# Certain columns don't show up (or are not populated) until particular models are run"
   ]
  },
  {
   "cell_type": "code",
   "execution_count": 3,
   "metadata": {
    "collapsed": false
   },
   "outputs": [],
   "source": [
    "%%capture\n",
    "orca.run(['neighborhood_vars'])"
   ]
  },
  {
   "cell_type": "code",
   "execution_count": 4,
   "metadata": {
    "collapsed": true
   },
   "outputs": [],
   "source": [
    "%%capture\n",
    "orca.run(['rsh_simulate', 'rrh_simulate'])"
   ]
  },
  {
   "cell_type": "code",
   "execution_count": 5,
   "metadata": {
    "collapsed": false
   },
   "outputs": [],
   "source": [
    "%%capture\n",
    "orca.run(['price_vars'])"
   ]
  },
  {
   "cell_type": "markdown",
   "metadata": {},
   "source": [
    "## List tables and columns"
   ]
  },
  {
   "cell_type": "code",
   "execution_count": 6,
   "metadata": {
    "collapsed": false
   },
   "outputs": [
    {
     "data": {
      "text/plain": [
       "['zones',\n",
       " 'buildings',\n",
       " 'residential_units',\n",
       " 'jobs',\n",
       " 'zoning_np',\n",
       " 'household_controls',\n",
       " 'craigslist',\n",
       " 'parcels_geography',\n",
       " 'development_projects',\n",
       " 'households',\n",
       " 'costar',\n",
       " 'household_extras',\n",
       " 'homesales',\n",
       " 'zoning_lookup',\n",
       " 'employment_controls',\n",
       " 'logsums',\n",
       " 'nodes',\n",
       " 'zoning_baseline',\n",
       " 'parcels']"
      ]
     },
     "execution_count": 6,
     "metadata": {},
     "output_type": "execute_result"
    }
   ],
   "source": [
    "orca.list_tables()"
   ]
  },
  {
   "cell_type": "code",
   "execution_count": 7,
   "metadata": {
    "collapsed": false,
    "scrolled": false
   },
   "outputs": [
    {
     "name": "stdout",
     "output_type": "stream",
     "text": [
      "ZONES\n",
      "\n",
      "from table definition:\n",
      "['gid', 'tract', 'area', 'acres']\n",
      "\n",
      "registered separately:\n",
      "[]\n",
      "\n",
      "BUILDINGS\n",
      "\n",
      "from table definition:\n",
      "['parcel_id', 'residential_units', 'residential_sqft', 'non_residential_sqft', 'building_sqft', 'stories', 'year_built', 'redfin_sale_year', 'building_type_id', 'residential_price', 'non_residential_price']\n",
      "\n",
      "registered separately:\n",
      "['sqft_per_unit', 'node_id', 'base_price_per_sqft', 'residential_price', 'vacant_residential_units', 'residential_rent', 'general_type', 'vacant_job_spaces', 'sqft_per_job', 'lot_size_per_unit', 'job_spaces', 'zone_id']\n",
      "\n",
      "RESIDENTIAL_UNITS\n",
      "\n",
      "from table definition:\n",
      "['building_id', 'deed_restricted', 'num_units', 'unit_num', 'unit_residential_price', 'unit_residential_rent', 'unit_tenure']\n",
      "\n",
      "registered separately:\n",
      "['zone_id', 'submarket_id', 'unit_annual_rent', 'vacant_units', 'node_id']\n",
      "\n",
      "JOBS\n",
      "\n",
      "from table definition:\n",
      "['sector_id', 'taz', 'building_id']\n",
      "\n",
      "registered separately:\n",
      "['empsix', 'node_id', 'zone_id', 'naics', 'empsix_id']\n",
      "\n",
      "ZONING_NP\n",
      "\n",
      "from table definition:\n",
      "['jurisdiction', 'tpp_id', 'exp_id', 'pda_id', 'count', 'add_bldg', 'drop_bldg', 'dua_up', 'far_up', 'dua_down', 'far_down', 'subsidy', 'place_type', 'notes']\n",
      "\n",
      "registered separately:\n",
      "[]\n",
      "\n",
      "HOUSEHOLD_CONTROLS\n",
      "\n",
      "from table definition:\n",
      "['income_quartile', 'total_number_of_households']\n",
      "\n",
      "registered separately:\n",
      "[]\n",
      "\n",
      "CRAIGSLIST\n",
      "\n",
      "from table definition:\n",
      "['neighborhood', 'price', 'bedrooms', 'date', 'sqft_per_unit', 'longitude', 'latitude', 'price_sqft', 'node_id']\n",
      "\n",
      "registered separately:\n",
      "['zone_id']\n",
      "\n",
      "PARCELS_GEOGRAPHY\n",
      "\n",
      "from table definition:\n",
      "['jurisdiction', 'tpp_id', 'exp_id', 'pda_id']\n",
      "\n",
      "registered separately:\n",
      "[]\n",
      "\n",
      "DEVELOPMENT_PROJECTS\n",
      "\n",
      "from table definition:\n",
      "Describe of development projects\n",
      "            parcel_id  residential_units  residential_sqft  \\\n",
      "count      163.000000         163.000000               163   \n",
      "mean   1110676.159509          93.711656                 0   \n",
      "std     343889.803309         140.186416                 0   \n",
      "min       1269.000000           0.000000                 0   \n",
      "25%     976988.500000           0.000000                 0   \n",
      "50%    1041896.000000          18.000000                 0   \n",
      "75%    1330325.000000         143.000000                 0   \n",
      "max    1948347.000000         545.000000                 0   \n",
      "\n",
      "       non_residential_sqft  building_sqft     stories   year_built  \\\n",
      "count            163.000000     163.000000  163.000000   163.000000   \n",
      "mean           39197.049080  137176.417178    6.478528  2014.460123   \n",
      "std            90794.219053  159076.426234    8.834792     2.504922   \n",
      "min                0.000000    1104.000000    1.000000  2011.000000   \n",
      "25%                0.000000   16029.000000    2.000000  2013.000000   \n",
      "50%             1118.000000   72102.000000    4.000000  2014.000000   \n",
      "75%            20412.500000  210350.500000    6.000000  2015.000000   \n",
      "max           479220.000000  637250.000000   60.000000  2026.000000   \n",
      "\n",
      "       redfin_sale_year  building_type_id  residential_price  \\\n",
      "count               163        163.000000                163   \n",
      "mean               2012          5.546012                  0   \n",
      "std                   0          3.508724                  0   \n",
      "min                2012          3.000000                  0   \n",
      "25%                2012          3.000000                  0   \n",
      "50%                2012          4.000000                  0   \n",
      "75%                2012         10.000000                  0   \n",
      "max                2012         14.000000                  0   \n",
      "\n",
      "       non_residential_price  \n",
      "count                    163  \n",
      "mean                       0  \n",
      "std                        0  \n",
      "min                        0  \n",
      "25%                        0  \n",
      "50%                        0  \n",
      "75%                        0  \n",
      "max                        0  \n",
      "['parcel_id', 'development_projects_id', 'raw_id', 'building_name', 'site_name', 'action', 'committed', 'address', 'city', 'zip', 'county', 'x', 'y', 'year_built', 'duration', 'building_type_id', 'building_type', 'building_sqft', 'non_residential_sqft', 'residential_units', 'unit_ave_sqft', 'tenure', 'rent_type', 'stories', 'parking_spaces', 'Average Weighted Rent', 'rent_ave_sqft', 'rent_ave_unit', 'last_sale_year', 'last_sale_price', 'residential_sqft', 'residential_price', 'non_residential_price', 'redfin_sale_year']\n",
      "\n",
      "registered separately:\n",
      "[]\n",
      "\n",
      "HOUSEHOLDS\n",
      "\n",
      "from table definition:\n",
      "['taz', 'serialno', 'puma5', 'income', 'persons', 'hht', 'unittype', 'noc', 'bldgsz', 'tenure', 'vehicl', 'hinccat1', 'hinccat2', 'hhagecat', 'hsizecat', 'hfamily', 'hunittype', 'hnoccat', 'hwrkrcat', 'h0004', 'h0511', 'h1215', 'h1617', 'h1824', 'h2534', 'h3549', 'h5064', 'h6579', 'h80up', 'hworkers', 'hwork_f', 'hwork_p', 'huniv', 'hnwork', 'hretire', 'hpresch', 'hschpred', 'hschdriv', 'htypdwel', 'hownrent', 'hadnwst', 'hadwpst', 'hadkids', 'bucketbin', 'originalpuma', 'hmultiunit', 'unit_id']\n",
      "\n",
      "registered separately:\n",
      "['zone', 'hhs1', 'hhs3p', 'white', 'asian', 'black', 'rent_burden', 'positive_income', 'hisp', 'hh_monthly_rent', 'income_quartile', 'hhsize_cat', 'hhsize_incq', 'node_id', 'zone_id', 'hhs2', 'building_id']\n",
      "\n",
      "COSTAR\n",
      "\n",
      "from table definition:\n",
      "['X', 'Y', 'PropertyType', 'Res', 'City', 'county', 'averageweightedrent', 'rentable_building_area', 'building_class', 'parking_ratio', 'percent_leased', 'number_of_stories', 'year_built', 'zoning', 'fname', 'same', 'two', 'ok', 'parcel_id', '_node_id0', '_node_id1', '_node_id2', '_node_id']\n",
      "\n",
      "registered separately:\n",
      "['zone_id', 'node_id', 'general_type', 'rent', 'stories']\n",
      "\n",
      "HOUSEHOLD_EXTRAS\n",
      "\n",
      "from table definition:\n",
      "['puma1', 'asian', 'black', 'hisp', 'white']\n",
      "\n",
      "registered separately:\n",
      "[]\n",
      "\n",
      "HOMESALES\n",
      "\n",
      "from table definition:\n",
      "['parcel_id', 'development_type_id', 'improvement_value', 'residential_units', 'residential_sqft', 'sqft_per_unit', 'non_residential_sqft', 'building_sqft', 'nonres_rent_per_sqft', 'res_price_per_sqft', 'stories', 'year_built', 'redfin_sale_price', 'redfin_sale_year', 'redfin_home_type', 'costar_property_type', 'costar_rent', 'building_type_id', 'price_per_sqft']\n",
      "\n",
      "registered separately:\n",
      "['zone_id', 'base_price_per_sqft', 'node_id']\n",
      "\n",
      "ZONING_LOOKUP\n",
      "\n",
      "from table definition:\n",
      "['juris', 'city', 'name', 'max_far', 'max_height', 'max_dua', 'max_du_per_parcel', 'HS', 'HT', 'HM', 'OF', 'HO', 'SC', 'IL', 'IW', 'IH', 'RS', 'RB', 'MR', 'MT', 'ME', 'plandate']\n",
      "\n",
      "registered separately:\n",
      "[]\n",
      "\n",
      "EMPLOYMENT_CONTROLS\n",
      "\n",
      "from table definition:\n",
      "['empsix_id', 'number_of_jobs']\n",
      "\n",
      "registered separately:\n",
      "[]\n",
      "\n",
      "LOGSUMS\n",
      "\n",
      "from table definition:\n",
      "['autoPeakRetail', 'autoPeakTotal', 'autoOffPeakRetail', 'autoOffPeakTotal', 'transitPeakRetail', 'transitPeakTotal', 'transitOffPeakRetail', 'transitOffPeakTotal', 'nonMotorizedRetail', 'nonMotorizedTotal']\n",
      "\n",
      "registered separately:\n",
      "[]\n",
      "\n",
      "NODES\n",
      "\n",
      "from table definition:\n",
      "['sum_residential_units', 'sum_nonresidential_units', 'ave_sqft_per_unit', 'ave_lot_size_per_unit', 'population', 'poor', 'blacks', 'whites', 'nonwhites', 'hispanics', 'asians', 'renters', 'singles', 'two_persons', 'three_plus', 'sfdu', 'ave_hhsize', 'jobs', 'ave_income', 'pct_nonwhite', 'pct_renters', 'pct_hisp', 'pct_three_plus', 'poverty_rate', 'pct_singles', 'pct_white', 'pct_black', 'pct_asian', 'pct_two_persons', 'residential_price', 'residential_rent', 'retail', 'office', 'industrial']\n",
      "\n",
      "registered separately:\n",
      "['pct_nonwhite', 'pct_two_persons', 'pct_asian', 'pct_black', 'pct_three_plus', 'pct_renters', 'pct_white', 'pct_hisp', 'pct_singles', 'poverty_rate']\n",
      "\n",
      "ZONING_BASELINE\n",
      "\n",
      "from table definition:\n",
      "['zoning_id', 'prop', 'tablename', 'nodev', 'juris', 'city', 'name', 'max_far', 'max_height', 'max_dua', 'max_du_per_parcel', 'type1', 'type2', 'type3', 'type4', 'type5', 'SC', 'type7', 'type8', 'type9', 'type10', 'type11', 'type12', 'type13', 'type14', 'plandate']\n",
      "\n",
      "registered separately:\n",
      "[]\n",
      "\n",
      "PARCELS\n",
      "\n",
      "from table definition:\n",
      "['development_type_id', 'land_value', 'acres', 'county_id', 'zone_id', 'zoning_id', 'proportion_undevelopable', 'tax_exempt_status', 'apn', 'parcel_id_local', 'geom_id', 'imputation_flag', 'x', 'y', 'shape_area', '_node_id']\n",
      "\n",
      "registered separately:\n",
      "['ave_sqft_per_unit', 'pda', 'cost_shifters', 'building_purchase_price', 'max_height', 'total_job_spaces', 'residential_sales_price_sqft', 'parcel_acres', 'node_id', 'nodev', 'total_residential_units', 'land_cost', 'total_sqft', 'price_shifters', 'zoned_du', 'county', 'lot_size_per_unit', 'max_far', 'parcel_size', 'building_purchase_price_sqft', 'max_dua', 'residential_purchase_price_sqft', 'ave_unit_size', 'oldest_building', 'zoned_du_underbuild']\n",
      "\n"
     ]
    }
   ],
   "source": [
    "# List columns within each table, both those coded in the table definition\n",
    "# and those registered separately\n",
    "\n",
    "for t in orca.list_tables():\n",
    "    print t.upper()\n",
    "    print \"\\nfrom table definition:\"\n",
    "    try:\n",
    "        print orca.get_table(t).local_columns\n",
    "    except Exception, e:\n",
    "        print e\n",
    "    print \"\\nregistered separately:\"\n",
    "    print [p[1] for p in orca.list_columns() if p[0]==t]\n",
    "    print"
   ]
  },
  {
   "cell_type": "markdown",
   "metadata": {},
   "source": [
    "## List models, injectables, broadcasts"
   ]
  },
  {
   "cell_type": "code",
   "execution_count": 8,
   "metadata": {
    "collapsed": false
   },
   "outputs": [
    {
     "data": {
      "text/plain": [
       "['households_transition',\n",
       " 'simple_jobs_transition',\n",
       " 'hlcm_owner_simulate',\n",
       " 'hlcm_li_simulate',\n",
       " 'calc_prop_taxes',\n",
       " 'feasibility',\n",
       " 'rrh_simulate',\n",
       " 'hlcm_estimate',\n",
       " 'jobs_relocation',\n",
       " 'price_vars',\n",
       " 'residential_developer',\n",
       " 'households_relocation',\n",
       " 'rsh_simulate',\n",
       " 'households_relocation_filtered',\n",
       " 'price_to_rent_precompute',\n",
       " 'scheduled_development_events',\n",
       " 'jobs_transition',\n",
       " 'hlcm_owner_estimate',\n",
       " 'nrh_estimate',\n",
       " 'nrh_simulate',\n",
       " 'hlcm_renter_estimate',\n",
       " 'simple_households_transition',\n",
       " 'neighborhood_vars',\n",
       " 'rrh_estimate',\n",
       " 'hlcm_simulate',\n",
       " 'hlcm_renter_simulate',\n",
       " 'non_residential_developer',\n",
       " 'travel_model_output',\n",
       " 'subsidized_residential_developer',\n",
       " 'elcm_simulate',\n",
       " 'elcm_estimate',\n",
       " 'rsh_estimate',\n",
       " 'diagnostic_output']"
      ]
     },
     "execution_count": 8,
     "metadata": {},
     "output_type": "execute_result"
    }
   ],
   "source": [
    "orca.list_steps()"
   ]
  },
  {
   "cell_type": "code",
   "execution_count": 9,
   "metadata": {
    "collapsed": false
   },
   "outputs": [
    {
     "data": {
      "text/plain": [
       "['parcel_is_allowed_func',\n",
       " 'unit_aggregations',\n",
       " 'year',\n",
       " 'iter_var',\n",
       " 'building_type_map',\n",
       " 'uuid',\n",
       " 'aggregations',\n",
       " 'parcel_sales_price_sqft_func',\n",
       " 'form_to_btype_func',\n",
       " 'supply_and_demand_multiplier_func',\n",
       " 'net',\n",
       " 'store',\n",
       " 'add_extra_columns_func',\n",
       " 'scenario_inputs',\n",
       " 'coffer',\n",
       " 'acct_settings',\n",
       " 'run_number',\n",
       " 'scenario',\n",
       " 'settings',\n",
       " 'parcel_average_price',\n",
       " 'summary',\n",
       " 'building_sqft_per_job']"
      ]
     },
     "execution_count": 9,
     "metadata": {},
     "output_type": "execute_result"
    }
   ],
   "source": [
    "orca.list_injectables()"
   ]
  },
  {
   "cell_type": "code",
   "execution_count": 10,
   "metadata": {
    "collapsed": false
   },
   "outputs": [
    {
     "data": {
      "text/plain": [
       "[('logsums', 'parcels'),\n",
       " ('parcels_geography', 'buildings'),\n",
       " ('buildings', 'households'),\n",
       " ('nodes', 'parcels'),\n",
       " ('nodes', 'homesales'),\n",
       " ('nodes', 'buildings'),\n",
       " ('parcels', 'buildings'),\n",
       " ('logsums', 'costar'),\n",
       " ('nodes', 'craigslist'),\n",
       " ('households', 'household_extras'),\n",
       " ('logsums', 'buildings'),\n",
       " ('buildings', 'residential_units'),\n",
       " ('nodes', 'costar'),\n",
       " ('logsums', 'homesales'),\n",
       " ('buildings', 'jobs'),\n",
       " ('logsums', 'craigslist')]"
      ]
     },
     "execution_count": 10,
     "metadata": {},
     "output_type": "execute_result"
    }
   ],
   "source": [
    "orca.list_broadcasts()"
   ]
  },
  {
   "cell_type": "markdown",
   "metadata": {
    "collapsed": true
   },
   "source": [
    "## Dig into particular data series as needed"
   ]
  },
  {
   "cell_type": "code",
   "execution_count": 8,
   "metadata": {
    "collapsed": false
   },
   "outputs": [],
   "source": [
    "hh = sim.get_table('households').to_frame()"
   ]
  },
  {
   "cell_type": "code",
   "execution_count": 15,
   "metadata": {
    "collapsed": false
   },
   "outputs": [
    {
     "data": {
      "text/plain": [
       "2732722"
      ]
     },
     "execution_count": 15,
     "metadata": {},
     "output_type": "execute_result"
    }
   ],
   "source": [
    "len(hh)"
   ]
  },
  {
   "cell_type": "code",
   "execution_count": 11,
   "metadata": {
    "collapsed": false
   },
   "outputs": [
    {
     "name": "stdout",
     "output_type": "stream",
     "text": [
      "                white           black           asian            hisp\n",
      "count  2608019.000000  2608019.000000  2608019.000000  2608019.000000\n",
      "mean         0.686555        0.080798        0.174240        0.129447\n",
      "std          0.463894        0.272524        0.379315        0.335694\n",
      "min          0.000000        0.000000        0.000000        0.000000\n",
      "25%          0.000000        0.000000        0.000000        0.000000\n",
      "50%          1.000000        0.000000        0.000000        0.000000\n",
      "75%          1.000000        0.000000        0.000000        0.000000\n",
      "max          1.000000        1.000000        1.000000        1.000000\n"
     ]
    }
   ],
   "source": [
    "print hh[['white','black','asian','hisp']].describe()"
   ]
  },
  {
   "cell_type": "code",
   "execution_count": null,
   "metadata": {
    "collapsed": true
   },
   "outputs": [],
   "source": []
  },
  {
   "cell_type": "code",
   "execution_count": null,
   "metadata": {
    "collapsed": true
   },
   "outputs": [],
   "source": [
    "# What's the ratio of fitted residential rents to fitted sale prices?\n",
    "# This will inform the cap rate assumptions"
   ]
  },
  {
   "cell_type": "code",
   "execution_count": 24,
   "metadata": {
    "collapsed": false
   },
   "outputs": [],
   "source": [
    "u = sim.get_table('residential_units').to_frame()"
   ]
  },
  {
   "cell_type": "code",
   "execution_count": 25,
   "metadata": {
    "collapsed": false
   },
   "outputs": [
    {
     "name": "stdout",
     "output_type": "stream",
     "text": [
      "count    2783946.000000\n",
      "mean           0.072129\n",
      "std            0.041538\n",
      "min            0.000262\n",
      "25%            0.047164\n",
      "50%            0.059627\n",
      "75%            0.082692\n",
      "max            5.516888\n",
      "Name: unit_residential_rent, dtype: float64\n"
     ]
    }
   ],
   "source": [
    "cap_rate = u.unit_residential_rent.multiply(12).divide(u.unit_residential_price)\n",
    "print cap_rate.describe()"
   ]
  },
  {
   "cell_type": "code",
   "execution_count": 34,
   "metadata": {
    "collapsed": false
   },
   "outputs": [
    {
     "data": {
      "text/plain": [
       "<matplotlib.axes._subplots.AxesSubplot at 0x19a742150>"
      ]
     },
     "execution_count": 34,
     "metadata": {},
     "output_type": "execute_result"
    },
    {
     "data": {
      "image/png": "[encoded data removed]",
      "text/plain": [
       "<matplotlib.figure.Figure at 0x10672b590>"
      ]
     },
     "metadata": {},
     "output_type": "display_data"
    }
   ],
   "source": [
    "cap_rate[cap_rate<0.25].hist(bins=50)"
   ]
  },
  {
   "cell_type": "code",
   "execution_count": null,
   "metadata": {
    "collapsed": true
   },
   "outputs": [],
   "source": []
  },
  {
   "cell_type": "code",
   "execution_count": null,
   "metadata": {
    "collapsed": true
   },
   "outputs": [],
   "source": [
    "# Is the ratio different once the prices are smoothed, though?"
   ]
  },
  {
   "cell_type": "code",
   "execution_count": 7,
   "metadata": {
    "collapsed": true
   },
   "outputs": [],
   "source": [
    "n = sim.get_table('nodes').to_frame()"
   ]
  },
  {
   "cell_type": "code",
   "execution_count": 8,
   "metadata": {
    "collapsed": false
   },
   "outputs": [
    {
     "name": "stdout",
     "output_type": "stream",
     "text": [
      "count    221629.000000\n",
      "mean          0.078785\n",
      "std           0.090220\n",
      "min           0.005904\n",
      "25%           0.048688\n",
      "50%           0.063198\n",
      "75%           0.089930\n",
      "max           4.606170\n",
      "Name: residential_rent, dtype: float64\n"
     ]
    }
   ],
   "source": [
    "cap_rate2 = n.residential_rent.multiply(12).divide(n.residential_price)\n",
    "print cap_rate2.describe()"
   ]
  },
  {
   "cell_type": "code",
   "execution_count": 10,
   "metadata": {
    "collapsed": false
   },
   "outputs": [
    {
     "data": {
      "text/plain": [
       "<matplotlib.axes._subplots.AxesSubplot at 0x27d6bfb10>"
      ]
     },
     "execution_count": 10,
     "metadata": {},
     "output_type": "execute_result"
    },
    {
     "data": {
      "image/png": "[encoded data removed]",
      "text/plain": [
       "<matplotlib.figure.Figure at 0x27d6bf450>"
      ]
     },
     "metadata": {},
     "output_type": "display_data"
    }
   ],
   "source": [
    "cap_rate2[cap_rate2<0.25].hist(bins=50)"
   ]
  },
  {
   "cell_type": "code",
   "execution_count": null,
   "metadata": {
    "collapsed": true
   },
   "outputs": [],
   "source": []
  },
  {
   "cell_type": "code",
   "execution_count": null,
   "metadata": {
    "collapsed": true
   },
   "outputs": [],
   "source": []
  },
  {
   "cell_type": "code",
   "execution_count": null,
   "metadata": {
    "collapsed": true
   },
   "outputs": [],
   "source": []
  },
  {
   "cell_type": "code",
   "execution_count": null,
   "metadata": {
    "collapsed": true
   },
   "outputs": [],
   "source": []
  },
  {
   "cell_type": "code",
   "execution_count": null,
   "metadata": {
    "collapsed": true
   },
   "outputs": [],
   "source": []
  },
  {
   "cell_type": "code",
   "execution_count": 12,
   "metadata": {
    "collapsed": false
   },
   "outputs": [
    {
     "name": "stdout",
     "output_type": "stream",
     "text": [
      "False\n"
     ]
    }
   ],
   "source": [
    "use = 'three'\n",
    "print (use in ['one','two'])"
   ]
  },
  {
   "cell_type": "code",
   "execution_count": 8,
   "metadata": {
    "collapsed": false
   },
   "outputs": [],
   "source": [
    "p = orca.get_table(\"parcels\").to_frame([\"pct_black\", \"pct_asian\"])"
   ]
  },
  {
   "cell_type": "code",
   "execution_count": 9,
   "metadata": {
    "collapsed": false
   },
   "outputs": [
    {
     "name": "stdout",
     "output_type": "stream",
     "text": [
      "Empty DataFrame\n",
      "Columns: []\n",
      "Index: [95757, 275, 42856, 42872, 42876, 42901, 42902, 57396, 77630, 83476]\n"
     ]
    }
   ],
   "source": [
    "print p[:10]"
   ]
  },
  {
   "cell_type": "code",
   "execution_count": null,
   "metadata": {
    "collapsed": true
   },
   "outputs": [],
   "source": []
  }
 ],
 "metadata": {
  "kernelspec": {
   "display_name": "Python 2",
   "language": "python",
   "name": "python2"
  },
  "language_info": {
   "codemirror_mode": {
    "name": "ipython",
    "version": 2
   },
   "file_extension": ".py",
   "mimetype": "text/x-python",
   "name": "python",
   "nbconvert_exporter": "python",
   "pygments_lexer": "ipython2",
   "version": "2.7.10"
  }
 },
 "nbformat": 4,
 "nbformat_minor": 0
}
