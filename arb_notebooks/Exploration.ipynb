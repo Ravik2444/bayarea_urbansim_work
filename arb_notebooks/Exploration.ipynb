{
 "cells": [
  {
   "cell_type": "code",
   "execution_count": 1,
   "metadata": {
    "collapsed": true
   },
   "outputs": [],
   "source": [
    "%load_ext autoreload\n",
    "%autoreload 2"
   ]
  },
  {
   "cell_type": "code",
   "execution_count": 2,
   "metadata": {
    "collapsed": false
   },
   "outputs": [],
   "source": [
    "import os; os.chdir('..')\n",
    "import models\n",
    "import orca\n",
    "from urbansim.maps import dframe_explorer"
   ]
  },
  {
   "cell_type": "code",
   "execution_count": 3,
   "metadata": {
    "collapsed": true
   },
   "outputs": [
    {
     "name": "stdout",
     "output_type": "stream",
     "text": [
      "Running iteration 1 with iteration value 2010\n",
      "Running step 'neighborhood_vars'\n",
      "Computing accessibility variables\n",
      "Computing sum_residential_units\n",
      "Filling column building_type_id with value 1 (0 values)\n",
      "Filling column residential_units with value 0 (0 values)\n",
      "Filling column year_built with value 1966.0 (0 values)\n",
      "Filling column non_residential_sqft with value 0 (0 values)\n",
      "WARNING: this has the hard-coded version which unrealistically increases non-residential square footage to house all the base year jobs\n",
      "Filling column _node_id with value 91839.0 (4 values)\n",
      "Filling column shape_area with value 604.336158108 (0 values)\n",
      "Filling column zone_id with value 1178 (0 values)\n",
      "Computing sum_nonresidential_units\n",
      "Computing ave_sqft_per_unit\n",
      "Computing ave_lot_size_per_unit\n",
      "Computing population\n",
      "Computing poor\n",
      "Computing blacks\n",
      "Removed 3495 rows because they contain missing values\n",
      "Computing whites\n",
      "Removed 28069 rows because they contain missing values\n",
      "Computing nonwhites\n",
      "Removed 49824 rows because they contain missing values\n",
      "Computing hispanics\n",
      "Removed 5989 rows because they contain missing values\n",
      "Computing asians\n",
      "Removed 7970 rows because they contain missing values\n",
      "Computing renters\n",
      "Computing singles\n",
      "Removed 49332 rows because they contain missing values\n",
      "Computing two_persons\n",
      "Removed 13712 rows because they contain missing values\n",
      "Computing three_plus\n",
      "Removed 14849 rows because they contain missing values\n",
      "Computing sfdu\n",
      "Computing ave_hhsize\n",
      "Computing jobs\n",
      "Computing ave_income\n",
      "       sum_residential_units  sum_nonresidential_units  ave_sqft_per_unit  \\\n",
      "count          226060.000000             226060.000000      226060.000000   \n",
      "mean                5.959528                  5.270322           7.233096   \n",
      "std                 1.829781                  2.601860           1.271255   \n",
      "min                 0.000000                  0.000000           0.000000   \n",
      "25%                 5.517122                  4.066589           7.258171   \n",
      "50%                 6.443733                  6.024277           7.414018   \n",
      "75%                 7.027597                  7.063817           7.592335   \n",
      "max                10.149053                 11.929914           8.699681   \n",
      "\n",
      "       ave_lot_size_per_unit     population           poor         blacks  \\\n",
      "count          226060.000000  226060.000000  226060.000000  226060.000000   \n",
      "mean                8.929325       6.825233       5.364610       3.762311   \n",
      "std                 1.933885       1.974727       1.966817       1.985548   \n",
      "min                 0.000000       0.000000       0.000000       0.000000   \n",
      "25%                 8.563902       6.400006       4.527863       2.571602   \n",
      "50%                 8.892104       7.388415       5.782141       3.990696   \n",
      "75%                 9.366335       7.991682       6.655470       5.062765   \n",
      "max                17.866968      10.553695      10.054707       8.750156   \n",
      "\n",
      "              whites      nonwhites      hispanics         asians  \\\n",
      "count  226060.000000  226060.000000  226060.000000  226060.000000   \n",
      "mean        6.390725       5.622786       4.886845       4.885518   \n",
      "std         1.855483       2.080844       1.926005       2.101958   \n",
      "min         0.000000       0.000000       0.000000       0.000000   \n",
      "25%         6.033692       4.773838       3.933408       3.906737   \n",
      "50%         6.958466       6.063407       5.348966       5.286745   \n",
      "75%         7.492790       7.047009       6.210896       6.424274   \n",
      "max         9.882580       9.859282       8.948419       9.559209   \n",
      "\n",
      "             renters        singles    two_persons     three_plus  \\\n",
      "count  226060.000000  226060.000000  226060.000000  226060.000000   \n",
      "mean        4.052804       4.558755       4.774883       5.060497   \n",
      "std         1.519045       1.708682       1.671875       1.730372   \n",
      "min         0.000000       0.000000       0.000000       0.000000   \n",
      "25%         3.515182       3.957136       4.270985       4.539877   \n",
      "50%         4.429089       4.860453       5.188659       5.569474   \n",
      "75%         5.041246       5.582700       5.798198       6.180494   \n",
      "max         7.257352       9.623764       8.827480       8.037095   \n",
      "\n",
      "                sfdu     ave_hhsize           jobs     ave_income  \n",
      "count  226060.000000  226060.000000  226060.000000  226060.000000  \n",
      "mean        5.343503       1.248310       5.301717      10.934395  \n",
      "std         1.749075       0.255474       2.241775       1.963421  \n",
      "min         0.000000       0.000000       0.000000       0.000000  \n",
      "25%         4.958143       1.199903       4.195786      11.037576  \n",
      "50%         5.906678       1.279776       5.800490      11.259076  \n",
      "75%         6.438469       1.367688       6.826318      11.488537  \n",
      "max         8.095656       2.079442      11.713364      13.171155  \n",
      "Time to execute step 'neighborhood_vars': 79.72 s\n",
      "Running step 'rsh_simulate'\n",
      "Initial unit tenure assignment: 56% owner occupied, 4% unfilled\n",
      "count    2.785789e+06\n",
      "mean     9.940323e+18\n",
      "std      6.500872e+21\n",
      "min      1.234878e-23\n",
      "25%      2.268377e-15\n",
      "50%      1.616908e-12\n",
      "75%      1.994779e-09\n",
      "max      5.887958e+24\n",
      "dtype: float64\n",
      "Time to execute step 'rsh_simulate': 37.79 s\n",
      "Running step 'rrh_simulate'\n",
      "count    2785789.000000\n",
      "mean           2.286896\n",
      "std            0.653378\n",
      "min            0.529291\n",
      "25%            1.851349\n",
      "50%            2.154488\n",
      "75%            2.601086\n",
      "max           11.155477\n",
      "dtype: float64\n",
      "Time to execute step 'rrh_simulate': 6.12 s\n",
      "Total time to execute iteration 1 with iteration value 2010: 123.64 s\n"
     ]
    }
   ],
   "source": [
    "# Run some model steps\n",
    "orca.run([\n",
    "    \"neighborhood_vars\",\n",
    "    \"rsh_simulate\",\n",
    "    \"rrh_simulate\",    \n",
    "], iter_vars=[2010])"
   ]
  },
  {
   "cell_type": "code",
   "execution_count": null,
   "metadata": {
    "collapsed": false
   },
   "outputs": [],
   "source": [
    "d = {tbl: orca.get_table(tbl).to_frame() for tbl in \n",
    "         ['buildings', 'residential_units', 'households']}"
   ]
  },
  {
   "cell_type": "code",
   "execution_count": null,
   "metadata": {
    "collapsed": false
   },
   "outputs": [
    {
     "name": "stderr",
     "output_type": "stream",
     "text": [
      "Bottle v0.12.8 server starting up (using WSGIRefServer())...\n",
      "Listening on http://localhost:8765/\n",
      "Hit Ctrl-C to quit.\n",
      "\n",
      "127.0.0.1 - - [25/Oct/2015 18:12:01] \"GET / HTTP/1.1\" 200 28637\n",
      "127.0.0.1 - - [25/Oct/2015 18:12:02] \"GET /data/zones.json HTTP/1.1\" 200 7389418\n",
      "127.0.0.1 - - [25/Oct/2015 18:12:02] \"GET /favicon.ico HTTP/1.1\" 404 742\n"
     ]
    }
   ],
   "source": [
    "dframe_explorer.start(d, \n",
    "        center=[37.7792, -122.2191],\n",
    "        zoom=11,\n",
    "        shape_json='data/zones.json',\n",
    "        geom_name='ZONE_ID', # from JSON file\n",
    "        join_name='zone_id', # from data frames\n",
    "        precision=2)"
   ]
  },
  {
   "cell_type": "markdown",
   "metadata": {},
   "source": [
    "### [Click here to explore dataset](http://localhost:8765)   \n",
    " (prior cell launches web process, so it will appear unfinished)"
   ]
  },
  {
   "cell_type": "code",
   "execution_count": null,
   "metadata": {
    "collapsed": false
   },
   "outputs": [],
   "source": []
  }
 ],
 "metadata": {
  "kernelspec": {
   "display_name": "Python 2",
   "language": "python",
   "name": "python2"
  },
  "language_info": {
   "codemirror_mode": {
    "name": "ipython",
    "version": 2
   },
   "file_extension": ".py",
   "mimetype": "text/x-python",
   "name": "python",
   "nbconvert_exporter": "python",
   "pygments_lexer": "ipython2",
   "version": "2.7.10"
  }
 },
 "nbformat": 4,
 "nbformat_minor": 0
}
