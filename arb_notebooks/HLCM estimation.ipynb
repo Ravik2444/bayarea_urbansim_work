{
 "cells": [
  {
   "cell_type": "code",
   "execution_count": null,
   "metadata": {
    "collapsed": true
   },
   "outputs": [],
   "source": []
  },
  {
   "cell_type": "markdown",
   "metadata": {
    "collapsed": true
   },
   "source": [
    "## HLCM estimation\n",
    "\n",
    "Sam Maurer and Paul Waddell, August 2015"
   ]
  },
  {
   "cell_type": "code",
   "execution_count": 1,
   "metadata": {
    "collapsed": false
   },
   "outputs": [],
   "source": [
    "%load_ext autoreload\n",
    "%autoreload 2"
   ]
  },
  {
   "cell_type": "code",
   "execution_count": 2,
   "metadata": {
    "collapsed": true
   },
   "outputs": [],
   "source": [
    "import os; os.chdir('..')\n",
    "import models\n",
    "import orca"
   ]
  },
  {
   "cell_type": "code",
   "execution_count": 3,
   "metadata": {
    "collapsed": true
   },
   "outputs": [],
   "source": [
    "# Set up network aggregations and fitted prices"
   ]
  },
  {
   "cell_type": "code",
   "execution_count": 4,
   "metadata": {
    "collapsed": false
   },
   "outputs": [],
   "source": [
    "%%capture\n",
    "orca.run([\"neighborhood_vars\"])"
   ]
  },
  {
   "cell_type": "code",
   "execution_count": 5,
   "metadata": {
    "collapsed": false
   },
   "outputs": [],
   "source": [
    "%%capture\n",
    "orca.run([\"rsh_simulate\", \"rrh_simulate\", \"nrh_simulate\"])"
   ]
  },
  {
   "cell_type": "markdown",
   "metadata": {},
   "source": [
    "## HLCM for owners"
   ]
  },
  {
   "cell_type": "code",
   "execution_count": null,
   "metadata": {
    "collapsed": true
   },
   "outputs": [],
   "source": [
    "# The model expression is in hlcm_owner.yaml and it's registered in models.py"
   ]
  },
  {
   "cell_type": "code",
   "execution_count": 28,
   "metadata": {
    "collapsed": false
   },
   "outputs": [
    {
     "name": "stdout",
     "output_type": "stream",
     "text": [
      "Running step 'hlcm_owner_estimate'\n",
      "LCM RESULTS FOR SEGMENT 1\n",
      "\n",
      "Null Log-liklihood: -69003.870\n",
      "Log-liklihood at convergence: -66344.640\n",
      "Log-liklihood Ratio: 0.039\n",
      "\n",
      "+---------------------------------+-------------+------------+----------+\n",
      "| Component                       | Coefficient | Std. Error | T-Score  |\n",
      "+---------------------------------+-------------+------------+----------+\n",
      "| np.log1p(residential_price)     |    0.016    |   0.004    |  4.148   |\n",
      "| np.log1p(sqft_per_unit)         |    -0.028   |   0.019    |  -1.499  |\n",
      "| np.log1p(ave_lot_size_per_unit) |    1.253    |   0.112    |  11.209  |\n",
      "| ave_income                      |    -0.722   |   0.031    | -23.394  |\n",
      "| np.log1p(persons * ave_hhsize)  |    3.000    |   0.021    | 140.300  |\n",
      "| np.log1p(white * pct_white)     |    9.247    |   0.009    | 1082.367 |\n",
      "| np.log1p(black * pct_black)     |    6.500    |   0.011    | 593.568  |\n",
      "| np.log1p(hisp * pct_hisp)       |    4.434    |   0.007    | 635.321  |\n",
      "| np.log1p(asian * pct_asian)     |    4.844    |   0.010    | 481.949  |\n",
      "| jobs                            |    -0.020   |   0.006    |  -3.393  |\n",
      "| autoPeakTotal                   |    0.014    |   0.052    |  0.265   |\n",
      "| transitPeakTotal                |    -0.031   |   0.005    |  -6.034  |\n",
      "| autoOffPeakRetail               |    0.067    |   0.056    |  1.205   |\n",
      "+---------------------------------+-------------+------------+----------+\n",
      "LCM RESULTS FOR SEGMENT 2\n",
      "\n",
      "Null Log-liklihood: -69003.870\n",
      "Log-liklihood at convergence: -66384.216\n",
      "Log-liklihood Ratio: 0.038\n",
      "\n",
      "+---------------------------------+-------------+------------+----------+\n",
      "| Component                       | Coefficient | Std. Error | T-Score  |\n",
      "+---------------------------------+-------------+------------+----------+\n",
      "| np.log1p(residential_price)     |    0.008    |   0.004    |  1.926   |\n",
      "| np.log1p(sqft_per_unit)         |    0.007    |   0.019    |  0.372   |\n",
      "| np.log1p(ave_lot_size_per_unit) |    0.468    |   0.115    |  4.055   |\n",
      "| ave_income                      |    -0.355   |   0.031    | -11.435  |\n",
      "| np.log1p(persons * ave_hhsize)  |    3.060    |   0.020    | 152.159  |\n",
      "| np.log1p(white * pct_white)     |    8.534    |   0.008    | 1006.003 |\n",
      "| np.log1p(black * pct_black)     |    5.213    |   0.011    | 459.687  |\n",
      "| np.log1p(hisp * pct_hisp)       |    4.789    |   0.007    | 691.177  |\n",
      "| np.log1p(asian * pct_asian)     |    5.526    |   0.010    | 556.481  |\n",
      "| jobs                            |    -0.036   |   0.006    |  -6.337  |\n",
      "| autoPeakTotal                   |    -0.414   |   0.049    |  -8.523  |\n",
      "| transitPeakTotal                |    -0.014   |   0.005    |  -2.748  |\n",
      "| autoOffPeakRetail               |    0.385    |   0.053    |  7.293   |\n",
      "+---------------------------------+-------------+------------+----------+\n",
      "LCM RESULTS FOR SEGMENT 3\n",
      "\n",
      "Null Log-liklihood: -69013.080\n",
      "Log-liklihood at convergence: -66290.660\n",
      "Log-liklihood Ratio: 0.039\n",
      "\n",
      "+---------------------------------+-------------+------------+----------+\n",
      "| Component                       | Coefficient | Std. Error | T-Score  |\n",
      "+---------------------------------+-------------+------------+----------+\n",
      "| np.log1p(residential_price)     |    0.004    |   0.005    |  0.765   |\n",
      "| np.log1p(sqft_per_unit)         |    -0.008   |   0.020    |  -0.429  |\n",
      "| np.log1p(ave_lot_size_per_unit) |    -0.375   |   0.116    |  -3.232  |\n",
      "| ave_income                      |    0.274    |   0.031    |  8.938   |\n",
      "| np.log1p(persons * ave_hhsize)  |    3.578    |   0.021    | 173.571  |\n",
      "| np.log1p(white * pct_white)     |    8.966    |   0.008    | 1070.742 |\n",
      "| np.log1p(black * pct_black)     |    4.664    |   0.011    | 405.867  |\n",
      "| np.log1p(hisp * pct_hisp)       |    4.027    |   0.007    | 556.871  |\n",
      "| np.log1p(asian * pct_asian)     |    5.066    |   0.010    | 532.651  |\n",
      "| jobs                            |    -0.049   |   0.006    |  -8.752  |\n",
      "| autoPeakTotal                   |    -0.477   |   0.048    |  -9.879  |\n",
      "| transitPeakTotal                |    -0.025   |   0.005    |  -5.087  |\n",
      "| autoOffPeakRetail               |    0.460    |   0.054    |  8.590   |\n",
      "+---------------------------------+-------------+------------+----------+\n",
      "LCM RESULTS FOR SEGMENT 4\n",
      "\n",
      "Null Log-liklihood: -69003.870\n",
      "Log-liklihood at convergence: -64506.660\n",
      "Log-liklihood Ratio: 0.065\n",
      "\n",
      "+---------------------------------+-------------+------------+---------+\n",
      "| Component                       | Coefficient | Std. Error | T-Score |\n",
      "+---------------------------------+-------------+------------+---------+\n",
      "| np.log1p(residential_price)     |    -0.008   |   0.005    |  -1.679 |\n",
      "| np.log1p(sqft_per_unit)         |    0.052    |   0.019    |  2.673  |\n",
      "| np.log1p(ave_lot_size_per_unit) |    0.691    |   0.112    |  6.156  |\n",
      "| ave_income                      |    1.704    |   0.030    |  57.668 |\n",
      "| np.log1p(persons * ave_hhsize)  |    2.168    |   0.022    |  97.903 |\n",
      "| np.log1p(white * pct_white)     |    7.566    |   0.011    | 694.144 |\n",
      "| np.log1p(black * pct_black)     |    3.954    |   0.015    | 259.527 |\n",
      "| np.log1p(hisp * pct_hisp)       |    3.497    |   0.009    | 397.573 |\n",
      "| np.log1p(asian * pct_asian)     |    5.226    |   0.012    | 445.907 |\n",
      "| jobs                            |    -0.018   |   0.005    |  -3.412 |\n",
      "| autoPeakTotal                   |    -0.114   |   0.051    |  -2.242 |\n",
      "| transitPeakTotal                |    -0.022   |   0.005    |  -4.762 |\n",
      "| autoOffPeakRetail               |    0.162    |   0.058    |  2.805  |\n",
      "+---------------------------------+-------------+------------+---------+\n",
      "Time to execute step 'hlcm_owner_estimate': 119.18 s\n",
      "Total time to execute iteration 1 with iteration value None: 119.18 s\n"
     ]
    }
   ],
   "source": [
    "orca.run([\"hlcm_owner_estimate\"])"
   ]
  },
  {
   "cell_type": "code",
   "execution_count": null,
   "metadata": {
    "collapsed": true
   },
   "outputs": [],
   "source": [
    "# to try variations, create a new yaml file and run this to register it\n",
    "\n",
    "@orca.model()\n",
    "def hlcm_owner_estimate_NEW(households, residential_units, unit_aggregations):\n",
    "    return utils.lcm_estimate(\"hlcm_owner_NEW.yaml\", households, \"unit_id\",\n",
    "                              residential_units, unit_aggregations)\n",
    "\n",
    "orca.run([\"hlcm_owner_estimate_NEW\"])"
   ]
  },
  {
   "cell_type": "code",
   "execution_count": null,
   "metadata": {
    "collapsed": true
   },
   "outputs": [],
   "source": []
  },
  {
   "cell_type": "markdown",
   "metadata": {
    "collapsed": true
   },
   "source": [
    "## HLCM for renters"
   ]
  },
  {
   "cell_type": "code",
   "execution_count": 29,
   "metadata": {
    "collapsed": false
   },
   "outputs": [
    {
     "name": "stdout",
     "output_type": "stream",
     "text": [
      "Running step 'hlcm_renter_estimate'\n",
      "LCM RESULTS FOR SEGMENT 1\n",
      "\n",
      "Null Log-liklihood: -68985.449\n",
      "Log-liklihood at convergence: -63703.556\n",
      "Log-liklihood Ratio: 0.077\n",
      "\n",
      "+---------------------------------+-------------+------------+----------+\n",
      "| Component                       | Coefficient | Std. Error | T-Score  |\n",
      "+---------------------------------+-------------+------------+----------+\n",
      "| np.log1p(residential_rent)      |    0.488    |   0.076    |  6.396   |\n",
      "| np.log1p(sqft_per_unit)         |    0.084    |   0.024    |  3.554   |\n",
      "| np.log1p(ave_lot_size_per_unit) |    1.063    |   0.117    |  9.059   |\n",
      "| ave_income                      |    -1.454   |   0.032    | -46.069  |\n",
      "| np.log1p(persons * ave_hhsize)  |    0.198    |   0.020    |  9.965   |\n",
      "| np.log1p(white * pct_white)     |    9.169    |   0.007    | 1318.078 |\n",
      "| np.log1p(black * pct_black)     |    5.386    |   0.009    | 619.337  |\n",
      "| np.log1p(hisp * pct_hisp)       |    6.267    |   0.006    | 1001.648 |\n",
      "| np.log1p(asian * pct_asian)     |    5.374    |   0.008    | 641.331  |\n",
      "| jobs                            |    0.022    |   0.008    |  2.685   |\n",
      "| autoPeakTotal                   |    0.463    |   0.054    |  8.634   |\n",
      "| transitPeakTotal                |    0.048    |   0.006    |  8.139   |\n",
      "| autoOffPeakRetail               |    -0.437   |   0.059    |  -7.425  |\n",
      "+---------------------------------+-------------+------------+----------+\n",
      "LCM RESULTS FOR SEGMENT 2\n",
      "\n",
      "Null Log-liklihood: -68925.582\n",
      "Log-liklihood at convergence: -66125.000\n",
      "Log-liklihood Ratio: 0.041\n",
      "\n",
      "+---------------------------------+-------------+------------+----------+\n",
      "| Component                       | Coefficient | Std. Error | T-Score  |\n",
      "+---------------------------------+-------------+------------+----------+\n",
      "| np.log1p(residential_rent)      |    0.174    |   0.076    |  2.276   |\n",
      "| np.log1p(sqft_per_unit)         |    -0.017   |   0.024    |  -0.721  |\n",
      "| np.log1p(ave_lot_size_per_unit) |    0.202    |   0.106    |  1.908   |\n",
      "| ave_income                      |    -0.839   |   0.032    | -26.212  |\n",
      "| np.log1p(persons * ave_hhsize)  |    0.474    |   0.019    |  24.471  |\n",
      "| np.log1p(white * pct_white)     |    9.244    |   0.006    | 1464.798 |\n",
      "| np.log1p(black * pct_black)     |    3.924    |   0.009    | 448.839  |\n",
      "| np.log1p(hisp * pct_hisp)       |    5.820    |   0.006    | 965.782  |\n",
      "| np.log1p(asian * pct_asian)     |    4.598    |   0.008    | 587.814  |\n",
      "| jobs                            |    -0.000   |   0.008    |  -0.037  |\n",
      "| autoPeakTotal                   |    0.459    |   0.054    |  8.422   |\n",
      "| transitPeakTotal                |    0.015    |   0.006    |  2.794   |\n",
      "| autoOffPeakRetail               |    -0.359   |   0.059    |  -6.067  |\n",
      "+---------------------------------+-------------+------------+----------+\n",
      "LCM RESULTS FOR SEGMENT 3\n",
      "\n",
      "Null Log-liklihood: -68879.530\n",
      "Log-liklihood at convergence: -66697.220\n",
      "Log-liklihood Ratio: 0.032\n",
      "\n",
      "+---------------------------------+-------------+------------+----------+\n",
      "| Component                       | Coefficient | Std. Error | T-Score  |\n",
      "+---------------------------------+-------------+------------+----------+\n",
      "| np.log1p(residential_rent)      |    0.768    |   0.082    |  9.404   |\n",
      "| np.log1p(sqft_per_unit)         |    0.130    |   0.025    |  5.222   |\n",
      "| np.log1p(ave_lot_size_per_unit) |    -0.758   |   0.111    |  -6.846  |\n",
      "| ave_income                      |    -0.155   |   0.039    |  -4.005  |\n",
      "| np.log1p(persons * ave_hhsize)  |    0.940    |   0.020    |  47.245  |\n",
      "| np.log1p(white * pct_white)     |    8.908    |   0.008    | 1182.424 |\n",
      "| np.log1p(black * pct_black)     |    3.636    |   0.010    | 349.770  |\n",
      "| np.log1p(hisp * pct_hisp)       |    5.094    |   0.007    | 762.927  |\n",
      "| np.log1p(asian * pct_asian)     |    4.854    |   0.009    | 565.542  |\n",
      "| jobs                            |    -0.027   |   0.008    |  -3.506  |\n",
      "| autoPeakTotal                   |    0.934    |   0.058    |  16.201  |\n",
      "| transitPeakTotal                |    -0.019   |   0.005    |  -3.657  |\n",
      "| autoOffPeakRetail               |    -0.617   |   0.063    |  -9.762  |\n",
      "+---------------------------------+-------------+------------+----------+\n",
      "LCM RESULTS FOR SEGMENT 4\n",
      "\n",
      "Null Log-liklihood: -68773.612\n",
      "Log-liklihood at convergence: -64676.462\n",
      "Log-liklihood Ratio: 0.060\n",
      "\n",
      "+---------------------------------+-------------+------------+---------+\n",
      "| Component                       | Coefficient | Std. Error | T-Score |\n",
      "+---------------------------------+-------------+------------+---------+\n",
      "| np.log1p(residential_rent)      |    1.011    |   0.075    |  13.517 |\n",
      "| np.log1p(sqft_per_unit)         |    0.175    |   0.024    |  7.451  |\n",
      "| np.log1p(ave_lot_size_per_unit) |    -1.132   |   0.109    | -10.389 |\n",
      "| ave_income                      |    1.197    |   0.036    |  33.641 |\n",
      "| np.log1p(persons * ave_hhsize)  |    0.030    |   0.020    |  1.448  |\n",
      "| np.log1p(white * pct_white)     |    8.032    |   0.009    | 928.342 |\n",
      "| np.log1p(black * pct_black)     |    3.253    |   0.013    | 258.123 |\n",
      "| np.log1p(hisp * pct_hisp)       |    3.792    |   0.008    | 486.235 |\n",
      "| np.log1p(asian * pct_asian)     |    4.310    |   0.010    | 449.356 |\n",
      "| jobs                            |    -0.028   |   0.007    |  -3.917 |\n",
      "| autoPeakTotal                   |    1.622    |   0.061    |  26.596 |\n",
      "| transitPeakTotal                |    -0.008   |   0.005    |  -1.673 |\n",
      "| autoOffPeakRetail               |    -1.268   |   0.069    | -18.390 |\n",
      "+---------------------------------+-------------+------------+---------+\n",
      "Time to execute step 'hlcm_renter_estimate': 105.59 s\n",
      "Total time to execute iteration 1 with iteration value None: 105.59 s\n"
     ]
    }
   ],
   "source": [
    "orca.run([\"hlcm_renter_estimate\"])"
   ]
  },
  {
   "cell_type": "code",
   "execution_count": null,
   "metadata": {
    "collapsed": true
   },
   "outputs": [],
   "source": []
  },
  {
   "cell_type": "code",
   "execution_count": null,
   "metadata": {
    "collapsed": true
   },
   "outputs": [],
   "source": []
  },
  {
   "cell_type": "code",
   "execution_count": 19,
   "metadata": {
    "collapsed": true
   },
   "outputs": [],
   "source": []
  },
  {
   "cell_type": "code",
   "execution_count": null,
   "metadata": {
    "collapsed": true
   },
   "outputs": [],
   "source": []
  },
  {
   "cell_type": "code",
   "execution_count": null,
   "metadata": {
    "collapsed": true
   },
   "outputs": [],
   "source": []
  },
  {
   "cell_type": "code",
   "execution_count": null,
   "metadata": {
    "collapsed": true
   },
   "outputs": [],
   "source": []
  },
  {
   "cell_type": "code",
   "execution_count": null,
   "metadata": {
    "collapsed": true
   },
   "outputs": [],
   "source": []
  },
  {
   "cell_type": "code",
   "execution_count": null,
   "metadata": {
    "collapsed": true
   },
   "outputs": [],
   "source": []
  },
  {
   "cell_type": "markdown",
   "metadata": {},
   "source": [
    "## Below is scratch work to check the status of underlying data"
   ]
  },
  {
   "cell_type": "code",
   "execution_count": null,
   "metadata": {
    "collapsed": true
   },
   "outputs": [],
   "source": []
  },
  {
   "cell_type": "code",
   "execution_count": 14,
   "metadata": {
    "collapsed": false
   },
   "outputs": [],
   "source": [
    "df1 = sim.get_table('residential_units').to_frame(\n",
    "            columns=['unit_residential_price', 'node_id'])\n",
    "df2 = sim.get_table('nodes').to_frame(\n",
    "            columns=['sum_residential_units', 'ave_income', 'autoPeakTotal'])\n",
    "df3 = sim.get_table('logsums').to_frame(\n",
    "            columns=['autoPeakTotal', 'node_id'])"
   ]
  },
  {
   "cell_type": "code",
   "execution_count": 17,
   "metadata": {
    "collapsed": false
   },
   "outputs": [
    {
     "name": "stdout",
     "output_type": "stream",
     "text": [
      "       unit_residential_price\n",
      "count          2785789.000000\n",
      "mean               467.790277\n",
      "std                912.510016\n",
      "min                  0.000000\n",
      "25%                330.009162\n",
      "50%                397.432986\n",
      "75%                491.675611\n",
      "max             141696.511604\n",
      "       sum_residential_units     ave_income\n",
      "count          226060.000000  226060.000000\n",
      "mean                5.959514      10.934405\n",
      "std                 1.829774       1.963425\n",
      "min                 0.000000       0.000000\n",
      "25%                 5.517122      11.037583\n",
      "50%                 6.443716      11.259089\n",
      "75%                 7.027581      11.488537\n",
      "max                10.149053      13.171155\n",
      "       autoPeakTotal\n",
      "count    1454.000000\n",
      "mean       11.806047\n",
      "std         0.814177\n",
      "min         6.264300\n",
      "25%        11.482000\n",
      "50%        12.041550\n",
      "75%        12.313925\n",
      "max        13.082800\n"
     ]
    }
   ],
   "source": [
    "print(df1.describe())\n",
    "print(df2.describe())\n",
    "print(df3.describe())"
   ]
  },
  {
   "cell_type": "code",
   "execution_count": null,
   "metadata": {
    "collapsed": true
   },
   "outputs": [],
   "source": [
    "# there's not much variation in any of those three aggregation terms, maybe try others?"
   ]
  },
  {
   "cell_type": "code",
   "execution_count": 18,
   "metadata": {
    "collapsed": true
   },
   "outputs": [],
   "source": [
    "df = sim.get_table('nodes').to_frame()"
   ]
  },
  {
   "cell_type": "code",
   "execution_count": 19,
   "metadata": {
    "collapsed": false
   },
   "outputs": [
    {
     "name": "stdout",
     "output_type": "stream",
     "text": [
      "       sum_residential_units  sum_nonresidential_units  ave_sqft_per_unit  \\\n",
      "count          226060.000000             226060.000000      226060.000000   \n",
      "mean                5.959514                  0.356974           7.253990   \n",
      "std                 1.829774                  1.369450           1.322188   \n",
      "min                 0.000000                  0.000000           0.000000   \n",
      "25%                 5.517122                  0.000000           7.274734   \n",
      "50%                 6.443716                  0.000000           7.436141   \n",
      "75%                 7.027581                  0.000000           7.619552   \n",
      "max                10.149053                  9.289473          12.261587   \n",
      "\n",
      "       ave_lot_size_per_unit     population           poor        renters  \\\n",
      "count          226060.000000  226060.000000  226060.000000  226060.000000   \n",
      "mean                8.929325       6.825222       5.364583       4.052799   \n",
      "std                 1.933885       1.974722       1.966804       1.519042   \n",
      "min                 0.000000       0.000000       0.000000       0.000000   \n",
      "25%                 8.563902       6.400006       4.527863       3.515182   \n",
      "50%                 8.892104       7.388408       5.782053       4.429089   \n",
      "75%                 9.366335       7.991653       6.655447       5.041201   \n",
      "max                17.866968      10.553695      10.054707       7.257352   \n",
      "\n",
      "                sfdu     ave_hhsize           jobs     ave_income  \n",
      "count  226060.000000  226060.000000  226060.000000  226060.000000  \n",
      "mean        5.343503       1.248314       5.301676      10.934405  \n",
      "std         1.749075       0.255475       2.241773       1.963425  \n",
      "min         0.000000       0.000000       0.000000       0.000000  \n",
      "25%         4.958143       1.199913       4.195709      11.037583  \n",
      "50%         5.906678       1.279782       5.800459      11.259089  \n",
      "75%         6.438469       1.367688       6.826297      11.488537  \n",
      "max         8.095656       2.079442      11.713364      13.171155  \n"
     ]
    }
   ],
   "source": [
    "print(df.describe())"
   ]
  },
  {
   "cell_type": "code",
   "execution_count": null,
   "metadata": {
    "collapsed": true
   },
   "outputs": [],
   "source": []
  },
  {
   "cell_type": "code",
   "execution_count": null,
   "metadata": {
    "collapsed": true
   },
   "outputs": [],
   "source": []
  },
  {
   "cell_type": "code",
   "execution_count": 6,
   "metadata": {
    "collapsed": false
   },
   "outputs": [],
   "source": [
    "df = sim.get_table('households').to_frame()"
   ]
  },
  {
   "cell_type": "code",
   "execution_count": 7,
   "metadata": {
    "collapsed": false
   },
   "outputs": [
    {
     "data": {
      "text/html": [
       "<div style=\"max-height:1000px;max-width:1500px;overflow:auto;\">\n",
       "<table border=\"1\" class=\"dataframe\">\n",
       "  <thead>\n",
       "    <tr style=\"text-align: right;\">\n",
       "      <th></th>\n",
       "      <th>taz</th>\n",
       "      <th>serialno</th>\n",
       "      <th>puma5</th>\n",
       "      <th>income</th>\n",
       "      <th>persons</th>\n",
       "      <th>hht</th>\n",
       "      <th>unittype</th>\n",
       "      <th>noc</th>\n",
       "      <th>bldgsz</th>\n",
       "      <th>tenure</th>\n",
       "      <th>...</th>\n",
       "      <th>hadwpst</th>\n",
       "      <th>hadkids</th>\n",
       "      <th>bucketbin</th>\n",
       "      <th>originalpuma</th>\n",
       "      <th>hmultiunit</th>\n",
       "      <th>unit_id</th>\n",
       "      <th>building_id</th>\n",
       "      <th>income_quartile</th>\n",
       "      <th>zone_id</th>\n",
       "      <th>node_id</th>\n",
       "    </tr>\n",
       "    <tr>\n",
       "      <th>household_id</th>\n",
       "      <th></th>\n",
       "      <th></th>\n",
       "      <th></th>\n",
       "      <th></th>\n",
       "      <th></th>\n",
       "      <th></th>\n",
       "      <th></th>\n",
       "      <th></th>\n",
       "      <th></th>\n",
       "      <th></th>\n",
       "      <th></th>\n",
       "      <th></th>\n",
       "      <th></th>\n",
       "      <th></th>\n",
       "      <th></th>\n",
       "      <th></th>\n",
       "      <th></th>\n",
       "      <th></th>\n",
       "      <th></th>\n",
       "      <th></th>\n",
       "      <th></th>\n",
       "    </tr>\n",
       "  </thead>\n",
       "  <tbody>\n",
       "    <tr>\n",
       "      <th>227454</th>\n",
       "      <td>878</td>\n",
       "      <td>9279874</td>\n",
       "      <td>2404</td>\n",
       "      <td>17000</td>\n",
       "      <td>2</td>\n",
       "      <td>3</td>\n",
       "      <td>0</td>\n",
       "      <td>1</td>\n",
       "      <td>5</td>\n",
       "      <td>3</td>\n",
       "      <td>...</td>\n",
       "      <td>0</td>\n",
       "      <td>0</td>\n",
       "      <td>2</td>\n",
       "      <td>2404</td>\n",
       "      <td>1</td>\n",
       "      <td>-1</td>\n",
       "      <td>-1</td>\n",
       "      <td>1</td>\n",
       "      <td>-1</td>\n",
       "      <td>-1</td>\n",
       "    </tr>\n",
       "    <tr>\n",
       "      <th>2687058</th>\n",
       "      <td>1092</td>\n",
       "      <td>8097339</td>\n",
       "      <td>2103</td>\n",
       "      <td>0</td>\n",
       "      <td>1</td>\n",
       "      <td>0</td>\n",
       "      <td>2</td>\n",
       "      <td>0</td>\n",
       "      <td>0</td>\n",
       "      <td>0</td>\n",
       "      <td>...</td>\n",
       "      <td>0</td>\n",
       "      <td>0</td>\n",
       "      <td>9</td>\n",
       "      <td>2103</td>\n",
       "      <td>1</td>\n",
       "      <td>-1</td>\n",
       "      <td>-1</td>\n",
       "      <td>1</td>\n",
       "      <td>-1</td>\n",
       "      <td>-1</td>\n",
       "    </tr>\n",
       "    <tr>\n",
       "      <th>2687063</th>\n",
       "      <td>1092</td>\n",
       "      <td>3530666</td>\n",
       "      <td>2103</td>\n",
       "      <td>0</td>\n",
       "      <td>1</td>\n",
       "      <td>0</td>\n",
       "      <td>2</td>\n",
       "      <td>0</td>\n",
       "      <td>0</td>\n",
       "      <td>0</td>\n",
       "      <td>...</td>\n",
       "      <td>0</td>\n",
       "      <td>0</td>\n",
       "      <td>4</td>\n",
       "      <td>2103</td>\n",
       "      <td>1</td>\n",
       "      <td>-1</td>\n",
       "      <td>-1</td>\n",
       "      <td>1</td>\n",
       "      <td>-1</td>\n",
       "      <td>-1</td>\n",
       "    </tr>\n",
       "    <tr>\n",
       "      <th>2214782</th>\n",
       "      <td>930</td>\n",
       "      <td>5691854</td>\n",
       "      <td>2402</td>\n",
       "      <td>159700</td>\n",
       "      <td>3</td>\n",
       "      <td>5</td>\n",
       "      <td>0</td>\n",
       "      <td>0</td>\n",
       "      <td>2</td>\n",
       "      <td>1</td>\n",
       "      <td>...</td>\n",
       "      <td>0</td>\n",
       "      <td>0</td>\n",
       "      <td>4</td>\n",
       "      <td>2402</td>\n",
       "      <td>0</td>\n",
       "      <td>-1</td>\n",
       "      <td>-1</td>\n",
       "      <td>4</td>\n",
       "      <td>-1</td>\n",
       "      <td>-1</td>\n",
       "    </tr>\n",
       "    <tr>\n",
       "      <th>2687065</th>\n",
       "      <td>1092</td>\n",
       "      <td>8097339</td>\n",
       "      <td>2103</td>\n",
       "      <td>0</td>\n",
       "      <td>1</td>\n",
       "      <td>0</td>\n",
       "      <td>2</td>\n",
       "      <td>0</td>\n",
       "      <td>0</td>\n",
       "      <td>0</td>\n",
       "      <td>...</td>\n",
       "      <td>0</td>\n",
       "      <td>0</td>\n",
       "      <td>9</td>\n",
       "      <td>2103</td>\n",
       "      <td>1</td>\n",
       "      <td>-1</td>\n",
       "      <td>-1</td>\n",
       "      <td>1</td>\n",
       "      <td>-1</td>\n",
       "      <td>-1</td>\n",
       "    </tr>\n",
       "  </tbody>\n",
       "</table>\n",
       "<p>5 rows × 51 columns</p>\n",
       "</div>"
      ],
      "text/plain": [
       "               taz  serialno  puma5  income  persons  hht  unittype  noc  \\\n",
       "household_id                                                               \n",
       "227454         878   9279874   2404   17000        2    3         0    1   \n",
       "2687058       1092   8097339   2103       0        1    0         2    0   \n",
       "2687063       1092   3530666   2103       0        1    0         2    0   \n",
       "2214782        930   5691854   2402  159700        3    5         0    0   \n",
       "2687065       1092   8097339   2103       0        1    0         2    0   \n",
       "\n",
       "              bldgsz  tenure   ...     hadwpst  hadkids  bucketbin  \\\n",
       "household_id                   ...                                   \n",
       "227454             5       3   ...           0        0          2   \n",
       "2687058            0       0   ...           0        0          9   \n",
       "2687063            0       0   ...           0        0          4   \n",
       "2214782            2       1   ...           0        0          4   \n",
       "2687065            0       0   ...           0        0          9   \n",
       "\n",
       "              originalpuma  hmultiunit  unit_id  building_id  income_quartile  \\\n",
       "household_id                                                                    \n",
       "227454                2404           1       -1           -1                1   \n",
       "2687058               2103           1       -1           -1                1   \n",
       "2687063               2103           1       -1           -1                1   \n",
       "2214782               2402           0       -1           -1                4   \n",
       "2687065               2103           1       -1           -1                1   \n",
       "\n",
       "              zone_id  node_id  \n",
       "household_id                    \n",
       "227454             -1       -1  \n",
       "2687058            -1       -1  \n",
       "2687063            -1       -1  \n",
       "2214782            -1       -1  \n",
       "2687065            -1       -1  \n",
       "\n",
       "[5 rows x 51 columns]"
      ]
     },
     "execution_count": 7,
     "metadata": {},
     "output_type": "execute_result"
    }
   ],
   "source": [
    "df[:5]"
   ]
  },
  {
   "cell_type": "code",
   "execution_count": 15,
   "metadata": {
    "collapsed": false
   },
   "outputs": [
    {
     "data": {
      "text/plain": [
       "2732722"
      ]
     },
     "execution_count": 15,
     "metadata": {},
     "output_type": "execute_result"
    }
   ],
   "source": [
    "len(df)"
   ]
  },
  {
   "cell_type": "code",
   "execution_count": 4,
   "metadata": {
    "collapsed": false
   },
   "outputs": [
    {
     "name": "stdout",
     "output_type": "stream",
     "text": [
      "taz, 0\n",
      "serialno, 0\n",
      "puma5, 0\n",
      "income, 0\n",
      "persons, 0\n",
      "hht, 0\n",
      "unittype, 0\n",
      "noc, 0\n",
      "bldgsz, 0\n",
      "tenure, 0\n",
      "vehicl, 0\n",
      "hinccat1, 0\n",
      "hinccat2, 0\n",
      "hhagecat, 0\n",
      "hsizecat, 0\n",
      "hfamily, 0\n",
      "hunittype, 0\n",
      "hnoccat, 0\n",
      "hwrkrcat, 0\n",
      "h0004, 0\n",
      "h0511, 0\n",
      "h1215, 0\n",
      "h1617, 0\n",
      "h1824, 0\n",
      "h2534, 0\n",
      "h3549, 0\n",
      "h5064, 0\n",
      "h6579, 0\n",
      "h80up, 0\n",
      "hworkers, 0\n",
      "hwork_f, 0\n",
      "hwork_p, 0\n",
      "huniv, 0\n",
      "hnwork, 0\n",
      "hretire, 0\n",
      "hpresch, 0\n",
      "hschpred, 0\n",
      "hschdriv, 0\n",
      "htypdwel, 0\n",
      "hownrent, 0\n",
      "hadnwst, 0\n",
      "hadwpst, 0\n",
      "hadkids, 0\n",
      "bucketbin, 0\n",
      "originalpuma, 0\n",
      "hmultiunit, 0\n",
      "building_id, 0\n",
      "node_id, 0\n",
      "income_quartile, 0\n",
      "zone_id, 0\n"
     ]
    }
   ],
   "source": [
    "for a in list(df.columns.values):\n",
    "    print \"%s, %d\" % (a, len(df[df[a].isnull()]))"
   ]
  },
  {
   "cell_type": "code",
   "execution_count": null,
   "metadata": {
    "collapsed": true
   },
   "outputs": [],
   "source": []
  },
  {
   "cell_type": "code",
   "execution_count": 2,
   "metadata": {
    "collapsed": false
   },
   "outputs": [
    {
     "name": "stdout",
     "output_type": "stream",
     "text": [
      "Filling column building_type_id with value 1 (0 values)\n",
      "Filling column residential_units with value 0 (0 values)\n",
      "Filling column year_built with value 1966.0 (0 values)\n",
      "Filling column non_residential_sqft with value 0 (0 values)\n",
      "Filling column shape_area with value 604.336158108 (0 values)\n",
      "Filling column zone_id with value 1178 (0 values)\n",
      "Initial unit tenure assignment: 56% owner occupied, 4% unfilled\n"
     ]
    }
   ],
   "source": [
    "df = sim.get_table('buildings').to_frame()"
   ]
  },
  {
   "cell_type": "code",
   "execution_count": 3,
   "metadata": {
    "collapsed": false
   },
   "outputs": [
    {
     "data": {
      "text/html": [
       "<div style=\"max-height:1000px;max-width:1500px;overflow:auto;\">\n",
       "<table border=\"1\" class=\"dataframe\">\n",
       "  <thead>\n",
       "    <tr style=\"text-align: right;\">\n",
       "      <th></th>\n",
       "      <th>parcel_id</th>\n",
       "      <th>residential_units</th>\n",
       "      <th>residential_sqft</th>\n",
       "      <th>non_residential_sqft</th>\n",
       "      <th>building_sqft</th>\n",
       "      <th>stories</th>\n",
       "      <th>year_built</th>\n",
       "      <th>redfin_sale_year</th>\n",
       "      <th>building_type_id</th>\n",
       "      <th>residential_price</th>\n",
       "      <th>...</th>\n",
       "      <th>zone_id</th>\n",
       "      <th>residential_rent</th>\n",
       "      <th>sqft_per_job</th>\n",
       "      <th>lot_size_per_unit</th>\n",
       "      <th>vacant_job_spaces</th>\n",
       "      <th>vacant_residential_units</th>\n",
       "      <th>general_type</th>\n",
       "      <th>sqft_per_unit</th>\n",
       "      <th>job_spaces</th>\n",
       "      <th>node_id</th>\n",
       "    </tr>\n",
       "    <tr>\n",
       "      <th>building_id</th>\n",
       "      <th></th>\n",
       "      <th></th>\n",
       "      <th></th>\n",
       "      <th></th>\n",
       "      <th></th>\n",
       "      <th></th>\n",
       "      <th></th>\n",
       "      <th></th>\n",
       "      <th></th>\n",
       "      <th></th>\n",
       "      <th></th>\n",
       "      <th></th>\n",
       "      <th></th>\n",
       "      <th></th>\n",
       "      <th></th>\n",
       "      <th></th>\n",
       "      <th></th>\n",
       "      <th></th>\n",
       "      <th></th>\n",
       "      <th></th>\n",
       "      <th></th>\n",
       "    </tr>\n",
       "  </thead>\n",
       "  <tbody>\n",
       "    <tr>\n",
       "      <th>1</th>\n",
       "      <td>69516</td>\n",
       "      <td>1</td>\n",
       "      <td>794</td>\n",
       "      <td>0</td>\n",
       "      <td>794</td>\n",
       "      <td>1</td>\n",
       "      <td>1939</td>\n",
       "      <td>2012</td>\n",
       "      <td>1</td>\n",
       "      <td>0</td>\n",
       "      <td>...</td>\n",
       "      <td>893</td>\n",
       "      <td>0</td>\n",
       "      <td>400</td>\n",
       "      <td>5200.062320</td>\n",
       "      <td>0</td>\n",
       "      <td>0</td>\n",
       "      <td>Residential</td>\n",
       "      <td>794</td>\n",
       "      <td>0</td>\n",
       "      <td>11584</td>\n",
       "    </tr>\n",
       "    <tr>\n",
       "      <th>2</th>\n",
       "      <td>69517</td>\n",
       "      <td>1</td>\n",
       "      <td>1600</td>\n",
       "      <td>0</td>\n",
       "      <td>1600</td>\n",
       "      <td>1</td>\n",
       "      <td>1939</td>\n",
       "      <td>2012</td>\n",
       "      <td>1</td>\n",
       "      <td>0</td>\n",
       "      <td>...</td>\n",
       "      <td>893</td>\n",
       "      <td>0</td>\n",
       "      <td>400</td>\n",
       "      <td>5200.063760</td>\n",
       "      <td>0</td>\n",
       "      <td>0</td>\n",
       "      <td>Residential</td>\n",
       "      <td>1600</td>\n",
       "      <td>0</td>\n",
       "      <td>11584</td>\n",
       "    </tr>\n",
       "    <tr>\n",
       "      <th>3</th>\n",
       "      <td>69518</td>\n",
       "      <td>1</td>\n",
       "      <td>1334</td>\n",
       "      <td>0</td>\n",
       "      <td>1334</td>\n",
       "      <td>1</td>\n",
       "      <td>1939</td>\n",
       "      <td>2012</td>\n",
       "      <td>1</td>\n",
       "      <td>0</td>\n",
       "      <td>...</td>\n",
       "      <td>893</td>\n",
       "      <td>0</td>\n",
       "      <td>400</td>\n",
       "      <td>5200.029703</td>\n",
       "      <td>0</td>\n",
       "      <td>0</td>\n",
       "      <td>Residential</td>\n",
       "      <td>1334</td>\n",
       "      <td>0</td>\n",
       "      <td>11585</td>\n",
       "    </tr>\n",
       "    <tr>\n",
       "      <th>4</th>\n",
       "      <td>69519</td>\n",
       "      <td>1</td>\n",
       "      <td>1220</td>\n",
       "      <td>0</td>\n",
       "      <td>1220</td>\n",
       "      <td>1</td>\n",
       "      <td>1939</td>\n",
       "      <td>2012</td>\n",
       "      <td>1</td>\n",
       "      <td>0</td>\n",
       "      <td>...</td>\n",
       "      <td>893</td>\n",
       "      <td>0</td>\n",
       "      <td>400</td>\n",
       "      <td>5200.144623</td>\n",
       "      <td>0</td>\n",
       "      <td>1</td>\n",
       "      <td>Residential</td>\n",
       "      <td>1220</td>\n",
       "      <td>0</td>\n",
       "      <td>11585</td>\n",
       "    </tr>\n",
       "    <tr>\n",
       "      <th>5</th>\n",
       "      <td>69520</td>\n",
       "      <td>1</td>\n",
       "      <td>892</td>\n",
       "      <td>0</td>\n",
       "      <td>892</td>\n",
       "      <td>1</td>\n",
       "      <td>1943</td>\n",
       "      <td>2012</td>\n",
       "      <td>1</td>\n",
       "      <td>0</td>\n",
       "      <td>...</td>\n",
       "      <td>893</td>\n",
       "      <td>0</td>\n",
       "      <td>400</td>\n",
       "      <td>5200.027559</td>\n",
       "      <td>0</td>\n",
       "      <td>0</td>\n",
       "      <td>Residential</td>\n",
       "      <td>892</td>\n",
       "      <td>0</td>\n",
       "      <td>11585</td>\n",
       "    </tr>\n",
       "  </tbody>\n",
       "</table>\n",
       "<p>5 rows × 21 columns</p>\n",
       "</div>"
      ],
      "text/plain": [
       "             parcel_id  residential_units  residential_sqft  \\\n",
       "building_id                                                   \n",
       "1                69516                  1               794   \n",
       "2                69517                  1              1600   \n",
       "3                69518                  1              1334   \n",
       "4                69519                  1              1220   \n",
       "5                69520                  1               892   \n",
       "\n",
       "             non_residential_sqft  building_sqft  stories  year_built  \\\n",
       "building_id                                                             \n",
       "1                               0            794        1        1939   \n",
       "2                               0           1600        1        1939   \n",
       "3                               0           1334        1        1939   \n",
       "4                               0           1220        1        1939   \n",
       "5                               0            892        1        1943   \n",
       "\n",
       "             redfin_sale_year  building_type_id  residential_price   ...     \\\n",
       "building_id                                                          ...      \n",
       "1                        2012                 1                  0   ...      \n",
       "2                        2012                 1                  0   ...      \n",
       "3                        2012                 1                  0   ...      \n",
       "4                        2012                 1                  0   ...      \n",
       "5                        2012                 1                  0   ...      \n",
       "\n",
       "             zone_id  residential_rent  sqft_per_job  lot_size_per_unit  \\\n",
       "building_id                                                               \n",
       "1                893                 0           400        5200.062320   \n",
       "2                893                 0           400        5200.063760   \n",
       "3                893                 0           400        5200.029703   \n",
       "4                893                 0           400        5200.144623   \n",
       "5                893                 0           400        5200.027559   \n",
       "\n",
       "             vacant_job_spaces  vacant_residential_units  general_type  \\\n",
       "building_id                                                              \n",
       "1                            0                         0   Residential   \n",
       "2                            0                         0   Residential   \n",
       "3                            0                         0   Residential   \n",
       "4                            0                         1   Residential   \n",
       "5                            0                         0   Residential   \n",
       "\n",
       "            sqft_per_unit  job_spaces  node_id  \n",
       "building_id                                     \n",
       "1                     794           0    11584  \n",
       "2                    1600           0    11584  \n",
       "3                    1334           0    11585  \n",
       "4                    1220           0    11585  \n",
       "5                     892           0    11585  \n",
       "\n",
       "[5 rows x 21 columns]"
      ]
     },
     "execution_count": 3,
     "metadata": {},
     "output_type": "execute_result"
    }
   ],
   "source": [
    "df[:5]"
   ]
  },
  {
   "cell_type": "code",
   "execution_count": 4,
   "metadata": {
    "collapsed": false
   },
   "outputs": [
    {
     "data": {
      "text/plain": [
       "1841288"
      ]
     },
     "execution_count": 4,
     "metadata": {},
     "output_type": "execute_result"
    }
   ],
   "source": [
    "len(df)"
   ]
  },
  {
   "cell_type": "code",
   "execution_count": 5,
   "metadata": {
    "collapsed": false
   },
   "outputs": [
    {
     "name": "stdout",
     "output_type": "stream",
     "text": [
      "parcel_id, 0\n",
      "residential_units, 0\n",
      "residential_sqft, 0\n",
      "non_residential_sqft, 0\n",
      "building_sqft, 0\n",
      "stories, 0\n",
      "year_built, 0\n",
      "redfin_sale_year, 0\n",
      "building_type_id, 0\n",
      "residential_price, 0\n",
      "non_residential_price, 0\n",
      "zone_id, 0\n",
      "residential_rent, 0\n",
      "sqft_per_job, 0\n",
      "lot_size_per_unit, 0\n",
      "vacant_job_spaces, 0\n",
      "vacant_residential_units, 0\n",
      "general_type, 0\n",
      "sqft_per_unit, 0\n",
      "job_spaces, 0\n",
      "node_id, 0\n"
     ]
    }
   ],
   "source": [
    "for a in list(df.columns.values):\n",
    "    print \"%s, %d\" % (a, len(df[df[a].isnull()]))"
   ]
  },
  {
   "cell_type": "code",
   "execution_count": null,
   "metadata": {
    "collapsed": true
   },
   "outputs": [],
   "source": []
  },
  {
   "cell_type": "code",
   "execution_count": 5,
   "metadata": {
    "collapsed": false
   },
   "outputs": [
    {
     "name": "stdout",
     "output_type": "stream",
     "text": [
      "Initial unit tenure assignment: 56% owner occupied, 4% unfilled\n"
     ]
    },
    {
     "data": {
      "text/html": [
       "<div style=\"max-height:1000px;max-width:1500px;overflow:auto;\">\n",
       "<table border=\"1\" class=\"dataframe\">\n",
       "  <thead>\n",
       "    <tr style=\"text-align: right;\">\n",
       "      <th></th>\n",
       "      <th>building_id</th>\n",
       "      <th>deed_restricted</th>\n",
       "      <th>num_units</th>\n",
       "      <th>unit_num</th>\n",
       "      <th>unit_residential_price</th>\n",
       "      <th>unit_residential_rent</th>\n",
       "      <th>unit_tenure</th>\n",
       "      <th>vacant_units</th>\n",
       "      <th>submarket_id</th>\n",
       "    </tr>\n",
       "    <tr>\n",
       "      <th>unit_id</th>\n",
       "      <th></th>\n",
       "      <th></th>\n",
       "      <th></th>\n",
       "      <th></th>\n",
       "      <th></th>\n",
       "      <th></th>\n",
       "      <th></th>\n",
       "      <th></th>\n",
       "      <th></th>\n",
       "    </tr>\n",
       "  </thead>\n",
       "  <tbody>\n",
       "    <tr>\n",
       "      <th>0</th>\n",
       "      <td>1</td>\n",
       "      <td>0</td>\n",
       "      <td>1</td>\n",
       "      <td>0</td>\n",
       "      <td>0</td>\n",
       "      <td>0</td>\n",
       "      <td>1</td>\n",
       "      <td>0</td>\n",
       "      <td>893</td>\n",
       "    </tr>\n",
       "    <tr>\n",
       "      <th>1</th>\n",
       "      <td>2</td>\n",
       "      <td>0</td>\n",
       "      <td>1</td>\n",
       "      <td>0</td>\n",
       "      <td>0</td>\n",
       "      <td>0</td>\n",
       "      <td>0</td>\n",
       "      <td>0</td>\n",
       "      <td>893</td>\n",
       "    </tr>\n",
       "    <tr>\n",
       "      <th>2</th>\n",
       "      <td>3</td>\n",
       "      <td>0</td>\n",
       "      <td>1</td>\n",
       "      <td>0</td>\n",
       "      <td>0</td>\n",
       "      <td>0</td>\n",
       "      <td>0</td>\n",
       "      <td>0</td>\n",
       "      <td>893</td>\n",
       "    </tr>\n",
       "    <tr>\n",
       "      <th>3</th>\n",
       "      <td>4</td>\n",
       "      <td>0</td>\n",
       "      <td>1</td>\n",
       "      <td>0</td>\n",
       "      <td>0</td>\n",
       "      <td>0</td>\n",
       "      <td>0</td>\n",
       "      <td>1</td>\n",
       "      <td>893</td>\n",
       "    </tr>\n",
       "    <tr>\n",
       "      <th>4</th>\n",
       "      <td>5</td>\n",
       "      <td>0</td>\n",
       "      <td>1</td>\n",
       "      <td>0</td>\n",
       "      <td>0</td>\n",
       "      <td>0</td>\n",
       "      <td>0</td>\n",
       "      <td>0</td>\n",
       "      <td>893</td>\n",
       "    </tr>\n",
       "  </tbody>\n",
       "</table>\n",
       "</div>"
      ],
      "text/plain": [
       "         building_id  deed_restricted  num_units  unit_num  \\\n",
       "unit_id                                                      \n",
       "0                  1                0          1         0   \n",
       "1                  2                0          1         0   \n",
       "2                  3                0          1         0   \n",
       "3                  4                0          1         0   \n",
       "4                  5                0          1         0   \n",
       "\n",
       "         unit_residential_price  unit_residential_rent  unit_tenure  \\\n",
       "unit_id                                                               \n",
       "0                             0                      0            1   \n",
       "1                             0                      0            0   \n",
       "2                             0                      0            0   \n",
       "3                             0                      0            0   \n",
       "4                             0                      0            0   \n",
       "\n",
       "         vacant_units  submarket_id  \n",
       "unit_id                              \n",
       "0                   0           893  \n",
       "1                   0           893  \n",
       "2                   0           893  \n",
       "3                   1           893  \n",
       "4                   0           893  "
      ]
     },
     "execution_count": 5,
     "metadata": {},
     "output_type": "execute_result"
    }
   ],
   "source": [
    "sim.get_table('residential_units').to_frame()[:5]"
   ]
  },
  {
   "cell_type": "code",
   "execution_count": null,
   "metadata": {
    "collapsed": true
   },
   "outputs": [],
   "source": []
  },
  {
   "cell_type": "code",
   "execution_count": 4,
   "metadata": {
    "collapsed": false
   },
   "outputs": [
    {
     "data": {
      "text/html": [
       "<div style=\"max-height:1000px;max-width:1500px;overflow:auto;\">\n",
       "<table border=\"1\" class=\"dataframe\">\n",
       "  <thead>\n",
       "    <tr style=\"text-align: right;\">\n",
       "      <th></th>\n",
       "      <th>autoPeakRetail</th>\n",
       "      <th>autoPeakTotal</th>\n",
       "      <th>autoOffPeakRetail</th>\n",
       "      <th>autoOffPeakTotal</th>\n",
       "      <th>transitPeakRetail</th>\n",
       "      <th>transitPeakTotal</th>\n",
       "      <th>transitOffPeakRetail</th>\n",
       "      <th>transitOffPeakTotal</th>\n",
       "      <th>nonMotorizedRetail</th>\n",
       "      <th>nonMotorizedTotal</th>\n",
       "    </tr>\n",
       "    <tr>\n",
       "      <th>taz</th>\n",
       "      <th></th>\n",
       "      <th></th>\n",
       "      <th></th>\n",
       "      <th></th>\n",
       "      <th></th>\n",
       "      <th></th>\n",
       "      <th></th>\n",
       "      <th></th>\n",
       "      <th></th>\n",
       "      <th></th>\n",
       "    </tr>\n",
       "  </thead>\n",
       "  <tbody>\n",
       "    <tr>\n",
       "      <th>1</th>\n",
       "      <td>10.5416</td>\n",
       "      <td>13.0616</td>\n",
       "      <td>10.5312</td>\n",
       "      <td>13.0511</td>\n",
       "      <td>8.3954</td>\n",
       "      <td>11.1182</td>\n",
       "      <td>8.3003</td>\n",
       "      <td>11.0119</td>\n",
       "      <td>8.6157</td>\n",
       "      <td>11.3610</td>\n",
       "    </tr>\n",
       "    <tr>\n",
       "      <th>2</th>\n",
       "      <td>10.5336</td>\n",
       "      <td>13.0557</td>\n",
       "      <td>10.5185</td>\n",
       "      <td>13.0410</td>\n",
       "      <td>8.0848</td>\n",
       "      <td>10.8372</td>\n",
       "      <td>7.9369</td>\n",
       "      <td>10.6877</td>\n",
       "      <td>8.6104</td>\n",
       "      <td>11.3717</td>\n",
       "    </tr>\n",
       "    <tr>\n",
       "      <th>3</th>\n",
       "      <td>10.5082</td>\n",
       "      <td>13.0308</td>\n",
       "      <td>10.4998</td>\n",
       "      <td>13.0225</td>\n",
       "      <td>8.0456</td>\n",
       "      <td>10.7516</td>\n",
       "      <td>7.8563</td>\n",
       "      <td>10.5597</td>\n",
       "      <td>8.4067</td>\n",
       "      <td>11.1668</td>\n",
       "    </tr>\n",
       "    <tr>\n",
       "      <th>4</th>\n",
       "      <td>10.5609</td>\n",
       "      <td>13.0801</td>\n",
       "      <td>10.5458</td>\n",
       "      <td>13.0651</td>\n",
       "      <td>8.4306</td>\n",
       "      <td>11.1391</td>\n",
       "      <td>8.3426</td>\n",
       "      <td>11.0507</td>\n",
       "      <td>8.7110</td>\n",
       "      <td>11.4524</td>\n",
       "    </tr>\n",
       "    <tr>\n",
       "      <th>5</th>\n",
       "      <td>10.5458</td>\n",
       "      <td>13.0613</td>\n",
       "      <td>10.5325</td>\n",
       "      <td>13.0484</td>\n",
       "      <td>8.3395</td>\n",
       "      <td>11.0483</td>\n",
       "      <td>8.2755</td>\n",
       "      <td>10.9790</td>\n",
       "      <td>8.4145</td>\n",
       "      <td>11.1588</td>\n",
       "    </tr>\n",
       "  </tbody>\n",
       "</table>\n",
       "</div>"
      ],
      "text/plain": [
       "     autoPeakRetail  autoPeakTotal  autoOffPeakRetail  autoOffPeakTotal  \\\n",
       "taz                                                                       \n",
       "1           10.5416        13.0616            10.5312           13.0511   \n",
       "2           10.5336        13.0557            10.5185           13.0410   \n",
       "3           10.5082        13.0308            10.4998           13.0225   \n",
       "4           10.5609        13.0801            10.5458           13.0651   \n",
       "5           10.5458        13.0613            10.5325           13.0484   \n",
       "\n",
       "     transitPeakRetail  transitPeakTotal  transitOffPeakRetail  \\\n",
       "taz                                                              \n",
       "1               8.3954           11.1182                8.3003   \n",
       "2               8.0848           10.8372                7.9369   \n",
       "3               8.0456           10.7516                7.8563   \n",
       "4               8.4306           11.1391                8.3426   \n",
       "5               8.3395           11.0483                8.2755   \n",
       "\n",
       "     transitOffPeakTotal  nonMotorizedRetail  nonMotorizedTotal  \n",
       "taz                                                              \n",
       "1                11.0119              8.6157            11.3610  \n",
       "2                10.6877              8.6104            11.3717  \n",
       "3                10.5597              8.4067            11.1668  \n",
       "4                11.0507              8.7110            11.4524  \n",
       "5                10.9790              8.4145            11.1588  "
      ]
     },
     "execution_count": 4,
     "metadata": {},
     "output_type": "execute_result"
    }
   ],
   "source": [
    "sim.get_table('logsums').to_frame()[:5]"
   ]
  },
  {
   "cell_type": "code",
   "execution_count": 16,
   "metadata": {
    "collapsed": false
   },
   "outputs": [
    {
     "name": "stdout",
     "output_type": "stream",
     "text": [
      "0.555963700134\n"
     ]
    }
   ],
   "source": [
    "import numpy as np\n",
    "print np.random.random()"
   ]
  },
  {
   "cell_type": "code",
   "execution_count": null,
   "metadata": {
    "collapsed": true
   },
   "outputs": [],
   "source": []
  }
 ],
 "metadata": {
  "kernelspec": {
   "display_name": "Python 2",
   "language": "python",
   "name": "python2"
  },
  "language_info": {
   "codemirror_mode": {
    "name": "ipython",
    "version": 2
   },
   "file_extension": ".py",
   "mimetype": "text/x-python",
   "name": "python",
   "nbconvert_exporter": "python",
   "pygments_lexer": "ipython2",
   "version": "2.7.10"
  }
 },
 "nbformat": 4,
 "nbformat_minor": 0
}
