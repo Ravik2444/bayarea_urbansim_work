{
 "metadata": {
  "name": "",
  "signature": "sha256:b3af636751e21fb4b43a836fc9d25e58d14bbd08ba1559847b4af178dc61cf79"
 },
 "nbformat": 3,
 "nbformat_minor": 0,
 "worksheets": [
  {
   "cells": [
    {
     "cell_type": "code",
     "collapsed": false,
     "input": [
      "%load_ext autoreload\n",
      "%autoreload 2\n",
      "if 'sim' not in globals():\n",
      "    import os; os.chdir('..')\n",
      "import models, utils\n",
      "import urbansim.sim.simulation as sim\n",
      "utils.change_store(\"bayarea_v2.h5\")"
     ],
     "language": "python",
     "metadata": {},
     "outputs": [],
     "prompt_number": 1
    },
    {
     "cell_type": "code",
     "collapsed": false,
     "input": [
      "sim.run([\"build_networks\"])"
     ],
     "language": "python",
     "metadata": {},
     "outputs": [
      {
       "output_type": "stream",
       "stream": "stdout",
       "text": [
        "Running model 'build_networks'\n"
       ]
      }
     ],
     "prompt_number": 2
    },
    {
     "cell_type": "code",
     "collapsed": false,
     "input": [
      "sim.run([\"neighborhood_vars\", \"rsh_simulate\", \"nrh_simulate\"])"
     ],
     "language": "python",
     "metadata": {},
     "outputs": [
      {
       "output_type": "stream",
       "stream": "stdout",
       "text": [
        "Running model 'neighborhood_vars'\n",
        "Computing accessibility variables\n",
        "Computing sum_residential_units\n",
        "    Fields available to accvar = residential_units, _node_id0\n",
        "    dataframe = buildings, varname=residential_units"
       ]
      },
      {
       "output_type": "stream",
       "stream": "stdout",
       "text": [
        "\n",
        "    radius = 1500, aggregation = AGG_SUM, decay = DECAY_LINEAR\n",
        "Computing sum_nonresidential_units"
       ]
      },
      {
       "output_type": "stream",
       "stream": "stdout",
       "text": [
        "\n",
        "    Fields available to accvar = job_spaces, _node_id0\n",
        "    dataframe = buildings, varname=job_spaces"
       ]
      },
      {
       "output_type": "stream",
       "stream": "stdout",
       "text": [
        "\n",
        "    radius = 1500, aggregation = AGG_SUM, decay = DECAY_LINEAR\n",
        "Computing ave_unit_sqft"
       ]
      },
      {
       "output_type": "stream",
       "stream": "stdout",
       "text": [
        "\n",
        "    Fields available to accvar = unit_sqft, general_type, _node_id0\n",
        "    Filters = ['general_type == \"Residential\"']"
       ]
      },
      {
       "output_type": "stream",
       "stream": "stdout",
       "text": [
        "\n",
        "    dataframe = buildings, varname=unit_sqft\n",
        "    radius = 1500, aggregation = AGG_AVE, decay = DECAY_FLAT\n",
        "Computing ave_lot_sqft"
       ]
      },
      {
       "output_type": "stream",
       "stream": "stdout",
       "text": [
        "\n",
        "    Fields available to accvar = unit_lot_size, _node_id0\n",
        "    dataframe = buildings, varname=unit_lot_size"
       ]
      },
      {
       "output_type": "stream",
       "stream": "stdout",
       "text": [
        "\n",
        "    radius = 1500, aggregation = AGG_AVE, decay = DECAY_FLAT\n",
        "Computing population"
       ]
      },
      {
       "output_type": "stream",
       "stream": "stdout",
       "text": [
        "\n",
        "    Fields available to accvar = persons, _node_id0\n",
        "    dataframe = households, varname=persons"
       ]
      },
      {
       "output_type": "stream",
       "stream": "stdout",
       "text": [
        "\n",
        "    radius = 1500, aggregation = AGG_SUM, decay = DECAY_LINEAR\n",
        "Computing poor"
       ]
      },
      {
       "output_type": "stream",
       "stream": "stdout",
       "text": [
        "\n",
        "    Fields available to accvar = persons, income, _node_id0\n",
        "    Filters = ['income < 40000']"
       ]
      },
      {
       "output_type": "stream",
       "stream": "stdout",
       "text": [
        "\n",
        "    dataframe = households, varname=persons\n",
        "    radius = 1500, aggregation = AGG_SUM, decay = DECAY_LINEAR\n",
        "Computing renters"
       ]
      },
      {
       "output_type": "stream",
       "stream": "stdout",
       "text": [
        "\n",
        "    Fields available to accvar = tenure, _node_id0\n",
        "    Filters = ['tenure == 2']"
       ]
      },
      {
       "output_type": "stream",
       "stream": "stdout",
       "text": [
        "\n",
        "    dataframe = households, varname=None\n",
        "    radius = 1500, aggregation = AGG_SUM, decay = DECAY_LINEAR\n",
        "Computing sfdu"
       ]
      },
      {
       "output_type": "stream",
       "stream": "stdout",
       "text": [
        "\n",
        "    Fields available to accvar = building_type_id, _node_id0\n",
        "    Filters = ['building_type_id == 1']"
       ]
      },
      {
       "output_type": "stream",
       "stream": "stdout",
       "text": [
        "\n",
        "    dataframe = buildings, varname=None\n",
        "    radius = 1500, aggregation = AGG_SUM, decay = DECAY_LINEAR\n",
        "Computing ave_hhsize"
       ]
      },
      {
       "output_type": "stream",
       "stream": "stdout",
       "text": [
        "\n",
        "    Fields available to accvar = persons, _node_id0\n",
        "    dataframe = households, varname=persons\n",
        "    radius = 1500, aggregation = AGG_AVE, decay = DECAY_FLAT\n",
        "Computing jobs"
       ]
      },
      {
       "output_type": "stream",
       "stream": "stdout",
       "text": [
        "\n",
        "    Fields available to accvar = _node_id0\n",
        "    dataframe = jobs, varname=None"
       ]
      },
      {
       "output_type": "stream",
       "stream": "stdout",
       "text": [
        "\n",
        "    radius = 1500, aggregation = AGG_SUM, decay = DECAY_LINEAR\n",
        "Computing ave_income"
       ]
      },
      {
       "output_type": "stream",
       "stream": "stdout",
       "text": [
        "\n",
        "    Fields available to accvar = income, _node_id0\n",
        "    dataframe = households, varname=income\n",
        "    radius = 1500, aggregation = AGG_AVE, decay = DECAY_FLAT\n",
        "Done"
       ]
      },
      {
       "output_type": "stream",
       "stream": "stdout",
       "text": [
        "\n",
        "Running model 'rsh_simulate'\n",
        "Dropped 251479 rows because they contained nans"
       ]
      },
      {
       "output_type": "stream",
       "stream": "stdout",
       "text": [
        "\n",
        "count    1610062.000000\n",
        "mean         325.816490\n",
        "std          128.814634\n",
        "min            3.077476\n",
        "25%          247.138517\n",
        "50%          314.062298\n",
        "75%          384.454584\n",
        "max        10138.582062\n",
        "dtype: float64"
       ]
      },
      {
       "output_type": "stream",
       "stream": "stdout",
       "text": [
        "\n",
        "Running model 'nrh_simulate'"
       ]
      },
      {
       "output_type": "stream",
       "stream": "stdout",
       "text": [
        "\n",
        "Dropped 251406 rows because they contained nans"
       ]
      },
      {
       "output_type": "stream",
       "stream": "stdout",
       "text": [
        "\n",
        "count    71903.000000\n",
        "mean        21.340859\n",
        "std          7.055708\n",
        "min          0.401221\n",
        "25%         11.556282\n",
        "50%         24.192237\n",
        "75%         26.091271\n",
        "max         45.021582\n",
        "dtype: float64"
       ]
      },
      {
       "output_type": "stream",
       "stream": "stdout",
       "text": [
        "\n"
       ]
      }
     ],
     "prompt_number": 3
    },
    {
     "cell_type": "code",
     "collapsed": false,
     "input": [
      "import pandas as pd\n",
      "#orig_store = pd.HDFStore('data/bayarea.h5')\n",
      "store = sim.get_injectable(\"store\") #pd.HDFStore('data/bayarea_v2.h5')\n",
      "sf_store = pd.HDFStore('data/sanfran_public.h5')"
     ],
     "language": "python",
     "metadata": {},
     "outputs": [],
     "prompt_number": 4
    },
    {
     "cell_type": "code",
     "collapsed": false,
     "input": [
      "parcels = sim.get_table(\"parcels\")\n",
      "parcels = parcels.to_frame(parcels.local_columns)\n",
      "parcels = parcels.query(\"county_id == 38\")\n",
      "sf_store[\"parcels\"] = parcels"
     ],
     "language": "python",
     "metadata": {},
     "outputs": [],
     "prompt_number": 5
    },
    {
     "cell_type": "code",
     "collapsed": false,
     "input": [
      "buildings = sim.get_table(\"buildings\")\n",
      "print buildings.local_columns\n",
      "buildings = buildings.to_frame(buildings.local_columns)\n",
      "del buildings[\"residential_rent\"]\n",
      "buildings = buildings[buildings.parcel_id.isin(parcels.index)]\n",
      "print len(buildings)\n",
      "sf_store[\"buildings\"] = buildings"
     ],
     "language": "python",
     "metadata": {},
     "outputs": [
      {
       "output_type": "stream",
       "stream": "stdout",
       "text": [
        "['parcel_id', 'residential_units', 'non_residential_sqft', 'building_sqft', 'stories', 'building_type_id', 'year_built', 'residential_price', 'residential_rent', 'non_residential_price']\n",
        "152605"
       ]
      },
      {
       "output_type": "stream",
       "stream": "stdout",
       "text": [
        "\n"
       ]
      }
     ],
     "prompt_number": 6
    },
    {
     "cell_type": "code",
     "collapsed": false,
     "input": [
      "households = sim.get_table(\"households\")\n",
      "households = households.to_frame(households.local_columns)\n",
      "households = households[households.building_id.isin(buildings.index)]\n",
      "print len(households)\n",
      "sf_store[\"households\"] = households"
     ],
     "language": "python",
     "metadata": {},
     "outputs": [
      {
       "output_type": "stream",
       "stream": "stdout",
       "text": [
        "345588\n"
       ]
      }
     ],
     "prompt_number": 7
    },
    {
     "cell_type": "code",
     "collapsed": false,
     "input": [
      "jobs = sim.get_table(\"jobs\")\n",
      "jobs = jobs.to_frame(jobs.local_columns)\n",
      "jobs = jobs[jobs.building_id.isin(buildings.index)]\n",
      "import numpy as np\n",
      "jobs_ids = np.random.choice(jobs.index, size=int(.35 *\n",
      "                                len(jobs)), replace=False)\n",
      "jobs = jobs.loc[jobs_ids]\n",
      "jobs = jobs[[\"naics11cat\", \"building_id\"]]\n",
      "naics_map = {\n",
      "    11: \"agriculture\",\n",
      "    21: \"industrial\",\n",
      "    22: \"industrial\",\n",
      "    23: \"industrial\",\n",
      "    31: \"industrial\",\n",
      "    32: \"industrial\",\n",
      "    33: \"industrial\",\n",
      "    42: \"industrial\",\n",
      "    44: \"retail\",\n",
      "    45: \"retail\",\n",
      "    48: \"industrial\",\n",
      "    49: \"industrial\",\n",
      "    51: \"service\",\n",
      "    52: \"service\",\n",
      "    53: \"service\",\n",
      "    54: \"service\",\n",
      "    55: \"service\",\n",
      "    56: \"service\",\n",
      "    61: \"service\",\n",
      "    62: \"service\",\n",
      "    71: \"service\",\n",
      "    72: \"service\",\n",
      "    81: \"service\",   \n",
      "    92: \"service\",  \n",
      "}\n",
      "jobs[\"job_category\"] = jobs.naics11cat.map(naics_map)\n",
      "del jobs[\"naics11cat\"]\n",
      "print jobs.job_category.value_counts()\n",
      "print jobs.describe()\n",
      "sf_store[\"jobs\"] = jobs"
     ],
     "language": "python",
     "metadata": {},
     "outputs": [
      {
       "output_type": "stream",
       "stream": "stdout",
       "text": [
        "service        179101\n",
        "industrial      28509\n",
        "retail          17182\n",
        "agriculture       316\n",
        "dtype: int64\n",
        "          building_id\n",
        "count   225439.000000\n",
        "mean   1403101.851587\n",
        "std     766176.018817\n",
        "min          2.000000\n",
        "25%     139807.000000\n",
        "50%    1851283.000000\n",
        "75%    1854059.000000\n",
        "max    1855334.000000\n",
        "\n",
        "[8 rows x 1 columns]"
       ]
      },
      {
       "output_type": "stream",
       "stream": "stdout",
       "text": [
        "\n"
       ]
      }
     ],
     "prompt_number": 8
    },
    {
     "cell_type": "code",
     "collapsed": false,
     "input": [
      "sf_store['zones'] = store.zones"
     ],
     "language": "python",
     "metadata": {},
     "outputs": [],
     "prompt_number": 9
    },
    {
     "cell_type": "code",
     "collapsed": false,
     "input": [
      "df = store.zoning_for_parcels\n",
      "df = df[df.index.isin(parcels.index)]\n",
      "print len(df)\n",
      "sf_store['zoning_for_parcels'] = df"
     ],
     "language": "python",
     "metadata": {},
     "outputs": [
      {
       "output_type": "stream",
       "stream": "stdout",
       "text": [
        "148318\n"
       ]
      }
     ],
     "prompt_number": 10
    },
    {
     "cell_type": "code",
     "collapsed": false,
     "input": [
      "sf_store['zoning'] = store.zoning.query('city == 101')"
     ],
     "language": "python",
     "metadata": {},
     "outputs": [],
     "prompt_number": 11
    },
    {
     "cell_type": "code",
     "collapsed": false,
     "input": [
      "sf_store.close()"
     ],
     "language": "python",
     "metadata": {},
     "outputs": [],
     "prompt_number": 12
    },
    {
     "cell_type": "code",
     "collapsed": false,
     "input": [],
     "language": "python",
     "metadata": {},
     "outputs": [],
     "prompt_number": 12
    }
   ],
   "metadata": {}
  }
 ]
}