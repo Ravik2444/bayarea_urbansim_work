{
 "cells": [
  {
   "cell_type": "code",
   "execution_count": 1,
   "metadata": {
    "collapsed": false
   },
   "outputs": [],
   "source": [
    "%load_ext autoreload\n",
    "%autoreload 2\n",
    "if 'sim' not in globals():\n",
    "    import os; os.chdir('..')\n",
    "import models\n",
    "import urbansim.sim.simulation as sim\n",
    "from urbansim.maps import dframe_explorer"
   ]
  },
  {
   "cell_type": "code",
   "execution_count": null,
   "metadata": {
    "collapsed": false
   },
   "outputs": [
    {
     "name": "stdout",
     "output_type": "stream",
     "text": [
      "Filling column building_type_id with value 1 (46350 values)\n",
      "Filling column residential_units with value 0 (46350 values)\n",
      "Filling column year_built with value 1966.0 (46350 values)\n",
      "Filling column non_residential_sqft with value 0 (46350 values)\n",
      "Filling column shape_area with value 604.336158108 (0 values)\n",
      "Filling column zone_id with value 1178 (0 values)\n"
     ]
    }
   ],
   "source": [
    "d = {tbl: sim.get_table(tbl).to_frame() for tbl in ['buildings', 'jobs', 'households']}"
   ]
  },
  {
   "cell_type": "code",
   "execution_count": null,
   "metadata": {
    "collapsed": false
   },
   "outputs": [
    {
     "name": "stderr",
     "output_type": "stream",
     "text": [
      "Bottle v0.12.8 server starting up (using WSGIRefServer())...\n",
      "Listening on http://localhost:8765/\n",
      "Hit Ctrl-C to quit.\n",
      "\n",
      "127.0.0.1 - - [11/May/2015 15:37:44] \"GET / HTTP/1.1\" 200 28290\n",
      "127.0.0.1 - - [11/May/2015 15:37:44] \"GET /data/zones.json HTTP/1.1\" 200 7389418\n",
      "127.0.0.1 - - [11/May/2015 15:37:50] \"GET /map_query/households/empty/zone_id/serialno/mean() HTTP/1.1\" 200 23401\n"
     ]
    },
    {
     "name": "stdout",
     "output_type": "stream",
     "text": [
      "df.groupby('zone_id')['serialno'].mean()\n",
      "df.groupby('zone_id')['income'].mean()"
     ]
    }
   ],
   "source": [
    "dframe_explorer.start(d, \n",
    "        center=[37.7792, -122.2191],\n",
    "        zoom=11,\n",
    "        shape_json='data/zones.json',\n",
    "        geom_name='ZONE_ID', # from JSON file\n",
    "        join_name='zone_id', # from data frames\n",
    "        precision=2)"
   ]
  },
  {
   "cell_type": "markdown",
   "metadata": {},
   "source": [
    "[Click here to explore dataset](http://localhost:8765)"
   ]
  },
  {
   "cell_type": "code",
   "execution_count": null,
   "metadata": {
    "collapsed": false
   },
   "outputs": [],
   "source": []
  }
 ],
 "metadata": {
  "kernelspec": {
   "display_name": "Python 2",
   "language": "python",
   "name": "python2"
  },
  "language_info": {
   "codemirror_mode": {
    "name": "ipython",
    "version": 2
   },
   "file_extension": ".py",
   "mimetype": "text/x-python",
   "name": "python",
   "nbconvert_exporter": "python",
   "pygments_lexer": "ipython2",
   "version": "2.7.9"
  }
 },
 "nbformat": 4,
 "nbformat_minor": 0
}
