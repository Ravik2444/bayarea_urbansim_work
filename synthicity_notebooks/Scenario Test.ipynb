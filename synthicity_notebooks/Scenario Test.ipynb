{
 "metadata": {
  "name": "",
  "signature": "sha256:6b67686833b30db4b4917f18851307b2ba4111c98a3033263145e1a5f5050950"
 },
 "nbformat": 3,
 "nbformat_minor": 0,
 "worksheets": [
  {
   "cells": [
    {
     "cell_type": "code",
     "collapsed": false,
     "input": [
      "%load_ext autoreload\n",
      "%autoreload 2\n",
      "if 'sim' not in globals():\n",
      "    import os; os.chdir('..')\n",
      "import models, utils\n",
      "import urbansim.sim.simulation as sim"
     ],
     "language": "python",
     "metadata": {},
     "outputs": [],
     "prompt_number": 1
    },
    {
     "cell_type": "heading",
     "level": 3,
     "metadata": {},
     "source": [
      "Zoning assumptions are stored in the dictionary for scenario_inputs"
     ]
    },
    {
     "cell_type": "code",
     "collapsed": false,
     "input": [
      "sim.get_injectable(\"scenario_inputs\")"
     ],
     "language": "python",
     "metadata": {},
     "outputs": [
      {
       "metadata": {},
       "output_type": "pyout",
       "prompt_number": 2,
       "text": [
        "{'baseline': {'zoning_table_name': 'zoning_baseline'},\n",
        " 'test': {'zoning_table_name': 'zoning_test'}}"
       ]
      }
     ],
     "prompt_number": 2
    },
    {
     "cell_type": "heading",
     "level": 3,
     "metadata": {},
     "source": [
      "This should fail because the scenario doesn't exist"
     ]
    },
    {
     "cell_type": "code",
     "collapsed": false,
     "input": [
      "utils.change_scenario(\"fail\")"
     ],
     "language": "python",
     "metadata": {},
     "outputs": [
      {
       "ename": "AssertionError",
       "evalue": "Invalid scenario name",
       "output_type": "pyerr",
       "traceback": [
        "\u001b[0;31m---------------------------------------------------------------------------\u001b[0m\n\u001b[0;31mAssertionError\u001b[0m                            Traceback (most recent call last)",
        "\u001b[0;32m<ipython-input-3-b2d0d4ac81b8>\u001b[0m in \u001b[0;36m<module>\u001b[0;34m()\u001b[0m\n\u001b[0;32m----> 1\u001b[0;31m \u001b[0mutils\u001b[0m\u001b[0;34m.\u001b[0m\u001b[0mchange_scenario\u001b[0m\u001b[0;34m(\u001b[0m\u001b[0;34m\"fail\"\u001b[0m\u001b[0;34m)\u001b[0m\u001b[0;34m\u001b[0m\u001b[0m\n\u001b[0m",
        "\u001b[0;32m/Users/ffoti/src/bayarea_urbansim/utils.py\u001b[0m in \u001b[0;36mchange_scenario\u001b[0;34m(scenario)\u001b[0m\n\u001b[1;32m      8\u001b[0m \u001b[0;34m\u001b[0m\u001b[0m\n\u001b[1;32m      9\u001b[0m \u001b[0;32mdef\u001b[0m \u001b[0mchange_scenario\u001b[0m\u001b[0;34m(\u001b[0m\u001b[0mscenario\u001b[0m\u001b[0;34m)\u001b[0m\u001b[0;34m:\u001b[0m\u001b[0;34m\u001b[0m\u001b[0m\n\u001b[0;32m---> 10\u001b[0;31m     \u001b[0;32massert\u001b[0m \u001b[0mscenario\u001b[0m \u001b[0;32min\u001b[0m \u001b[0msim\u001b[0m\u001b[0;34m.\u001b[0m\u001b[0mget_injectable\u001b[0m\u001b[0;34m(\u001b[0m\u001b[0;34m\"scenario_inputs\"\u001b[0m\u001b[0;34m)\u001b[0m\u001b[0;34m,\u001b[0m \u001b[0;34m\"Invalid scenario name\"\u001b[0m\u001b[0;34m\u001b[0m\u001b[0m\n\u001b[0m\u001b[1;32m     11\u001b[0m     \u001b[0;32mprint\u001b[0m \u001b[0;34m\"Changing scenario to '%s'\"\u001b[0m \u001b[0;34m%\u001b[0m \u001b[0mscenario\u001b[0m\u001b[0;34m\u001b[0m\u001b[0m\n\u001b[1;32m     12\u001b[0m     \u001b[0msim\u001b[0m\u001b[0;34m.\u001b[0m\u001b[0madd_injectable\u001b[0m\u001b[0;34m(\u001b[0m\u001b[0;34m\"scenario\"\u001b[0m\u001b[0;34m,\u001b[0m \u001b[0mscenario\u001b[0m\u001b[0;34m)\u001b[0m\u001b[0;34m\u001b[0m\u001b[0m\n",
        "\u001b[0;31mAssertionError\u001b[0m: Invalid scenario name"
       ]
      }
     ],
     "prompt_number": 3
    },
    {
     "cell_type": "heading",
     "level": 3,
     "metadata": {},
     "source": [
      "Here is the default max_far for the baseline scenario"
     ]
    },
    {
     "cell_type": "code",
     "collapsed": false,
     "input": [
      "sim.get_table(\"parcels\").max_far.describe()"
     ],
     "language": "python",
     "metadata": {},
     "outputs": [
      {
       "metadata": {},
       "output_type": "pyout",
       "prompt_number": 4,
       "text": [
        "count    153341.000000\n",
        "mean          1.850858\n",
        "std           0.820916\n",
        "min           0.000000\n",
        "25%           1.800000\n",
        "50%           1.800000\n",
        "75%           1.800000\n",
        "max           9.000000\n",
        "Name: max_far, dtype: float64"
       ]
      }
     ],
     "prompt_number": 4
    },
    {
     "cell_type": "heading",
     "level": 3,
     "metadata": {},
     "source": [
      "Now change the scenario"
     ]
    },
    {
     "cell_type": "code",
     "collapsed": false,
     "input": [
      "utils.change_scenario(\"test\")"
     ],
     "language": "python",
     "metadata": {},
     "outputs": [
      {
       "output_type": "stream",
       "stream": "stdout",
       "text": [
        "Changing scenario to 'test'\n"
       ]
      }
     ],
     "prompt_number": 5
    },
    {
     "cell_type": "heading",
     "level": 3,
     "metadata": {},
     "source": [
      "And notice that max_far has changed"
     ]
    },
    {
     "cell_type": "code",
     "collapsed": false,
     "input": [
      "sim.get_table(\"parcels\").max_far.describe()"
     ],
     "language": "python",
     "metadata": {},
     "outputs": [
      {
       "metadata": {},
       "output_type": "pyout",
       "prompt_number": 6,
       "text": [
        "count    153341.000000\n",
        "mean          3.000912\n",
        "std           2.451334\n",
        "min           0.000000\n",
        "25%           1.800000\n",
        "50%           1.800000\n",
        "75%           3.000000\n",
        "max          10.000000\n",
        "Name: max_far, dtype: float64"
       ]
      }
     ],
     "prompt_number": 6
    },
    {
     "cell_type": "heading",
     "level": 3,
     "metadata": {},
     "source": [
      "Now we do the same for max_dua"
     ]
    },
    {
     "cell_type": "code",
     "collapsed": false,
     "input": [
      "utils.change_scenario(\"baseline\")\n",
      "sim.get_table(\"parcels\").max_dua.describe()"
     ],
     "language": "python",
     "metadata": {},
     "outputs": [
      {
       "output_type": "stream",
       "stream": "stdout",
       "text": [
        "Changing scenario to 'baseline'\n"
       ]
      },
      {
       "metadata": {},
       "output_type": "pyout",
       "prompt_number": 7,
       "text": [
        "count    153341.000000\n",
        "mean          1.850858\n",
        "std           0.820916\n",
        "min           0.000000\n",
        "25%           1.800000\n",
        "50%           1.800000\n",
        "75%           1.800000\n",
        "max           9.000000\n",
        "Name: max_dua, dtype: float64"
       ]
      }
     ],
     "prompt_number": 7
    },
    {
     "cell_type": "code",
     "collapsed": false,
     "input": [
      "utils.change_scenario(\"test\")\n",
      "sim.get_table(\"parcels\").max_dua.describe()"
     ],
     "language": "python",
     "metadata": {},
     "outputs": [
      {
       "output_type": "stream",
       "stream": "stdout",
       "text": [
        "Changing scenario to 'test'\n"
       ]
      },
      {
       "metadata": {},
       "output_type": "pyout",
       "prompt_number": 8,
       "text": [
        "count    153341.000000\n",
        "mean         13.566839\n",
        "std          21.877569\n",
        "min           0.000000\n",
        "25%           1.800000\n",
        "50%           1.800000\n",
        "75%          16.000000\n",
        "max          75.000000\n",
        "Name: max_dua, dtype: float64"
       ]
      }
     ],
     "prompt_number": 8
    },
    {
     "cell_type": "code",
     "collapsed": false,
     "input": [],
     "language": "python",
     "metadata": {},
     "outputs": []
    }
   ],
   "metadata": {}
  }
 ]
}